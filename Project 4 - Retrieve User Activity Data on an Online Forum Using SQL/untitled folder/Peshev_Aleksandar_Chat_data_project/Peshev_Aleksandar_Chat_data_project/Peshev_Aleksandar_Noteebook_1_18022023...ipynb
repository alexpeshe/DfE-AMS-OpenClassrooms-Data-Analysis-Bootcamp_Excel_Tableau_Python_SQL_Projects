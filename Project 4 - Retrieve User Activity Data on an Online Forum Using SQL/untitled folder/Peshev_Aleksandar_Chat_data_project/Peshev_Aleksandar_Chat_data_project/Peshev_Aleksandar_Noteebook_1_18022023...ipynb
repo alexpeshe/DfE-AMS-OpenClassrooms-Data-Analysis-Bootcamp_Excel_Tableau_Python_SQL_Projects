{
 "cells": [
  {
   "cell_type": "markdown",
   "metadata": {},
   "source": [
    "# ChatData Project - Retrieve User Activity Data on an Online Forum Using SQL"
   ]
  },
  {
   "cell_type": "markdown",
   "metadata": {},
   "source": [
    "\n",
    "## Sqlite\n",
    "We are using a file system called **sqlite**. It looks and acts like a real single user relational database (RDB). sqlite3 comes packaged with python. You do not need to install the library. You simply import it (as below).\n",
    "\n",
    "- We are using Pandas to write and read to sqlite. Pandas will manage a lot of the complexity of dealing with a RDB. There are other ways of reading and writing to a RDB that are VERY common and often used in production systems.  \n",
    "\n",
    "- The most common other way is to read or write to the RDB row by row. As you can see Pandas puts the entire dataframe into the RDB or extracts a new dataframe from the RDB. These are not row by row operations. These are set operations. Set operations ARE more efficient. However, it is common to use row by row operations to avoid needing large memory computers to hold the dataframes. One row only takes a few bytes. An entire dataframe could be many gigabytes and even petabytes of data. Obviously you will end up with problems with your compute resource if your files are this big. This will not happen to you in this activity and may never happen to you while you are a data analyst. Please just be aware of this. \n",
    "\n",
    "- This activity is primarily about querying a RDB, so, we are using a simple way that Pandas provides. If you want to learn the more complex way, just google 'reading and wrting to a relational database using python'. There are many resources to learn from.\n",
    "\n",
    "- The data types that sqlite supports are quite limited. for example, it does not have a DATE type.  This is not a challenge for this project. However, more sophisticated database systems,such as Postgresql, have a large array of data types, such as \"DATE\", etc. that give those systems additional capability. \n",
    "\n",
    "- All of the SQL queries could also be performed on the Pandas DataFrames directly.  You may want to try this yourself for comparison (but make sure you do the SQL queries first, as this is an exercise in using SQL!).\n",
    "\n",
    "\n",
    "## SQL Magic\n",
    "Within the Jupyter notebook we will be using something called **SQL Magic**.  This provides a convenient way to write SQL queries directly into code cells in the notebook and to read the results back into a Pandas DataFrame.  This makes working with SQL much easier!\n",
    "\n",
    "Note that you may need to update your sqlite version using `conda update -c anaconda sqlite` in order for the SQL Magic to work correctly.\n",
    "\n",
    "## The Data Analysis Lifecycle\n",
    "The sections in this notebook follow the stages of the Data Analysis Lifecycle introduced in an earlier activity.  The stages are:\n",
    "\n",
    "- Acquire\n",
    "- Transform\n",
    "- Organise\n",
    "- Analyse\n",
    "- Communicate\n",
    "- Maintain\n"
   ]
  },
  {
   "cell_type": "markdown",
   "metadata": {},
   "source": [
    "The requirements document for this project is Template SQL queries.xlsx."
   ]
  },
  {
   "cell_type": "markdown",
   "metadata": {},
   "source": [
    "# Preliminary Steps: Create a Database\n",
    "\n",
    "Importing Sqlite and the other libraries we will need."
   ]
  },
  {
   "cell_type": "code",
   "execution_count": 67,
   "metadata": {},
   "outputs": [],
   "source": [
    "# Import Libraries\n",
    "import numpy as np\n",
    "import pandas as pd\n",
    "import sqlite3"
   ]
  },
  {
   "cell_type": "markdown",
   "metadata": {},
   "source": [
    "### Creating the Database\n",
    "\n",
    "Creating the Sqlite database through the `%load_ext` magic command to load the SQL Magic extension and then use `%sql` to connect to the database."
   ]
  },
  {
   "cell_type": "code",
   "execution_count": 68,
   "metadata": {},
   "outputs": [
    {
     "name": "stdout",
     "output_type": "stream",
     "text": [
      "The sql extension is already loaded. To reload it, use:\n",
      "  %reload_ext sql\n"
     ]
    }
   ],
   "source": [
    "# If the db does not exist, will be created through the following method:\n",
    "con = sqlite3.connect('chatdata.db')\n",
    "\n",
    "# loading the sql magic\n",
    "%load_ext sql \n",
    "\n",
    "# connecting sql magic command to the correct db\n",
    "%sql sqlite:///chatdata.db "
   ]
  },
  {
   "cell_type": "markdown",
   "metadata": {},
   "source": [
    "#### Dropping the `queries` table if it already exists\n",
    "\n",
    "The table of queries will serve as a log of all queries made to address the questions in the requirements spreadsheet. Given that this Jupyter notebook will be executed multiple times, it's best to delete the queries table each time so that it is reinitialized. This can be done by using the %%sql magic command to indicate that we're writing SQL in the cell and executing the code to drop the table.\n"
   ]
  },
  {
   "cell_type": "code",
   "execution_count": 69,
   "metadata": {},
   "outputs": [
    {
     "name": "stdout",
     "output_type": "stream",
     "text": [
      " * sqlite:///chatdata.db\n",
      "Done.\n"
     ]
    },
    {
     "data": {
      "text/plain": [
       "[]"
      ]
     },
     "execution_count": 69,
     "metadata": {},
     "output_type": "execute_result"
    }
   ],
   "source": [
    "%%sql\n",
    "DROP TABLE IF EXISTS 'queries'"
   ]
  },
  {
   "cell_type": "markdown",
   "metadata": {},
   "source": [
    "# Task 1: Load the Data\n",
    "\n",
    "It is now time to commence loading the data. As the data is being loaded, the tables will be generated. It should be noted that some of the files are of considerable size, so it is important to ensure that there is sufficient memory available."
   ]
  },
  {
   "cell_type": "markdown",
   "metadata": {},
   "source": [
    "## Lifecycle Stages: Transform and Organise\n",
    "\n",
    "The data has already been processed into 3 clean data files ready for this project:\n",
    "\n",
    "- queries.csv\n",
    "- posts.csv\n",
    "- comments.csv\n",
    "\n",
    "These files will be loaded into the sqlite database."
   ]
  },
  {
   "cell_type": "markdown",
   "metadata": {},
   "source": [
    "## Lifecycle Stage: Acquire\n",
    "\n",
    "The data can be found in the OpenClassrooms instructions for this activity."
   ]
  },
  {
   "cell_type": "markdown",
   "metadata": {},
   "source": [
    "### Load Comments Data into a `comments` table\n",
    "\n",
    "Now we will load the data from the csv files into our sqlite database.\n",
    "\n",
    "First we load the csv file into a Pandas dataframe:"
   ]
  },
  {
   "cell_type": "markdown",
   "metadata": {},
   "source": [
    "The code reads a CSV file named \"comments.csv\" into a Pandas DataFrame called \"comments\". The \"pd.read_csv\" function is used to read the CSV file and convert it into a DataFrame. The \"comments.head()\" function is then called on the DataFrame, which returns the first 5 rows of the DataFrame. This is useful for quickly checking the contents of the DataFrame and verifying that the data has been loaded correctly."
   ]
  },
  {
   "cell_type": "code",
   "execution_count": 70,
   "metadata": {
    "scrolled": true
   },
   "outputs": [
    {
     "data": {
      "text/html": [
       "<div>\n",
       "<style scoped>\n",
       "    .dataframe tbody tr th:only-of-type {\n",
       "        vertical-align: middle;\n",
       "    }\n",
       "\n",
       "    .dataframe tbody tr th {\n",
       "        vertical-align: top;\n",
       "    }\n",
       "\n",
       "    .dataframe thead th {\n",
       "        text-align: right;\n",
       "    }\n",
       "</style>\n",
       "<table border=\"1\" class=\"dataframe\">\n",
       "  <thead>\n",
       "    <tr style=\"text-align: right;\">\n",
       "      <th></th>\n",
       "      <th>Id</th>\n",
       "      <th>PostId</th>\n",
       "      <th>Score</th>\n",
       "      <th>Text</th>\n",
       "      <th>CreationDate</th>\n",
       "      <th>UserId</th>\n",
       "    </tr>\n",
       "  </thead>\n",
       "  <tbody>\n",
       "    <tr>\n",
       "      <th>0</th>\n",
       "      <td>723182</td>\n",
       "      <td>385124</td>\n",
       "      <td>0</td>\n",
       "      <td>@BenBolker I don't understand. The fit cannot ...</td>\n",
       "      <td>2019-01-01 00:06:39</td>\n",
       "      <td>78575</td>\n",
       "    </tr>\n",
       "    <tr>\n",
       "      <th>1</th>\n",
       "      <td>723183</td>\n",
       "      <td>385124</td>\n",
       "      <td>3</td>\n",
       "      <td>You can't add *less* than (`-min(y)`), but you...</td>\n",
       "      <td>2019-01-01 00:09:22</td>\n",
       "      <td>2126</td>\n",
       "    </tr>\n",
       "    <tr>\n",
       "      <th>2</th>\n",
       "      <td>723186</td>\n",
       "      <td>385137</td>\n",
       "      <td>0</td>\n",
       "      <td>nice. If you felt like doing the work it would...</td>\n",
       "      <td>2019-01-01 00:32:11</td>\n",
       "      <td>2126</td>\n",
       "    </tr>\n",
       "    <tr>\n",
       "      <th>3</th>\n",
       "      <td>723187</td>\n",
       "      <td>385137</td>\n",
       "      <td>0</td>\n",
       "      <td>i.e. `emdbook::curve3d(-sum(dnbinom(y,mu=mu,si...</td>\n",
       "      <td>2019-01-01 00:40:36</td>\n",
       "      <td>2126</td>\n",
       "    </tr>\n",
       "    <tr>\n",
       "      <th>4</th>\n",
       "      <td>723188</td>\n",
       "      <td>385134</td>\n",
       "      <td>0</td>\n",
       "      <td>Don't you mean \"so variance should be $\\sigma^...</td>\n",
       "      <td>2019-01-01 00:41:28</td>\n",
       "      <td>112141</td>\n",
       "    </tr>\n",
       "  </tbody>\n",
       "</table>\n",
       "</div>"
      ],
      "text/plain": [
       "       Id  PostId  Score                                               Text  \\\n",
       "0  723182  385124      0  @BenBolker I don't understand. The fit cannot ...   \n",
       "1  723183  385124      3  You can't add *less* than (`-min(y)`), but you...   \n",
       "2  723186  385137      0  nice. If you felt like doing the work it would...   \n",
       "3  723187  385137      0  i.e. `emdbook::curve3d(-sum(dnbinom(y,mu=mu,si...   \n",
       "4  723188  385134      0  Don't you mean \"so variance should be $\\sigma^...   \n",
       "\n",
       "          CreationDate  UserId  \n",
       "0  2019-01-01 00:06:39   78575  \n",
       "1  2019-01-01 00:09:22    2126  \n",
       "2  2019-01-01 00:32:11    2126  \n",
       "3  2019-01-01 00:40:36    2126  \n",
       "4  2019-01-01 00:41:28  112141  "
      ]
     },
     "execution_count": 70,
     "metadata": {},
     "output_type": "execute_result"
    }
   ],
   "source": [
    "comments = pd.read_csv('comments.csv')\n",
    "comments.head()"
   ]
  },
  {
   "cell_type": "markdown",
   "metadata": {},
   "source": [
    "Now take the comments dataframe and push the data into the Sqlite database table called 'comments':\n",
    "The code loads a Pandas DataFrame called \"comments\" into an SQLite database, replaces the table if it already exists, and reads the data back into a new DataFrame to verify that the data was loaded correctly. The first 5 rows of the DataFrame are displayed to check the contents."
   ]
  },
  {
   "cell_type": "code",
   "execution_count": 71,
   "metadata": {},
   "outputs": [
    {
     "data": {
      "text/html": [
       "<div>\n",
       "<style scoped>\n",
       "    .dataframe tbody tr th:only-of-type {\n",
       "        vertical-align: middle;\n",
       "    }\n",
       "\n",
       "    .dataframe tbody tr th {\n",
       "        vertical-align: top;\n",
       "    }\n",
       "\n",
       "    .dataframe thead th {\n",
       "        text-align: right;\n",
       "    }\n",
       "</style>\n",
       "<table border=\"1\" class=\"dataframe\">\n",
       "  <thead>\n",
       "    <tr style=\"text-align: right;\">\n",
       "      <th></th>\n",
       "      <th>Id</th>\n",
       "      <th>PostId</th>\n",
       "      <th>Score</th>\n",
       "      <th>Text</th>\n",
       "      <th>CreationDate</th>\n",
       "      <th>UserId</th>\n",
       "    </tr>\n",
       "  </thead>\n",
       "  <tbody>\n",
       "    <tr>\n",
       "      <th>0</th>\n",
       "      <td>723182</td>\n",
       "      <td>385124</td>\n",
       "      <td>0</td>\n",
       "      <td>@BenBolker I don't understand. The fit cannot ...</td>\n",
       "      <td>2019-01-01 00:06:39</td>\n",
       "      <td>78575</td>\n",
       "    </tr>\n",
       "    <tr>\n",
       "      <th>1</th>\n",
       "      <td>723183</td>\n",
       "      <td>385124</td>\n",
       "      <td>3</td>\n",
       "      <td>You can't add *less* than (`-min(y)`), but you...</td>\n",
       "      <td>2019-01-01 00:09:22</td>\n",
       "      <td>2126</td>\n",
       "    </tr>\n",
       "    <tr>\n",
       "      <th>2</th>\n",
       "      <td>723186</td>\n",
       "      <td>385137</td>\n",
       "      <td>0</td>\n",
       "      <td>nice. If you felt like doing the work it would...</td>\n",
       "      <td>2019-01-01 00:32:11</td>\n",
       "      <td>2126</td>\n",
       "    </tr>\n",
       "    <tr>\n",
       "      <th>3</th>\n",
       "      <td>723187</td>\n",
       "      <td>385137</td>\n",
       "      <td>0</td>\n",
       "      <td>i.e. `emdbook::curve3d(-sum(dnbinom(y,mu=mu,si...</td>\n",
       "      <td>2019-01-01 00:40:36</td>\n",
       "      <td>2126</td>\n",
       "    </tr>\n",
       "    <tr>\n",
       "      <th>4</th>\n",
       "      <td>723188</td>\n",
       "      <td>385134</td>\n",
       "      <td>0</td>\n",
       "      <td>Don't you mean \"so variance should be $\\sigma^...</td>\n",
       "      <td>2019-01-01 00:41:28</td>\n",
       "      <td>112141</td>\n",
       "    </tr>\n",
       "  </tbody>\n",
       "</table>\n",
       "</div>"
      ],
      "text/plain": [
       "       Id  PostId  Score                                               Text  \\\n",
       "0  723182  385124      0  @BenBolker I don't understand. The fit cannot ...   \n",
       "1  723183  385124      3  You can't add *less* than (`-min(y)`), but you...   \n",
       "2  723186  385137      0  nice. If you felt like doing the work it would...   \n",
       "3  723187  385137      0  i.e. `emdbook::curve3d(-sum(dnbinom(y,mu=mu,si...   \n",
       "4  723188  385134      0  Don't you mean \"so variance should be $\\sigma^...   \n",
       "\n",
       "          CreationDate  UserId  \n",
       "0  2019-01-01 00:06:39   78575  \n",
       "1  2019-01-01 00:09:22    2126  \n",
       "2  2019-01-01 00:32:11    2126  \n",
       "3  2019-01-01 00:40:36    2126  \n",
       "4  2019-01-01 00:41:28  112141  "
      ]
     },
     "execution_count": 71,
     "metadata": {},
     "output_type": "execute_result"
    }
   ],
   "source": [
    "# loading comments into sqlite\n",
    "comments.to_sql('comments', con, if_exists='replace', index=False)\n",
    "\n",
    "# reading back in to prove that it worked\n",
    "sql = 'SELECT * FROM comments'\n",
    "comments = pd.read_sql(sql, con)\n",
    "comments.head()"
   ]
  },
  {
   "cell_type": "markdown",
   "metadata": {},
   "source": [
    "### Load Other CSVs\n",
    "\n",
    "Now that you have seen the code for loading in the comments.csv now do the same to read and write the posts.csv and users.csv to sqlite. \n"
   ]
  },
  {
   "cell_type": "markdown",
   "metadata": {},
   "source": [
    "The tasks from the previous task are repeated here."
   ]
  },
  {
   "cell_type": "code",
   "execution_count": 72,
   "metadata": {},
   "outputs": [
    {
     "data": {
      "text/html": [
       "<div>\n",
       "<style scoped>\n",
       "    .dataframe tbody tr th:only-of-type {\n",
       "        vertical-align: middle;\n",
       "    }\n",
       "\n",
       "    .dataframe tbody tr th {\n",
       "        vertical-align: top;\n",
       "    }\n",
       "\n",
       "    .dataframe thead th {\n",
       "        text-align: right;\n",
       "    }\n",
       "</style>\n",
       "<table border=\"1\" class=\"dataframe\">\n",
       "  <thead>\n",
       "    <tr style=\"text-align: right;\">\n",
       "      <th></th>\n",
       "      <th>Id</th>\n",
       "      <th>PostTypeId</th>\n",
       "      <th>AcceptedAnswerId</th>\n",
       "      <th>ParentId</th>\n",
       "      <th>CreationDate</th>\n",
       "      <th>Score</th>\n",
       "      <th>ViewCount</th>\n",
       "      <th>Body</th>\n",
       "      <th>OwnerUserId</th>\n",
       "      <th>OwnerDisplayName</th>\n",
       "      <th>...</th>\n",
       "      <th>LastEditorDisplayName</th>\n",
       "      <th>LastEditDate</th>\n",
       "      <th>LastActivityDate</th>\n",
       "      <th>Title</th>\n",
       "      <th>Tags</th>\n",
       "      <th>AnswerCount</th>\n",
       "      <th>CommentCount</th>\n",
       "      <th>FavoriteCount</th>\n",
       "      <th>ClosedDate</th>\n",
       "      <th>CommunityOwnedDate</th>\n",
       "    </tr>\n",
       "  </thead>\n",
       "  <tbody>\n",
       "    <tr>\n",
       "      <th>0</th>\n",
       "      <td>423497</td>\n",
       "      <td>1</td>\n",
       "      <td>423511</td>\n",
       "      <td>0</td>\n",
       "      <td>2019-08-24 09:39:31</td>\n",
       "      <td>2</td>\n",
       "      <td>68</td>\n",
       "      <td>&lt;p&gt;From wikipedia &lt;a href=\"https://en.wikipedi...</td>\n",
       "      <td>64552</td>\n",
       "      <td>NaN</td>\n",
       "      <td>...</td>\n",
       "      <td>NaN</td>\n",
       "      <td>NaN</td>\n",
       "      <td>2019-08-24 11:38:54</td>\n",
       "      <td>When are biased estimators with lower MSE pref...</td>\n",
       "      <td>&lt;bias&gt;&lt;unbiased-estimator&gt;&lt;mse&gt;</td>\n",
       "      <td>1</td>\n",
       "      <td>0</td>\n",
       "      <td>1</td>\n",
       "      <td>2019-08-25 10:25:24</td>\n",
       "      <td>NaN</td>\n",
       "    </tr>\n",
       "    <tr>\n",
       "      <th>1</th>\n",
       "      <td>423498</td>\n",
       "      <td>1</td>\n",
       "      <td>0</td>\n",
       "      <td>0</td>\n",
       "      <td>2019-08-24 09:47:42</td>\n",
       "      <td>1</td>\n",
       "      <td>24</td>\n",
       "      <td>&lt;p&gt;I am currently doing local sensitivity anal...</td>\n",
       "      <td>87231</td>\n",
       "      <td>NaN</td>\n",
       "      <td>...</td>\n",
       "      <td>NaN</td>\n",
       "      <td>2019-09-06 12:52:32</td>\n",
       "      <td>2019-09-06 12:52:32</td>\n",
       "      <td>How to interpret the result from local sensiti...</td>\n",
       "      <td>&lt;sensitivity-analysis&gt;&lt;elasticity&gt;</td>\n",
       "      <td>1</td>\n",
       "      <td>0</td>\n",
       "      <td>0</td>\n",
       "      <td>NaN</td>\n",
       "      <td>NaN</td>\n",
       "    </tr>\n",
       "    <tr>\n",
       "      <th>2</th>\n",
       "      <td>423499</td>\n",
       "      <td>1</td>\n",
       "      <td>0</td>\n",
       "      <td>0</td>\n",
       "      <td>2019-08-24 09:48:26</td>\n",
       "      <td>1</td>\n",
       "      <td>56</td>\n",
       "      <td>&lt;p&gt;I'm an honours student in psychology doing ...</td>\n",
       "      <td>257207</td>\n",
       "      <td>NaN</td>\n",
       "      <td>...</td>\n",
       "      <td>NaN</td>\n",
       "      <td>NaN</td>\n",
       "      <td>2019-08-25 08:54:17</td>\n",
       "      <td>Power Analysis in G-Power - Mixed Model Anova</td>\n",
       "      <td>&lt;anova&gt;&lt;gpower&gt;</td>\n",
       "      <td>2</td>\n",
       "      <td>0</td>\n",
       "      <td>0</td>\n",
       "      <td>NaN</td>\n",
       "      <td>NaN</td>\n",
       "    </tr>\n",
       "    <tr>\n",
       "      <th>3</th>\n",
       "      <td>423500</td>\n",
       "      <td>2</td>\n",
       "      <td>0</td>\n",
       "      <td>215865</td>\n",
       "      <td>2019-08-24 09:57:01</td>\n",
       "      <td>0</td>\n",
       "      <td>0</td>\n",
       "      <td>&lt;p&gt;Maybe you can look this &lt;a href=\"https://me...</td>\n",
       "      <td>106606</td>\n",
       "      <td>NaN</td>\n",
       "      <td>...</td>\n",
       "      <td>NaN</td>\n",
       "      <td>NaN</td>\n",
       "      <td>2019-08-24 09:57:01</td>\n",
       "      <td>NaN</td>\n",
       "      <td>NaN</td>\n",
       "      <td>0</td>\n",
       "      <td>0</td>\n",
       "      <td>0</td>\n",
       "      <td>NaN</td>\n",
       "      <td>NaN</td>\n",
       "    </tr>\n",
       "    <tr>\n",
       "      <th>4</th>\n",
       "      <td>423502</td>\n",
       "      <td>2</td>\n",
       "      <td>0</td>\n",
       "      <td>423286</td>\n",
       "      <td>2019-08-24 10:44:52</td>\n",
       "      <td>3</td>\n",
       "      <td>0</td>\n",
       "      <td>&lt;blockquote&gt;\\n  &lt;p&gt;Q1) Is my approach valid?&lt;/...</td>\n",
       "      <td>220643</td>\n",
       "      <td>NaN</td>\n",
       "      <td>...</td>\n",
       "      <td>NaN</td>\n",
       "      <td>2019-08-24 12:13:46</td>\n",
       "      <td>2019-08-24 12:13:46</td>\n",
       "      <td>NaN</td>\n",
       "      <td>NaN</td>\n",
       "      <td>0</td>\n",
       "      <td>1</td>\n",
       "      <td>0</td>\n",
       "      <td>NaN</td>\n",
       "      <td>NaN</td>\n",
       "    </tr>\n",
       "  </tbody>\n",
       "</table>\n",
       "<p>5 rows × 21 columns</p>\n",
       "</div>"
      ],
      "text/plain": [
       "       Id  PostTypeId  AcceptedAnswerId  ParentId         CreationDate  Score  \\\n",
       "0  423497           1            423511         0  2019-08-24 09:39:31      2   \n",
       "1  423498           1                 0         0  2019-08-24 09:47:42      1   \n",
       "2  423499           1                 0         0  2019-08-24 09:48:26      1   \n",
       "3  423500           2                 0    215865  2019-08-24 09:57:01      0   \n",
       "4  423502           2                 0    423286  2019-08-24 10:44:52      3   \n",
       "\n",
       "   ViewCount                                               Body  OwnerUserId  \\\n",
       "0         68  <p>From wikipedia <a href=\"https://en.wikipedi...        64552   \n",
       "1         24  <p>I am currently doing local sensitivity anal...        87231   \n",
       "2         56  <p>I'm an honours student in psychology doing ...       257207   \n",
       "3          0  <p>Maybe you can look this <a href=\"https://me...       106606   \n",
       "4          0  <blockquote>\\n  <p>Q1) Is my approach valid?</...       220643   \n",
       "\n",
       "  OwnerDisplayName  ...  LastEditorDisplayName         LastEditDate  \\\n",
       "0              NaN  ...                    NaN                  NaN   \n",
       "1              NaN  ...                    NaN  2019-09-06 12:52:32   \n",
       "2              NaN  ...                    NaN                  NaN   \n",
       "3              NaN  ...                    NaN                  NaN   \n",
       "4              NaN  ...                    NaN  2019-08-24 12:13:46   \n",
       "\n",
       "      LastActivityDate                                              Title  \\\n",
       "0  2019-08-24 11:38:54  When are biased estimators with lower MSE pref...   \n",
       "1  2019-09-06 12:52:32  How to interpret the result from local sensiti...   \n",
       "2  2019-08-25 08:54:17      Power Analysis in G-Power - Mixed Model Anova   \n",
       "3  2019-08-24 09:57:01                                                NaN   \n",
       "4  2019-08-24 12:13:46                                                NaN   \n",
       "\n",
       "                                 Tags AnswerCount  CommentCount  \\\n",
       "0     <bias><unbiased-estimator><mse>           1             0   \n",
       "1  <sensitivity-analysis><elasticity>           1             0   \n",
       "2                     <anova><gpower>           2             0   \n",
       "3                                 NaN           0             0   \n",
       "4                                 NaN           0             1   \n",
       "\n",
       "   FavoriteCount           ClosedDate CommunityOwnedDate  \n",
       "0              1  2019-08-25 10:25:24                NaN  \n",
       "1              0                  NaN                NaN  \n",
       "2              0                  NaN                NaN  \n",
       "3              0                  NaN                NaN  \n",
       "4              0                  NaN                NaN  \n",
       "\n",
       "[5 rows x 21 columns]"
      ]
     },
     "execution_count": 72,
     "metadata": {},
     "output_type": "execute_result"
    }
   ],
   "source": [
    "# loading posts into a pandas data frame\n",
    "\n",
    "posts = pd.read_csv('posts.csv')\n",
    "\n",
    "# and displaying them the head() function is used\n",
    "posts.head()"
   ]
  },
  {
   "cell_type": "code",
   "execution_count": 73,
   "metadata": {},
   "outputs": [
    {
     "data": {
      "text/html": [
       "<div>\n",
       "<style scoped>\n",
       "    .dataframe tbody tr th:only-of-type {\n",
       "        vertical-align: middle;\n",
       "    }\n",
       "\n",
       "    .dataframe tbody tr th {\n",
       "        vertical-align: top;\n",
       "    }\n",
       "\n",
       "    .dataframe thead th {\n",
       "        text-align: right;\n",
       "    }\n",
       "</style>\n",
       "<table border=\"1\" class=\"dataframe\">\n",
       "  <thead>\n",
       "    <tr style=\"text-align: right;\">\n",
       "      <th></th>\n",
       "      <th>Id</th>\n",
       "      <th>PostTypeId</th>\n",
       "      <th>AcceptedAnswerId</th>\n",
       "      <th>ParentId</th>\n",
       "      <th>CreationDate</th>\n",
       "      <th>Score</th>\n",
       "      <th>ViewCount</th>\n",
       "      <th>Body</th>\n",
       "      <th>OwnerUserId</th>\n",
       "      <th>OwnerDisplayName</th>\n",
       "      <th>...</th>\n",
       "      <th>LastEditorDisplayName</th>\n",
       "      <th>LastEditDate</th>\n",
       "      <th>LastActivityDate</th>\n",
       "      <th>Title</th>\n",
       "      <th>Tags</th>\n",
       "      <th>AnswerCount</th>\n",
       "      <th>CommentCount</th>\n",
       "      <th>FavoriteCount</th>\n",
       "      <th>ClosedDate</th>\n",
       "      <th>CommunityOwnedDate</th>\n",
       "    </tr>\n",
       "  </thead>\n",
       "  <tbody>\n",
       "    <tr>\n",
       "      <th>0</th>\n",
       "      <td>423497</td>\n",
       "      <td>1</td>\n",
       "      <td>423511</td>\n",
       "      <td>0</td>\n",
       "      <td>2019-08-24 09:39:31</td>\n",
       "      <td>2</td>\n",
       "      <td>68</td>\n",
       "      <td>&lt;p&gt;From wikipedia &lt;a href=\"https://en.wikipedi...</td>\n",
       "      <td>64552</td>\n",
       "      <td>None</td>\n",
       "      <td>...</td>\n",
       "      <td>None</td>\n",
       "      <td>None</td>\n",
       "      <td>2019-08-24 11:38:54</td>\n",
       "      <td>When are biased estimators with lower MSE pref...</td>\n",
       "      <td>&lt;bias&gt;&lt;unbiased-estimator&gt;&lt;mse&gt;</td>\n",
       "      <td>1</td>\n",
       "      <td>0</td>\n",
       "      <td>1</td>\n",
       "      <td>2019-08-25 10:25:24</td>\n",
       "      <td>None</td>\n",
       "    </tr>\n",
       "    <tr>\n",
       "      <th>1</th>\n",
       "      <td>423498</td>\n",
       "      <td>1</td>\n",
       "      <td>0</td>\n",
       "      <td>0</td>\n",
       "      <td>2019-08-24 09:47:42</td>\n",
       "      <td>1</td>\n",
       "      <td>24</td>\n",
       "      <td>&lt;p&gt;I am currently doing local sensitivity anal...</td>\n",
       "      <td>87231</td>\n",
       "      <td>None</td>\n",
       "      <td>...</td>\n",
       "      <td>None</td>\n",
       "      <td>2019-09-06 12:52:32</td>\n",
       "      <td>2019-09-06 12:52:32</td>\n",
       "      <td>How to interpret the result from local sensiti...</td>\n",
       "      <td>&lt;sensitivity-analysis&gt;&lt;elasticity&gt;</td>\n",
       "      <td>1</td>\n",
       "      <td>0</td>\n",
       "      <td>0</td>\n",
       "      <td>None</td>\n",
       "      <td>None</td>\n",
       "    </tr>\n",
       "    <tr>\n",
       "      <th>2</th>\n",
       "      <td>423499</td>\n",
       "      <td>1</td>\n",
       "      <td>0</td>\n",
       "      <td>0</td>\n",
       "      <td>2019-08-24 09:48:26</td>\n",
       "      <td>1</td>\n",
       "      <td>56</td>\n",
       "      <td>&lt;p&gt;I'm an honours student in psychology doing ...</td>\n",
       "      <td>257207</td>\n",
       "      <td>None</td>\n",
       "      <td>...</td>\n",
       "      <td>None</td>\n",
       "      <td>None</td>\n",
       "      <td>2019-08-25 08:54:17</td>\n",
       "      <td>Power Analysis in G-Power - Mixed Model Anova</td>\n",
       "      <td>&lt;anova&gt;&lt;gpower&gt;</td>\n",
       "      <td>2</td>\n",
       "      <td>0</td>\n",
       "      <td>0</td>\n",
       "      <td>None</td>\n",
       "      <td>None</td>\n",
       "    </tr>\n",
       "    <tr>\n",
       "      <th>3</th>\n",
       "      <td>423500</td>\n",
       "      <td>2</td>\n",
       "      <td>0</td>\n",
       "      <td>215865</td>\n",
       "      <td>2019-08-24 09:57:01</td>\n",
       "      <td>0</td>\n",
       "      <td>0</td>\n",
       "      <td>&lt;p&gt;Maybe you can look this &lt;a href=\"https://me...</td>\n",
       "      <td>106606</td>\n",
       "      <td>None</td>\n",
       "      <td>...</td>\n",
       "      <td>None</td>\n",
       "      <td>None</td>\n",
       "      <td>2019-08-24 09:57:01</td>\n",
       "      <td>None</td>\n",
       "      <td>None</td>\n",
       "      <td>0</td>\n",
       "      <td>0</td>\n",
       "      <td>0</td>\n",
       "      <td>None</td>\n",
       "      <td>None</td>\n",
       "    </tr>\n",
       "    <tr>\n",
       "      <th>4</th>\n",
       "      <td>423502</td>\n",
       "      <td>2</td>\n",
       "      <td>0</td>\n",
       "      <td>423286</td>\n",
       "      <td>2019-08-24 10:44:52</td>\n",
       "      <td>3</td>\n",
       "      <td>0</td>\n",
       "      <td>&lt;blockquote&gt;\\n  &lt;p&gt;Q1) Is my approach valid?&lt;/...</td>\n",
       "      <td>220643</td>\n",
       "      <td>None</td>\n",
       "      <td>...</td>\n",
       "      <td>None</td>\n",
       "      <td>2019-08-24 12:13:46</td>\n",
       "      <td>2019-08-24 12:13:46</td>\n",
       "      <td>None</td>\n",
       "      <td>None</td>\n",
       "      <td>0</td>\n",
       "      <td>1</td>\n",
       "      <td>0</td>\n",
       "      <td>None</td>\n",
       "      <td>None</td>\n",
       "    </tr>\n",
       "  </tbody>\n",
       "</table>\n",
       "<p>5 rows × 21 columns</p>\n",
       "</div>"
      ],
      "text/plain": [
       "       Id  PostTypeId  AcceptedAnswerId  ParentId         CreationDate  Score  \\\n",
       "0  423497           1            423511         0  2019-08-24 09:39:31      2   \n",
       "1  423498           1                 0         0  2019-08-24 09:47:42      1   \n",
       "2  423499           1                 0         0  2019-08-24 09:48:26      1   \n",
       "3  423500           2                 0    215865  2019-08-24 09:57:01      0   \n",
       "4  423502           2                 0    423286  2019-08-24 10:44:52      3   \n",
       "\n",
       "   ViewCount                                               Body  OwnerUserId  \\\n",
       "0         68  <p>From wikipedia <a href=\"https://en.wikipedi...        64552   \n",
       "1         24  <p>I am currently doing local sensitivity anal...        87231   \n",
       "2         56  <p>I'm an honours student in psychology doing ...       257207   \n",
       "3          0  <p>Maybe you can look this <a href=\"https://me...       106606   \n",
       "4          0  <blockquote>\\n  <p>Q1) Is my approach valid?</...       220643   \n",
       "\n",
       "  OwnerDisplayName  ...  LastEditorDisplayName         LastEditDate  \\\n",
       "0             None  ...                   None                 None   \n",
       "1             None  ...                   None  2019-09-06 12:52:32   \n",
       "2             None  ...                   None                 None   \n",
       "3             None  ...                   None                 None   \n",
       "4             None  ...                   None  2019-08-24 12:13:46   \n",
       "\n",
       "      LastActivityDate                                              Title  \\\n",
       "0  2019-08-24 11:38:54  When are biased estimators with lower MSE pref...   \n",
       "1  2019-09-06 12:52:32  How to interpret the result from local sensiti...   \n",
       "2  2019-08-25 08:54:17      Power Analysis in G-Power - Mixed Model Anova   \n",
       "3  2019-08-24 09:57:01                                               None   \n",
       "4  2019-08-24 12:13:46                                               None   \n",
       "\n",
       "                                 Tags AnswerCount  CommentCount  \\\n",
       "0     <bias><unbiased-estimator><mse>           1             0   \n",
       "1  <sensitivity-analysis><elasticity>           1             0   \n",
       "2                     <anova><gpower>           2             0   \n",
       "3                                None           0             0   \n",
       "4                                None           0             1   \n",
       "\n",
       "   FavoriteCount           ClosedDate CommunityOwnedDate  \n",
       "0              1  2019-08-25 10:25:24               None  \n",
       "1              0                 None               None  \n",
       "2              0                 None               None  \n",
       "3              0                 None               None  \n",
       "4              0                 None               None  \n",
       "\n",
       "[5 rows x 21 columns]"
      ]
     },
     "execution_count": 73,
     "metadata": {},
     "output_type": "execute_result"
    }
   ],
   "source": [
    "# Loading the posts into SQLite\n",
    "posts.to_sql('posts', con, if_exists='replace', index=False)\n",
    "\n",
    "# reading back in to prove that it worked\n",
    "\n",
    "sql = 'SELECT * FROM posts'\n",
    "posts = pd.read_sql(sql, con)\n",
    "posts.head()\n"
   ]
  },
  {
   "cell_type": "code",
   "execution_count": 74,
   "metadata": {},
   "outputs": [
    {
     "data": {
      "text/html": [
       "<div>\n",
       "<style scoped>\n",
       "    .dataframe tbody tr th:only-of-type {\n",
       "        vertical-align: middle;\n",
       "    }\n",
       "\n",
       "    .dataframe tbody tr th {\n",
       "        vertical-align: top;\n",
       "    }\n",
       "\n",
       "    .dataframe thead th {\n",
       "        text-align: right;\n",
       "    }\n",
       "</style>\n",
       "<table border=\"1\" class=\"dataframe\">\n",
       "  <thead>\n",
       "    <tr style=\"text-align: right;\">\n",
       "      <th></th>\n",
       "      <th>Id</th>\n",
       "      <th>Reputation</th>\n",
       "      <th>CreationDate</th>\n",
       "      <th>DisplayName</th>\n",
       "      <th>LastAccessDate</th>\n",
       "      <th>WebsiteUrl</th>\n",
       "      <th>Location</th>\n",
       "      <th>AboutMe</th>\n",
       "      <th>Views</th>\n",
       "      <th>UpVotes</th>\n",
       "      <th>DownVotes</th>\n",
       "      <th>ProfileImageUrl</th>\n",
       "      <th>AccountId</th>\n",
       "    </tr>\n",
       "  </thead>\n",
       "  <tbody>\n",
       "    <tr>\n",
       "      <th>0</th>\n",
       "      <td>157607</td>\n",
       "      <td>31</td>\n",
       "      <td>2017-04-17 14:50:42</td>\n",
       "      <td>user157607</td>\n",
       "      <td>2019-07-23 16:44:08</td>\n",
       "      <td>NaN</td>\n",
       "      <td>NaN</td>\n",
       "      <td>NaN</td>\n",
       "      <td>0</td>\n",
       "      <td>0</td>\n",
       "      <td>0</td>\n",
       "      <td>https://www.gravatar.com/avatar/2efb161849efa4...</td>\n",
       "      <td>10705183</td>\n",
       "    </tr>\n",
       "    <tr>\n",
       "      <th>1</th>\n",
       "      <td>157656</td>\n",
       "      <td>101</td>\n",
       "      <td>2017-04-17 20:08:20</td>\n",
       "      <td>user102859</td>\n",
       "      <td>2019-06-26 13:42:13</td>\n",
       "      <td>NaN</td>\n",
       "      <td>NaN</td>\n",
       "      <td>NaN</td>\n",
       "      <td>3</td>\n",
       "      <td>0</td>\n",
       "      <td>0</td>\n",
       "      <td>https://i.stack.imgur.com/eY4ka.jpg?s=128&amp;g=1</td>\n",
       "      <td>10567606</td>\n",
       "    </tr>\n",
       "    <tr>\n",
       "      <th>2</th>\n",
       "      <td>157704</td>\n",
       "      <td>133</td>\n",
       "      <td>2017-04-18 05:10:47</td>\n",
       "      <td>jupiar</td>\n",
       "      <td>2019-11-25 13:32:27</td>\n",
       "      <td>NaN</td>\n",
       "      <td>Shanghai, China</td>\n",
       "      <td>&lt;p&gt;Originally from the U.K, I have an Undergra...</td>\n",
       "      <td>1</td>\n",
       "      <td>1</td>\n",
       "      <td>0</td>\n",
       "      <td>https://www.gravatar.com/avatar/720e20205122c5...</td>\n",
       "      <td>9501631</td>\n",
       "    </tr>\n",
       "    <tr>\n",
       "      <th>3</th>\n",
       "      <td>157709</td>\n",
       "      <td>155</td>\n",
       "      <td>2017-04-18 06:39:18</td>\n",
       "      <td>farmer</td>\n",
       "      <td>2019-02-17 19:44:24</td>\n",
       "      <td>NaN</td>\n",
       "      <td>NaN</td>\n",
       "      <td>NaN</td>\n",
       "      <td>16</td>\n",
       "      <td>0</td>\n",
       "      <td>0</td>\n",
       "      <td>https://www.gravatar.com/avatar/0f8c4bde3d8f25...</td>\n",
       "      <td>10709837</td>\n",
       "    </tr>\n",
       "    <tr>\n",
       "      <th>4</th>\n",
       "      <td>157755</td>\n",
       "      <td>101</td>\n",
       "      <td>2017-04-18 12:56:17</td>\n",
       "      <td>Miki P</td>\n",
       "      <td>2019-08-12 17:02:21</td>\n",
       "      <td>NaN</td>\n",
       "      <td>NaN</td>\n",
       "      <td>NaN</td>\n",
       "      <td>1</td>\n",
       "      <td>9</td>\n",
       "      <td>0</td>\n",
       "      <td>https://www.gravatar.com/avatar/af088558cd81c5...</td>\n",
       "      <td>7969290</td>\n",
       "    </tr>\n",
       "  </tbody>\n",
       "</table>\n",
       "</div>"
      ],
      "text/plain": [
       "       Id  Reputation         CreationDate DisplayName       LastAccessDate  \\\n",
       "0  157607          31  2017-04-17 14:50:42  user157607  2019-07-23 16:44:08   \n",
       "1  157656         101  2017-04-17 20:08:20  user102859  2019-06-26 13:42:13   \n",
       "2  157704         133  2017-04-18 05:10:47      jupiar  2019-11-25 13:32:27   \n",
       "3  157709         155  2017-04-18 06:39:18      farmer  2019-02-17 19:44:24   \n",
       "4  157755         101  2017-04-18 12:56:17      Miki P  2019-08-12 17:02:21   \n",
       "\n",
       "  WebsiteUrl         Location  \\\n",
       "0        NaN              NaN   \n",
       "1        NaN              NaN   \n",
       "2        NaN  Shanghai, China   \n",
       "3        NaN              NaN   \n",
       "4        NaN              NaN   \n",
       "\n",
       "                                             AboutMe  Views  UpVotes  \\\n",
       "0                                                NaN      0        0   \n",
       "1                                                NaN      3        0   \n",
       "2  <p>Originally from the U.K, I have an Undergra...      1        1   \n",
       "3                                                NaN     16        0   \n",
       "4                                                NaN      1        9   \n",
       "\n",
       "   DownVotes                                    ProfileImageUrl  AccountId  \n",
       "0          0  https://www.gravatar.com/avatar/2efb161849efa4...   10705183  \n",
       "1          0      https://i.stack.imgur.com/eY4ka.jpg?s=128&g=1   10567606  \n",
       "2          0  https://www.gravatar.com/avatar/720e20205122c5...    9501631  \n",
       "3          0  https://www.gravatar.com/avatar/0f8c4bde3d8f25...   10709837  \n",
       "4          0  https://www.gravatar.com/avatar/af088558cd81c5...    7969290  "
      ]
     },
     "execution_count": 74,
     "metadata": {},
     "output_type": "execute_result"
    }
   ],
   "source": [
    "# loading users into a pandas data frame\n",
    "\n",
    "users = pd.read_csv('users.csv')\n",
    "\n",
    "# and to display them the head() function is used\n",
    "users.head()"
   ]
  },
  {
   "cell_type": "code",
   "execution_count": 75,
   "metadata": {
    "scrolled": true
   },
   "outputs": [
    {
     "data": {
      "text/html": [
       "<div>\n",
       "<style scoped>\n",
       "    .dataframe tbody tr th:only-of-type {\n",
       "        vertical-align: middle;\n",
       "    }\n",
       "\n",
       "    .dataframe tbody tr th {\n",
       "        vertical-align: top;\n",
       "    }\n",
       "\n",
       "    .dataframe thead th {\n",
       "        text-align: right;\n",
       "    }\n",
       "</style>\n",
       "<table border=\"1\" class=\"dataframe\">\n",
       "  <thead>\n",
       "    <tr style=\"text-align: right;\">\n",
       "      <th></th>\n",
       "      <th>Id</th>\n",
       "      <th>Reputation</th>\n",
       "      <th>CreationDate</th>\n",
       "      <th>DisplayName</th>\n",
       "      <th>LastAccessDate</th>\n",
       "      <th>WebsiteUrl</th>\n",
       "      <th>Location</th>\n",
       "      <th>AboutMe</th>\n",
       "      <th>Views</th>\n",
       "      <th>UpVotes</th>\n",
       "      <th>DownVotes</th>\n",
       "      <th>ProfileImageUrl</th>\n",
       "      <th>AccountId</th>\n",
       "    </tr>\n",
       "  </thead>\n",
       "  <tbody>\n",
       "    <tr>\n",
       "      <th>0</th>\n",
       "      <td>157607</td>\n",
       "      <td>31</td>\n",
       "      <td>2017-04-17 14:50:42</td>\n",
       "      <td>user157607</td>\n",
       "      <td>2019-07-23 16:44:08</td>\n",
       "      <td>None</td>\n",
       "      <td>None</td>\n",
       "      <td>None</td>\n",
       "      <td>0</td>\n",
       "      <td>0</td>\n",
       "      <td>0</td>\n",
       "      <td>https://www.gravatar.com/avatar/2efb161849efa4...</td>\n",
       "      <td>10705183</td>\n",
       "    </tr>\n",
       "    <tr>\n",
       "      <th>1</th>\n",
       "      <td>157656</td>\n",
       "      <td>101</td>\n",
       "      <td>2017-04-17 20:08:20</td>\n",
       "      <td>user102859</td>\n",
       "      <td>2019-06-26 13:42:13</td>\n",
       "      <td>None</td>\n",
       "      <td>None</td>\n",
       "      <td>None</td>\n",
       "      <td>3</td>\n",
       "      <td>0</td>\n",
       "      <td>0</td>\n",
       "      <td>https://i.stack.imgur.com/eY4ka.jpg?s=128&amp;g=1</td>\n",
       "      <td>10567606</td>\n",
       "    </tr>\n",
       "    <tr>\n",
       "      <th>2</th>\n",
       "      <td>157704</td>\n",
       "      <td>133</td>\n",
       "      <td>2017-04-18 05:10:47</td>\n",
       "      <td>jupiar</td>\n",
       "      <td>2019-11-25 13:32:27</td>\n",
       "      <td>None</td>\n",
       "      <td>Shanghai, China</td>\n",
       "      <td>&lt;p&gt;Originally from the U.K, I have an Undergra...</td>\n",
       "      <td>1</td>\n",
       "      <td>1</td>\n",
       "      <td>0</td>\n",
       "      <td>https://www.gravatar.com/avatar/720e20205122c5...</td>\n",
       "      <td>9501631</td>\n",
       "    </tr>\n",
       "    <tr>\n",
       "      <th>3</th>\n",
       "      <td>157709</td>\n",
       "      <td>155</td>\n",
       "      <td>2017-04-18 06:39:18</td>\n",
       "      <td>farmer</td>\n",
       "      <td>2019-02-17 19:44:24</td>\n",
       "      <td>None</td>\n",
       "      <td>None</td>\n",
       "      <td>None</td>\n",
       "      <td>16</td>\n",
       "      <td>0</td>\n",
       "      <td>0</td>\n",
       "      <td>https://www.gravatar.com/avatar/0f8c4bde3d8f25...</td>\n",
       "      <td>10709837</td>\n",
       "    </tr>\n",
       "    <tr>\n",
       "      <th>4</th>\n",
       "      <td>157755</td>\n",
       "      <td>101</td>\n",
       "      <td>2017-04-18 12:56:17</td>\n",
       "      <td>Miki P</td>\n",
       "      <td>2019-08-12 17:02:21</td>\n",
       "      <td>None</td>\n",
       "      <td>None</td>\n",
       "      <td>None</td>\n",
       "      <td>1</td>\n",
       "      <td>9</td>\n",
       "      <td>0</td>\n",
       "      <td>https://www.gravatar.com/avatar/af088558cd81c5...</td>\n",
       "      <td>7969290</td>\n",
       "    </tr>\n",
       "  </tbody>\n",
       "</table>\n",
       "</div>"
      ],
      "text/plain": [
       "       Id  Reputation         CreationDate DisplayName       LastAccessDate  \\\n",
       "0  157607          31  2017-04-17 14:50:42  user157607  2019-07-23 16:44:08   \n",
       "1  157656         101  2017-04-17 20:08:20  user102859  2019-06-26 13:42:13   \n",
       "2  157704         133  2017-04-18 05:10:47      jupiar  2019-11-25 13:32:27   \n",
       "3  157709         155  2017-04-18 06:39:18      farmer  2019-02-17 19:44:24   \n",
       "4  157755         101  2017-04-18 12:56:17      Miki P  2019-08-12 17:02:21   \n",
       "\n",
       "  WebsiteUrl         Location  \\\n",
       "0       None             None   \n",
       "1       None             None   \n",
       "2       None  Shanghai, China   \n",
       "3       None             None   \n",
       "4       None             None   \n",
       "\n",
       "                                             AboutMe  Views  UpVotes  \\\n",
       "0                                               None      0        0   \n",
       "1                                               None      3        0   \n",
       "2  <p>Originally from the U.K, I have an Undergra...      1        1   \n",
       "3                                               None     16        0   \n",
       "4                                               None      1        9   \n",
       "\n",
       "   DownVotes                                    ProfileImageUrl  AccountId  \n",
       "0          0  https://www.gravatar.com/avatar/2efb161849efa4...   10705183  \n",
       "1          0      https://i.stack.imgur.com/eY4ka.jpg?s=128&g=1   10567606  \n",
       "2          0  https://www.gravatar.com/avatar/720e20205122c5...    9501631  \n",
       "3          0  https://www.gravatar.com/avatar/0f8c4bde3d8f25...   10709837  \n",
       "4          0  https://www.gravatar.com/avatar/af088558cd81c5...    7969290  "
      ]
     },
     "execution_count": 75,
     "metadata": {},
     "output_type": "execute_result"
    }
   ],
   "source": [
    "# Loading the users into SQLite\n",
    "users.to_sql('users', con, if_exists='replace', index=False)\n",
    "\n",
    "# reading back in to prove that it worked\n",
    "\n",
    "sql = 'SELECT * FROM users'\n",
    "users = pd.read_sql(sql, con)\n",
    "users.head()"
   ]
  },
  {
   "cell_type": "markdown",
   "metadata": {},
   "source": [
    "### **TODO**: Drop Duplicates\n",
    "\n",
    "Look for and drop any duplicates in all 3 of the tables (if they exist). Use Pandas to do this. If you find duplicates, you will need to rewrite the table.\n"
   ]
  },
  {
   "cell_type": "markdown",
   "metadata": {},
   "source": [
    "Checking for any duplicates in all three dataframes through the duplicated() method for the posts, comments and users."
   ]
  },
  {
   "cell_type": "code",
   "execution_count": 76,
   "metadata": {},
   "outputs": [
    {
     "data": {
      "text/html": [
       "<div>\n",
       "<style scoped>\n",
       "    .dataframe tbody tr th:only-of-type {\n",
       "        vertical-align: middle;\n",
       "    }\n",
       "\n",
       "    .dataframe tbody tr th {\n",
       "        vertical-align: top;\n",
       "    }\n",
       "\n",
       "    .dataframe thead th {\n",
       "        text-align: right;\n",
       "    }\n",
       "</style>\n",
       "<table border=\"1\" class=\"dataframe\">\n",
       "  <thead>\n",
       "    <tr style=\"text-align: right;\">\n",
       "      <th></th>\n",
       "      <th>Id</th>\n",
       "      <th>PostId</th>\n",
       "      <th>Score</th>\n",
       "      <th>Text</th>\n",
       "      <th>CreationDate</th>\n",
       "      <th>UserId</th>\n",
       "    </tr>\n",
       "  </thead>\n",
       "  <tbody>\n",
       "  </tbody>\n",
       "</table>\n",
       "</div>"
      ],
      "text/plain": [
       "Empty DataFrame\n",
       "Columns: [Id, PostId, Score, Text, CreationDate, UserId]\n",
       "Index: []"
      ]
     },
     "execution_count": 76,
     "metadata": {},
     "output_type": "execute_result"
    }
   ],
   "source": [
    "comments[comments.duplicated()]"
   ]
  },
  {
   "cell_type": "code",
   "execution_count": 77,
   "metadata": {},
   "outputs": [
    {
     "data": {
      "text/html": [
       "<div>\n",
       "<style scoped>\n",
       "    .dataframe tbody tr th:only-of-type {\n",
       "        vertical-align: middle;\n",
       "    }\n",
       "\n",
       "    .dataframe tbody tr th {\n",
       "        vertical-align: top;\n",
       "    }\n",
       "\n",
       "    .dataframe thead th {\n",
       "        text-align: right;\n",
       "    }\n",
       "</style>\n",
       "<table border=\"1\" class=\"dataframe\">\n",
       "  <thead>\n",
       "    <tr style=\"text-align: right;\">\n",
       "      <th></th>\n",
       "      <th>Id</th>\n",
       "      <th>PostTypeId</th>\n",
       "      <th>AcceptedAnswerId</th>\n",
       "      <th>ParentId</th>\n",
       "      <th>CreationDate</th>\n",
       "      <th>Score</th>\n",
       "      <th>ViewCount</th>\n",
       "      <th>Body</th>\n",
       "      <th>OwnerUserId</th>\n",
       "      <th>OwnerDisplayName</th>\n",
       "      <th>...</th>\n",
       "      <th>LastEditorDisplayName</th>\n",
       "      <th>LastEditDate</th>\n",
       "      <th>LastActivityDate</th>\n",
       "      <th>Title</th>\n",
       "      <th>Tags</th>\n",
       "      <th>AnswerCount</th>\n",
       "      <th>CommentCount</th>\n",
       "      <th>FavoriteCount</th>\n",
       "      <th>ClosedDate</th>\n",
       "      <th>CommunityOwnedDate</th>\n",
       "    </tr>\n",
       "  </thead>\n",
       "  <tbody>\n",
       "  </tbody>\n",
       "</table>\n",
       "<p>0 rows × 21 columns</p>\n",
       "</div>"
      ],
      "text/plain": [
       "Empty DataFrame\n",
       "Columns: [Id, PostTypeId, AcceptedAnswerId, ParentId, CreationDate, Score, ViewCount, Body, OwnerUserId, OwnerDisplayName, LastEditorUserId, LastEditorDisplayName, LastEditDate, LastActivityDate, Title, Tags, AnswerCount, CommentCount, FavoriteCount, ClosedDate, CommunityOwnedDate]\n",
       "Index: []\n",
       "\n",
       "[0 rows x 21 columns]"
      ]
     },
     "execution_count": 77,
     "metadata": {},
     "output_type": "execute_result"
    }
   ],
   "source": [
    "posts[posts.duplicated()]"
   ]
  },
  {
   "cell_type": "code",
   "execution_count": 78,
   "metadata": {},
   "outputs": [
    {
     "data": {
      "text/html": [
       "<div>\n",
       "<style scoped>\n",
       "    .dataframe tbody tr th:only-of-type {\n",
       "        vertical-align: middle;\n",
       "    }\n",
       "\n",
       "    .dataframe tbody tr th {\n",
       "        vertical-align: top;\n",
       "    }\n",
       "\n",
       "    .dataframe thead th {\n",
       "        text-align: right;\n",
       "    }\n",
       "</style>\n",
       "<table border=\"1\" class=\"dataframe\">\n",
       "  <thead>\n",
       "    <tr style=\"text-align: right;\">\n",
       "      <th></th>\n",
       "      <th>Id</th>\n",
       "      <th>Reputation</th>\n",
       "      <th>CreationDate</th>\n",
       "      <th>DisplayName</th>\n",
       "      <th>LastAccessDate</th>\n",
       "      <th>WebsiteUrl</th>\n",
       "      <th>Location</th>\n",
       "      <th>AboutMe</th>\n",
       "      <th>Views</th>\n",
       "      <th>UpVotes</th>\n",
       "      <th>DownVotes</th>\n",
       "      <th>ProfileImageUrl</th>\n",
       "      <th>AccountId</th>\n",
       "    </tr>\n",
       "  </thead>\n",
       "  <tbody>\n",
       "  </tbody>\n",
       "</table>\n",
       "</div>"
      ],
      "text/plain": [
       "Empty DataFrame\n",
       "Columns: [Id, Reputation, CreationDate, DisplayName, LastAccessDate, WebsiteUrl, Location, AboutMe, Views, UpVotes, DownVotes, ProfileImageUrl, AccountId]\n",
       "Index: []"
      ]
     },
     "execution_count": 78,
     "metadata": {},
     "output_type": "execute_result"
    }
   ],
   "source": [
    "users[users.duplicated()]\n"
   ]
  },
  {
   "cell_type": "markdown",
   "metadata": {},
   "source": [
    "## Review the Data\n",
    "\n",
    "Spend some time reviewing the data.  Understand what data we have, think about how that data can be used to assist in the initiative of understanding how ChatData is used in the real world.  Is the data organised in a way that would lend itself to being manged in a relational database?  How would the different tables be connected?  What are the primary and foreign keys?  Would this give you a 3NF model?\n",
    "\n",
    "Also think about security and ethics.  Is there personal data in here?  Could individuals be identified through this data?  It it ethical to use the data in this way?  You will be asked to comment on these questions later!\n",
    "\n",
    "Use the code below to help you."
   ]
  },
  {
   "cell_type": "markdown",
   "metadata": {},
   "source": [
    "Performing operations such as columns and head on the files in order to get more understanding of the data in the tables. "
   ]
  },
  {
   "cell_type": "code",
   "execution_count": 79,
   "metadata": {},
   "outputs": [
    {
     "data": {
      "text/plain": [
       "Index(['Id', 'Reputation', 'CreationDate', 'DisplayName', 'LastAccessDate',\n",
       "       'WebsiteUrl', 'Location', 'AboutMe', 'Views', 'UpVotes', 'DownVotes',\n",
       "       'ProfileImageUrl', 'AccountId'],\n",
       "      dtype='object')"
      ]
     },
     "execution_count": 79,
     "metadata": {},
     "output_type": "execute_result"
    }
   ],
   "source": [
    "users.columns"
   ]
  },
  {
   "cell_type": "code",
   "execution_count": 80,
   "metadata": {},
   "outputs": [
    {
     "data": {
      "text/html": [
       "<div>\n",
       "<style scoped>\n",
       "    .dataframe tbody tr th:only-of-type {\n",
       "        vertical-align: middle;\n",
       "    }\n",
       "\n",
       "    .dataframe tbody tr th {\n",
       "        vertical-align: top;\n",
       "    }\n",
       "\n",
       "    .dataframe thead th {\n",
       "        text-align: right;\n",
       "    }\n",
       "</style>\n",
       "<table border=\"1\" class=\"dataframe\">\n",
       "  <thead>\n",
       "    <tr style=\"text-align: right;\">\n",
       "      <th></th>\n",
       "      <th>Id</th>\n",
       "      <th>Reputation</th>\n",
       "      <th>CreationDate</th>\n",
       "      <th>DisplayName</th>\n",
       "      <th>LastAccessDate</th>\n",
       "      <th>WebsiteUrl</th>\n",
       "      <th>Location</th>\n",
       "      <th>AboutMe</th>\n",
       "      <th>Views</th>\n",
       "      <th>UpVotes</th>\n",
       "      <th>DownVotes</th>\n",
       "      <th>ProfileImageUrl</th>\n",
       "      <th>AccountId</th>\n",
       "    </tr>\n",
       "  </thead>\n",
       "  <tbody>\n",
       "    <tr>\n",
       "      <th>0</th>\n",
       "      <td>157607</td>\n",
       "      <td>31</td>\n",
       "      <td>2017-04-17 14:50:42</td>\n",
       "      <td>user157607</td>\n",
       "      <td>2019-07-23 16:44:08</td>\n",
       "      <td>None</td>\n",
       "      <td>None</td>\n",
       "      <td>None</td>\n",
       "      <td>0</td>\n",
       "      <td>0</td>\n",
       "      <td>0</td>\n",
       "      <td>https://www.gravatar.com/avatar/2efb161849efa4...</td>\n",
       "      <td>10705183</td>\n",
       "    </tr>\n",
       "    <tr>\n",
       "      <th>1</th>\n",
       "      <td>157656</td>\n",
       "      <td>101</td>\n",
       "      <td>2017-04-17 20:08:20</td>\n",
       "      <td>user102859</td>\n",
       "      <td>2019-06-26 13:42:13</td>\n",
       "      <td>None</td>\n",
       "      <td>None</td>\n",
       "      <td>None</td>\n",
       "      <td>3</td>\n",
       "      <td>0</td>\n",
       "      <td>0</td>\n",
       "      <td>https://i.stack.imgur.com/eY4ka.jpg?s=128&amp;g=1</td>\n",
       "      <td>10567606</td>\n",
       "    </tr>\n",
       "    <tr>\n",
       "      <th>2</th>\n",
       "      <td>157704</td>\n",
       "      <td>133</td>\n",
       "      <td>2017-04-18 05:10:47</td>\n",
       "      <td>jupiar</td>\n",
       "      <td>2019-11-25 13:32:27</td>\n",
       "      <td>None</td>\n",
       "      <td>Shanghai, China</td>\n",
       "      <td>&lt;p&gt;Originally from the U.K, I have an Undergra...</td>\n",
       "      <td>1</td>\n",
       "      <td>1</td>\n",
       "      <td>0</td>\n",
       "      <td>https://www.gravatar.com/avatar/720e20205122c5...</td>\n",
       "      <td>9501631</td>\n",
       "    </tr>\n",
       "    <tr>\n",
       "      <th>3</th>\n",
       "      <td>157709</td>\n",
       "      <td>155</td>\n",
       "      <td>2017-04-18 06:39:18</td>\n",
       "      <td>farmer</td>\n",
       "      <td>2019-02-17 19:44:24</td>\n",
       "      <td>None</td>\n",
       "      <td>None</td>\n",
       "      <td>None</td>\n",
       "      <td>16</td>\n",
       "      <td>0</td>\n",
       "      <td>0</td>\n",
       "      <td>https://www.gravatar.com/avatar/0f8c4bde3d8f25...</td>\n",
       "      <td>10709837</td>\n",
       "    </tr>\n",
       "    <tr>\n",
       "      <th>4</th>\n",
       "      <td>157755</td>\n",
       "      <td>101</td>\n",
       "      <td>2017-04-18 12:56:17</td>\n",
       "      <td>Miki P</td>\n",
       "      <td>2019-08-12 17:02:21</td>\n",
       "      <td>None</td>\n",
       "      <td>None</td>\n",
       "      <td>None</td>\n",
       "      <td>1</td>\n",
       "      <td>9</td>\n",
       "      <td>0</td>\n",
       "      <td>https://www.gravatar.com/avatar/af088558cd81c5...</td>\n",
       "      <td>7969290</td>\n",
       "    </tr>\n",
       "  </tbody>\n",
       "</table>\n",
       "</div>"
      ],
      "text/plain": [
       "       Id  Reputation         CreationDate DisplayName       LastAccessDate  \\\n",
       "0  157607          31  2017-04-17 14:50:42  user157607  2019-07-23 16:44:08   \n",
       "1  157656         101  2017-04-17 20:08:20  user102859  2019-06-26 13:42:13   \n",
       "2  157704         133  2017-04-18 05:10:47      jupiar  2019-11-25 13:32:27   \n",
       "3  157709         155  2017-04-18 06:39:18      farmer  2019-02-17 19:44:24   \n",
       "4  157755         101  2017-04-18 12:56:17      Miki P  2019-08-12 17:02:21   \n",
       "\n",
       "  WebsiteUrl         Location  \\\n",
       "0       None             None   \n",
       "1       None             None   \n",
       "2       None  Shanghai, China   \n",
       "3       None             None   \n",
       "4       None             None   \n",
       "\n",
       "                                             AboutMe  Views  UpVotes  \\\n",
       "0                                               None      0        0   \n",
       "1                                               None      3        0   \n",
       "2  <p>Originally from the U.K, I have an Undergra...      1        1   \n",
       "3                                               None     16        0   \n",
       "4                                               None      1        9   \n",
       "\n",
       "   DownVotes                                    ProfileImageUrl  AccountId  \n",
       "0          0  https://www.gravatar.com/avatar/2efb161849efa4...   10705183  \n",
       "1          0      https://i.stack.imgur.com/eY4ka.jpg?s=128&g=1   10567606  \n",
       "2          0  https://www.gravatar.com/avatar/720e20205122c5...    9501631  \n",
       "3          0  https://www.gravatar.com/avatar/0f8c4bde3d8f25...   10709837  \n",
       "4          0  https://www.gravatar.com/avatar/af088558cd81c5...    7969290  "
      ]
     },
     "execution_count": 80,
     "metadata": {},
     "output_type": "execute_result"
    }
   ],
   "source": [
    "users.head()"
   ]
  },
  {
   "cell_type": "code",
   "execution_count": 81,
   "metadata": {},
   "outputs": [
    {
     "data": {
      "text/plain": [
       "Index(['Id', 'PostId', 'Score', 'Text', 'CreationDate', 'UserId'], dtype='object')"
      ]
     },
     "execution_count": 81,
     "metadata": {},
     "output_type": "execute_result"
    }
   ],
   "source": [
    "comments.columns"
   ]
  },
  {
   "cell_type": "code",
   "execution_count": 82,
   "metadata": {},
   "outputs": [
    {
     "data": {
      "text/html": [
       "<div>\n",
       "<style scoped>\n",
       "    .dataframe tbody tr th:only-of-type {\n",
       "        vertical-align: middle;\n",
       "    }\n",
       "\n",
       "    .dataframe tbody tr th {\n",
       "        vertical-align: top;\n",
       "    }\n",
       "\n",
       "    .dataframe thead th {\n",
       "        text-align: right;\n",
       "    }\n",
       "</style>\n",
       "<table border=\"1\" class=\"dataframe\">\n",
       "  <thead>\n",
       "    <tr style=\"text-align: right;\">\n",
       "      <th></th>\n",
       "      <th>Id</th>\n",
       "      <th>PostId</th>\n",
       "      <th>Score</th>\n",
       "      <th>Text</th>\n",
       "      <th>CreationDate</th>\n",
       "      <th>UserId</th>\n",
       "    </tr>\n",
       "  </thead>\n",
       "  <tbody>\n",
       "    <tr>\n",
       "      <th>0</th>\n",
       "      <td>723182</td>\n",
       "      <td>385124</td>\n",
       "      <td>0</td>\n",
       "      <td>@BenBolker I don't understand. The fit cannot ...</td>\n",
       "      <td>2019-01-01 00:06:39</td>\n",
       "      <td>78575</td>\n",
       "    </tr>\n",
       "    <tr>\n",
       "      <th>1</th>\n",
       "      <td>723183</td>\n",
       "      <td>385124</td>\n",
       "      <td>3</td>\n",
       "      <td>You can't add *less* than (`-min(y)`), but you...</td>\n",
       "      <td>2019-01-01 00:09:22</td>\n",
       "      <td>2126</td>\n",
       "    </tr>\n",
       "    <tr>\n",
       "      <th>2</th>\n",
       "      <td>723186</td>\n",
       "      <td>385137</td>\n",
       "      <td>0</td>\n",
       "      <td>nice. If you felt like doing the work it would...</td>\n",
       "      <td>2019-01-01 00:32:11</td>\n",
       "      <td>2126</td>\n",
       "    </tr>\n",
       "    <tr>\n",
       "      <th>3</th>\n",
       "      <td>723187</td>\n",
       "      <td>385137</td>\n",
       "      <td>0</td>\n",
       "      <td>i.e. `emdbook::curve3d(-sum(dnbinom(y,mu=mu,si...</td>\n",
       "      <td>2019-01-01 00:40:36</td>\n",
       "      <td>2126</td>\n",
       "    </tr>\n",
       "    <tr>\n",
       "      <th>4</th>\n",
       "      <td>723188</td>\n",
       "      <td>385134</td>\n",
       "      <td>0</td>\n",
       "      <td>Don't you mean \"so variance should be $\\sigma^...</td>\n",
       "      <td>2019-01-01 00:41:28</td>\n",
       "      <td>112141</td>\n",
       "    </tr>\n",
       "  </tbody>\n",
       "</table>\n",
       "</div>"
      ],
      "text/plain": [
       "       Id  PostId  Score                                               Text  \\\n",
       "0  723182  385124      0  @BenBolker I don't understand. The fit cannot ...   \n",
       "1  723183  385124      3  You can't add *less* than (`-min(y)`), but you...   \n",
       "2  723186  385137      0  nice. If you felt like doing the work it would...   \n",
       "3  723187  385137      0  i.e. `emdbook::curve3d(-sum(dnbinom(y,mu=mu,si...   \n",
       "4  723188  385134      0  Don't you mean \"so variance should be $\\sigma^...   \n",
       "\n",
       "          CreationDate  UserId  \n",
       "0  2019-01-01 00:06:39   78575  \n",
       "1  2019-01-01 00:09:22    2126  \n",
       "2  2019-01-01 00:32:11    2126  \n",
       "3  2019-01-01 00:40:36    2126  \n",
       "4  2019-01-01 00:41:28  112141  "
      ]
     },
     "execution_count": 82,
     "metadata": {},
     "output_type": "execute_result"
    }
   ],
   "source": [
    "comments.head()"
   ]
  },
  {
   "cell_type": "code",
   "execution_count": 83,
   "metadata": {},
   "outputs": [
    {
     "data": {
      "text/plain": [
       "Index(['Id', 'PostTypeId', 'AcceptedAnswerId', 'ParentId', 'CreationDate',\n",
       "       'Score', 'ViewCount', 'Body', 'OwnerUserId', 'OwnerDisplayName',\n",
       "       'LastEditorUserId', 'LastEditorDisplayName', 'LastEditDate',\n",
       "       'LastActivityDate', 'Title', 'Tags', 'AnswerCount', 'CommentCount',\n",
       "       'FavoriteCount', 'ClosedDate', 'CommunityOwnedDate'],\n",
       "      dtype='object')"
      ]
     },
     "execution_count": 83,
     "metadata": {},
     "output_type": "execute_result"
    }
   ],
   "source": [
    "posts.columns"
   ]
  },
  {
   "cell_type": "code",
   "execution_count": 84,
   "metadata": {},
   "outputs": [
    {
     "data": {
      "text/html": [
       "<div>\n",
       "<style scoped>\n",
       "    .dataframe tbody tr th:only-of-type {\n",
       "        vertical-align: middle;\n",
       "    }\n",
       "\n",
       "    .dataframe tbody tr th {\n",
       "        vertical-align: top;\n",
       "    }\n",
       "\n",
       "    .dataframe thead th {\n",
       "        text-align: right;\n",
       "    }\n",
       "</style>\n",
       "<table border=\"1\" class=\"dataframe\">\n",
       "  <thead>\n",
       "    <tr style=\"text-align: right;\">\n",
       "      <th></th>\n",
       "      <th>Id</th>\n",
       "      <th>PostTypeId</th>\n",
       "      <th>AcceptedAnswerId</th>\n",
       "      <th>ParentId</th>\n",
       "      <th>CreationDate</th>\n",
       "      <th>Score</th>\n",
       "      <th>ViewCount</th>\n",
       "      <th>Body</th>\n",
       "      <th>OwnerUserId</th>\n",
       "      <th>OwnerDisplayName</th>\n",
       "      <th>...</th>\n",
       "      <th>LastEditorDisplayName</th>\n",
       "      <th>LastEditDate</th>\n",
       "      <th>LastActivityDate</th>\n",
       "      <th>Title</th>\n",
       "      <th>Tags</th>\n",
       "      <th>AnswerCount</th>\n",
       "      <th>CommentCount</th>\n",
       "      <th>FavoriteCount</th>\n",
       "      <th>ClosedDate</th>\n",
       "      <th>CommunityOwnedDate</th>\n",
       "    </tr>\n",
       "  </thead>\n",
       "  <tbody>\n",
       "    <tr>\n",
       "      <th>0</th>\n",
       "      <td>423497</td>\n",
       "      <td>1</td>\n",
       "      <td>423511</td>\n",
       "      <td>0</td>\n",
       "      <td>2019-08-24 09:39:31</td>\n",
       "      <td>2</td>\n",
       "      <td>68</td>\n",
       "      <td>&lt;p&gt;From wikipedia &lt;a href=\"https://en.wikipedi...</td>\n",
       "      <td>64552</td>\n",
       "      <td>None</td>\n",
       "      <td>...</td>\n",
       "      <td>None</td>\n",
       "      <td>None</td>\n",
       "      <td>2019-08-24 11:38:54</td>\n",
       "      <td>When are biased estimators with lower MSE pref...</td>\n",
       "      <td>&lt;bias&gt;&lt;unbiased-estimator&gt;&lt;mse&gt;</td>\n",
       "      <td>1</td>\n",
       "      <td>0</td>\n",
       "      <td>1</td>\n",
       "      <td>2019-08-25 10:25:24</td>\n",
       "      <td>None</td>\n",
       "    </tr>\n",
       "    <tr>\n",
       "      <th>1</th>\n",
       "      <td>423498</td>\n",
       "      <td>1</td>\n",
       "      <td>0</td>\n",
       "      <td>0</td>\n",
       "      <td>2019-08-24 09:47:42</td>\n",
       "      <td>1</td>\n",
       "      <td>24</td>\n",
       "      <td>&lt;p&gt;I am currently doing local sensitivity anal...</td>\n",
       "      <td>87231</td>\n",
       "      <td>None</td>\n",
       "      <td>...</td>\n",
       "      <td>None</td>\n",
       "      <td>2019-09-06 12:52:32</td>\n",
       "      <td>2019-09-06 12:52:32</td>\n",
       "      <td>How to interpret the result from local sensiti...</td>\n",
       "      <td>&lt;sensitivity-analysis&gt;&lt;elasticity&gt;</td>\n",
       "      <td>1</td>\n",
       "      <td>0</td>\n",
       "      <td>0</td>\n",
       "      <td>None</td>\n",
       "      <td>None</td>\n",
       "    </tr>\n",
       "    <tr>\n",
       "      <th>2</th>\n",
       "      <td>423499</td>\n",
       "      <td>1</td>\n",
       "      <td>0</td>\n",
       "      <td>0</td>\n",
       "      <td>2019-08-24 09:48:26</td>\n",
       "      <td>1</td>\n",
       "      <td>56</td>\n",
       "      <td>&lt;p&gt;I'm an honours student in psychology doing ...</td>\n",
       "      <td>257207</td>\n",
       "      <td>None</td>\n",
       "      <td>...</td>\n",
       "      <td>None</td>\n",
       "      <td>None</td>\n",
       "      <td>2019-08-25 08:54:17</td>\n",
       "      <td>Power Analysis in G-Power - Mixed Model Anova</td>\n",
       "      <td>&lt;anova&gt;&lt;gpower&gt;</td>\n",
       "      <td>2</td>\n",
       "      <td>0</td>\n",
       "      <td>0</td>\n",
       "      <td>None</td>\n",
       "      <td>None</td>\n",
       "    </tr>\n",
       "    <tr>\n",
       "      <th>3</th>\n",
       "      <td>423500</td>\n",
       "      <td>2</td>\n",
       "      <td>0</td>\n",
       "      <td>215865</td>\n",
       "      <td>2019-08-24 09:57:01</td>\n",
       "      <td>0</td>\n",
       "      <td>0</td>\n",
       "      <td>&lt;p&gt;Maybe you can look this &lt;a href=\"https://me...</td>\n",
       "      <td>106606</td>\n",
       "      <td>None</td>\n",
       "      <td>...</td>\n",
       "      <td>None</td>\n",
       "      <td>None</td>\n",
       "      <td>2019-08-24 09:57:01</td>\n",
       "      <td>None</td>\n",
       "      <td>None</td>\n",
       "      <td>0</td>\n",
       "      <td>0</td>\n",
       "      <td>0</td>\n",
       "      <td>None</td>\n",
       "      <td>None</td>\n",
       "    </tr>\n",
       "    <tr>\n",
       "      <th>4</th>\n",
       "      <td>423502</td>\n",
       "      <td>2</td>\n",
       "      <td>0</td>\n",
       "      <td>423286</td>\n",
       "      <td>2019-08-24 10:44:52</td>\n",
       "      <td>3</td>\n",
       "      <td>0</td>\n",
       "      <td>&lt;blockquote&gt;\\n  &lt;p&gt;Q1) Is my approach valid?&lt;/...</td>\n",
       "      <td>220643</td>\n",
       "      <td>None</td>\n",
       "      <td>...</td>\n",
       "      <td>None</td>\n",
       "      <td>2019-08-24 12:13:46</td>\n",
       "      <td>2019-08-24 12:13:46</td>\n",
       "      <td>None</td>\n",
       "      <td>None</td>\n",
       "      <td>0</td>\n",
       "      <td>1</td>\n",
       "      <td>0</td>\n",
       "      <td>None</td>\n",
       "      <td>None</td>\n",
       "    </tr>\n",
       "  </tbody>\n",
       "</table>\n",
       "<p>5 rows × 21 columns</p>\n",
       "</div>"
      ],
      "text/plain": [
       "       Id  PostTypeId  AcceptedAnswerId  ParentId         CreationDate  Score  \\\n",
       "0  423497           1            423511         0  2019-08-24 09:39:31      2   \n",
       "1  423498           1                 0         0  2019-08-24 09:47:42      1   \n",
       "2  423499           1                 0         0  2019-08-24 09:48:26      1   \n",
       "3  423500           2                 0    215865  2019-08-24 09:57:01      0   \n",
       "4  423502           2                 0    423286  2019-08-24 10:44:52      3   \n",
       "\n",
       "   ViewCount                                               Body  OwnerUserId  \\\n",
       "0         68  <p>From wikipedia <a href=\"https://en.wikipedi...        64552   \n",
       "1         24  <p>I am currently doing local sensitivity anal...        87231   \n",
       "2         56  <p>I'm an honours student in psychology doing ...       257207   \n",
       "3          0  <p>Maybe you can look this <a href=\"https://me...       106606   \n",
       "4          0  <blockquote>\\n  <p>Q1) Is my approach valid?</...       220643   \n",
       "\n",
       "  OwnerDisplayName  ...  LastEditorDisplayName         LastEditDate  \\\n",
       "0             None  ...                   None                 None   \n",
       "1             None  ...                   None  2019-09-06 12:52:32   \n",
       "2             None  ...                   None                 None   \n",
       "3             None  ...                   None                 None   \n",
       "4             None  ...                   None  2019-08-24 12:13:46   \n",
       "\n",
       "      LastActivityDate                                              Title  \\\n",
       "0  2019-08-24 11:38:54  When are biased estimators with lower MSE pref...   \n",
       "1  2019-09-06 12:52:32  How to interpret the result from local sensiti...   \n",
       "2  2019-08-25 08:54:17      Power Analysis in G-Power - Mixed Model Anova   \n",
       "3  2019-08-24 09:57:01                                               None   \n",
       "4  2019-08-24 12:13:46                                               None   \n",
       "\n",
       "                                 Tags AnswerCount  CommentCount  \\\n",
       "0     <bias><unbiased-estimator><mse>           1             0   \n",
       "1  <sensitivity-analysis><elasticity>           1             0   \n",
       "2                     <anova><gpower>           2             0   \n",
       "3                                None           0             0   \n",
       "4                                None           0             1   \n",
       "\n",
       "   FavoriteCount           ClosedDate CommunityOwnedDate  \n",
       "0              1  2019-08-25 10:25:24               None  \n",
       "1              0                 None               None  \n",
       "2              0                 None               None  \n",
       "3              0                 None               None  \n",
       "4              0                 None               None  \n",
       "\n",
       "[5 rows x 21 columns]"
      ]
     },
     "execution_count": 84,
     "metadata": {},
     "output_type": "execute_result"
    }
   ],
   "source": [
    "posts.head()"
   ]
  },
  {
   "cell_type": "markdown",
   "metadata": {},
   "source": [
    "# Working with Sqlite and SQL Magic\n",
    "\n",
    "In this section let's spend a little time understanding a bit more about how we can work with Sqlite within Jupyter.\n",
    "Let's look at 2 ways to query the sqlite database: using SQL Magic or using Pandas.  Either way is fine for this project."
   ]
  },
  {
   "cell_type": "markdown",
   "metadata": {},
   "source": [
    "## Writing queries with SQL Magic\n",
    "\n",
    "\n",
    "It is now necessary to compose some queries to respond to the questions in the requirements. For single-line queries, start the code cell with %sql and input the query directly.\n"
   ]
  },
  {
   "cell_type": "code",
   "execution_count": 85,
   "metadata": {},
   "outputs": [
    {
     "name": "stdout",
     "output_type": "stream",
     "text": [
      " * sqlite:///chatdata.db\n",
      "Done.\n"
     ]
    },
    {
     "data": {
      "text/html": [
       "<table>\n",
       "    <tr>\n",
       "        <th>COUNT(*)</th>\n",
       "    </tr>\n",
       "    <tr>\n",
       "        <td>50000</td>\n",
       "    </tr>\n",
       "</table>"
      ],
      "text/plain": [
       "[(50000,)]"
      ]
     },
     "execution_count": 85,
     "metadata": {},
     "output_type": "execute_result"
    }
   ],
   "source": [
    "# This is an example\n",
    "%sql SELECT COUNT(*) FROM comments;"
   ]
  },
  {
   "cell_type": "markdown",
   "metadata": {},
   "source": [
    "For multi line sql statements use `%%sql` as follows. This tells Jupyter that *everything* in this cell should be interpreted as sql. So, NO comments other statements are allowed:\n",
    "\n",
    "The query below retrieves the values of 4 columns (Id, PostId, Score, Text) from a table called \"comments\" and returns the first 5 rows of the result set, as specified by the \"LIMIT 5\" clause.\n"
   ]
  },
  {
   "cell_type": "code",
   "execution_count": 86,
   "metadata": {},
   "outputs": [
    {
     "name": "stdout",
     "output_type": "stream",
     "text": [
      " * sqlite:///chatdata.db\n",
      "Done.\n"
     ]
    },
    {
     "data": {
      "text/html": [
       "<table>\n",
       "    <tr>\n",
       "        <th>Id</th>\n",
       "        <th>PostId</th>\n",
       "        <th>Score</th>\n",
       "        <th>Text</th>\n",
       "    </tr>\n",
       "    <tr>\n",
       "        <td>723182</td>\n",
       "        <td>385124</td>\n",
       "        <td>0</td>\n",
       "        <td>@BenBolker I don&#x27;t understand. The fit cannot be done for the negative $y$. So intuitively I&#x27;d think that in order to retain the relativity of the data, one&#x27;d ideally &quot;mirror&quot; or &quot;flip&quot; it to the positive axis? Would it be possible to adjust every point individually? Basically e.g. take $abs(y_i)$ instead of minimums.</td>\n",
       "    </tr>\n",
       "    <tr>\n",
       "        <td>723183</td>\n",
       "        <td>385124</td>\n",
       "        <td>3</td>\n",
       "        <td>You can&#x27;t add *less* than (`-min(y)`), but you could add *more*. I&#x27;m going to stop answering now sorry, because **judging what the &#x27;best&#x27; approach is depends on much more context that we don&#x27;t have** (the goal of the analysis, why you need to fit an exponential, your level of computational and statistical sophistication and that of your audience, etc. ...)</td>\n",
       "    </tr>\n",
       "    <tr>\n",
       "        <td>723186</td>\n",
       "        <td>385137</td>\n",
       "        <td>0</td>\n",
       "        <td>nice. If you felt like doing the work it would be nice to generate an image/contour plot of log-likelihood as a function of (mu, theta) and show the lines corresponding to the two `size` values .</td>\n",
       "    </tr>\n",
       "    <tr>\n",
       "        <td>723187</td>\n",
       "        <td>385137</td>\n",
       "        <td>0</td>\n",
       "        <td>i.e. `emdbook::curve3d(-sum(dnbinom(y,mu=mu,size=size,log=TRUE)),<br>                 xlim=c(2,5),ylim=c(0.2,0.5),<br>                 varnames=c(&quot;mu&quot;,&quot;size&quot;),<br>                 sys3d=&quot;contour&quot;)<br>abline(h=3.2/7,col=&quot;red&quot;)<br>abline(h=fit.what$theta,col=&quot;blue&quot;)<br>` ... although doesn&#x27;t look this is actually the answer - mu-hat is independent of theta-hat ... ?</td>\n",
       "    </tr>\n",
       "    <tr>\n",
       "        <td>723188</td>\n",
       "        <td>385134</td>\n",
       "        <td>0</td>\n",
       "        <td>Don&#x27;t you mean &quot;so variance should be $\\sigma^2/(n\\mu^2)$&quot;</td>\n",
       "    </tr>\n",
       "</table>"
      ],
      "text/plain": [
       "[(723182, 385124, 0, '@BenBolker I don\\'t understand. The fit cannot be done for the negative $y$. So intuitively I\\'d think that in order to retain the relativity of the  ... (24 characters truncated) ... rror\" or \"flip\" it to the positive axis? Would it be possible to adjust every point individually? Basically e.g. take $abs(y_i)$ instead of minimums.'),\n",
       " (723183, 385124, 3, \"You can't add *less* than (`-min(y)`), but you could add *more*. I'm going to stop answering now sorry, because **judging what the 'best' approach is ... (60 characters truncated) ...  of the analysis, why you need to fit an exponential, your level of computational and statistical sophistication and that of your audience, etc. ...)\"),\n",
       " (723186, 385137, 0, 'nice. If you felt like doing the work it would be nice to generate an image/contour plot of log-likelihood as a function of (mu, theta) and show the lines corresponding to the two `size` values .'),\n",
       " (723187, 385137, 0, 'i.e. `emdbook::curve3d(-sum(dnbinom(y,mu=mu,size=size,log=TRUE)),\\n                 xlim=c(2,5),ylim=c(0.2,0.5),\\n                 varnames=c(\"mu\",\"s ... (57 characters truncated) ... ,col=\"red\")\\nabline(h=fit.what$theta,col=\"blue\")\\n` ... although doesn\\'t look this is actually the answer - mu-hat is independent of theta-hat ... ?'),\n",
       " (723188, 385134, 0, 'Don\\'t you mean \"so variance should be $\\\\sigma^2/(n\\\\mu^2)$\"')]"
      ]
     },
     "execution_count": 86,
     "metadata": {},
     "output_type": "execute_result"
    }
   ],
   "source": [
    "%%sql\n",
    "SELECT Id, PostId, Score, Text\n",
    "    FROM comments\n",
    "        LIMIT 5"
   ]
  },
  {
   "cell_type": "markdown",
   "metadata": {},
   "source": [
    "## Writing queries with Pandas\n",
    "\n",
    "Another way to write queries is to use pandas the example below shows the same code as above, but in pyhon pandas."
   ]
  },
  {
   "cell_type": "code",
   "execution_count": 87,
   "metadata": {
    "scrolled": false
   },
   "outputs": [
    {
     "data": {
      "text/html": [
       "<div>\n",
       "<style scoped>\n",
       "    .dataframe tbody tr th:only-of-type {\n",
       "        vertical-align: middle;\n",
       "    }\n",
       "\n",
       "    .dataframe tbody tr th {\n",
       "        vertical-align: top;\n",
       "    }\n",
       "\n",
       "    .dataframe thead th {\n",
       "        text-align: right;\n",
       "    }\n",
       "</style>\n",
       "<table border=\"1\" class=\"dataframe\">\n",
       "  <thead>\n",
       "    <tr style=\"text-align: right;\">\n",
       "      <th></th>\n",
       "      <th>Id</th>\n",
       "      <th>PostId</th>\n",
       "      <th>Score</th>\n",
       "      <th>Text</th>\n",
       "    </tr>\n",
       "  </thead>\n",
       "  <tbody>\n",
       "    <tr>\n",
       "      <th>0</th>\n",
       "      <td>723182</td>\n",
       "      <td>385124</td>\n",
       "      <td>0</td>\n",
       "      <td>@BenBolker I don't understand. The fit cannot ...</td>\n",
       "    </tr>\n",
       "    <tr>\n",
       "      <th>1</th>\n",
       "      <td>723183</td>\n",
       "      <td>385124</td>\n",
       "      <td>3</td>\n",
       "      <td>You can't add *less* than (`-min(y)`), but you...</td>\n",
       "    </tr>\n",
       "    <tr>\n",
       "      <th>2</th>\n",
       "      <td>723186</td>\n",
       "      <td>385137</td>\n",
       "      <td>0</td>\n",
       "      <td>nice. If you felt like doing the work it would...</td>\n",
       "    </tr>\n",
       "    <tr>\n",
       "      <th>3</th>\n",
       "      <td>723187</td>\n",
       "      <td>385137</td>\n",
       "      <td>0</td>\n",
       "      <td>i.e. `emdbook::curve3d(-sum(dnbinom(y,mu=mu,si...</td>\n",
       "    </tr>\n",
       "    <tr>\n",
       "      <th>4</th>\n",
       "      <td>723188</td>\n",
       "      <td>385134</td>\n",
       "      <td>0</td>\n",
       "      <td>Don't you mean \"so variance should be $\\sigma^...</td>\n",
       "    </tr>\n",
       "  </tbody>\n",
       "</table>\n",
       "</div>"
      ],
      "text/plain": [
       "       Id  PostId  Score                                               Text\n",
       "0  723182  385124      0  @BenBolker I don't understand. The fit cannot ...\n",
       "1  723183  385124      3  You can't add *less* than (`-min(y)`), but you...\n",
       "2  723186  385137      0  nice. If you felt like doing the work it would...\n",
       "3  723187  385137      0  i.e. `emdbook::curve3d(-sum(dnbinom(y,mu=mu,si...\n",
       "4  723188  385134      0  Don't you mean \"so variance should be $\\sigma^..."
      ]
     },
     "execution_count": 87,
     "metadata": {},
     "output_type": "execute_result"
    }
   ],
   "source": [
    "sql = \"\"\"\n",
    "SELECT Id, PostId, Score, Text\n",
    "    FROM comments\n",
    "        LIMIT 5\n",
    "        \"\"\"\n",
    "result = pd.read_sql(sql, con)\n",
    "result"
   ]
  },
  {
   "cell_type": "markdown",
   "metadata": {},
   "source": [
    "# Creating Tables with Referential Integrity"
   ]
  },
  {
   "cell_type": "markdown",
   "metadata": {},
   "source": [
    "When the CSV files were loaded into Sqlite database tables, Sqlite automatically created the tables in the background. To inspect these tables, one can query the sqlite_master table, which Sqlite uses to keep track of all the objects that have been created in the database."
   ]
  },
  {
   "cell_type": "code",
   "execution_count": 88,
   "metadata": {},
   "outputs": [
    {
     "name": "stdout",
     "output_type": "stream",
     "text": [
      " * sqlite:///chatdata.db\n",
      "Done.\n"
     ]
    },
    {
     "data": {
      "text/html": [
       "<table>\n",
       "    <tr>\n",
       "        <th>sql</th>\n",
       "    </tr>\n",
       "    <tr>\n",
       "        <td>CREATE TABLE &quot;sqlite:///chatdata.db&quot; (<br>&quot;Id&quot; INTEGER,<br>  &quot;PostId&quot; INTEGER,<br>  &quot;Score&quot; INTEGER,<br>  &quot;Text&quot; TEXT,<br>  &quot;CreationDate&quot; TEXT,<br>  &quot;UserId&quot; INTEGER<br>)</td>\n",
       "    </tr>\n",
       "    <tr>\n",
       "        <td>CREATE TABLE &quot;comments&quot; (<br>&quot;Id&quot; INTEGER,<br>  &quot;PostId&quot; INTEGER,<br>  &quot;Score&quot; INTEGER,<br>  &quot;Text&quot; TEXT,<br>  &quot;CreationDate&quot; TEXT,<br>  &quot;UserId&quot; INTEGER<br>)</td>\n",
       "    </tr>\n",
       "    <tr>\n",
       "        <td>CREATE TABLE &quot;posts&quot; (<br>&quot;Id&quot; INTEGER,<br>  &quot;PostTypeId&quot; INTEGER,<br>  &quot;AcceptedAnswerId&quot; INTEGER,<br>  &quot;ParentId&quot; INTEGER,<br>  &quot;CreationDate&quot; TEXT,<br>  &quot;Score&quot; INTEGER,<br>  &quot;ViewCount&quot; INTEGER,<br>  &quot;Body&quot; TEXT,<br>  &quot;OwnerUserId&quot; INTEGER,<br>  &quot;OwnerDisplayName&quot; TEXT,<br>  &quot;LastEditorUserId&quot; INTEGER,<br>  &quot;LastEditorDisplayName&quot; TEXT,<br>  &quot;LastEditDate&quot; TEXT,<br>  &quot;LastActivityDate&quot; TEXT,<br>  &quot;Title&quot; TEXT,<br>  &quot;Tags&quot; TEXT,<br>  &quot;AnswerCount&quot; INTEGER,<br>  &quot;CommentCount&quot; INTEGER,<br>  &quot;FavoriteCount&quot; INTEGER,<br>  &quot;ClosedDate&quot; TEXT,<br>  &quot;CommunityOwnedDate&quot; TEXT<br>)</td>\n",
       "    </tr>\n",
       "    <tr>\n",
       "        <td>CREATE TABLE &quot;users&quot; (<br>&quot;Id&quot; INTEGER,<br>  &quot;Reputation&quot; INTEGER,<br>  &quot;CreationDate&quot; TEXT,<br>  &quot;DisplayName&quot; TEXT,<br>  &quot;LastAccessDate&quot; TEXT,<br>  &quot;WebsiteUrl&quot; TEXT,<br>  &quot;Location&quot; TEXT,<br>  &quot;AboutMe&quot; TEXT,<br>  &quot;Views&quot; INTEGER,<br>  &quot;UpVotes&quot; INTEGER,<br>  &quot;DownVotes&quot; INTEGER,<br>  &quot;ProfileImageUrl&quot; TEXT,<br>  &quot;AccountId&quot; INTEGER<br>)</td>\n",
       "    </tr>\n",
       "</table>"
      ],
      "text/plain": [
       "[('CREATE TABLE \"sqlite:///chatdata.db\" (\\n\"Id\" INTEGER,\\n  \"PostId\" INTEGER,\\n  \"Score\" INTEGER,\\n  \"Text\" TEXT,\\n  \"CreationDate\" TEXT,\\n  \"UserId\" INTEGER\\n)',),\n",
       " ('CREATE TABLE \"comments\" (\\n\"Id\" INTEGER,\\n  \"PostId\" INTEGER,\\n  \"Score\" INTEGER,\\n  \"Text\" TEXT,\\n  \"CreationDate\" TEXT,\\n  \"UserId\" INTEGER\\n)',),\n",
       " ('CREATE TABLE \"posts\" (\\n\"Id\" INTEGER,\\n  \"PostTypeId\" INTEGER,\\n  \"AcceptedAnswerId\" INTEGER,\\n  \"ParentId\" INTEGER,\\n  \"CreationDate\" TEXT,\\n  \"Scor ... (240 characters truncated) ...   \"Tags\" TEXT,\\n  \"AnswerCount\" INTEGER,\\n  \"CommentCount\" INTEGER,\\n  \"FavoriteCount\" INTEGER,\\n  \"ClosedDate\" TEXT,\\n  \"CommunityOwnedDate\" TEXT\\n)',),\n",
       " ('CREATE TABLE \"users\" (\\n\"Id\" INTEGER,\\n  \"Reputation\" INTEGER,\\n  \"CreationDate\" TEXT,\\n  \"DisplayName\" TEXT,\\n  \"LastAccessDate\" TEXT,\\n  \"WebsiteUr ... (17 characters truncated) ... tion\" TEXT,\\n  \"AboutMe\" TEXT,\\n  \"Views\" INTEGER,\\n  \"UpVotes\" INTEGER,\\n  \"DownVotes\" INTEGER,\\n  \"ProfileImageUrl\" TEXT,\\n  \"AccountId\" INTEGER\\n)',)]"
      ]
     },
     "execution_count": 88,
     "metadata": {},
     "output_type": "execute_result"
    }
   ],
   "source": [
    "%%sql\n",
    "select sql from sqlite_master"
   ]
  },
  {
   "cell_type": "markdown",
   "metadata": {},
   "source": [
    "The above results show the `CREATE TABLE` statements that could be used by Sqlite to recreate the tables with the exact same structure.\n",
    "\n",
    "The problem with the CREATE TABLE statements above is that they don't enforce **referential integrity**.  In other words, they don't ensure that every UserId and PostId in the comments table refers to an actual UserId and PostId in the users and posts tables.  At the moment. we can insert any old number here, and even have multiple users with the same Id!  One of the advantages of working with relational databases is that they can enforce the correct uniqueness and relationships in the data, but at the moment we are not using that feature.  So let's fix that...\n",
    "\n",
    "The code below drops the original tables:\n"
   ]
  },
  {
   "cell_type": "code",
   "execution_count": 89,
   "metadata": {},
   "outputs": [
    {
     "name": "stdout",
     "output_type": "stream",
     "text": [
      " * sqlite:///chatdata.db\n",
      "Done.\n",
      "Done.\n",
      "Done.\n"
     ]
    },
    {
     "data": {
      "text/plain": [
       "[]"
      ]
     },
     "execution_count": 89,
     "metadata": {},
     "output_type": "execute_result"
    }
   ],
   "source": [
    "%%sql\n",
    "DROP TABLE comments;\n",
    "DROP TABLE users;\n",
    "DROP TABLE posts;"
   ]
  },
  {
   "cell_type": "markdown",
   "metadata": {},
   "source": [
    "Proving that this worked by selecting the names of the tables back.  There should be no tables:"
   ]
  },
  {
   "cell_type": "code",
   "execution_count": 90,
   "metadata": {},
   "outputs": [
    {
     "name": "stdout",
     "output_type": "stream",
     "text": [
      " * sqlite:///chatdata.db\n",
      "Done.\n"
     ]
    },
    {
     "data": {
      "text/html": [
       "<table>\n",
       "    <tr>\n",
       "        <th>name</th>\n",
       "    </tr>\n",
       "    <tr>\n",
       "        <td>sqlite:///chatdata.db</td>\n",
       "    </tr>\n",
       "</table>"
      ],
      "text/plain": [
       "[('sqlite:///chatdata.db',)]"
      ]
     },
     "execution_count": 90,
     "metadata": {},
     "output_type": "execute_result"
    }
   ],
   "source": [
    "%%sql\n",
    "SELECT name FROM sqlite_master WHERE type='table'\n",
    "    ORDER BY name"
   ]
  },
  {
   "cell_type": "markdown",
   "metadata": {},
   "source": [
    "The enforcement of foreign key constraints needs to be enabled in SQLite:"
   ]
  },
  {
   "cell_type": "code",
   "execution_count": 91,
   "metadata": {},
   "outputs": [
    {
     "name": "stdout",
     "output_type": "stream",
     "text": [
      " * sqlite:///chatdata.db\n",
      "Done.\n"
     ]
    },
    {
     "data": {
      "text/plain": [
       "[]"
      ]
     },
     "execution_count": 91,
     "metadata": {},
     "output_type": "execute_result"
    }
   ],
   "source": [
    "%%sql\n",
    "PRAGMA foreign_keys=ON;"
   ]
  },
  {
   "cell_type": "markdown",
   "metadata": {},
   "source": [
    "Now recreating the users table with a **primary key constraint** by copying the CREATE TABLE statement from above and adding the NOT NULL PRIMARY KEY clause to the Id:"
   ]
  },
  {
   "cell_type": "code",
   "execution_count": 92,
   "metadata": {},
   "outputs": [
    {
     "name": "stdout",
     "output_type": "stream",
     "text": [
      " * sqlite:///chatdata.db\n",
      "Done.\n"
     ]
    },
    {
     "data": {
      "text/plain": [
       "[]"
      ]
     },
     "execution_count": 92,
     "metadata": {},
     "output_type": "execute_result"
    }
   ],
   "source": [
    "%%sql\n",
    "CREATE TABLE \"users\" (\n",
    "\"Id\" INTEGER NOT NULL PRIMARY KEY,\n",
    "\"Reputation\" INTEGER,\n",
    "\"CreationDate\" TEXT,\n",
    "\"DisplayName\" TEXT,\n",
    "\"LastAccessDate\" TEXT,\n",
    "\"WebsiteUrl\" TEXT,\n",
    "\"Location\" TEXT,\n",
    "\"AboutMe\" TEXT,\n",
    "\"Views\" INTEGER,\n",
    "\"UpVotes\" INTEGER,\n",
    "\"DownVotes\" INTEGER,\n",
    "\"ProfileImageUrl\" TEXT,\n",
    "\"AccountId\" INTEGER\n",
    ");\n"
   ]
  },
  {
   "cell_type": "markdown",
   "metadata": {},
   "source": [
    "Now doing the same for the posts table:"
   ]
  },
  {
   "cell_type": "code",
   "execution_count": 93,
   "metadata": {},
   "outputs": [
    {
     "name": "stdout",
     "output_type": "stream",
     "text": [
      " * sqlite:///chatdata.db\n",
      "Done.\n"
     ]
    },
    {
     "data": {
      "text/plain": [
       "[]"
      ]
     },
     "execution_count": 93,
     "metadata": {},
     "output_type": "execute_result"
    }
   ],
   "source": [
    "%%sql\n",
    "CREATE TABLE \"posts\" (\n",
    "\"Id\" INTEGER NOT NULL PRIMARY KEY, \n",
    "\"PostTypeId\" INTEGER,\n",
    "\"AcceptedAnswerId\" INTEGER,\n",
    "\"ParentId\" INTEGER,\n",
    "\"CreationDate\" TEXT,\n",
    "\"Score\" INTEGER,\n",
    "\"ViewCount\" INTEGER,\n",
    "\"Body\" TEXT,\n",
    "\"OwnerUserId\" INTEGER,\n",
    "\"OwnerDisplayName\" TEXT,\n",
    "\"LastEditorUserId\" INTEGER, \n",
    "\"LastEditorDisplayName\" TEXT,\n",
    "\"LastEditDate\" TEXT,\n",
    "\"LastActivityDate\" TEXT,\n",
    "\"Title\" TEXT,\n",
    "\"Tags\" TEXT,\n",
    "\"AnswerCount\" INTEGER,\n",
    "\"CommentCount\" INTEGER,\n",
    "\"FavoriteCount\" INTEGER,\n",
    "\"ClosedDate\" TEXT,\n",
    "\"CommunityOwnedDate\" TEXT,\n",
    "FOREIGN KEY(OwnerUserId) REFERENCES users(Id) );"
   ]
  },
  {
   "cell_type": "markdown",
   "metadata": {},
   "source": [
    "Now for the comments table. The primary key constraint needs to be added on the id here as it's been done for users and posts, but the FOREIGN KEY constraints needs to be added on the UserId and PostId. Read the documentation here and find our how to do that: https://www.sqlite.org/foreignkeys.html.  Then create the comments table with the correct constraints:"
   ]
  },
  {
   "cell_type": "code",
   "execution_count": 94,
   "metadata": {},
   "outputs": [
    {
     "name": "stdout",
     "output_type": "stream",
     "text": [
      " * sqlite:///chatdata.db\n",
      "Done.\n"
     ]
    },
    {
     "data": {
      "text/plain": [
       "[]"
      ]
     },
     "execution_count": 94,
     "metadata": {},
     "output_type": "execute_result"
    }
   ],
   "source": [
    "\n",
    "%%sql\n",
    "CREATE TABLE 'comments' (\n",
    "'Id' INTEGER PRIMARY KEY,\n",
    "'PostId' INTEGER,\n",
    "'Score' INTEGER,\n",
    "'Text' TEXT,\n",
    "'CreationDate' TEXT,\n",
    "'UserId' INTEGER,\n",
    "FOREIGN KEY(PostId) REFERENCES 'posts'('Id'),\n",
    "FOREIGN KEY(UserId) REFERENCES 'users'('Id') \n",
    ")"
   ]
  },
  {
   "cell_type": "markdown",
   "metadata": {},
   "source": [
    "The data needs to be re-inserted into these constrained tables.  Firstly users:"
   ]
  },
  {
   "cell_type": "code",
   "execution_count": 95,
   "metadata": {},
   "outputs": [
    {
     "data": {
      "text/plain": [
       "18412"
      ]
     },
     "execution_count": 95,
     "metadata": {},
     "output_type": "execute_result"
    }
   ],
   "source": [
    "users.to_sql('users', con, if_exists='append', index=False)"
   ]
  },
  {
   "cell_type": "markdown",
   "metadata": {},
   "source": [
    "Now posts:"
   ]
  },
  {
   "cell_type": "code",
   "execution_count": 96,
   "metadata": {},
   "outputs": [
    {
     "data": {
      "text/plain": [
       "42234"
      ]
     },
     "execution_count": 96,
     "metadata": {},
     "output_type": "execute_result"
    }
   ],
   "source": [
    "# Inserting data into the new posts table\n",
    "posts.to_sql('posts',con,if_exists='append',index=False)"
   ]
  },
  {
   "cell_type": "markdown",
   "metadata": {},
   "source": [
    "Finally comments, which references the users and posts tables:"
   ]
  },
  {
   "cell_type": "code",
   "execution_count": 97,
   "metadata": {},
   "outputs": [
    {
     "data": {
      "text/plain": [
       "50000"
      ]
     },
     "execution_count": 97,
     "metadata": {},
     "output_type": "execute_result"
    }
   ],
   "source": [
    "# Inserting data into the new comments table\n",
    "comments.to_sql('comments',con,if_exists='append',index=False)"
   ]
  },
  {
   "cell_type": "markdown",
   "metadata": {},
   "source": [
    "Now checking that we have the 3 new table definitions in Sqlite:"
   ]
  },
  {
   "cell_type": "code",
   "execution_count": 98,
   "metadata": {},
   "outputs": [
    {
     "name": "stdout",
     "output_type": "stream",
     "text": [
      " * sqlite:///chatdata.db\n",
      "Done.\n"
     ]
    },
    {
     "data": {
      "text/html": [
       "<table>\n",
       "    <tr>\n",
       "        <th>name</th>\n",
       "    </tr>\n",
       "    <tr>\n",
       "        <td>comments</td>\n",
       "    </tr>\n",
       "    <tr>\n",
       "        <td>posts</td>\n",
       "    </tr>\n",
       "    <tr>\n",
       "        <td>sqlite:///chatdata.db</td>\n",
       "    </tr>\n",
       "    <tr>\n",
       "        <td>users</td>\n",
       "    </tr>\n",
       "</table>"
      ],
      "text/plain": [
       "[('comments',), ('posts',), ('sqlite:///chatdata.db',), ('users',)]"
      ]
     },
     "execution_count": 98,
     "metadata": {},
     "output_type": "execute_result"
    }
   ],
   "source": [
    "%%sql\n",
    "SELECT name FROM sqlite_master WHERE type='table'\n",
    "    ORDER BY name"
   ]
  },
  {
   "cell_type": "markdown",
   "metadata": {},
   "source": [
    "All the data is now in tables in Sqlite and the tables will enforce the referential integrity."
   ]
  },
  {
   "cell_type": "markdown",
   "metadata": {},
   "source": [
    "# Example Query and Pattern for Tasks 2 and 3\n",
    "\n",
    "As you work through the next tasks, you will need to:\n",
    "\n",
    "1. Prepare the Sqlite query to answer the question\n",
    "2. Test it\n",
    "3. Insert it into the `queries` table, so we have a record of it for others.\n",
    "\n",
    "This is the process that we want you to follow for this project while completing it. "
   ]
  },
  {
   "cell_type": "markdown",
   "metadata": {},
   "source": [
    "Let's see an example of this by answering the following question:\n",
    "\n",
    "**Which 5 users have viewed the most times and what is the sum of those views per user?**\n",
    "\n",
    "## Prepare the Sqlite query\n",
    "\n",
    "First, let's write the query:"
   ]
  },
  {
   "cell_type": "code",
   "execution_count": 99,
   "metadata": {},
   "outputs": [
    {
     "data": {
      "text/html": [
       "<div>\n",
       "<style scoped>\n",
       "    .dataframe tbody tr th:only-of-type {\n",
       "        vertical-align: middle;\n",
       "    }\n",
       "\n",
       "    .dataframe tbody tr th {\n",
       "        vertical-align: top;\n",
       "    }\n",
       "\n",
       "    .dataframe thead th {\n",
       "        text-align: right;\n",
       "    }\n",
       "</style>\n",
       "<table border=\"1\" class=\"dataframe\">\n",
       "  <thead>\n",
       "    <tr style=\"text-align: right;\">\n",
       "      <th></th>\n",
       "      <th>Id</th>\n",
       "      <th>TotalViews</th>\n",
       "    </tr>\n",
       "  </thead>\n",
       "  <tbody>\n",
       "    <tr>\n",
       "      <th>0</th>\n",
       "      <td>919</td>\n",
       "      <td>85180</td>\n",
       "    </tr>\n",
       "    <tr>\n",
       "      <th>1</th>\n",
       "      <td>4253</td>\n",
       "      <td>35119</td>\n",
       "    </tr>\n",
       "    <tr>\n",
       "      <th>2</th>\n",
       "      <td>805</td>\n",
       "      <td>34637</td>\n",
       "    </tr>\n",
       "    <tr>\n",
       "      <th>3</th>\n",
       "      <td>7290</td>\n",
       "      <td>32639</td>\n",
       "    </tr>\n",
       "    <tr>\n",
       "      <th>4</th>\n",
       "      <td>3277</td>\n",
       "      <td>29255</td>\n",
       "    </tr>\n",
       "  </tbody>\n",
       "</table>\n",
       "</div>"
      ],
      "text/plain": [
       "     Id  TotalViews\n",
       "0   919       85180\n",
       "1  4253       35119\n",
       "2   805       34637\n",
       "3  7290       32639\n",
       "4  3277       29255"
      ]
     },
     "execution_count": 99,
     "metadata": {},
     "output_type": "execute_result"
    }
   ],
   "source": [
    "sql = \"\"\"\n",
    "SELECT Id, SUM(Views) AS TotalViews\n",
    "    FROM Users\n",
    "        GROUP BY Id\n",
    "            ORDER BY TotalViews DESC\n",
    "                LIMIT 5\n",
    "                \"\"\"\n",
    "result = pd.read_sql(sql, con) # con is the connection to the database\n",
    "result"
   ]
  },
  {
   "cell_type": "markdown",
   "metadata": {},
   "source": [
    "## Test the query\n",
    "You can optionally prove the query worked by performing the same query in Pandas:"
   ]
  },
  {
   "cell_type": "code",
   "execution_count": 100,
   "metadata": {},
   "outputs": [
    {
     "data": {
      "text/plain": [
       "Id\n",
       "919     85180\n",
       "4253    35119\n",
       "805     34637\n",
       "7290    32639\n",
       "3277    29255\n",
       "Name: Views, dtype: int64"
      ]
     },
     "execution_count": 100,
     "metadata": {},
     "output_type": "execute_result"
    }
   ],
   "source": [
    "results = users.groupby(['Id']).sum().sort_values('Views', ascending = False)[:5]\n",
    "results['Views']"
   ]
  },
  {
   "cell_type": "markdown",
   "metadata": {},
   "source": [
    "## Insert the query into the `queries` table\n",
    "\n",
    "Now, it is necessary to insert the query into the queries table in Sqlite. The objective is to make the query accessible to everyone who should have access to it, and avoid the need for people to repeatedly write and re-write the same queries.\n",
    "To achieve this, the easiest approach is to create a dictionary containing the values and insert them into the queries table. The values are provided as lists, as a number of rows are being inserted into the table, in this case, only one row, resulting in lists containing one item.\n",
    "\n",
    "The table contains columns such as 'task', which has a list of values, and 'action', which has a list of values, etc."
   ]
  },
  {
   "cell_type": "code",
   "execution_count": 101,
   "metadata": {},
   "outputs": [
    {
     "data": {
      "text/plain": [
       "{'task': ['Single Table Queries'],\n",
       " 'action': ['Which 5 users have viewed the most times and what is the sum of those views per user?'],\n",
       " 'query': ['\\nSELECT Id, SUM(Views) AS TotalViews\\n    FROM Users\\n        GROUP BY Id\\n            ORDER BY TotalViews DESC\\n                LIMIT 5\\n                ']}"
      ]
     },
     "execution_count": 101,
     "metadata": {},
     "output_type": "execute_result"
    }
   ],
   "source": [
    "query_dict = {\n",
    "              'task': ['Single Table Queries'],\n",
    "              'action': ['Which 5 users have viewed the most times and what is the sum of those views per user?'],\n",
    "              'query': [sql]\n",
    "             }\n",
    "query_dict"
   ]
  },
  {
   "cell_type": "markdown",
   "metadata": {},
   "source": [
    "Now that we have the data structure (query_dict) containing the data, a pandas dataframe is created that holds those values:"
   ]
  },
  {
   "cell_type": "code",
   "execution_count": 102,
   "metadata": {},
   "outputs": [
    {
     "data": {
      "text/html": [
       "<div>\n",
       "<style scoped>\n",
       "    .dataframe tbody tr th:only-of-type {\n",
       "        vertical-align: middle;\n",
       "    }\n",
       "\n",
       "    .dataframe tbody tr th {\n",
       "        vertical-align: top;\n",
       "    }\n",
       "\n",
       "    .dataframe thead th {\n",
       "        text-align: right;\n",
       "    }\n",
       "</style>\n",
       "<table border=\"1\" class=\"dataframe\">\n",
       "  <thead>\n",
       "    <tr style=\"text-align: right;\">\n",
       "      <th></th>\n",
       "      <th>task</th>\n",
       "      <th>action</th>\n",
       "      <th>query</th>\n",
       "    </tr>\n",
       "  </thead>\n",
       "  <tbody>\n",
       "    <tr>\n",
       "      <th>0</th>\n",
       "      <td>Single Table Queries</td>\n",
       "      <td>Which 5 users have viewed the most times and w...</td>\n",
       "      <td>\\nSELECT Id, SUM(Views) AS TotalViews\\n    FRO...</td>\n",
       "    </tr>\n",
       "  </tbody>\n",
       "</table>\n",
       "</div>"
      ],
      "text/plain": [
       "                   task                                             action  \\\n",
       "0  Single Table Queries  Which 5 users have viewed the most times and w...   \n",
       "\n",
       "                                               query  \n",
       "0  \\nSELECT Id, SUM(Views) AS TotalViews\\n    FRO...  "
      ]
     },
     "execution_count": 102,
     "metadata": {},
     "output_type": "execute_result"
    }
   ],
   "source": [
    "queries = pd.DataFrame(query_dict)\n",
    "queries"
   ]
  },
  {
   "cell_type": "markdown",
   "metadata": {},
   "source": [
    "Now loading that pandas dataframe (queries) into the sqlite table called queries. In this case, you use append NOT replace. You will be adding to this tables as you go thru this project."
   ]
  },
  {
   "cell_type": "code",
   "execution_count": 103,
   "metadata": {},
   "outputs": [
    {
     "data": {
      "text/html": [
       "<div>\n",
       "<style scoped>\n",
       "    .dataframe tbody tr th:only-of-type {\n",
       "        vertical-align: middle;\n",
       "    }\n",
       "\n",
       "    .dataframe tbody tr th {\n",
       "        vertical-align: top;\n",
       "    }\n",
       "\n",
       "    .dataframe thead th {\n",
       "        text-align: right;\n",
       "    }\n",
       "</style>\n",
       "<table border=\"1\" class=\"dataframe\">\n",
       "  <thead>\n",
       "    <tr style=\"text-align: right;\">\n",
       "      <th></th>\n",
       "      <th>task</th>\n",
       "      <th>action</th>\n",
       "      <th>query</th>\n",
       "    </tr>\n",
       "  </thead>\n",
       "  <tbody>\n",
       "    <tr>\n",
       "      <th>0</th>\n",
       "      <td>Single Table Queries</td>\n",
       "      <td>Which 5 users have viewed the most times and w...</td>\n",
       "      <td>\\nSELECT Id, SUM(Views) AS TotalViews\\n    FRO...</td>\n",
       "    </tr>\n",
       "  </tbody>\n",
       "</table>\n",
       "</div>"
      ],
      "text/plain": [
       "                   task                                             action  \\\n",
       "0  Single Table Queries  Which 5 users have viewed the most times and w...   \n",
       "\n",
       "                                               query  \n",
       "0  \\nSELECT Id, SUM(Views) AS TotalViews\\n    FRO...  "
      ]
     },
     "execution_count": 103,
     "metadata": {},
     "output_type": "execute_result"
    }
   ],
   "source": [
    "# loading query into sqlite\n",
    "queries.to_sql('queries', con, if_exists='append', index=False)\n",
    "\n",
    "# reading back in to prove that it worked\n",
    "sql = 'SELECT * FROM queries'\n",
    "queries = pd.read_sql(sql, con)\n",
    "queries.head()"
   ]
  },
  {
   "cell_type": "code",
   "execution_count": 104,
   "metadata": {},
   "outputs": [
    {
     "name": "stdout",
     "output_type": "stream",
     "text": [
      "                   task                                             action  \\\n",
      "0  Single Table Queries  Which 5 users have viewed the most times and w...   \n",
      "1  Single Table Queries  Which 5 users have viewed the most times and w...   \n",
      "\n",
      "                                               query  \n",
      "0  \\nSELECT Id, SUM(Views) AS TotalViews\\n    FRO...  \n",
      "1  \\nSELECT Id, SUM(Views) AS TotalViews\\n    FRO...  \n"
     ]
    }
   ],
   "source": [
    "# loading the 'queries' data into the sqlite database\n",
    "queries.to_sql('queries', con, if_exists='append', index=False)\n",
    "\n",
    "# reading the data back from the sqlite database and store it in the 'queries' DataFrame\n",
    "queries = pd.read_sql('SELECT * FROM queries', con)\n",
    "\n",
    "# displaying the first few rows of the 'queries' DataFrame to verify the data was loaded correctly\n",
    "print(queries.head())"
   ]
  },
  {
   "cell_type": "markdown",
   "metadata": {},
   "source": [
    "As the user iterates through the notebook, they may create some duplicate entries in the queries table. This is not a problem, as they can easily remove the duplicates using either SQL or Pandas (which is more convenient in Pandas).\n",
    "If the user decides to drop the duplicates using Pandas, they will need to write the entire dataframe back to Sqlite, since the changes made in memory in Pandas are not reflected in Sqlite on the disk drive. On the other hand, if the duplicates are dropped using SQL, the changes will be persisted in the database.\n",
    "It is recommended to drop the duplicates at the end of the notebook to minimize the amount of time spent dealing with duplicates."
   ]
  },
  {
   "cell_type": "markdown",
   "metadata": {},
   "source": [
    "So, to summarise, as you go through the following tasks you need to:\n",
    "\n",
    "- answer the question in sql\n",
    "- prove it in pandas (if you want to)\n",
    "- put the query into the queries table"
   ]
  },
  {
   "cell_type": "markdown",
   "metadata": {},
   "source": [
    "# Task 1 (continued): Insert the CREATE TABLE Statements into the `queries` Table\n",
    "\n",
    "Now that we understand how to populate the `queries` table, let's insert the CREATE TABLE statements into it.  First let's define a function to help us insert into the queries table:\n"
   ]
  },
  {
   "cell_type": "code",
   "execution_count": 105,
   "metadata": {},
   "outputs": [],
   "source": [
    "# Defining a function that will insert into the queries table\n",
    "def store_query(task, action, query):\n",
    "    query_dict = {\n",
    "                  'task': [task],\n",
    "                  'action': [action],\n",
    "                  'query': [query]\n",
    "                 }\n",
    "\n",
    "    # puting the query into the query_dict\n",
    "    queries = pd.DataFrame(query_dict)\n",
    "\n",
    "    # loading query into sqlite\n",
    "    queries.to_sql('queries', con, if_exists='append', index=False)    "
   ]
  },
  {
   "cell_type": "markdown",
   "metadata": {},
   "source": [
    "Now specifying the queries and call the above function to store them.  The first one is already done."
   ]
  },
  {
   "cell_type": "code",
   "execution_count": 106,
   "metadata": {},
   "outputs": [],
   "source": [
    "sql = \"\"\"\n",
    "    CREATE TABLE \"comments\" (\n",
    "    \"Id\" INTEGER,\n",
    "    \"PostId\" INTEGER,\n",
    "    \"Score\" INTEGER,\n",
    "    \"Text\" TEXT,\n",
    "    \"CreationDate\" TEXT,\n",
    "    \"UserId\" INTEGER\n",
    "    )\n",
    "    \"\"\"\n",
    "store_query(\"Task 1\", \"Create table comments\", sql)"
   ]
  },
  {
   "cell_type": "markdown",
   "metadata": {},
   "source": [
    "Let's prove it works by selecting back from the queries table:"
   ]
  },
  {
   "cell_type": "code",
   "execution_count": 107,
   "metadata": {},
   "outputs": [
    {
     "name": "stdout",
     "output_type": "stream",
     "text": [
      " * sqlite:///chatdata.db\n",
      "Done.\n"
     ]
    },
    {
     "data": {
      "text/html": [
       "<table>\n",
       "    <tr>\n",
       "        <th>task</th>\n",
       "        <th>action</th>\n",
       "        <th>query</th>\n",
       "    </tr>\n",
       "    <tr>\n",
       "        <td>Single Table Queries</td>\n",
       "        <td>Which 5 users have viewed the most times and what is the sum of those views per user?</td>\n",
       "        <td><br>SELECT Id, SUM(Views) AS TotalViews<br>    FROM Users<br>        GROUP BY Id<br>            ORDER BY TotalViews DESC<br>                LIMIT 5<br>                </td>\n",
       "    </tr>\n",
       "    <tr>\n",
       "        <td>Single Table Queries</td>\n",
       "        <td>Which 5 users have viewed the most times and what is the sum of those views per user?</td>\n",
       "        <td><br>SELECT Id, SUM(Views) AS TotalViews<br>    FROM Users<br>        GROUP BY Id<br>            ORDER BY TotalViews DESC<br>                LIMIT 5<br>                </td>\n",
       "    </tr>\n",
       "    <tr>\n",
       "        <td>Task 1</td>\n",
       "        <td>Create table comments</td>\n",
       "        <td><br>    CREATE TABLE &quot;comments&quot; (<br>    &quot;Id&quot; INTEGER,<br>    &quot;PostId&quot; INTEGER,<br>    &quot;Score&quot; INTEGER,<br>    &quot;Text&quot; TEXT,<br>    &quot;CreationDate&quot; TEXT,<br>    &quot;UserId&quot; INTEGER<br>    )<br>    </td>\n",
       "    </tr>\n",
       "</table>"
      ],
      "text/plain": [
       "[('Single Table Queries', 'Which 5 users have viewed the most times and what is the sum of those views per user?', '\\nSELECT Id, SUM(Views) AS TotalViews\\n    FROM Users\\n        GROUP BY Id\\n            ORDER BY TotalViews DESC\\n                LIMIT 5\\n                '),\n",
       " ('Single Table Queries', 'Which 5 users have viewed the most times and what is the sum of those views per user?', '\\nSELECT Id, SUM(Views) AS TotalViews\\n    FROM Users\\n        GROUP BY Id\\n            ORDER BY TotalViews DESC\\n                LIMIT 5\\n                '),\n",
       " ('Task 1', 'Create table comments', '\\n    CREATE TABLE \"comments\" (\\n    \"Id\" INTEGER,\\n    \"PostId\" INTEGER,\\n    \"Score\" INTEGER,\\n    \"Text\" TEXT,\\n    \"CreationDate\" TEXT,\\n    \"UserId\" INTEGER\\n    )\\n    ')]"
      ]
     },
     "execution_count": 107,
     "metadata": {},
     "output_type": "execute_result"
    }
   ],
   "source": [
    "# Proving it works\n",
    "%sql SELECT * FROM queries"
   ]
  },
  {
   "cell_type": "markdown",
   "metadata": {},
   "source": [
    "## Insert the other CREATE TABLE statements into the `queries` table.\n",
    "\n",
    "Following the above pattern to complete these code cells:\n"
   ]
  },
  {
   "cell_type": "code",
   "execution_count": 108,
   "metadata": {},
   "outputs": [],
   "source": [
    "# Inserting the CREATE TABLE for posts into the queries table\n",
    "\n",
    "sql = \"\"\"\n",
    "CREATE TABLE \"posts\" (\n",
    "        \"Id\" INTEGER NOT NULL PRIMARY KEY,\n",
    "        \"PostTypeId\" INTEGER,\n",
    "        \"AcceptedAnswerId\" INTEGER,\n",
    "        \"ParentId\" INTEGER,\n",
    "        \"CreationDate\" TEXT,\n",
    "        \"Score\" INTEGER,\n",
    "        \"ViewCount\" INTEGER,\n",
    "        \"Body\" TEXT,\n",
    "        \"OwnerUserId\" INTEGER,\n",
    "        \"OwnerDisplayName\" TEXT,\n",
    "        \"LastEditorUserId\" INTEGER,\n",
    "        \"LastEditorDisplayName\" TEXT,\n",
    "        \"LastEditDate\" TEXT,\n",
    "        \"LastActivityDate\" TEXT,\n",
    "        \"Title\" TEXT,\n",
    "        \"Tags\" TEXT,\n",
    "        \"AnswerCount\" INTEGER,\n",
    "        \"CommentCount\" INTEGER,\n",
    "        \"FavoriteCount\" INTEGER,\n",
    "        \"ClosedDate\" TEXT,\n",
    "        \"CommunityOwnedDate\" TEXT,\n",
    "        FOREIGN KEY(OwnerUserId) REFERENCES users(Id)\n",
    "        )\n",
    "    \"\"\"\n",
    "store_query(\"Task 1\", \"Create Table posts\", sql)"
   ]
  },
  {
   "cell_type": "code",
   "execution_count": 109,
   "metadata": {},
   "outputs": [],
   "source": [
    "# Inserting the CREATE TABLE for users into the queries table\n",
    "\n",
    "sql = \"\"\"\n",
    "CREATE TABLE \"users\" (\n",
    "        \"Id\" INTEGER NOT NULL PRIMARY KEY,\n",
    "        \"Reputation\" INTEGER,\n",
    "        \"CreationDate\" TEXT,\n",
    "        \"DisplayName\" TEXT,\n",
    "         \"LastAccessDate\" TEXT,\n",
    "        \"WebsiteUrl\" TEXT,\n",
    "        \"Location\" TEXT,\n",
    "        \"AboutMe\" TEXT,\n",
    "        \"Views\" INTEGER,\n",
    "        \"UpVotes\" INTEGER,\n",
    "        \"DownVotes\" INTEGER,\n",
    "        \"ProfileImageUrl\" TEXT,\n",
    "        \"AccountId\" INTEGER\n",
    "        )\n",
    "    \"\"\"\n",
    "\n",
    "store_query(\"Task 1\", \"Create table users\", sql)"
   ]
  },
  {
   "cell_type": "code",
   "execution_count": 110,
   "metadata": {
    "scrolled": true
   },
   "outputs": [
    {
     "name": "stdout",
     "output_type": "stream",
     "text": [
      "                   task                                             action  \\\n",
      "0  Single Table Queries  Which 5 users have viewed the most times and w...   \n",
      "1  Single Table Queries  Which 5 users have viewed the most times and w...   \n",
      "2                Task 1                              Create table comments   \n",
      "3                Task 1                                 Create Table posts   \n",
      "4                Task 1                                 Create table users   \n",
      "\n",
      "                                               query  \n",
      "0  \\nSELECT Id, SUM(Views) AS TotalViews\\n    FRO...  \n",
      "1  \\nSELECT Id, SUM(Views) AS TotalViews\\n    FRO...  \n",
      "2  \\n    CREATE TABLE \"comments\" (\\n    \"Id\" INTE...  \n",
      "3  \\nCREATE TABLE \"posts\" (\\n        \"Id\" INTEGER...  \n",
      "4  \\nCREATE TABLE \"users\" (\\n        \"Id\" INTEGER...  \n"
     ]
    }
   ],
   "source": [
    "# Confirming that the data is stored\n",
    "# reading data back from database\n",
    "sql = 'SELECT * FROM queries'\n",
    "queries = pd.read_sql(sql, con)\n",
    "\n",
    "# displaying the first few rows of the data to confirm it matches the original data\n",
    "print(queries.head())"
   ]
  },
  {
   "cell_type": "markdown",
   "metadata": {},
   "source": [
    "## Count the Number of Rows in Each Table\n",
    "\n",
    "Running some queries to count the number of rows in each of the tables.  Don't forget to insertomg the query into the queries table.\n",
    "\n"
   ]
  },
  {
   "cell_type": "code",
   "execution_count": 111,
   "metadata": {},
   "outputs": [
    {
     "data": {
      "text/html": [
       "<div>\n",
       "<style scoped>\n",
       "    .dataframe tbody tr th:only-of-type {\n",
       "        vertical-align: middle;\n",
       "    }\n",
       "\n",
       "    .dataframe tbody tr th {\n",
       "        vertical-align: top;\n",
       "    }\n",
       "\n",
       "    .dataframe thead th {\n",
       "        text-align: right;\n",
       "    }\n",
       "</style>\n",
       "<table border=\"1\" class=\"dataframe\">\n",
       "  <thead>\n",
       "    <tr style=\"text-align: right;\">\n",
       "      <th></th>\n",
       "      <th>COUNT(*)</th>\n",
       "    </tr>\n",
       "  </thead>\n",
       "  <tbody>\n",
       "    <tr>\n",
       "      <th>0</th>\n",
       "      <td>50000</td>\n",
       "    </tr>\n",
       "  </tbody>\n",
       "</table>\n",
       "</div>"
      ],
      "text/plain": [
       "   COUNT(*)\n",
       "0     50000"
      ]
     },
     "execution_count": 111,
     "metadata": {},
     "output_type": "execute_result"
    }
   ],
   "source": [
    "# Counting the number of rows in the comments table\n",
    "\n",
    "sql = 'SELECT COUNT(*) FROM \"comments\" '\n",
    "\n",
    "rows_count=pd.read_sql(sql,con)\n",
    "\n",
    "store_query(\"Task 1\", \"Count the number of rows in the comments table\", sql)\n",
    "rows_count"
   ]
  },
  {
   "cell_type": "code",
   "execution_count": 112,
   "metadata": {},
   "outputs": [
    {
     "data": {
      "text/html": [
       "<div>\n",
       "<style scoped>\n",
       "    .dataframe tbody tr th:only-of-type {\n",
       "        vertical-align: middle;\n",
       "    }\n",
       "\n",
       "    .dataframe tbody tr th {\n",
       "        vertical-align: top;\n",
       "    }\n",
       "\n",
       "    .dataframe thead th {\n",
       "        text-align: right;\n",
       "    }\n",
       "</style>\n",
       "<table border=\"1\" class=\"dataframe\">\n",
       "  <thead>\n",
       "    <tr style=\"text-align: right;\">\n",
       "      <th></th>\n",
       "      <th>COUNT(*)</th>\n",
       "    </tr>\n",
       "  </thead>\n",
       "  <tbody>\n",
       "    <tr>\n",
       "      <th>0</th>\n",
       "      <td>18412</td>\n",
       "    </tr>\n",
       "  </tbody>\n",
       "</table>\n",
       "</div>"
      ],
      "text/plain": [
       "   COUNT(*)\n",
       "0     18412"
      ]
     },
     "execution_count": 112,
     "metadata": {},
     "output_type": "execute_result"
    }
   ],
   "source": [
    "# Counting the number of rows in the users table\n",
    "\n",
    "sql = 'SELECT COUNT(*) FROM \"users\" '\n",
    "\n",
    "rows_count_2=pd.read_sql(sql,con)\n",
    "\n",
    "store_query(\"Task 1\", \"Count the number of rows in the comments table\", sql)\n",
    "rows_count_2"
   ]
  },
  {
   "cell_type": "code",
   "execution_count": 113,
   "metadata": {},
   "outputs": [
    {
     "data": {
      "text/html": [
       "<div>\n",
       "<style scoped>\n",
       "    .dataframe tbody tr th:only-of-type {\n",
       "        vertical-align: middle;\n",
       "    }\n",
       "\n",
       "    .dataframe tbody tr th {\n",
       "        vertical-align: top;\n",
       "    }\n",
       "\n",
       "    .dataframe thead th {\n",
       "        text-align: right;\n",
       "    }\n",
       "</style>\n",
       "<table border=\"1\" class=\"dataframe\">\n",
       "  <thead>\n",
       "    <tr style=\"text-align: right;\">\n",
       "      <th></th>\n",
       "      <th>COUNT(*)</th>\n",
       "    </tr>\n",
       "  </thead>\n",
       "  <tbody>\n",
       "    <tr>\n",
       "      <th>0</th>\n",
       "      <td>42234</td>\n",
       "    </tr>\n",
       "  </tbody>\n",
       "</table>\n",
       "</div>"
      ],
      "text/plain": [
       "   COUNT(*)\n",
       "0     42234"
      ]
     },
     "execution_count": 113,
     "metadata": {},
     "output_type": "execute_result"
    }
   ],
   "source": [
    "# Counting the number of rows in the posts table\n",
    "\n",
    "sql = 'SELECT COUNT(*) FROM \"posts\" '\n",
    "\n",
    "rows_count_3=pd.read_sql(sql,con)\n",
    "\n",
    "store_query(\"Task 1\", \"Count the number of rows in the comments table\", sql)\n",
    "rows_count_3"
   ]
  },
  {
   "cell_type": "markdown",
   "metadata": {},
   "source": [
    "## Do some Random Checks on the Data\n",
    "\n",
    "Writing some queries that select 5 random rows from each table.  The queries are provided here:\n",
    "\n",
    "    select * from Comments order by random() limit 5;\n",
    "    select * from Users order by random() limit 5;\n",
    "    select * from Posts order by random() limit 5;\n",
    "\n",
    "Entering the queries into the code cells below and insert the queries into the `queries` table in the same was as you did for the CREATE TABLE statements.\n",
    "\n",
    "The SQL query will return 5 randomly selected rows from the \"comments\", 'users' and 'posts' table with all of the columns in each row."
   ]
  },
  {
   "cell_type": "code",
   "execution_count": 114,
   "metadata": {},
   "outputs": [
    {
     "name": "stdout",
     "output_type": "stream",
     "text": [
      " * sqlite:///chatdata.db\n",
      "Done.\n"
     ]
    },
    {
     "data": {
      "text/html": [
       "<table>\n",
       "    <tr>\n",
       "        <th>Id</th>\n",
       "        <th>PostId</th>\n",
       "        <th>Score</th>\n",
       "        <th>Text</th>\n",
       "        <th>CreationDate</th>\n",
       "        <th>UserId</th>\n",
       "    </tr>\n",
       "    <tr>\n",
       "        <td>788485</td>\n",
       "        <td>422586</td>\n",
       "        <td>0</td>\n",
       "        <td>Thanks a lot for the suggestion!</td>\n",
       "        <td>2019-08-17 13:34:04</td>\n",
       "        <td>244640</td>\n",
       "    </tr>\n",
       "    <tr>\n",
       "        <td>772839</td>\n",
       "        <td>413984</td>\n",
       "        <td>0</td>\n",
       "        <td>Yes. There is a trick! Put all the variables AND the target (let&#x27;s call it ```y```) in a ```data.frame``` (let&#x27;s call it ```train_data```). Just what you need in the model, no extras. Then add ```lm(y~. , data=train_data)``` This will fit a model to predict ```y``` using the rest of the variable in ```train_data```</td>\n",
       "        <td>2019-06-20 20:01:44</td>\n",
       "        <td>238499</td>\n",
       "    </tr>\n",
       "    <tr>\n",
       "        <td>746701</td>\n",
       "        <td>398607</td>\n",
       "        <td>0</td>\n",
       "        <td>@KubiK888, &quot;brute force&quot; means this is all the possibilities that can exist. You wouldn&#x27;t try to combine them, unless you want to use a Bayesian method for that.  If I were writing a scientific paper for publication, I would just explain that, whatever the underlying table looks like, these data have to show a significant change. You could give the ranges for the chi-squared statistic &amp; the p-value.</td>\n",
       "        <td>2019-03-20 21:25:08</td>\n",
       "        <td>7290</td>\n",
       "    </tr>\n",
       "    <tr>\n",
       "        <td>764087</td>\n",
       "        <td>408815</td>\n",
       "        <td>0</td>\n",
       "        <td>@whuber yeah sorry you were correct. There was a mistake. Unfortunately  I overlooked it. It is 1/n not 1/2.</td>\n",
       "        <td>2019-05-18 10:43:07</td>\n",
       "        <td>248234</td>\n",
       "    </tr>\n",
       "    <tr>\n",
       "        <td>742012</td>\n",
       "        <td>395453</td>\n",
       "        <td>0</td>\n",
       "        <td>@FabianWerner. Then by definition of expectation the expected reward is therefore $\\sum_{a_0,...,a_{\\infty}}\\sum_{s_1,...,s_{\\infty}}\\sum_{r_1,...r_{\\infty}}\\pi(a_0|s_0)\\prod_{t=0}^{\\infty}\\pi(a_{t+1}|s_{t+1})p(s_{t+1},r_{t+1}|s_t,a_t)\\sum_{t=0}^{\\infty}\\gamma^tr_{t+1}$. Note that we are not summing over $s_0$ because this is an expectation conditioned on $s_0$. rearranging the expectation above abit yields the very first equation of my answer.</td>\n",
       "        <td>2019-03-04 23:43:08</td>\n",
       "        <td>141941</td>\n",
       "    </tr>\n",
       "</table>"
      ],
      "text/plain": [
       "[(788485, 422586, 0, 'Thanks a lot for the suggestion!', '2019-08-17 13:34:04', 244640),\n",
       " (772839, 413984, 0, \"Yes. There is a trick! Put all the variables AND the target (let's call it ```y```) in a ```data.frame``` (let's call it ```train_data```). Just what ... (18 characters truncated) ... odel, no extras. Then add ```lm(y~. , data=train_data)``` This will fit a model to predict ```y``` using the rest of the variable in ```train_data```\", '2019-06-20 20:01:44', 238499),\n",
       " (746701, 398607, 0, '@KubiK888, \"brute force\" means this is all the possibilities that can exist. You wouldn\\'t try to combine them, unless you want to use a Bayesian met ... (105 characters truncated) ... the underlying table looks like, these data have to show a significant change. You could give the ranges for the chi-squared statistic & the p-value.', '2019-03-20 21:25:08', 7290),\n",
       " (764087, 408815, 0, '@whuber yeah sorry you were correct. There was a mistake. Unfortunately  I overlooked it. It is 1/n not 1/2.', '2019-05-18 10:43:07', 248234),\n",
       " (742012, 395453, 0, '@FabianWerner. Then by definition of expectation the expected reward is therefore $\\\\sum_{a_0,...,a_{\\\\infty}}\\\\sum_{s_1,...,s_{\\\\infty}}\\\\sum_{r_1,. ... (163 characters truncated) ... g over $s_0$ because this is an expectation conditioned on $s_0$. rearranging the expectation above abit yields the very first equation of my answer.', '2019-03-04 23:43:08', 141941)]"
      ]
     },
     "execution_count": 114,
     "metadata": {},
     "output_type": "execute_result"
    }
   ],
   "source": [
    "%%sql\n",
    "SELECT * FROM comments \n",
    "ORDER BY RANDOM() \n",
    "LIMIT 5;"
   ]
  },
  {
   "cell_type": "code",
   "execution_count": 115,
   "metadata": {},
   "outputs": [
    {
     "name": "stdout",
     "output_type": "stream",
     "text": [
      " * sqlite:///chatdata.db\n",
      "Done.\n"
     ]
    },
    {
     "data": {
      "text/html": [
       "<table>\n",
       "    <tr>\n",
       "        <th>Id</th>\n",
       "        <th>Reputation</th>\n",
       "        <th>CreationDate</th>\n",
       "        <th>DisplayName</th>\n",
       "        <th>LastAccessDate</th>\n",
       "        <th>WebsiteUrl</th>\n",
       "        <th>Location</th>\n",
       "        <th>AboutMe</th>\n",
       "        <th>Views</th>\n",
       "        <th>UpVotes</th>\n",
       "        <th>DownVotes</th>\n",
       "        <th>ProfileImageUrl</th>\n",
       "        <th>AccountId</th>\n",
       "    </tr>\n",
       "    <tr>\n",
       "        <td>8604</td>\n",
       "        <td>113</td>\n",
       "        <td>2012-01-18 19:31:16</td>\n",
       "        <td>LasEspuelas</td>\n",
       "        <td>2019-09-10 20:18:30</td>\n",
       "        <td>None</td>\n",
       "        <td>None</td>\n",
       "        <td>None</td>\n",
       "        <td>4</td>\n",
       "        <td>6</td>\n",
       "        <td>0</td>\n",
       "        <td>None</td>\n",
       "        <td>1182350</td>\n",
       "    </tr>\n",
       "    <tr>\n",
       "        <td>220099</td>\n",
       "        <td>11</td>\n",
       "        <td>2018-09-10 07:25:54</td>\n",
       "        <td>T Wu</td>\n",
       "        <td>2019-11-05 06:41:45</td>\n",
       "        <td>None</td>\n",
       "        <td>None</td>\n",
       "        <td>None</td>\n",
       "        <td>0</td>\n",
       "        <td>0</td>\n",
       "        <td>0</td>\n",
       "        <td>https://www.gravatar.com/avatar/a597515a7e5deec177225b864a52f536?s=128&amp;d=identicon&amp;r=PG&amp;f=1</td>\n",
       "        <td>14316004</td>\n",
       "    </tr>\n",
       "    <tr>\n",
       "        <td>252048</td>\n",
       "        <td>11</td>\n",
       "        <td>2019-06-26 17:40:13</td>\n",
       "        <td>Daniel Kurniadi</td>\n",
       "        <td>2019-11-30 10:19:01</td>\n",
       "        <td>None</td>\n",
       "        <td>Nanyang Walk Singapore Singapura</td>\n",
       "        <td>None</td>\n",
       "        <td>1</td>\n",
       "        <td>0</td>\n",
       "        <td>0</td>\n",
       "        <td>https://lh4.googleusercontent.com/-_VbT8TZ2f5M/AAAAAAAAAAI/AAAAAAAAAFM/ZSplr4rJEt4/photo.jpg?sz=128</td>\n",
       "        <td>12570135</td>\n",
       "    </tr>\n",
       "    <tr>\n",
       "        <td>229128</td>\n",
       "        <td>25</td>\n",
       "        <td>2018-12-04 17:42:29</td>\n",
       "        <td>waynemystir</td>\n",
       "        <td>2019-11-24 22:56:27</td>\n",
       "        <td>None</td>\n",
       "        <td>Englewood, NJ, United States</td>\n",
       "        <td>None</td>\n",
       "        <td>1</td>\n",
       "        <td>1</td>\n",
       "        <td>0</td>\n",
       "        <td>https://www.gravatar.com/avatar/f7db3ed455bbf1d29857645c686efa92?s=128&amp;d=identicon&amp;r=PG</td>\n",
       "        <td>2121348</td>\n",
       "    </tr>\n",
       "    <tr>\n",
       "        <td>265916</td>\n",
       "        <td>101</td>\n",
       "        <td>2019-11-16 18:30:55</td>\n",
       "        <td>chefhose</td>\n",
       "        <td>2019-11-29 18:11:47</td>\n",
       "        <td>None</td>\n",
       "        <td>None</td>\n",
       "        <td>&lt;p&gt;Apparently, this user prefers to keep an air of icecream about them.&lt;/p&gt;<br></td>\n",
       "        <td>0</td>\n",
       "        <td>1</td>\n",
       "        <td>0</td>\n",
       "        <td>https://www.gravatar.com/avatar/813a37e0e0e35b4b6a5e27b881d7cfea?s=128&amp;d=identicon&amp;r=PG&amp;f=1</td>\n",
       "        <td>6106547</td>\n",
       "    </tr>\n",
       "</table>"
      ],
      "text/plain": [
       "[(8604, 113, '2012-01-18 19:31:16', 'LasEspuelas', '2019-09-10 20:18:30', None, None, None, 4, 6, 0, None, 1182350),\n",
       " (220099, 11, '2018-09-10 07:25:54', 'T Wu', '2019-11-05 06:41:45', None, None, None, 0, 0, 0, 'https://www.gravatar.com/avatar/a597515a7e5deec177225b864a52f536?s=128&d=identicon&r=PG&f=1', 14316004),\n",
       " (252048, 11, '2019-06-26 17:40:13', 'Daniel Kurniadi', '2019-11-30 10:19:01', None, 'Nanyang Walk Singapore Singapura', None, 1, 0, 0, 'https://lh4.googleusercontent.com/-_VbT8TZ2f5M/AAAAAAAAAAI/AAAAAAAAAFM/ZSplr4rJEt4/photo.jpg?sz=128', 12570135),\n",
       " (229128, 25, '2018-12-04 17:42:29', 'waynemystir', '2019-11-24 22:56:27', None, 'Englewood, NJ, United States', None, 1, 1, 0, 'https://www.gravatar.com/avatar/f7db3ed455bbf1d29857645c686efa92?s=128&d=identicon&r=PG', 2121348),\n",
       " (265916, 101, '2019-11-16 18:30:55', 'chefhose', '2019-11-29 18:11:47', None, None, '<p>Apparently, this user prefers to keep an air of icecream about them.</p>\\n', 0, 1, 0, 'https://www.gravatar.com/avatar/813a37e0e0e35b4b6a5e27b881d7cfea?s=128&d=identicon&r=PG&f=1', 6106547)]"
      ]
     },
     "execution_count": 115,
     "metadata": {},
     "output_type": "execute_result"
    }
   ],
   "source": [
    "%%sql\n",
    "SELECT * FROM users \n",
    "ORDER BY RANDOM() \n",
    "LIMIT 5;"
   ]
  },
  {
   "cell_type": "code",
   "execution_count": 116,
   "metadata": {},
   "outputs": [
    {
     "name": "stdout",
     "output_type": "stream",
     "text": [
      " * sqlite:///chatdata.db\n",
      "Done.\n"
     ]
    },
    {
     "data": {
      "text/html": [
       "<table>\n",
       "    <tr>\n",
       "        <th>Id</th>\n",
       "        <th>PostTypeId</th>\n",
       "        <th>AcceptedAnswerId</th>\n",
       "        <th>ParentId</th>\n",
       "        <th>CreationDate</th>\n",
       "        <th>Score</th>\n",
       "        <th>ViewCount</th>\n",
       "        <th>Body</th>\n",
       "        <th>OwnerUserId</th>\n",
       "        <th>OwnerDisplayName</th>\n",
       "        <th>LastEditorUserId</th>\n",
       "        <th>LastEditorDisplayName</th>\n",
       "        <th>LastEditDate</th>\n",
       "        <th>LastActivityDate</th>\n",
       "        <th>Title</th>\n",
       "        <th>Tags</th>\n",
       "        <th>AnswerCount</th>\n",
       "        <th>CommentCount</th>\n",
       "        <th>FavoriteCount</th>\n",
       "        <th>ClosedDate</th>\n",
       "        <th>CommunityOwnedDate</th>\n",
       "    </tr>\n",
       "    <tr>\n",
       "        <td>394759</td>\n",
       "        <td>1</td>\n",
       "        <td>0</td>\n",
       "        <td>0</td>\n",
       "        <td>2019-02-27 19:39:14</td>\n",
       "        <td>2</td>\n",
       "        <td>48</td>\n",
       "        <td>&lt;p&gt;Let&#x27;s say you have multiple sources of observation weights for a dataset. For example, you have a &lt;span class=&quot;math-container&quot;&gt;$[0,1]$&lt;/span&gt; weight coming from the label&#x27;s certainty (&lt;span class=&quot;math-container&quot;&gt;$w_c$&lt;/span&gt;) and another one coming from its recency (&lt;span class=&quot;math-container&quot;&gt;$w_t$&lt;/span&gt;). What would be the best way to combine those into a single number to be used when training a classifier?&lt;/p&gt;<br><br>&lt;p&gt;Some options I have considered:&lt;/p&gt;<br><br>&lt;ul&gt;<br>&lt;li&gt;Product: &lt;span class=&quot;math-container&quot;&gt;$w_cw_t$&lt;/span&gt;&lt;/li&gt;<br>&lt;li&gt;Arithmetic mean: &lt;span class=&quot;math-container&quot;&gt;$\\frac{w_c+w_t}{2}$&lt;/span&gt;&lt;/li&gt;<br>&lt;li&gt;Geometric mean: &lt;span class=&quot;math-container&quot;&gt;$\\sqrt{w_cw_t}$&lt;/span&gt;&lt;/li&gt;<br>&lt;li&gt;Harmonic mean: &lt;span class=&quot;math-container&quot;&gt;$\\frac{2w_cw_t}{w_c+w_t}$&lt;/span&gt;&lt;/li&gt;<br>&lt;/ul&gt;<br><br>&lt;p&gt;All of the above make (intuitive) sense on some level. Any ideas as to what is best practice or at least some pointers to literature on the topic?&lt;/p&gt;<br></td>\n",
       "        <td>10433</td>\n",
       "        <td>None</td>\n",
       "        <td>0</td>\n",
       "        <td>None</td>\n",
       "        <td>None</td>\n",
       "        <td>2019-02-27 19:39:14</td>\n",
       "        <td>Combining multiple observation weights for classification</td>\n",
       "        <td>&lt;regression&gt;&lt;classification&gt;&lt;weights&gt;&lt;weighted-data&gt;</td>\n",
       "        <td>0</td>\n",
       "        <td>0</td>\n",
       "        <td>0</td>\n",
       "        <td>None</td>\n",
       "        <td>None</td>\n",
       "    </tr>\n",
       "    <tr>\n",
       "        <td>391067</td>\n",
       "        <td>2</td>\n",
       "        <td>0</td>\n",
       "        <td>336338</td>\n",
       "        <td>2019-02-06 12:49:01</td>\n",
       "        <td>0</td>\n",
       "        <td>0</td>\n",
       "        <td>&lt;p&gt;If you are interested in positive smoothing, another solution could be to re-parameterize the coefficients of your smoother (I think it is what the fda pkg does as well). A similar  idea is clearly illustrated in &lt;a href=&quot;https://onlinelibrary.wiley.com/doi/pdf/10.1002/cem.935&quot; rel=&quot;nofollow noreferrer&quot;&gt;Unimodal smoothing&lt;/a&gt; (see log-concave smoothing - section 4 - in appendix you will also find some Matlab codes).&lt;/p&gt;<br><br>&lt;p&gt;So to solve our problem we need two ingredients:&lt;/p&gt;<br><br>&lt;ul&gt;<br>&lt;li&gt;The smoother - I think we can use a Whittaker smoother (see e.g. &lt;a href=&quot;https://pubs.acs.org/doi/10.1021/ac034173t&quot; rel=&quot;nofollow noreferrer&quot;&gt;A Perfect Smoother&lt;/a&gt;). In this case my basis is just the identity matrix&lt;/li&gt;<br>&lt;li&gt;The parameterization - I will use &lt;span class=&quot;math-container&quot;&gt;$\\exp$&lt;/span&gt; parameterization&lt;/li&gt;<br>&lt;/ul&gt;<br><br>&lt;p&gt;What follows can be easily adapted if you want to use P-splines (see Matlab codes in the paper I mentioned before) and other penalized smoothing methods.&lt;/p&gt;<br><br>&lt;p&gt;Our smoothing problem can then be written as <br>&lt;span class=&quot;math-container&quot;&gt;$$<br>\\min_{z} S = \\|y - \\mu \\|^{2} + \\lambda \\|D^{d}z\\|^2<br>$$&lt;/span&gt;<br>where &lt;span class=&quot;math-container&quot;&gt;$\\mu = \\exp(z)$&lt;/span&gt;, &lt;span class=&quot;math-container&quot;&gt;$z$&lt;/span&gt; is a vector of unknown and &lt;span class=&quot;math-container&quot;&gt;$D^{d}$&lt;/span&gt; is a difference operator of order &lt;span class=&quot;math-container&quot;&gt;$d$&lt;/span&gt; which is used as penalty to regularize the behavior of adjacent &lt;span class=&quot;math-container&quot;&gt;$z$&lt;/span&gt;s (let say &lt;span class=&quot;math-container&quot;&gt;$d$&lt;/span&gt; = 3). Note that this parameterization ensures positive estimates whatever value of &lt;span class=&quot;math-container&quot;&gt;$\\lambda$&lt;/span&gt;. The &lt;span class=&quot;math-container&quot;&gt;$\\min$&lt;/span&gt; problem can be solved in many ways (Eilers&#x27; paper uses IWLS). &lt;/p&gt;<br><br>&lt;p&gt;The results for your example with a &lt;span class=&quot;math-container&quot;&gt;$\\lambda = 5e4$&lt;/span&gt; should look like in the plot below (which gives a reasonably smooth fit within the settings above)<br>&lt;a href=&quot;https://i.stack.imgur.com/Zk6J1.png&quot; rel=&quot;nofollow noreferrer&quot;&gt;&lt;img src=&quot;https://i.stack.imgur.com/Zk6J1.png&quot; alt=&quot;enter image description here&quot;&gt;&lt;/a&gt;&lt;/p&gt;<br></td>\n",
       "        <td>228386</td>\n",
       "        <td>None</td>\n",
       "        <td>228386</td>\n",
       "        <td>None</td>\n",
       "        <td>2019-02-06 15:00:55</td>\n",
       "        <td>2019-02-06 15:00:55</td>\n",
       "        <td>None</td>\n",
       "        <td>None</td>\n",
       "        <td>0</td>\n",
       "        <td>0</td>\n",
       "        <td>0</td>\n",
       "        <td>None</td>\n",
       "        <td>None</td>\n",
       "    </tr>\n",
       "    <tr>\n",
       "        <td>415185</td>\n",
       "        <td>1</td>\n",
       "        <td>0</td>\n",
       "        <td>0</td>\n",
       "        <td>2019-06-28 12:23:04</td>\n",
       "        <td>1</td>\n",
       "        <td>24</td>\n",
       "        <td>&lt;p&gt;Where we have cluster-adjusted results from trials (summary statistics), under what circumstances can we include them in a standardised mean difference (SMD) meta-analysis and which calculations are necessary?&lt;/p&gt;<br><br>&lt;p&gt;For example, we have a statistical analysis that used generalised linear mixed models, with care home as a random factor, and time as a repeated measure, and reports mean and standard error (SE) for each intervention. We know the number of individuals in the intervention groups and the number of clusters. &lt;/p&gt;<br><br>&lt;p&gt;If this was not cluster-randomised, I would calculate the SD for each group = SE x √N and then the SMD using the standard formulae for Hedges’ g, as implemented in RevMan. For calculating the SD, pooled SD, SMD and SE{SMD} I would be using values of N = n1 + n2. &lt;/p&gt;<br><br>&lt;p&gt;For cluster-randomised results, is it appropriate to be using the raw number of individuals in the intervention groups, a cluster-adjusted number of individuals using the design effect, i.e. Nadj = N / (1 + (M-1)ICC), or is it not appropriate to calculate SMD from these data?&lt;/p&gt;<br><br>&lt;p&gt;Similarly, given an adjusted MD(SE) is it appropriate to calculate SD using the standard formula of SD = SE / √(1/n1 + 1/n2) using raw values for n?&lt;/p&gt;<br><br>&lt;p&gt;For good measure, given unadjusted means, SDs and ns for a cluster trial, it&#x27;s presumably okay to adjust the ns using the design effect and then calculate SMD and SE{SMD}. [edit: no, it isn&#x27;t, see references provided by @Wolfgang]&lt;/p&gt;<br><br>&lt;p&gt;Thanks &lt;/p&gt;<br></td>\n",
       "        <td>252223</td>\n",
       "        <td>None</td>\n",
       "        <td>252223</td>\n",
       "        <td>None</td>\n",
       "        <td>2019-07-04 13:22:13</td>\n",
       "        <td>2019-07-04 13:22:13</td>\n",
       "        <td>SMD meta-analysis including cluster-randomised trials: is it possible? If so, how?</td>\n",
       "        <td>&lt;meta-analysis&gt;&lt;effect-size&gt;&lt;cluster-sample&gt;</td>\n",
       "        <td>1</td>\n",
       "        <td>2</td>\n",
       "        <td>0</td>\n",
       "        <td>None</td>\n",
       "        <td>None</td>\n",
       "    </tr>\n",
       "    <tr>\n",
       "        <td>396574</td>\n",
       "        <td>1</td>\n",
       "        <td>0</td>\n",
       "        <td>0</td>\n",
       "        <td>2019-03-09 19:47:31</td>\n",
       "        <td>0</td>\n",
       "        <td>11</td>\n",
       "        <td>&lt;p&gt;I can not find clear literature on how to choose the penalty parameter in the logit multinomial ridge model. As read in the linear models and trying to adapt it to the model I need it would be through cross-validation (particularly under the &quot;leaving one out&quot; approach, LOOCV).&lt;/p&gt;<br><br>&lt;p&gt;If each individual has three alternatives of choice (k), in my database is arranged as follows if you choose (Y):<br>- Alternative 1: (1,0,0)<br>- alternative 2: (0,1,0)<br>- alternative 3: (0,0,1)<br>with 1 if the individual &quot;i&quot; chose the &quot;k&quot; mode&lt;/p&gt;<br><br>&lt;p&gt;And &lt;span class=&quot;math-container&quot;&gt;$\\hat{p}$&lt;/span&gt; being the estimated probability with the test set&lt;/p&gt;<br><br>&lt;p&gt;so&lt;/p&gt;<br><br>&lt;p&gt;&lt;span class=&quot;math-container&quot;&gt;$GCV(\\lambda)=\\sum_{i}^{n}(Y_{i}-\\hat{p}_{i})^2$&lt;/span&gt;&lt;/p&gt;<br><br>&lt;p&gt;Is the lambda parameter that gets the lowest gcv chosen?&lt;/p&gt;<br><br>&lt;p&gt;for example, if Y and &lt;span class=&quot;math-container&quot;&gt;$\\hat{p}$&lt;/span&gt; are, is it calculated like this?<br>&lt;span class=&quot;math-container&quot;&gt;$GCV(\\lambda)_{1}=[(0,1,0)-(0.1,0.7,0.2)]^2$&lt;/span&gt;<br>is correct?&lt;/p&gt;<br><br>&lt;p&gt;Thank you!&lt;/p&gt;<br></td>\n",
       "        <td>224772</td>\n",
       "        <td>None</td>\n",
       "        <td>0</td>\n",
       "        <td>None</td>\n",
       "        <td>None</td>\n",
       "        <td>2019-03-09 19:47:31</td>\n",
       "        <td>choice of the lambda parameter in the logit multinomial ridge model</td>\n",
       "        <td>&lt;cross-validation&gt;&lt;regularization&gt;&lt;logit&gt;&lt;ridge-regression&gt;&lt;choice&gt;</td>\n",
       "        <td>0</td>\n",
       "        <td>0</td>\n",
       "        <td>0</td>\n",
       "        <td>None</td>\n",
       "        <td>None</td>\n",
       "    </tr>\n",
       "    <tr>\n",
       "        <td>400725</td>\n",
       "        <td>2</td>\n",
       "        <td>0</td>\n",
       "        <td>400316</td>\n",
       "        <td>2019-04-02 07:59:04</td>\n",
       "        <td>-4</td>\n",
       "        <td>0</td>\n",
       "        <td>&lt;p&gt;Normal distributions are by definition non-skewed, so you can&#x27;t have both things. If the distribution is left-skewed, then it cannot be Gaussian. You&#x27;ll have to pick a different one! The closest thing to your request I can think of is this:&lt;/p&gt;<br><br>&lt;p&gt;&lt;a href=&quot;https://en.wikipedia.org/wiki/Skew_normal_distribution&quot; rel=&quot;nofollow noreferrer&quot;&gt;https://en.wikipedia.org/wiki/Skew_normal_distribution&lt;/a&gt;&lt;/p&gt;<br></td>\n",
       "        <td>238499</td>\n",
       "        <td>None</td>\n",
       "        <td>0</td>\n",
       "        <td>None</td>\n",
       "        <td>None</td>\n",
       "        <td>2019-04-02 07:59:04</td>\n",
       "        <td>None</td>\n",
       "        <td>None</td>\n",
       "        <td>0</td>\n",
       "        <td>5</td>\n",
       "        <td>0</td>\n",
       "        <td>None</td>\n",
       "        <td>None</td>\n",
       "    </tr>\n",
       "</table>"
      ],
      "text/plain": [
       "[(394759, 1, 0, 0, '2019-02-27 19:39:14', 2, 48, '<p>Let\\'s say you have multiple sources of observation weights for a dataset. For example, you have a <span class=\"math-container\">$[0,1]$</span> wei ... (657 characters truncated) ...  of the above make (intuitive) sense on some level. Any ideas as to what is best practice or at least some pointers to literature on the topic?</p>\\n', 10433, None, 0, None, None, '2019-02-27 19:39:14', 'Combining multiple observation weights for classification', '<regression><classification><weights><weighted-data>', 0, 0, 0, None, None),\n",
       " (391067, 2, 0, 336338, '2019-02-06 12:49:01', 0, 0, '<p>If you are interested in positive smoothing, another solution could be to re-parameterize the coefficients of your smoother (I think it is what th ... (1865 characters truncated) ... //i.stack.imgur.com/Zk6J1.png\" rel=\"nofollow noreferrer\"><img src=\"https://i.stack.imgur.com/Zk6J1.png\" alt=\"enter image description here\"></a></p>\\n', 228386, None, 228386, None, '2019-02-06 15:00:55', '2019-02-06 15:00:55', None, None, 0, 0, 0, None, None),\n",
       " (415185, 1, 0, 0, '2019-06-28 12:23:04', 1, 24, \"<p>Where we have cluster-adjusted results from trials (summary statistics), under what circumstances can we include them in a standardised mean diffe ... (1217 characters truncated) ... the ns using the design effect and then calculate SMD and SE{SMD}. [edit: no, it isn't, see references provided by @Wolfgang]</p>\\n\\n<p>Thanks </p>\\n\", 252223, None, 252223, None, '2019-07-04 13:22:13', '2019-07-04 13:22:13', 'SMD meta-analysis including cluster-randomised trials: is it possible? If so, how?', '<meta-analysis><effect-size><cluster-sample>', 1, 2, 0, None, None),\n",
       " (396574, 1, 0, 0, '2019-03-09 19:47:31', 0, 11, '<p>I can not find clear literature on how to choose the penalty parameter in the logit multinomial ridge model. As read in the linear models and tryi ... (757 characters truncated) ... s it calculated like this?\\n<span class=\"math-container\">$GCV(\\\\lambda)_{1}=[(0,1,0)-(0.1,0.7,0.2)]^2$</span>\\nis correct?</p>\\n\\n<p>Thank you!</p>\\n', 224772, None, 0, None, None, '2019-03-09 19:47:31', 'choice of the lambda parameter in the logit multinomial ridge model', '<cross-validation><regularization><logit><ridge-regression><choice>', 0, 0, 0, None, None),\n",
       " (400725, 2, 0, 400316, '2019-04-02 07:59:04', -4, 0, '<p>Normal distributions are by definition non-skewed, so you can\\'t have both things. If the distribution is left-skewed, then it cannot be Gaussian. ... (113 characters truncated) ... f=\"https://en.wikipedia.org/wiki/Skew_normal_distribution\" rel=\"nofollow noreferrer\">https://en.wikipedia.org/wiki/Skew_normal_distribution</a></p>\\n', 238499, None, 0, None, None, '2019-04-02 07:59:04', None, None, 0, 5, 0, None, None)]"
      ]
     },
     "execution_count": 116,
     "metadata": {},
     "output_type": "execute_result"
    }
   ],
   "source": [
    "%%sql\n",
    "SELECT * FROM posts \n",
    "ORDER BY RANDOM() \n",
    "LIMIT 5;"
   ]
  },
  {
   "cell_type": "markdown",
   "metadata": {},
   "source": [
    "# Task 2: Create Single Table Queries\n"
   ]
  },
  {
   "cell_type": "markdown",
   "metadata": {},
   "source": [
    "## Lifecycle Stage: Analyze\n",
    "\n",
    "We are starting the analysis with single-table queries. To aid in one of the queries, we need to create a new computed column. The code below adds a new column named LEN_BODY, which represents the length of the text in the BODY column.\n"
   ]
  },
  {
   "cell_type": "code",
   "execution_count": 117,
   "metadata": {},
   "outputs": [
    {
     "name": "stdout",
     "output_type": "stream",
     "text": [
      " * sqlite:///chatdata.db\n",
      "Done.\n"
     ]
    },
    {
     "data": {
      "text/plain": [
       "[]"
      ]
     },
     "execution_count": 117,
     "metadata": {},
     "output_type": "execute_result"
    }
   ],
   "source": [
    "%%sql\n",
    "ALTER TABLE POSTS ADD COLUMN LEN_BODY INT"
   ]
  },
  {
   "cell_type": "code",
   "execution_count": 118,
   "metadata": {
    "scrolled": true
   },
   "outputs": [
    {
     "name": "stdout",
     "output_type": "stream",
     "text": [
      " * sqlite:///chatdata.db\n",
      "42234 rows affected.\n"
     ]
    },
    {
     "data": {
      "text/plain": [
       "[]"
      ]
     },
     "execution_count": 118,
     "metadata": {},
     "output_type": "execute_result"
    }
   ],
   "source": [
    "%%sql\n",
    "UPDATE POSTS SET LEN_BODY = LENGTH(BODY)"
   ]
  },
  {
   "cell_type": "markdown",
   "metadata": {},
   "source": [
    "### Single Table Queries\n",
    "\n",
    "From the Template SQL Queries there are a series of queries requested. You are responsible for coding the result. Use the pattern above to accomplish the coding objective.  Copy and paste the question (column B Action) into a markdown cell and answer the query. Use the pattern that you have been using above. \n"
   ]
  },
  {
   "cell_type": "markdown",
   "metadata": {},
   "source": [
    "Most queries will aim to follow the \n",
    "\n",
    "CORRECT KEYWORD ORDER\n",
    "SQL is extremely sensitive to keyword order. So make sure you keep it right:\n",
    "1. SELECT and COUNT as per requirement\n",
    "2. FROM\n",
    "3. WHERE\n",
    "4. ORDER BY/GROUP BY as per requirement and vice versa\n",
    "5. LIMIT\n",
    "\n",
    "Or te second keyword order:\n",
    "\n",
    "\n",
    "1. SELECT\n",
    "2. FROM\n",
    "3. JOIN (ON)\n",
    "4. WHERE\n",
    "5. GROUP BY\n",
    "6. HAVING\n",
    "7. ORDER BY\n",
    "8. LIMIT"
   ]
  },
  {
   "cell_type": "markdown",
   "metadata": {},
   "source": [
    "How many posts have 0 comments?\n",
    "The query counts the number of posts where the number of comments is zero, and returns the result with the column name \"comment_count\"."
   ]
  },
  {
   "cell_type": "code",
   "execution_count": 119,
   "metadata": {
    "scrolled": false
   },
   "outputs": [
    {
     "name": "stdout",
     "output_type": "stream",
     "text": [
      " * sqlite:///chatdata.db\n",
      "Done.\n"
     ]
    },
    {
     "data": {
      "text/html": [
       "<table>\n",
       "    <tr>\n",
       "        <th>comment_count</th>\n",
       "    </tr>\n",
       "    <tr>\n",
       "        <td>21713</td>\n",
       "    </tr>\n",
       "</table>"
      ],
      "text/plain": [
       "[(21713,)]"
      ]
     },
     "execution_count": 119,
     "metadata": {},
     "output_type": "execute_result"
    }
   ],
   "source": [
    "%%sql\n",
    "SELECT COUNT(*) AS comment_count\n",
    "FROM posts\n",
    "WHERE CommentCount = 0;"
   ]
  },
  {
   "cell_type": "markdown",
   "metadata": {},
   "source": [
    "How many posts have 1 comments?\n",
    "\n",
    "This SQL query selects the count of all rows in the \"posts\" table where the \"CommentCount\" column has a value of 1, and the result is named \"comment_count_1\"."
   ]
  },
  {
   "cell_type": "code",
   "execution_count": 120,
   "metadata": {},
   "outputs": [
    {
     "name": "stdout",
     "output_type": "stream",
     "text": [
      " * sqlite:///chatdata.db\n",
      "Done.\n"
     ]
    },
    {
     "data": {
      "text/html": [
       "<table>\n",
       "    <tr>\n",
       "        <th>comment_count_1</th>\n",
       "    </tr>\n",
       "    <tr>\n",
       "        <td>6460</td>\n",
       "    </tr>\n",
       "</table>"
      ],
      "text/plain": [
       "[(6460,)]"
      ]
     },
     "execution_count": 120,
     "metadata": {},
     "output_type": "execute_result"
    }
   ],
   "source": [
    "%%sql\n",
    "SELECT COUNT(*) AS comment_count_1\n",
    "FROM posts\n",
    "WHERE CommentCount = 1;"
   ]
  },
  {
   "cell_type": "markdown",
   "metadata": {},
   "source": [
    "How many posts have 2 comments or more?\n",
    "\n",
    "This SQL query returns the number of posts that have 2 or more comments by counting the entries in the \"posts\" table where the \"CommentCount\" column is greater than or equal to 2, and naming the result as \"comment_count_2\"."
   ]
  },
  {
   "cell_type": "code",
   "execution_count": 121,
   "metadata": {},
   "outputs": [
    {
     "name": "stdout",
     "output_type": "stream",
     "text": [
      " * sqlite:///chatdata.db\n",
      "Done.\n"
     ]
    },
    {
     "data": {
      "text/html": [
       "<table>\n",
       "    <tr>\n",
       "        <th>comment_count_2</th>\n",
       "    </tr>\n",
       "    <tr>\n",
       "        <td>14061</td>\n",
       "    </tr>\n",
       "</table>"
      ],
      "text/plain": [
       "[(14061,)]"
      ]
     },
     "execution_count": 121,
     "metadata": {},
     "output_type": "execute_result"
    }
   ],
   "source": [
    "%%sql\n",
    "SELECT COUNT(*) AS comment_count_2\n",
    "FROM posts\n",
    "WHERE CommentCount >= 2;"
   ]
  },
  {
   "cell_type": "markdown",
   "metadata": {},
   "source": [
    "Find the 5 posts with the highest viewcount.\n",
    "\n",
    "The query selects all columns and orders the \"posts\" table by \"ViewCount\" in descending order, and returns the top 5 rows.\n"
   ]
  },
  {
   "cell_type": "code",
   "execution_count": 122,
   "metadata": {},
   "outputs": [
    {
     "name": "stdout",
     "output_type": "stream",
     "text": [
      " * sqlite:///chatdata.db\n",
      "Done.\n"
     ]
    },
    {
     "data": {
      "text/html": [
       "<table>\n",
       "    <tr>\n",
       "        <th>Id</th>\n",
       "        <th>PostTypeId</th>\n",
       "        <th>AcceptedAnswerId</th>\n",
       "        <th>ParentId</th>\n",
       "        <th>CreationDate</th>\n",
       "        <th>Score</th>\n",
       "        <th>ViewCount</th>\n",
       "        <th>Body</th>\n",
       "        <th>OwnerUserId</th>\n",
       "        <th>OwnerDisplayName</th>\n",
       "        <th>LastEditorUserId</th>\n",
       "        <th>LastEditorDisplayName</th>\n",
       "        <th>LastEditDate</th>\n",
       "        <th>LastActivityDate</th>\n",
       "        <th>Title</th>\n",
       "        <th>Tags</th>\n",
       "        <th>AnswerCount</th>\n",
       "        <th>CommentCount</th>\n",
       "        <th>FavoriteCount</th>\n",
       "        <th>ClosedDate</th>\n",
       "        <th>CommunityOwnedDate</th>\n",
       "        <th>LEN_BODY</th>\n",
       "    </tr>\n",
       "    <tr>\n",
       "        <td>388566</td>\n",
       "        <td>1</td>\n",
       "        <td>388582</td>\n",
       "        <td>0</td>\n",
       "        <td>2019-01-22 15:16:47</td>\n",
       "        <td>56</td>\n",
       "        <td>19542</td>\n",
       "        <td>&lt;ul&gt;<br>&lt;li&gt;Statement One (S1): &quot;One in 80 deaths is caused by a car accident.&quot;&lt;/li&gt;<br>&lt;li&gt;Statement Two (S2): &quot;One in 80 people dies as a result of a car accident.&quot;&lt;/li&gt;<br>&lt;/ul&gt;<br><br>&lt;p&gt;Now, I personally don&#x27;t see very much difference at all between these two statements. When writing, I would consider them interchangeable to a lay audience. However, I&#x27;ve been challenged on this by two people now, and am looking for some additional perspective.&lt;/p&gt;<br><br>&lt;p&gt;My default interpretation of S2 is, &quot;Of 80 people drawn uniformly at random from the population of humans, we would expect one of them to die as a result of a car accident&quot;- and I do consider this qualified statement equivalent to S1. &lt;/p&gt;<br><br>&lt;p&gt;My questions are as follows:&lt;/p&gt;<br><br>&lt;ul&gt;<br>&lt;li&gt;&lt;p&gt;Q1) Is my default interpretation indeed equivalent to Statement One?&lt;/p&gt;&lt;/li&gt;<br>&lt;li&gt;&lt;p&gt;Q2) Is unusual or reckless for this to be my default interpretation?&lt;/p&gt;&lt;/li&gt;<br>&lt;li&gt;&lt;p&gt;Q3) If you do think S1 and S2 different, such that to state the second when one means the first is misleading/incorrect, could you please provide a fully-qualified revision of S2 that is equivalent?&lt;/p&gt;&lt;/li&gt;<br>&lt;/ul&gt;<br><br>&lt;p&gt;Let&#x27;s put aside the obvious quibble that S1 does not specifically refer to human deaths and assume that that is understood in context. Let us also put aside any discussion of the veracity of the claim itself: it is meant to be illustrative.&lt;/p&gt;<br><br>&lt;p&gt;As best I can tell, the disagreements I&#x27;ve heard so far seem to center around defaulting to different interpretations of the first and second statement.&lt;/p&gt;<br><br>&lt;p&gt;For the first, my challengers seem to interpret it as as 1/80 * num_deaths = number of deaths caused by car accidents, but for some reason, default to a different interpretation of the second along the lines of, &quot;if you have any set of 80 people, one of them &lt;em&gt;will&lt;/em&gt; die in a car accident&quot; (which is obviously not an equivalent claim). I would think that given their interpretation of S1, their default for S2 would be to read it as (1/80 * num_dead_people = number of people who died in a car accident == number of deaths caused by car accident). I&#x27;m not sure why the discrepancy in interpretation (their default for S2 is a much stronger assumption), or if they have some innate statistical sense that I&#x27;m in fact lacking. &lt;/p&gt;<br></td>\n",
       "        <td>228214</td>\n",
       "        <td>None</td>\n",
       "        <td>164061</td>\n",
       "        <td>None</td>\n",
       "        <td>2019-01-22 21:40:39</td>\n",
       "        <td>2019-01-24 17:09:47</td>\n",
       "        <td>Is it wrong to rephrase &quot;1 in 80 deaths is caused by a car accident&quot; as &quot;1 in 80 people die as a result of a car accident?&quot;</td>\n",
       "        <td>&lt;interpretation&gt;&lt;risk&gt;</td>\n",
       "        <td>9</td>\n",
       "        <td>15</td>\n",
       "        <td>15</td>\n",
       "        <td>None</td>\n",
       "        <td>None</td>\n",
       "        <td>2270</td>\n",
       "    </tr>\n",
       "    <tr>\n",
       "        <td>394118</td>\n",
       "        <td>1</td>\n",
       "        <td>394128</td>\n",
       "        <td>0</td>\n",
       "        <td>2019-02-24 14:07:11</td>\n",
       "        <td>64</td>\n",
       "        <td>16317</td>\n",
       "        <td>&lt;p&gt;A human child at age 2 needs around 5 instances of a car to be able to identify it with reasonable accuracy regardless of color, make, etc. When my son was 2, he was able to identify trams and trains, even though he had seen just a few. Since he was usually confusing one with each other, apparently his neural network was not trained enough, but still.&lt;/p&gt;<br><br>&lt;p&gt;What is it that artificial neural networks are missing that prevent them from being able to learn way quicker? Is transfer learning an answer?&lt;/p&gt;<br></td>\n",
       "        <td>107213</td>\n",
       "        <td>None</td>\n",
       "        <td>7291</td>\n",
       "        <td>None</td>\n",
       "        <td>2019-02-25 22:40:22</td>\n",
       "        <td>2019-03-03 17:37:05</td>\n",
       "        <td>Why do neural networks need so many training examples to perform?</td>\n",
       "        <td>&lt;neural-networks&gt;&lt;neuroscience&gt;</td>\n",
       "        <td>12</td>\n",
       "        <td>24</td>\n",
       "        <td>38</td>\n",
       "        <td>None</td>\n",
       "        <td>None</td>\n",
       "        <td>512</td>\n",
       "    </tr>\n",
       "    <tr>\n",
       "        <td>431370</td>\n",
       "        <td>1</td>\n",
       "        <td>431397</td>\n",
       "        <td>0</td>\n",
       "        <td>2019-10-14 11:29:21</td>\n",
       "        <td>77</td>\n",
       "        <td>11723</td>\n",
       "        <td>&lt;p&gt;It seems very counter intuitive to many people that a given diagnostic test with very high accuracy (say 99%) can generate massively more false positives than true positives in some situations, namely where the population of true positives is very small compared to whole population.&lt;/p&gt;<br><br>&lt;p&gt;I see people making this mistake often e.g. when arguing for wider public health screenings, or wider anti-crime surveillance measures etc but I am at a loss for how to succinctly describe the mistake people are making.&lt;/p&gt;<br><br>&lt;p&gt;Does this phenomenon / statistical fallacy have a name? Failing that has anyone got a good, terse, jargon free intuition/example that would help me explain it to a lay person.&lt;/p&gt;<br><br>&lt;p&gt;Apologies if this is the wrong forum to ask this. If so please direct me to a more appropriate one.&lt;/p&gt;<br></td>\n",
       "        <td>262594</td>\n",
       "        <td>None</td>\n",
       "        <td>11887</td>\n",
       "        <td>None</td>\n",
       "        <td>2019-11-28 01:44:34</td>\n",
       "        <td>2019-11-28 01:44:34</td>\n",
       "        <td>Is there a name for the phenomenon of false positives counterintuitively outstripping true positives</td>\n",
       "        <td>&lt;probability&gt;&lt;terminology&gt;&lt;intuition&gt;</td>\n",
       "        <td>8</td>\n",
       "        <td>9</td>\n",
       "        <td>18</td>\n",
       "        <td>None</td>\n",
       "        <td>None</td>\n",
       "        <td>811</td>\n",
       "    </tr>\n",
       "    <tr>\n",
       "        <td>398646</td>\n",
       "        <td>1</td>\n",
       "        <td>398653</td>\n",
       "        <td>0</td>\n",
       "        <td>2019-03-21 01:19:52</td>\n",
       "        <td>61</td>\n",
       "        <td>9850</td>\n",
       "        <td>&lt;p&gt;The title of the Comment in Nature &lt;a href=&quot;https://www.nature.com/articles/d41586-019-00857-9&quot; rel=&quot;noreferrer&quot;&gt;Scientists rise up against statistical significance&lt;/a&gt; begins with:&lt;/p&gt;<br><br>&lt;blockquote&gt;<br>  &lt;p&gt;Valentin Amrhein, Sander Greenland, Blake McShane and more than 800 signatories call for an end to hyped claims and the dismissal of possibly crucial effects.&lt;/p&gt;<br>&lt;/blockquote&gt;<br><br>&lt;p&gt;and later contains statements like:&lt;/p&gt;<br><br>&lt;blockquote&gt;<br>  &lt;p&gt;Again, we are not advocating a ban on P values, confidence intervals or other statistical measures — only that we should not treat them categorically. This includes dichotomization as statistically significant or not, as well as categorization based on other statistical measures such as Bayes factors.&lt;/p&gt;<br>&lt;/blockquote&gt;<br><br>&lt;p&gt;I think I can grasp that the image below does not say that the two studies disagree because one &quot;rules out&quot; no effect while the other does not. But the article seems to go into much more depth than I can understand. &lt;/p&gt;<br><br>&lt;p&gt;Towards the end there seems to be a summary in four points. Is it possible to summarize these in even simpler terms for those of us who &lt;em&gt;read statistics&lt;/em&gt; rather than write it?&lt;/p&gt;<br><br>&lt;blockquote&gt;<br>  &lt;p&gt;When talking about compatibility intervals, bear in mind four things. &lt;/p&gt;<br>  <br>  &lt;ul&gt;<br>  &lt;li&gt;&lt;p&gt;First, just because the interval gives the values most compatible with the data, given the assumptions, it doesn’t mean values outside it are incompatible; they are just less compatible...&lt;/p&gt;&lt;/li&gt;<br>  &lt;li&gt;&lt;p&gt;Second, not all values inside are equally compatible with the data, given the assumptions...&lt;/p&gt;&lt;/li&gt;<br>  &lt;li&gt;&lt;p&gt;Third, like the 0.05 threshold from which it came, the default 95% used to compute intervals is itself an arbitrary convention...&lt;/p&gt;&lt;/li&gt;<br>  &lt;li&gt;&lt;p&gt;Last, and most important of all, be humble: compatibility assessments hinge on the correctness of the statistical assumptions used to compute the interval...&lt;/p&gt;&lt;/li&gt;<br>  &lt;/ul&gt;<br>&lt;/blockquote&gt;<br><br>&lt;hr&gt;<br><br>&lt;p&gt;&lt;a href=&quot;https://i.stack.imgur.com/tgpft.jpg&quot; rel=&quot;noreferrer&quot;&gt;&lt;img src=&quot;https://i.stack.imgur.com/tgpft.jpg&quot; alt=&quot;Nature: Scientists rise up against statistical significance&quot;&gt;&lt;/a&gt;&lt;/p&gt;<br></td>\n",
       "        <td>163067</td>\n",
       "        <td>None</td>\n",
       "        <td>163067</td>\n",
       "        <td>None</td>\n",
       "        <td>2019-03-22 22:14:04</td>\n",
       "        <td>2019-03-30 19:35:27</td>\n",
       "        <td>What does &quot;Scientists rise up against statistical significance&quot; mean? (Comment in Nature)</td>\n",
       "        <td>&lt;statistical-significance&gt;&lt;p-value&gt;&lt;bias&gt;</td>\n",
       "        <td>10</td>\n",
       "        <td>7</td>\n",
       "        <td>34</td>\n",
       "        <td>None</td>\n",
       "        <td>None</td>\n",
       "        <td>2148</td>\n",
       "    </tr>\n",
       "    <tr>\n",
       "        <td>434128</td>\n",
       "        <td>1</td>\n",
       "        <td>434579</td>\n",
       "        <td>0</td>\n",
       "        <td>2019-11-01 13:07:36</td>\n",
       "        <td>73</td>\n",
       "        <td>6718</td>\n",
       "        <td>&lt;p&gt;I am designing a one year program in data analysis with a local community college. The program aims to prepare students to handle basic tasks in data analysis, visualization and summarization, advanced Excel skills and R programming. &lt;/p&gt;<br><br>&lt;p&gt;I would like to prepare a set of short, real world examples that illustrate where ordinary intuition fails and statistical analysis is necessary. I&#x27;m also interested in &quot;famous statistical fails&quot;, but more interested in the wins. The data involved should be freely available.&lt;/p&gt;<br><br>&lt;p&gt;A perfect example of what I&#x27;m looking for is the Berkeley discrimination case, which illustrates Simpson&#x27;s paradox. The data for that is memorialized in R&#x27;s datasets. &lt;/p&gt;<br><br>&lt;p&gt;Historical cases are also interesting. John Snow&#x27;s analysis of the Broad Street pump data is a good example of the power of visualization.&lt;/p&gt;<br><br>&lt;p&gt;There are a lot of fails in the collection of data (selection bias), etc. and the literature in medical statistics is full of them. &lt;/p&gt;<br><br>&lt;p&gt;A lot of &quot;statistical wins&quot; occur in the area of variable selection and sampling design. I&#x27;m interested in paradoxes that occur in other areas -- like the analysis as such. &lt;/p&gt;<br></td>\n",
       "        <td>14188</td>\n",
       "        <td>None</td>\n",
       "        <td>0</td>\n",
       "        <td>None</td>\n",
       "        <td>None</td>\n",
       "        <td>2019-11-26 00:59:15</td>\n",
       "        <td>Famous statistical wins and horror stories for teaching purposes</td>\n",
       "        <td>&lt;mathematical-statistics&gt;&lt;data-visualization&gt;&lt;experiment-design&gt;&lt;teaching&gt;</td>\n",
       "        <td>13</td>\n",
       "        <td>7</td>\n",
       "        <td>70</td>\n",
       "        <td>None</td>\n",
       "        <td>2019-11-01 15:12:41</td>\n",
       "        <td>1172</td>\n",
       "    </tr>\n",
       "</table>"
      ],
      "text/plain": [
       "[(388566, 1, 388582, 0, '2019-01-22 15:16:47', 56, 19542, '<ul>\\n<li>Statement One (S1): \"One in 80 deaths is caused by a car accident.\"</li>\\n<li>Statement Two (S2): \"One in 80 people dies as a result of a c ... (2000 characters truncated) ...  interpretation (their default for S2 is a much stronger assumption), or if they have some innate statistical sense that I\\'m in fact lacking. </p>\\n', 228214, None, 164061, None, '2019-01-22 21:40:39', '2019-01-24 17:09:47', 'Is it wrong to rephrase \"1 in 80 deaths is caused by a car accident\" as \"1 in 80 people die as a result of a car accident?\"', '<interpretation><risk>', 9, 15, 15, None, None, 2270),\n",
       " (394118, 1, 394128, 0, '2019-02-24 14:07:11', 64, 16317, '<p>A human child at age 2 needs around 5 instances of a car to be able to identify it with reasonable accuracy regardless of color, make, etc. When m ... (217 characters truncated) ... >What is it that artificial neural networks are missing that prevent them from being able to learn way quicker? Is transfer learning an answer?</p>\\n', 107213, None, 7291, None, '2019-02-25 22:40:22', '2019-03-03 17:37:05', 'Why do neural networks need so many training examples to perform?', '<neural-networks><neuroscience>', 12, 24, 38, None, None, 512),\n",
       " (431370, 1, 431397, 0, '2019-10-14 11:29:21', 77, 11723, '<p>It seems very counter intuitive to many people that a given diagnostic test with very high accuracy (say 99%) can generate massively more false po ... (520 characters truncated) ... lp me explain it to a lay person.</p>\\n\\n<p>Apologies if this is the wrong forum to ask this. If so please direct me to a more appropriate one.</p>\\n', 262594, None, 11887, None, '2019-11-28 01:44:34', '2019-11-28 01:44:34', 'Is there a name for the phenomenon of false positives counterintuitively outstripping true positives', '<probability><terminology><intuition>', 8, 9, 18, None, None, 811),\n",
       " (398646, 1, 398653, 0, '2019-03-21 01:19:52', 61, 9850, '<p>The title of the Comment in Nature <a href=\"https://www.nature.com/articles/d41586-019-00857-9\" rel=\"noreferrer\">Scientists rise up against statis ... (1880 characters truncated) ... pft.jpg\" rel=\"noreferrer\"><img src=\"https://i.stack.imgur.com/tgpft.jpg\" alt=\"Nature: Scientists rise up against statistical significance\"></a></p>\\n', 163067, None, 163067, None, '2019-03-22 22:14:04', '2019-03-30 19:35:27', 'What does \"Scientists rise up against statistical significance\" mean? (Comment in Nature)', '<statistical-significance><p-value><bias>', 10, 7, 34, None, None, 2148),\n",
       " (434128, 1, 434579, 0, '2019-11-01 13:07:36', 73, 6718, '<p>I am designing a one year program in data analysis with a local community college. The program aims to prepare students to handle basic tasks in d ... (891 characters truncated) ... ur in the area of variable selection and sampling design. I\\'m interested in paradoxes that occur in other areas -- like the analysis as such. </p>\\n', 14188, None, 0, None, None, '2019-11-26 00:59:15', 'Famous statistical wins and horror stories for teaching purposes', '<mathematical-statistics><data-visualization><experiment-design><teaching>', 13, 7, 70, None, '2019-11-01 15:12:41', 1172)]"
      ]
     },
     "execution_count": 122,
     "metadata": {},
     "output_type": "execute_result"
    }
   ],
   "source": [
    "%%sql\n",
    "SELECT *\n",
    "FROM posts\n",
    "ORDER BY ViewCount DESC\n",
    "LIMIT 5;"
   ]
  },
  {
   "cell_type": "markdown",
   "metadata": {},
   "source": [
    "Find the top 5 posts with the highest scores.\n",
    "\n",
    "The query retrieves all columns and rows from the \"posts\" table, orders the results based on the \"Score\" column in descending order, and limits the result set to the first 5 rows."
   ]
  },
  {
   "cell_type": "code",
   "execution_count": 123,
   "metadata": {},
   "outputs": [
    {
     "name": "stdout",
     "output_type": "stream",
     "text": [
      " * sqlite:///chatdata.db\n",
      "Done.\n"
     ]
    },
    {
     "data": {
      "text/html": [
       "<table>\n",
       "    <tr>\n",
       "        <th>Id</th>\n",
       "        <th>PostTypeId</th>\n",
       "        <th>AcceptedAnswerId</th>\n",
       "        <th>ParentId</th>\n",
       "        <th>CreationDate</th>\n",
       "        <th>Score</th>\n",
       "        <th>ViewCount</th>\n",
       "        <th>Body</th>\n",
       "        <th>OwnerUserId</th>\n",
       "        <th>OwnerDisplayName</th>\n",
       "        <th>LastEditorUserId</th>\n",
       "        <th>LastEditorDisplayName</th>\n",
       "        <th>LastEditDate</th>\n",
       "        <th>LastActivityDate</th>\n",
       "        <th>Title</th>\n",
       "        <th>Tags</th>\n",
       "        <th>AnswerCount</th>\n",
       "        <th>CommentCount</th>\n",
       "        <th>FavoriteCount</th>\n",
       "        <th>ClosedDate</th>\n",
       "        <th>CommunityOwnedDate</th>\n",
       "        <th>LEN_BODY</th>\n",
       "    </tr>\n",
       "    <tr>\n",
       "        <td>431397</td>\n",
       "        <td>2</td>\n",
       "        <td>0</td>\n",
       "        <td>431370</td>\n",
       "        <td>2019-10-14 14:29:36</td>\n",
       "        <td>101</td>\n",
       "        <td>0</td>\n",
       "        <td>&lt;p&gt;Yes there is. Generally it is termed &lt;strong&gt;base rate fallacy&lt;/strong&gt; or more specific &lt;strong&gt;false positive paradox&lt;/strong&gt;. There is even a wikipedia article about it: &lt;a href=&quot;https://en.wikipedia.org/wiki/Base_rate_fallacy&quot; rel=&quot;noreferrer&quot;&gt;see here&lt;/a&gt;&lt;/p&gt;<br></td>\n",
       "        <td>142976</td>\n",
       "        <td>None</td>\n",
       "        <td>0</td>\n",
       "        <td>None</td>\n",
       "        <td>None</td>\n",
       "        <td>2019-10-14 14:29:36</td>\n",
       "        <td>None</td>\n",
       "        <td>None</td>\n",
       "        <td>0</td>\n",
       "        <td>0</td>\n",
       "        <td>0</td>\n",
       "        <td>None</td>\n",
       "        <td>None</td>\n",
       "        <td>269</td>\n",
       "    </tr>\n",
       "    <tr>\n",
       "        <td>394128</td>\n",
       "        <td>2</td>\n",
       "        <td>0</td>\n",
       "        <td>394118</td>\n",
       "        <td>2019-02-24 15:44:44</td>\n",
       "        <td>100</td>\n",
       "        <td>0</td>\n",
       "        <td>&lt;p&gt;I caution against expecting strong resemblance between biological and artificial neural networks. I think the name &quot;neural networks&quot; is a bit dangerous, because it tricks people into expecting that neurological processes and machine learning should be the same. The differences between biological and artificial neural networks outweigh the similarities.&lt;/p&gt;<br><br>&lt;p&gt;As an example of how this can go awry, you can also turn the reasoning in the original post on its head. You can train a neural network to learn to recognize cars in an afternoon, provided you have a reasonably fast computer and some amount of training data. You can make this a binary task (car/not car) or a multi-class task (car/tram/bike/airplane/boat) and still be confident in a high level of success. &lt;/p&gt;<br><br>&lt;p&gt;By contrast, I wouldn&#x27;t expect a child to be able to pick out a car the day - or even the week - after it&#x27;s born, even after it has seen &quot;so many training examples.&quot; Something is obviously different between a two-year-old and an infant that accounts for the difference in learning ability, whereas a vanilla image classification neural network is perfectly capable of picking up object classification &lt;em&gt;immediately&lt;/em&gt; after &quot;birth.&quot; I think that there are two important differences: (1) the relative volumes of training data available and (2) a self-teaching mechanism that develops over time because of abundant training data.&lt;/p&gt;<br><br>&lt;hr&gt;<br><br>&lt;p&gt;The original post exposes two questions. The title and body of the question ask why neural networks need &quot;so many examples.&quot; Relative to a child&#x27;s experience, neural networks trained using common image benchmarks have comparatively little data.&lt;/p&gt;<br><br>&lt;p&gt;I will re-phrases the question in the title to &lt;/p&gt;<br><br>&lt;h1&gt;&quot;How does training a neural network for a common image benchmark compare &amp;amp; contrast to the learning experience of a child?&quot;&lt;/h1&gt;<br><br>&lt;p&gt;For the sake of comparison I&#x27;ll consider the CIFAR-10 data because it is a common image benchmark. The labeled portion is composed of 10 classes of images with 6000 images per class. Each image is 32x32 pixels. If you somehow stacked the labeled images from CIFAR-10 and made a standard 48 fps video, you&#x27;d have about 20 minutes of footage.&lt;/p&gt;<br><br>&lt;p&gt;A child of 2 years who observes the world for 12 hours daily has roughly 263000 minutes (more than 4000 hours) of direct observations of the world, including feedback from adults (labels). (These are just ballpark figures -- I don&#x27;t know how many minutes a typical two-year-old has spent observing the world.) Moreover, the child will have exposure to many, many objects beyond the 10 classes that comprise CIFAR-10.&lt;/p&gt;<br><br>&lt;p&gt;So there are a few things at play. One is that the child has exposure to more data overall and a more diverse source of data than the CIFAR-10 model has. Data diversity and data volume are well-recognized as pre-requisites for robust models in general. In this light, it doesn&#x27;t seem surprising that a neural network is worse at this task than the child, because a neural network trained on CIFAR-10 is positively starved for training data compared to the two-year-old. The image resolution available to a child is better than the 32x32 CIFAR-10 images, so the child is able to learn information about the fine details of objects.&lt;/p&gt;<br><br>&lt;p&gt;The CIFAR-10 to two-year-old comparison is not perfect because the CIFAR-10 model will likely be trained with multiple passes over the same static images, while the child will see, using binocular vision, how objects are arranged in a three-dimensional world while moving about and with different lighting conditions and perspectives on the same objects.&lt;/p&gt;<br><br>&lt;p&gt;The anecdote about OP&#x27;s child implies a second question, &lt;/p&gt;<br><br>&lt;h1&gt;&quot;How can neural networks become self-teaching?&quot;&lt;/h1&gt;<br><br>&lt;p&gt;A child is endowed with some talent for self-teaching, so that new categories of objects can be added over time without having to start over from scratch. &lt;/p&gt;<br><br>&lt;ul&gt;<br>&lt;li&gt;&lt;p&gt;OP&#x27;s remark about &lt;a href=&quot;/questions/tagged/transfer-learning&quot; class=&quot;post-tag&quot; title=&quot;show questions tagged &amp;#39;transfer-learning&amp;#39;&quot; rel=&quot;tag&quot;&gt;transfer-learning&lt;/a&gt; names one kind of model adaptation in the machine learning context.&lt;/p&gt;&lt;/li&gt;<br>&lt;li&gt;&lt;p&gt;In comments, other users have pointed out that one- and few-shot learning* is another machine learning research area.&lt;/p&gt;&lt;/li&gt;<br>&lt;li&gt;&lt;p&gt;Additionally, &lt;a href=&quot;/questions/tagged/reinforcement-learning&quot; class=&quot;post-tag&quot; title=&quot;show questions tagged &amp;#39;reinforcement-learning&amp;#39;&quot; rel=&quot;tag&quot;&gt;reinforcement-learning&lt;/a&gt; addresses self-teaching models from a different perspective, essentially allowing robots to undertake trial-and-error experimentation to find optimal strategies for solving specific problems (e.g. playing chess).&lt;/p&gt;&lt;/li&gt;<br>&lt;/ul&gt;<br><br>&lt;p&gt;It&#x27;s probably true that all three of these machine learning paradigms are germane to improving how machines adapt to new computer vision tasks. Quickly adapting machine learning models to new tasks is an active area of research. However, because the practical goals of these projects (identify new instances of malware, recognize imposters in passport photos, index the internet) and criteria for success differ from the goals of a child learning about the world, and the fact that one is done in a computer using math and the other is done in organic material using chemistry, direct comparisons between the two will remain fraught.&lt;/p&gt;<br><br>&lt;hr&gt;<br><br>&lt;p&gt;As an aside, it would be interesting to study how to flip the CIFAR-10 problem around and train a neural network to recognize 6000 objects from 10 examples of each. But even this wouldn&#x27;t be a fair comparison to 2-year-old, because there would still be a large discrepancy in the total volume, diversity and resolution of the training data.&lt;/p&gt;<br><br>&lt;p&gt;*We don&#x27;t presently have a tags for one-shot learning or few-shot learning.&lt;/p&gt;<br></td>\n",
       "        <td>22311</td>\n",
       "        <td>None</td>\n",
       "        <td>22311</td>\n",
       "        <td>None</td>\n",
       "        <td>2019-03-03 17:37:05</td>\n",
       "        <td>2019-03-03 17:37:05</td>\n",
       "        <td>None</td>\n",
       "        <td>None</td>\n",
       "        <td>0</td>\n",
       "        <td>15</td>\n",
       "        <td>0</td>\n",
       "        <td>None</td>\n",
       "        <td>None</td>\n",
       "        <td>5829</td>\n",
       "    </tr>\n",
       "    <tr>\n",
       "        <td>426878</td>\n",
       "        <td>2</td>\n",
       "        <td>0</td>\n",
       "        <td>426873</td>\n",
       "        <td>2019-09-11 23:23:31</td>\n",
       "        <td>93</td>\n",
       "        <td>0</td>\n",
       "        <td>&lt;p&gt;&lt;strong&gt;tl;dr&lt;/strong&gt; Even though this is an image classification dataset, it remains a &lt;strong&gt;very easy&lt;/strong&gt; task, for which one can easily find a &lt;strong&gt;direct mapping&lt;/strong&gt; from inputs to predictions.&lt;/p&gt;<br><br>&lt;hr&gt;<br><br>&lt;p&gt;&lt;strong&gt;Answer:&lt;/strong&gt;&lt;/p&gt;<br><br>&lt;p&gt;This is a very interesting question and thanks to the simplicity of logistic regression you can actually find out the answer. &lt;/p&gt;<br><br>&lt;p&gt;What logistic regression does is for each image accept &lt;span class=&quot;math-container&quot;&gt;$784$&lt;/span&gt; inputs and multiply them with weights to generate its prediction. The interesting thing is that due to the direct mapping between input and output (i.e. no hidden layer), the value of each weight corresponds to how much each one of the &lt;span class=&quot;math-container&quot;&gt;$784$&lt;/span&gt; inputs are taken into account when computing the probability of each class. Now, by taking the weights for each class and reshaping them into &lt;span class=&quot;math-container&quot;&gt;$28 \\times 28$&lt;/span&gt; (i.e. the image resolution), we can tell &lt;strong&gt;what pixels are most important for the computation of each class&lt;/strong&gt;.&lt;/p&gt;<br><br>&lt;p&gt;&lt;img src=&quot;https://i.stack.imgur.com/5IfjY.png&quot; alt=&quot;&quot;&gt;&lt;/p&gt;<br><br>&lt;p&gt;Note, again, that these are the &lt;strong&gt;weights&lt;/strong&gt;.&lt;/p&gt;<br><br>&lt;p&gt;Now take a look at the above image and focus on the first two digits (i.e. zero and one). Blue weights mean that this pixel&#x27;s intensity contributes a lot for that class and red values mean that it contributes negatively. &lt;/p&gt;<br><br>&lt;p&gt;Now imagine, how does a person draw a &lt;span class=&quot;math-container&quot;&gt;$0$&lt;/span&gt;? He draws a circular shape that&#x27;s empty in between. That&#x27;s exactly what the weights picked up on. In fact if someone draws the middle of the image, it counts &lt;strong&gt;negatively&lt;/strong&gt; as a zero. So to recognize zeros you don&#x27;t need some sophisticated filters and high-level features. You can just look at the drawn pixel locations and judge according to this.&lt;/p&gt;<br><br>&lt;p&gt;Same thing for the &lt;span class=&quot;math-container&quot;&gt;$1$&lt;/span&gt;. It always has a straight vertical line in the middle of the image. All else counts negatively.&lt;/p&gt;<br><br>&lt;p&gt;The rest of the digits are a bit more complicated, but with little imaginations you can see the &lt;span class=&quot;math-container&quot;&gt;$2$&lt;/span&gt;, the &lt;span class=&quot;math-container&quot;&gt;$3$&lt;/span&gt;, the &lt;span class=&quot;math-container&quot;&gt;$7$&lt;/span&gt; and the &lt;span class=&quot;math-container&quot;&gt;$8$&lt;/span&gt;. The rest of the numbers are a bit more difficult, which is what actually limits the logistic regression from reaching the high-90s.&lt;/p&gt;<br><br>&lt;p&gt;Through this you can see that logistic regression has a very good chance of getting a lot of images right and that&#x27;s why it scores so high.&lt;/p&gt;<br><br>&lt;hr&gt;<br><br>&lt;p&gt;The code to reproduce the above figure is a bit dated, but here you go:&lt;/p&gt;<br><br>&lt;pre class=&quot;lang-py prettyprint-override&quot;&gt;&lt;code&gt;import tensorflow as tf<br>import matplotlib.pyplot as plt<br>from tensorflow.examples.tutorials.mnist import input_data<br><br># Load MNIST:<br>mnist = input_data.read_data_sets(&quot;MNIST_data/&quot;, one_hot=True)<br><br># Create model<br>x = tf.placeholder(tf.float32, shape=(None, 784))<br>y = tf.placeholder(tf.float32, shape=(None, 10))<br><br>W = tf.Variable(tf.zeros((784,10)))<br>b = tf.Variable(tf.zeros((10)))<br>z = tf.matmul(x, W) + b<br><br>y_hat = tf.nn.softmax(z)<br>cross_entropy = tf.reduce_mean(-tf.reduce_sum(y * tf.log(y_hat), reduction_indices=[1]))<br>optimizer = tf.train.GradientDescentOptimizer(0.5).minimize(cross_entropy) # <br><br>correct_pred = tf.equal(tf.argmax(y_hat, 1), tf.argmax(y, 1))<br>accuracy = tf.reduce_mean(tf.cast(correct_pred, tf.float32))<br><br># Train model<br>batch_size = 64<br>with tf.Session() as sess:<br><br>    loss_tr, acc_tr, loss_ts, acc_ts = [], [], [], []<br><br>    sess.run(tf.global_variables_initializer()) <br><br>    for step in range(1, 1001):<br><br>        x_batch, y_batch = mnist.train.next_batch(batch_size) <br>        sess.run(optimizer, feed_dict={x: x_batch, y: y_batch})<br><br>        l_tr, a_tr = sess.run([cross_entropy, accuracy], feed_dict={x: x_batch, y: y_batch})<br>        l_ts, a_ts = sess.run([cross_entropy, accuracy], feed_dict={x: mnist.test.images, y: mnist.test.labels})<br>        loss_tr.append(l_tr)<br>        acc_tr.append(a_tr)<br>        loss_ts.append(l_ts)<br>        acc_ts.append(a_ts)<br><br>    weights = sess.run(W)      <br>    print(&#x27;Test Accuracy =&#x27;, sess.run(accuracy, feed_dict={x: mnist.test.images, y: mnist.test.labels})) <br><br># Plotting:<br>for i in range(10):<br>    plt.subplot(2, 5, i+1)<br>    weight = weights[:,i].reshape([28,28])<br>    plt.title(i)<br>    plt.imshow(weight, cmap=&#x27;RdBu&#x27;)  # as noted by @Eric Duminil, cmap=&#x27;gray&#x27; makes the numbers stand out more<br>    frame1 = plt.gca()<br>    frame1.axes.get_xaxis().set_visible(False)<br>    frame1.axes.get_yaxis().set_visible(False)<br>&lt;/code&gt;&lt;/pre&gt;<br></td>\n",
       "        <td>119015</td>\n",
       "        <td>None</td>\n",
       "        <td>119015</td>\n",
       "        <td>None</td>\n",
       "        <td>2019-09-13 14:02:28</td>\n",
       "        <td>2019-09-13 14:02:28</td>\n",
       "        <td>None</td>\n",
       "        <td>None</td>\n",
       "        <td>0</td>\n",
       "        <td>6</td>\n",
       "        <td>0</td>\n",
       "        <td>None</td>\n",
       "        <td>None</td>\n",
       "        <td>4627</td>\n",
       "    </tr>\n",
       "    <tr>\n",
       "        <td>388578</td>\n",
       "        <td>2</td>\n",
       "        <td>0</td>\n",
       "        <td>388566</td>\n",
       "        <td>2019-01-22 15:48:47</td>\n",
       "        <td>80</td>\n",
       "        <td>0</td>\n",
       "        <td>&lt;p&gt;To me &quot;1 in 80 deaths...&quot; is by far the clearer statement.  The denominator in your &quot;1 in 80&quot; is the set of all death events and that statement makes it explicit. &lt;/p&gt;<br><br>&lt;p&gt;There&#x27;s ambiguity in the &quot;1 in 80 people...&quot; formulation. You really mean &quot;1 in 80 people who dies...&quot; but the statement can just as easily be interpreted as &quot;1 in 80 people now alive...&quot; or similar. &lt;/p&gt;<br><br>&lt;p&gt;I&#x27;m all for being explicit about the reference set in probability or frequency assertions like this. If you&#x27;re talking about the proportion of deaths, then say &quot;deaths&quot; not &quot;people&quot;. &lt;/p&gt;<br></td>\n",
       "        <td>227039</td>\n",
       "        <td>None</td>\n",
       "        <td>0</td>\n",
       "        <td>None</td>\n",
       "        <td>None</td>\n",
       "        <td>2019-01-22 15:48:47</td>\n",
       "        <td>None</td>\n",
       "        <td>None</td>\n",
       "        <td>0</td>\n",
       "        <td>11</td>\n",
       "        <td>0</td>\n",
       "        <td>None</td>\n",
       "        <td>None</td>\n",
       "        <td>572</td>\n",
       "    </tr>\n",
       "    <tr>\n",
       "        <td>431370</td>\n",
       "        <td>1</td>\n",
       "        <td>431397</td>\n",
       "        <td>0</td>\n",
       "        <td>2019-10-14 11:29:21</td>\n",
       "        <td>77</td>\n",
       "        <td>11723</td>\n",
       "        <td>&lt;p&gt;It seems very counter intuitive to many people that a given diagnostic test with very high accuracy (say 99%) can generate massively more false positives than true positives in some situations, namely where the population of true positives is very small compared to whole population.&lt;/p&gt;<br><br>&lt;p&gt;I see people making this mistake often e.g. when arguing for wider public health screenings, or wider anti-crime surveillance measures etc but I am at a loss for how to succinctly describe the mistake people are making.&lt;/p&gt;<br><br>&lt;p&gt;Does this phenomenon / statistical fallacy have a name? Failing that has anyone got a good, terse, jargon free intuition/example that would help me explain it to a lay person.&lt;/p&gt;<br><br>&lt;p&gt;Apologies if this is the wrong forum to ask this. If so please direct me to a more appropriate one.&lt;/p&gt;<br></td>\n",
       "        <td>262594</td>\n",
       "        <td>None</td>\n",
       "        <td>11887</td>\n",
       "        <td>None</td>\n",
       "        <td>2019-11-28 01:44:34</td>\n",
       "        <td>2019-11-28 01:44:34</td>\n",
       "        <td>Is there a name for the phenomenon of false positives counterintuitively outstripping true positives</td>\n",
       "        <td>&lt;probability&gt;&lt;terminology&gt;&lt;intuition&gt;</td>\n",
       "        <td>8</td>\n",
       "        <td>9</td>\n",
       "        <td>18</td>\n",
       "        <td>None</td>\n",
       "        <td>None</td>\n",
       "        <td>811</td>\n",
       "    </tr>\n",
       "</table>"
      ],
      "text/plain": [
       "[(431397, 2, 0, 431370, '2019-10-14 14:29:36', 101, 0, '<p>Yes there is. Generally it is termed <strong>base rate fallacy</strong> or more specific <strong>false positive paradox</strong>. There is even a wikipedia article about it: <a href=\"https://en.wikipedia.org/wiki/Base_rate_fallacy\" rel=\"noreferrer\">see here</a></p>\\n', 142976, None, 0, None, None, '2019-10-14 14:29:36', None, None, 0, 0, 0, None, None, 269),\n",
       " (394128, 2, 0, 394118, '2019-02-24 15:44:44', 100, 0, '<p>I caution against expecting strong resemblance between biological and artificial neural networks. I think the name \"neural networks\" is a bit dang ... (5584 characters truncated) ... l volume, diversity and resolution of the training data.</p>\\n\\n<p>*We don\\'t presently have a tags for one-shot learning or few-shot learning.</p>\\n', 22311, None, 22311, None, '2019-03-03 17:37:05', '2019-03-03 17:37:05', None, None, 0, 15, 0, None, None, 5829),\n",
       " (426878, 2, 0, 426873, '2019-09-11 23:23:31', 93, 0, '<p><strong>tl;dr</strong> Even though this is an image classification dataset, it remains a <strong>very easy</strong> task, for which one can easily ... (4424 characters truncated) ... and out more\\n    frame1 = plt.gca()\\n    frame1.axes.get_xaxis().set_visible(False)\\n    frame1.axes.get_yaxis().set_visible(False)\\n</code></pre>\\n', 119015, None, 119015, None, '2019-09-13 14:02:28', '2019-09-13 14:02:28', None, None, 0, 6, 0, None, None, 4627),\n",
       " (388578, 2, 0, 388566, '2019-01-22 15:48:47', 80, 0, '<p>To me \"1 in 80 deaths...\" is by far the clearer statement.  The denominator in your \"1 in 80\" is the set of all death events and that statement ma ... (282 characters truncated) ... rence set in probability or frequency assertions like this. If you\\'re talking about the proportion of deaths, then say \"deaths\" not \"people\". </p>\\n', 227039, None, 0, None, None, '2019-01-22 15:48:47', None, None, 0, 11, 0, None, None, 572),\n",
       " (431370, 1, 431397, 0, '2019-10-14 11:29:21', 77, 11723, '<p>It seems very counter intuitive to many people that a given diagnostic test with very high accuracy (say 99%) can generate massively more false po ... (520 characters truncated) ... lp me explain it to a lay person.</p>\\n\\n<p>Apologies if this is the wrong forum to ask this. If so please direct me to a more appropriate one.</p>\\n', 262594, None, 11887, None, '2019-11-28 01:44:34', '2019-11-28 01:44:34', 'Is there a name for the phenomenon of false positives counterintuitively outstripping true positives', '<probability><terminology><intuition>', 8, 9, 18, None, None, 811)]"
      ]
     },
     "execution_count": 123,
     "metadata": {},
     "output_type": "execute_result"
    }
   ],
   "source": [
    "%%sql\n",
    "SELECT *\n",
    "FROM posts\n",
    "ORDER BY Score DESC\n",
    "LIMIT 5;"
   ]
  },
  {
   "cell_type": "markdown",
   "metadata": {},
   "source": [
    "What are the 5 most frequent scores on posts?\n",
    "\n",
    "https://stackoverflow.com/questions/12235595/find-most-frequent-value-in-sql-column \n",
    "SELECT\n",
    "  <column_name>,\n",
    "  COUNT(<column_name>) AS `value_occurrence` \n",
    "\n",
    "FROM\n",
    "  <my_table>\n",
    "\n",
    "GROUP BY \n",
    "  <column_name>\n",
    "\n",
    "ORDER BY \n",
    "  `value_occurrence` DESC\n",
    "\n",
    "LIMIT 1;\n",
    "\n",
    "This query retrieves the 5 most frequent scores and their count from the posts table and orders them by their count in descending order."
   ]
  },
  {
   "cell_type": "code",
   "execution_count": 124,
   "metadata": {},
   "outputs": [
    {
     "name": "stdout",
     "output_type": "stream",
     "text": [
      " * sqlite:///chatdata.db\n",
      "Done.\n"
     ]
    },
    {
     "data": {
      "text/html": [
       "<table>\n",
       "    <tr>\n",
       "        <th>Score</th>\n",
       "        <th>count</th>\n",
       "    </tr>\n",
       "    <tr>\n",
       "        <td>0</td>\n",
       "        <td>19888</td>\n",
       "    </tr>\n",
       "    <tr>\n",
       "        <td>1</td>\n",
       "        <td>11867</td>\n",
       "    </tr>\n",
       "    <tr>\n",
       "        <td>2</td>\n",
       "        <td>5094</td>\n",
       "    </tr>\n",
       "    <tr>\n",
       "        <td>3</td>\n",
       "        <td>2228</td>\n",
       "    </tr>\n",
       "    <tr>\n",
       "        <td>4</td>\n",
       "        <td>1059</td>\n",
       "    </tr>\n",
       "</table>"
      ],
      "text/plain": [
       "[(0, 19888), (1, 11867), (2, 5094), (3, 2228), (4, 1059)]"
      ]
     },
     "execution_count": 124,
     "metadata": {},
     "output_type": "execute_result"
    }
   ],
   "source": [
    "%%sql\n",
    "SELECT Score, COUNT(Score) AS count\n",
    "FROM posts\n",
    "GROUP BY Score\n",
    "ORDER BY count DESC\n",
    "LIMIT 5;"
   ]
  },
  {
   "cell_type": "markdown",
   "metadata": {},
   "source": [
    "How many posts have the keyword \"data\" in their tags?\n",
    "\n",
    "This query selects the count of posts where the \"Tags\" column contains the word \"data\", and names the result \"tag_count\"."
   ]
  },
  {
   "cell_type": "code",
   "execution_count": 125,
   "metadata": {
    "scrolled": false
   },
   "outputs": [
    {
     "name": "stdout",
     "output_type": "stream",
     "text": [
      " * sqlite:///chatdata.db\n",
      "Done.\n"
     ]
    },
    {
     "data": {
      "text/html": [
       "<table>\n",
       "    <tr>\n",
       "        <th>tag_count</th>\n",
       "    </tr>\n",
       "    <tr>\n",
       "        <td>2242</td>\n",
       "    </tr>\n",
       "</table>"
      ],
      "text/plain": [
       "[(2242,)]"
      ]
     },
     "execution_count": 125,
     "metadata": {},
     "output_type": "execute_result"
    }
   ],
   "source": [
    "%%sql\n",
    "SELECT COUNT(Tags) AS tag_count\n",
    "FROM posts\n",
    "WHERE Tags LIKE \"%data%\";"
   ]
  },
  {
   "cell_type": "markdown",
   "metadata": {},
   "source": [
    "What are the 5 most frequent commentcount for posts?\n",
    "\n",
    "This query returns the count of occurrences of each CommentCount value and orders them in descending order, limited to the top 5 results."
   ]
  },
  {
   "cell_type": "code",
   "execution_count": 126,
   "metadata": {},
   "outputs": [
    {
     "name": "stdout",
     "output_type": "stream",
     "text": [
      " * sqlite:///chatdata.db\n",
      "Done.\n"
     ]
    },
    {
     "data": {
      "text/html": [
       "<table>\n",
       "    <tr>\n",
       "        <th>CommentCount</th>\n",
       "        <th>count</th>\n",
       "    </tr>\n",
       "    <tr>\n",
       "        <td>0</td>\n",
       "        <td>21713</td>\n",
       "    </tr>\n",
       "    <tr>\n",
       "        <td>1</td>\n",
       "        <td>6460</td>\n",
       "    </tr>\n",
       "    <tr>\n",
       "        <td>2</td>\n",
       "        <td>4966</td>\n",
       "    </tr>\n",
       "    <tr>\n",
       "        <td>3</td>\n",
       "        <td>3063</td>\n",
       "    </tr>\n",
       "    <tr>\n",
       "        <td>4</td>\n",
       "        <td>2026</td>\n",
       "    </tr>\n",
       "</table>"
      ],
      "text/plain": [
       "[(0, 21713), (1, 6460), (2, 4966), (3, 3063), (4, 2026)]"
      ]
     },
     "execution_count": 126,
     "metadata": {},
     "output_type": "execute_result"
    }
   ],
   "source": [
    "%%sql\n",
    "SELECT CommentCount, \n",
    "COUNT(CommentCount)\n",
    "AS count\n",
    "FROM posts\n",
    "GROUP BY CommentCount\n",
    "ORDER BY count DESC\n",
    "LIMIT 5;"
   ]
  },
  {
   "cell_type": "markdown",
   "metadata": {},
   "source": [
    "How many posts have an accepted answer?\n",
    "\n",
    "This query selects the number of posts with an AcceptedAnswerId and orders them by the value of AcceptedAnswerId."
   ]
  },
  {
   "cell_type": "code",
   "execution_count": 127,
   "metadata": {},
   "outputs": [
    {
     "name": "stdout",
     "output_type": "stream",
     "text": [
      " * sqlite:///chatdata.db\n",
      "Done.\n"
     ]
    },
    {
     "data": {
      "text/html": [
       "<table>\n",
       "    <tr>\n",
       "        <th>AcceptedAnswerId</th>\n",
       "        <th>AACount</th>\n",
       "    </tr>\n",
       "    <tr>\n",
       "        <td>385150</td>\n",
       "        <td>5341</td>\n",
       "    </tr>\n",
       "</table>"
      ],
      "text/plain": [
       "[(385150, 5341)]"
      ]
     },
     "execution_count": 127,
     "metadata": {},
     "output_type": "execute_result"
    }
   ],
   "source": [
    "%%sql\n",
    "SELECT AcceptedAnswerId,\n",
    "COUNT(*) AS AACount\n",
    "FROM posts\n",
    "WHERE AcceptedAnswerId > 0\n",
    "ORDER BY AcceptedAnswerId;"
   ]
  },
  {
   "cell_type": "markdown",
   "metadata": {},
   "source": [
    "What is the average reputation of table users?\n",
    "\n",
    "This query selects the rounded average value of the \"Reputation\" column from the \"users\" table, with 3 decimal places, and assigns the result to a column named \"avgrep\"."
   ]
  },
  {
   "cell_type": "code",
   "execution_count": 128,
   "metadata": {},
   "outputs": [
    {
     "name": "stdout",
     "output_type": "stream",
     "text": [
      " * sqlite:///chatdata.db\n",
      "Done.\n"
     ]
    },
    {
     "data": {
      "text/html": [
       "<table>\n",
       "    <tr>\n",
       "        <th>avgrep</th>\n",
       "    </tr>\n",
       "    <tr>\n",
       "        <td>312.351</td>\n",
       "    </tr>\n",
       "</table>"
      ],
      "text/plain": [
       "[(312.351,)]"
      ]
     },
     "execution_count": 128,
     "metadata": {},
     "output_type": "execute_result"
    }
   ],
   "source": [
    "%%sql\n",
    "SELECT ROUND(AVG(Reputation), 3) AS avgrep\n",
    "FROM users;"
   ]
  },
  {
   "cell_type": "markdown",
   "metadata": {},
   "source": [
    "What are the min and max reputation of users?\n",
    "\n",
    "This query retrieves the minimum and maximum values of the 'Reputation' column from the 'users' table."
   ]
  },
  {
   "cell_type": "code",
   "execution_count": 129,
   "metadata": {},
   "outputs": [
    {
     "name": "stdout",
     "output_type": "stream",
     "text": [
      " * sqlite:///chatdata.db\n",
      "Done.\n"
     ]
    },
    {
     "data": {
      "text/html": [
       "<table>\n",
       "    <tr>\n",
       "        <th>MinRep</th>\n",
       "        <th>MaxRep</th>\n",
       "    </tr>\n",
       "    <tr>\n",
       "        <td>1</td>\n",
       "        <td>228662</td>\n",
       "    </tr>\n",
       "</table>"
      ],
      "text/plain": [
       "[(1, 228662)]"
      ]
     },
     "execution_count": 129,
     "metadata": {},
     "output_type": "execute_result"
    }
   ],
   "source": [
    "%%sql\n",
    "SELECT MIN(Reputation) AS MinRep,\n",
    "MAX (Reputation) AS MaxRep\n",
    "FROM users;"
   ]
  },
  {
   "cell_type": "markdown",
   "metadata": {},
   "source": [
    "What is the length of the body of 5 most viewed posts?\n",
    "\n",
    "This SQL query selects the most viewed posts (based on the ViewCount column) and the length of their body text (based on the Len_Body column), ordering them by the ViewCount in descending order and limiting the result to the top 5."
   ]
  },
  {
   "cell_type": "code",
   "execution_count": 131,
   "metadata": {},
   "outputs": [
    {
     "name": "stdout",
     "output_type": "stream",
     "text": [
      " * sqlite:///chatdata.db\n",
      "Done.\n"
     ]
    },
    {
     "data": {
      "text/html": [
       "<table>\n",
       "    <tr>\n",
       "        <th>Top 5 Most Viewed Posts</th>\n",
       "        <th>Body Length</th>\n",
       "    </tr>\n",
       "    <tr>\n",
       "        <td>19542</td>\n",
       "        <td>2270</td>\n",
       "    </tr>\n",
       "    <tr>\n",
       "        <td>16317</td>\n",
       "        <td>512</td>\n",
       "    </tr>\n",
       "    <tr>\n",
       "        <td>11723</td>\n",
       "        <td>811</td>\n",
       "    </tr>\n",
       "    <tr>\n",
       "        <td>9850</td>\n",
       "        <td>2148</td>\n",
       "    </tr>\n",
       "    <tr>\n",
       "        <td>6718</td>\n",
       "        <td>1172</td>\n",
       "    </tr>\n",
       "</table>"
      ],
      "text/plain": [
       "[(19542, 2270), (16317, 512), (11723, 811), (9850, 2148), (6718, 1172)]"
      ]
     },
     "execution_count": 131,
     "metadata": {},
     "output_type": "execute_result"
    }
   ],
   "source": [
    "%%sql\n",
    "SELECT ViewCount AS \"Top 5 Most Viewed Posts\", Len_Body AS \"Body Length\"\n",
    "FROM posts\n",
    "ORDER BY ViewCount DESC\n",
    "LIMIT 5;"
   ]
  },
  {
   "cell_type": "markdown",
   "metadata": {},
   "source": [
    "How many different locations are there in the users table?\n",
    "\n",
    "This SQL query retrieves the count of unique location values from the users table and returns the result as \"Number of Distinct Locations\"."
   ]
  },
  {
   "cell_type": "code",
   "execution_count": 132,
   "metadata": {},
   "outputs": [
    {
     "name": "stdout",
     "output_type": "stream",
     "text": [
      " * sqlite:///chatdata.db\n",
      "Done.\n"
     ]
    },
    {
     "data": {
      "text/html": [
       "<table>\n",
       "    <tr>\n",
       "        <th>LocCount</th>\n",
       "    </tr>\n",
       "    <tr>\n",
       "        <td>1900</td>\n",
       "    </tr>\n",
       "</table>"
      ],
      "text/plain": [
       "[(1900,)]"
      ]
     },
     "execution_count": 132,
     "metadata": {},
     "output_type": "execute_result"
    }
   ],
   "source": [
    "%%sql\n",
    "SELECT COUNT(DISTINCT(Location))\n",
    "AS LocCount FROM (\n",
    "SELECT Location\n",
    "FROM users\n",
    "GROUP BY Location\n",
    ");"
   ]
  },
  {
   "cell_type": "code",
   "execution_count": 134,
   "metadata": {},
   "outputs": [
    {
     "name": "stdout",
     "output_type": "stream",
     "text": [
      " * sqlite:///chatdata.db\n",
      "Done.\n"
     ]
    },
    {
     "data": {
      "text/html": [
       "<table>\n",
       "    <tr>\n",
       "        <th>Number of Distinct Locations</th>\n",
       "    </tr>\n",
       "    <tr>\n",
       "        <td>1900</td>\n",
       "    </tr>\n",
       "</table>"
      ],
      "text/plain": [
       "[(1900,)]"
      ]
     },
     "execution_count": 134,
     "metadata": {},
     "output_type": "execute_result"
    }
   ],
   "source": [
    "%%sql\n",
    "SELECT COUNT(Location) AS \"Number of Distinct Locations\"\n",
    "FROM (\n",
    "SELECT DISTINCT Location\n",
    "FROM users\n",
    ");"
   ]
  },
  {
   "cell_type": "markdown",
   "metadata": {},
   "source": [
    "What are the top 5 locations of users?\n",
    "\n",
    "Here there a two versions of the query. \n",
    "The first query selects the top 5 locations based on the number of users in each location, and the count of users in each location, and orders the results in descending order by the count of users.\n",
    "The second query is counting the number of occurrences of each unique location in the \"Location\" column (and the main idea is to limit by Location) of the \"users\" table, grouping them by location and ordering the result by the count of each location in descending order, and limiting the result to the top 5 locations with the highest count."
   ]
  },
  {
   "cell_type": "code",
   "execution_count": 135,
   "metadata": {},
   "outputs": [
    {
     "name": "stdout",
     "output_type": "stream",
     "text": [
      " * sqlite:///chatdata.db\n",
      "Done.\n"
     ]
    },
    {
     "data": {
      "text/html": [
       "<table>\n",
       "    <tr>\n",
       "        <th>Location</th>\n",
       "        <th>LocCount</th>\n",
       "    </tr>\n",
       "    <tr>\n",
       "        <td>None</td>\n",
       "        <td>13335</td>\n",
       "    </tr>\n",
       "    <tr>\n",
       "        <td>Germany</td>\n",
       "        <td>117</td>\n",
       "    </tr>\n",
       "    <tr>\n",
       "        <td>India</td>\n",
       "        <td>100</td>\n",
       "    </tr>\n",
       "    <tr>\n",
       "        <td>United States</td>\n",
       "        <td>69</td>\n",
       "    </tr>\n",
       "    <tr>\n",
       "        <td>Paris, France</td>\n",
       "        <td>66</td>\n",
       "    </tr>\n",
       "</table>"
      ],
      "text/plain": [
       "[(None, 13335),\n",
       " ('Germany', 117),\n",
       " ('India', 100),\n",
       " ('United States', 69),\n",
       " ('Paris, France', 66)]"
      ]
     },
     "execution_count": 135,
     "metadata": {},
     "output_type": "execute_result"
    }
   ],
   "source": [
    "%%sql\n",
    "SELECT Location, COUNT(*)\n",
    "AS LocCount\n",
    "FROM users\n",
    "GROUP BY Location\n",
    "ORDER BY LocCount DESC\n",
    "LIMIT 5;"
   ]
  },
  {
   "cell_type": "code",
   "execution_count": 136,
   "metadata": {},
   "outputs": [
    {
     "name": "stdout",
     "output_type": "stream",
     "text": [
      " * sqlite:///chatdata.db\n",
      "Done.\n"
     ]
    },
    {
     "data": {
      "text/html": [
       "<table>\n",
       "    <tr>\n",
       "        <th>Location</th>\n",
       "        <th>LocCount</th>\n",
       "    </tr>\n",
       "    <tr>\n",
       "        <td>Germany</td>\n",
       "        <td>117</td>\n",
       "    </tr>\n",
       "    <tr>\n",
       "        <td>India</td>\n",
       "        <td>100</td>\n",
       "    </tr>\n",
       "    <tr>\n",
       "        <td>United States</td>\n",
       "        <td>69</td>\n",
       "    </tr>\n",
       "    <tr>\n",
       "        <td>Paris, France</td>\n",
       "        <td>66</td>\n",
       "    </tr>\n",
       "    <tr>\n",
       "        <td>London, United Kingdom</td>\n",
       "        <td>63</td>\n",
       "    </tr>\n",
       "</table>"
      ],
      "text/plain": [
       "[('Germany', 117),\n",
       " ('India', 100),\n",
       " ('United States', 69),\n",
       " ('Paris, France', 66),\n",
       " ('London, United Kingdom', 63)]"
      ]
     },
     "execution_count": 136,
     "metadata": {},
     "output_type": "execute_result"
    }
   ],
   "source": [
    "%%sql\n",
    "SELECT Location, COUNT(Location)\n",
    "AS LocCount\n",
    "FROM users\n",
    "GROUP BY Location\n",
    "ORDER BY LocCount DESC\n",
    "LIMIT 5;"
   ]
  },
  {
   "cell_type": "markdown",
   "metadata": {},
   "source": [
    "Rank the days of the week from highest to lowest in terms of the volume of ViewCount as a percentage.\n",
    "\n",
    "https://stackoverflow.com/questions/37303779/sql-calculate-percentage-on-countcolumn \n",
    "\n",
    "This is a query that uses a CASE statement to convert a number representing the day of the week to its corresponding name, and then calculates the percentage of ViewCount for each day of the week in the posts table, sorted by the highest Percentage_ViewCount."
   ]
  },
  {
   "cell_type": "code",
   "execution_count": 137,
   "metadata": {
    "scrolled": true
   },
   "outputs": [
    {
     "name": "stdout",
     "output_type": "stream",
     "text": [
      " * sqlite:///chatdata.db\n",
      "Done.\n"
     ]
    },
    {
     "data": {
      "text/html": [
       "<table>\n",
       "    <tr>\n",
       "        <th>DayOfWeek</th>\n",
       "        <th>ViewCountPCT</th>\n",
       "    </tr>\n",
       "    <tr>\n",
       "        <td>Thursday</td>\n",
       "        <td>16.81947628859075</td>\n",
       "    </tr>\n",
       "    <tr>\n",
       "        <td>Wednesday</td>\n",
       "        <td>16.76868913850077</td>\n",
       "    </tr>\n",
       "    <tr>\n",
       "        <td>Tuesday</td>\n",
       "        <td>16.255033686441863</td>\n",
       "    </tr>\n",
       "    <tr>\n",
       "        <td>Monday</td>\n",
       "        <td>15.806726735198032</td>\n",
       "    </tr>\n",
       "    <tr>\n",
       "        <td>Friday</td>\n",
       "        <td>13.563061049604485</td>\n",
       "    </tr>\n",
       "    <tr>\n",
       "        <td>Sunday</td>\n",
       "        <td>11.89560881413273</td>\n",
       "    </tr>\n",
       "    <tr>\n",
       "        <td>Saturday</td>\n",
       "        <td>8.891404287531374</td>\n",
       "    </tr>\n",
       "</table>"
      ],
      "text/plain": [
       "[('Thursday', 16.81947628859075),\n",
       " ('Wednesday', 16.76868913850077),\n",
       " ('Tuesday', 16.255033686441863),\n",
       " ('Monday', 15.806726735198032),\n",
       " ('Friday', 13.563061049604485),\n",
       " ('Sunday', 11.89560881413273),\n",
       " ('Saturday', 8.891404287531374)]"
      ]
     },
     "execution_count": 137,
     "metadata": {},
     "output_type": "execute_result"
    }
   ],
   "source": [
    "%%sql\n",
    "SELECT  CASE \n",
    "            WHEN DayOfWeekNumber = 0 THEN 'Sunday'\n",
    "            WHEN DayOfWeekNumber = 1 THEN 'Monday'\n",
    "            WHEN DayOfWeekNumber = 2 THEN 'Tuesday'\n",
    "            WHEN DayOfWeekNumber = 3 THEN 'Wednesday'\n",
    "            WHEN DayOfWeekNumber = 4 THEN 'Thursday'\n",
    "            WHEN DayOfWeekNumber = 5 THEN 'Friday'\n",
    "            ELSE 'Saturday' \n",
    "    END as DayOfWeek,ViewCountPCT\n",
    "FROM (SELECT CAST (strftime('%w', CreationDate) AS INTEGER) as DayOfWeekNumber,\n",
    "           (cast(sum(ViewCount) as float)/cast((select sum(ViewCount) from posts)as float) *100.0) as ViewCountPCT \n",
    "FROM posts   \n",
    "GROUP BY DayOfWeekNumber\n",
    "ORDER BY ViewCountPCT DESC)\n"
   ]
  },
  {
   "cell_type": "markdown",
   "metadata": {},
   "source": [
    "# Task 3: Cross Table Queries"
   ]
  },
  {
   "cell_type": "markdown",
   "metadata": {},
   "source": [
    "## Lifecycle Stage: Analyze\n",
    "\n",
    "Continueing the analysis with our multi-table queries.  "
   ]
  },
  {
   "cell_type": "markdown",
   "metadata": {},
   "source": [
    "### Cross Table Queries\n",
    "\n",
    "From the Template SQL Queries there are a series of queries requested. Using the pattern above to accomplish the coding objective.  Copy and paste the question (column B Action) into a markdown cell and answer the query. Using the pattern that you have been using above. "
   ]
  },
  {
   "cell_type": "markdown",
   "metadata": {},
   "source": [
    "How many posts have been created by a user that has a filled out the \"AboutMe\" section?\n",
    "\n",
    "This query returns the count of the number of rows in the users table which have a non-null value in the AboutMe column and a corresponding post made by that user in the posts table (through the INNER JOIN based on the Id and OwnerUserId columns)."
   ]
  },
  {
   "cell_type": "code",
   "execution_count": 143,
   "metadata": {
    "scrolled": false
   },
   "outputs": [
    {
     "name": "stdout",
     "output_type": "stream",
     "text": [
      " * sqlite:///chatdata.db\n",
      "Done.\n"
     ]
    },
    {
     "data": {
      "text/html": [
       "<table>\n",
       "    <tr>\n",
       "        <th>AboutMeCount</th>\n",
       "    </tr>\n",
       "    <tr>\n",
       "        <td>17189</td>\n",
       "    </tr>\n",
       "</table>"
      ],
      "text/plain": [
       "[(17189,)]"
      ]
     },
     "execution_count": 143,
     "metadata": {},
     "output_type": "execute_result"
    }
   ],
   "source": [
    "%%sql\n",
    "SELECT COUNT(*) AS AboutMeCount\n",
    "FROM users\n",
    "INNER JOIN posts ON posts.OwnerUserId = users.Id\n",
    "WHERE AboutMe IS NOT NULL;"
   ]
  },
  {
   "cell_type": "markdown",
   "metadata": {},
   "source": [
    "Considering only the users with an \"AboutMe,\" how many posts are there per user?\n",
    "\n",
    "This query calculates the average number of posts per user by counting the total number of posts and dividing it by the total number of unique users, where AboutMe is not null, through an inner join on the users and posts tables based on the OwnerUserId and Id columns respectively."
   ]
  },
  {
   "cell_type": "code",
   "execution_count": 149,
   "metadata": {
    "scrolled": true
   },
   "outputs": [
    {
     "name": "stdout",
     "output_type": "stream",
     "text": [
      " * sqlite:///chatdata.db\n",
      "Done.\n"
     ]
    },
    {
     "data": {
      "text/html": [
       "<table>\n",
       "    <tr>\n",
       "        <th>Number of Posts Per User</th>\n",
       "    </tr>\n",
       "    <tr>\n",
       "        <td>5</td>\n",
       "    </tr>\n",
       "</table>"
      ],
      "text/plain": [
       "[(5,)]"
      ]
     },
     "execution_count": 149,
     "metadata": {},
     "output_type": "execute_result"
    }
   ],
   "source": [
    "%%sql\n",
    "SELECT (count(Posts.Id))/(count(DISTINCT users.Id)) AS \"Number of Posts Per User\"\n",
    "FROM users \n",
    "INNER JOIN posts ON posts.OwnerUserId = users.Id\n",
    "WHERE AboutMe IS NOT NULL;"
   ]
  },
  {
   "cell_type": "markdown",
   "metadata": {},
   "source": [
    "Not taking into account the commentcount field in the table posts, what are the Top 10 posts in terms of number of comments?\n",
    "\n",
    "This query retrieves the 10 posts with the most number of comments by joining the posts and comments tables on their shared PostId column, grouping by PostId, counting the number of comments per post, ordering the posts by the number of comments in descending order, and limiting the result to the first 10 posts."
   ]
  },
  {
   "cell_type": "code",
   "execution_count": 150,
   "metadata": {},
   "outputs": [
    {
     "name": "stdout",
     "output_type": "stream",
     "text": [
      " * sqlite:///chatdata.db\n",
      "Done.\n"
     ]
    },
    {
     "data": {
      "text/html": [
       "<table>\n",
       "    <tr>\n",
       "        <th>PostId</th>\n",
       "        <th>Number of Comments per Post</th>\n",
       "    </tr>\n",
       "    <tr>\n",
       "        <td>386853</td>\n",
       "        <td>66</td>\n",
       "    </tr>\n",
       "    <tr>\n",
       "        <td>386556</td>\n",
       "        <td>34</td>\n",
       "    </tr>\n",
       "    <tr>\n",
       "        <td>395232</td>\n",
       "        <td>31</td>\n",
       "    </tr>\n",
       "    <tr>\n",
       "        <td>418910</td>\n",
       "        <td>31</td>\n",
       "    </tr>\n",
       "    <tr>\n",
       "        <td>402987</td>\n",
       "        <td>27</td>\n",
       "    </tr>\n",
       "    <tr>\n",
       "        <td>386075</td>\n",
       "        <td>26</td>\n",
       "    </tr>\n",
       "    <tr>\n",
       "        <td>394118</td>\n",
       "        <td>24</td>\n",
       "    </tr>\n",
       "    <tr>\n",
       "        <td>398828</td>\n",
       "        <td>23</td>\n",
       "    </tr>\n",
       "    <tr>\n",
       "        <td>402950</td>\n",
       "        <td>23</td>\n",
       "    </tr>\n",
       "    <tr>\n",
       "        <td>396111</td>\n",
       "        <td>22</td>\n",
       "    </tr>\n",
       "</table>"
      ],
      "text/plain": [
       "[(386853, 66),\n",
       " (386556, 34),\n",
       " (395232, 31),\n",
       " (418910, 31),\n",
       " (402987, 27),\n",
       " (386075, 26),\n",
       " (394118, 24),\n",
       " (398828, 23),\n",
       " (402950, 23),\n",
       " (396111, 22)]"
      ]
     },
     "execution_count": 150,
     "metadata": {},
     "output_type": "execute_result"
    }
   ],
   "source": [
    "%%sql\n",
    "SELECT PostId, COUNT(comments.Id) AS \"Number of Comments per Post\"\n",
    "FROM posts\n",
    "LEFT JOIN comments ON posts.Id = comments.PostId\n",
    "GROUP BY posts.Id\n",
    "ORDER BY COUNT(comments.Id) DESC\n",
    "LIMIT 10;"
   ]
  },
  {
   "cell_type": "markdown",
   "metadata": {},
   "source": [
    "What are the Top 10 posts which have the highest cummulative (post score + comment score) score? \n",
    "\n",
    "Using the previous query, \n",
    "- Sum the post score and the scores of all comments of that same post\n",
    "- Show the post ids \n",
    "Don't forget to calculate sum of all the comment scores on a particular post.\n",
    "\n",
    "Therefore, this query calculates the cumulative score of the top 10 posts based on the sum of their individual post scores and the scores of their associated comments and orders the result by the cumulative score in descending order."
   ]
  },
  {
   "cell_type": "code",
   "execution_count": 159,
   "metadata": {},
   "outputs": [
    {
     "name": "stdout",
     "output_type": "stream",
     "text": [
      " * sqlite:///chatdata.db\n",
      "Done.\n"
     ]
    },
    {
     "data": {
      "text/html": [
       "<table>\n",
       "    <tr>\n",
       "        <th>PostId</th>\n",
       "        <th>CummentScore</th>\n",
       "    </tr>\n",
       "    <tr>\n",
       "        <td>394118</td>\n",
       "        <td>1778</td>\n",
       "    </tr>\n",
       "    <tr>\n",
       "        <td>394128</td>\n",
       "        <td>1569</td>\n",
       "    </tr>\n",
       "    <tr>\n",
       "        <td>398653</td>\n",
       "        <td>1021</td>\n",
       "    </tr>\n",
       "    <tr>\n",
       "        <td>388578</td>\n",
       "        <td>941</td>\n",
       "    </tr>\n",
       "    <tr>\n",
       "        <td>388566</td>\n",
       "        <td>885</td>\n",
       "    </tr>\n",
       "    <tr>\n",
       "        <td>398646</td>\n",
       "        <td>465</td>\n",
       "    </tr>\n",
       "    <tr>\n",
       "        <td>421677</td>\n",
       "        <td>392</td>\n",
       "    </tr>\n",
       "    <tr>\n",
       "        <td>420526</td>\n",
       "        <td>317</td>\n",
       "    </tr>\n",
       "    <tr>\n",
       "        <td>386571</td>\n",
       "        <td>197</td>\n",
       "    </tr>\n",
       "    <tr>\n",
       "        <td>393336</td>\n",
       "        <td>125</td>\n",
       "    </tr>\n",
       "</table>"
      ],
      "text/plain": [
       "[(394118, 1778),\n",
       " (394128, 1569),\n",
       " (398653, 1021),\n",
       " (388578, 941),\n",
       " (388566, 885),\n",
       " (398646, 465),\n",
       " (421677, 392),\n",
       " (420526, 317),\n",
       " (386571, 197),\n",
       " (393336, 125)]"
      ]
     },
     "execution_count": 159,
     "metadata": {},
     "output_type": "execute_result"
    }
   ],
   "source": [
    "%%sql\n",
    "  SELECT PostId,(TotalComScore + TotalPostScore ) as CummentScore FROM\n",
    "    (SELECT PostId,sum(comments.score) as TotalComScore ,sum(posts.score) as TotalPostScore FROM posts\n",
    "    INNER JOIN comments ON posts.Id = comments.PostId\n",
    "    GROUP BY PostId,posts.Score\n",
    "    ORDER BY TotalComScore DESC\n",
    "    LIMIT 10)\n",
    "    ORDER BY CummentScore DESC;"
   ]
  },
  {
   "cell_type": "markdown",
   "metadata": {},
   "source": [
    "Who are the top 10 users who comment the most? \n",
    "\n",
    "This statement returns the top 10 users based on the number of comments they made, and the number of posts they created, along with their reputation, by combining the user and comment tables and grouping the data by UserId and ordering it based on the count of comments, then the count of posts, in descending order."
   ]
  },
  {
   "cell_type": "code",
   "execution_count": 165,
   "metadata": {},
   "outputs": [
    {
     "name": "stdout",
     "output_type": "stream",
     "text": [
      " * sqlite:///chatdata.db\n",
      "Done.\n"
     ]
    },
    {
     "data": {
      "text/html": [
       "<table>\n",
       "    <tr>\n",
       "        <th>UserId</th>\n",
       "        <th>Reputation</th>\n",
       "        <th>PostsNumber</th>\n",
       "        <th>CommentsNumber</th>\n",
       "    </tr>\n",
       "    <tr>\n",
       "        <td>919</td>\n",
       "        <td>223056</td>\n",
       "        <td>3301</td>\n",
       "        <td>3301</td>\n",
       "    </tr>\n",
       "    <tr>\n",
       "        <td>805</td>\n",
       "        <td>228662</td>\n",
       "        <td>1153</td>\n",
       "        <td>1153</td>\n",
       "    </tr>\n",
       "    <tr>\n",
       "        <td>143489</td>\n",
       "        <td>2890</td>\n",
       "        <td>1024</td>\n",
       "        <td>1024</td>\n",
       "    </tr>\n",
       "    <tr>\n",
       "        <td>11887</td>\n",
       "        <td>39200</td>\n",
       "        <td>805</td>\n",
       "        <td>805</td>\n",
       "    </tr>\n",
       "    <tr>\n",
       "        <td>85665</td>\n",
       "        <td>17391</td>\n",
       "        <td>691</td>\n",
       "        <td>691</td>\n",
       "    </tr>\n",
       "    <tr>\n",
       "        <td>164061</td>\n",
       "        <td>13485</td>\n",
       "        <td>540</td>\n",
       "        <td>540</td>\n",
       "    </tr>\n",
       "    <tr>\n",
       "        <td>22047</td>\n",
       "        <td>41385</td>\n",
       "        <td>536</td>\n",
       "        <td>536</td>\n",
       "    </tr>\n",
       "    <tr>\n",
       "        <td>158565</td>\n",
       "        <td>6482</td>\n",
       "        <td>504</td>\n",
       "        <td>504</td>\n",
       "    </tr>\n",
       "    <tr>\n",
       "        <td>7962</td>\n",
       "        <td>8030</td>\n",
       "        <td>492</td>\n",
       "        <td>492</td>\n",
       "    </tr>\n",
       "    <tr>\n",
       "        <td>35989</td>\n",
       "        <td>71548</td>\n",
       "        <td>470</td>\n",
       "        <td>470</td>\n",
       "    </tr>\n",
       "</table>"
      ],
      "text/plain": [
       "[(919, 223056, 3301, 3301),\n",
       " (805, 228662, 1153, 1153),\n",
       " (143489, 2890, 1024, 1024),\n",
       " (11887, 39200, 805, 805),\n",
       " (85665, 17391, 691, 691),\n",
       " (164061, 13485, 540, 540),\n",
       " (22047, 41385, 536, 536),\n",
       " (158565, 6482, 504, 504),\n",
       " (7962, 8030, 492, 492),\n",
       " (35989, 71548, 470, 470)]"
      ]
     },
     "execution_count": 165,
     "metadata": {},
     "output_type": "execute_result"
    }
   ],
   "source": [
    "%%sql\n",
    "SELECT UserId, users.Reputation,count(PostId) AS PostsNumber, count(Text) AS CommentsNumber FROM users\n",
    "    LEFT JOIN comments ON users.Id = comments.UserId\n",
    "    GROUP BY UserId\n",
    "    ORDER BY CommentsNumber DESC,PostsNumber DESC\n",
    "    LIMIT 10;"
   ]
  },
  {
   "cell_type": "markdown",
   "metadata": {},
   "source": [
    "Who are the top 10 users who post the most?\n",
    "\n",
    "This query selects the top 10 users by number of posts, sorting first by the number of posts in descending order, and then by their reputation in descending order, and returns their UserId, Reputation, and the number of posts they've made."
   ]
  },
  {
   "cell_type": "code",
   "execution_count": 166,
   "metadata": {},
   "outputs": [
    {
     "name": "stdout",
     "output_type": "stream",
     "text": [
      " * sqlite:///chatdata.db\n",
      "Done.\n"
     ]
    },
    {
     "data": {
      "text/html": [
       "<table>\n",
       "    <tr>\n",
       "        <th>UserId</th>\n",
       "        <th>Reputation</th>\n",
       "        <th>PostsNumber</th>\n",
       "    </tr>\n",
       "    <tr>\n",
       "        <td>919</td>\n",
       "        <td>223056</td>\n",
       "        <td>3301</td>\n",
       "    </tr>\n",
       "    <tr>\n",
       "        <td>805</td>\n",
       "        <td>228662</td>\n",
       "        <td>1153</td>\n",
       "    </tr>\n",
       "    <tr>\n",
       "        <td>143489</td>\n",
       "        <td>2890</td>\n",
       "        <td>1024</td>\n",
       "    </tr>\n",
       "    <tr>\n",
       "        <td>11887</td>\n",
       "        <td>39200</td>\n",
       "        <td>805</td>\n",
       "    </tr>\n",
       "    <tr>\n",
       "        <td>85665</td>\n",
       "        <td>17391</td>\n",
       "        <td>691</td>\n",
       "    </tr>\n",
       "    <tr>\n",
       "        <td>164061</td>\n",
       "        <td>13485</td>\n",
       "        <td>540</td>\n",
       "    </tr>\n",
       "    <tr>\n",
       "        <td>22047</td>\n",
       "        <td>41385</td>\n",
       "        <td>536</td>\n",
       "    </tr>\n",
       "    <tr>\n",
       "        <td>158565</td>\n",
       "        <td>6482</td>\n",
       "        <td>504</td>\n",
       "    </tr>\n",
       "    <tr>\n",
       "        <td>7962</td>\n",
       "        <td>8030</td>\n",
       "        <td>492</td>\n",
       "    </tr>\n",
       "    <tr>\n",
       "        <td>35989</td>\n",
       "        <td>71548</td>\n",
       "        <td>470</td>\n",
       "    </tr>\n",
       "</table>"
      ],
      "text/plain": [
       "[(919, 223056, 3301),\n",
       " (805, 228662, 1153),\n",
       " (143489, 2890, 1024),\n",
       " (11887, 39200, 805),\n",
       " (85665, 17391, 691),\n",
       " (164061, 13485, 540),\n",
       " (22047, 41385, 536),\n",
       " (158565, 6482, 504),\n",
       " (7962, 8030, 492),\n",
       " (35989, 71548, 470)]"
      ]
     },
     "execution_count": 166,
     "metadata": {},
     "output_type": "execute_result"
    }
   ],
   "source": [
    "%%sql\n",
    "SELECT UserId, users.Reputation,count(PostId) AS PostsNumber FROM users\n",
    "    LEFT JOIN comments ON users.Id = comments.UserId\n",
    "    GROUP BY UserId\n",
    "    ORDER BY  PostsNumber DESC ,users.Reputation DESC\n",
    "    LIMIT 10;"
   ]
  },
  {
   "cell_type": "code",
   "execution_count": 86,
   "metadata": {},
   "outputs": [
    {
     "ename": "SyntaxError",
     "evalue": "invalid syntax (3721073761.py, line 1)",
     "output_type": "error",
     "traceback": [
      "\u001b[0;36m  Input \u001b[0;32mIn [86]\u001b[0;36m\u001b[0m\n\u001b[0;31m    SELECT (P.Score + SUM(C.Score)) AS CS, COUNT(*) AS N, P.Id\u001b[0m\n\u001b[0m                                    ^\u001b[0m\n\u001b[0;31mSyntaxError\u001b[0m\u001b[0;31m:\u001b[0m invalid syntax\n"
     ]
    }
   ],
   "source": [
    "SELECT (Score + SUM(Score)) AS CS, COUNT(*) AS N, P.Id \n",
    "FROM Posts P JOIN Comments C ON C.postsId = P.Id GROUP BY P.Id, P.Score \n",
    "ORDER BY CS DESC \n",
    "LIMIT 10;"
   ]
  },
  {
   "cell_type": "markdown",
   "metadata": {},
   "source": [
    "# Task 4: Check the Queries Table\n",
    "\n",
    "Now let's tidy up and check the queries table.\n",
    "\n",
    "First let's check it's contents:"
   ]
  },
  {
   "cell_type": "code",
   "execution_count": 107,
   "metadata": {},
   "outputs": [
    {
     "name": "stdout",
     "output_type": "stream",
     "text": [
      " * sqlite:///chatdata.db\n",
      "Done.\n"
     ]
    },
    {
     "data": {
      "text/html": [
       "<table>\n",
       "    <tr>\n",
       "        <th>task</th>\n",
       "        <th>action</th>\n",
       "        <th>query</th>\n",
       "    </tr>\n",
       "    <tr>\n",
       "        <td>Single Table Queries</td>\n",
       "        <td>Which 5 users have viewed the most times and what is the sum of those views per user?</td>\n",
       "        <td><br>SELECT Id, SUM(Views) AS TotalViews<br>    FROM Users<br>        GROUP BY Id<br>            ORDER BY TotalViews DESC<br>                LIMIT 5<br>                </td>\n",
       "    </tr>\n",
       "    <tr>\n",
       "        <td>Single Table Queries</td>\n",
       "        <td>Which 5 users have viewed the most times and what is the sum of those views per user?</td>\n",
       "        <td><br>SELECT Id, SUM(Views) AS TotalViews<br>    FROM Users<br>        GROUP BY Id<br>            ORDER BY TotalViews DESC<br>                LIMIT 5<br>                </td>\n",
       "    </tr>\n",
       "    <tr>\n",
       "        <td>Task 1</td>\n",
       "        <td>Create table comments</td>\n",
       "        <td><br>    CREATE TABLE &quot;comments&quot; (<br>    &quot;Id&quot; INTEGER,<br>    &quot;PostId&quot; INTEGER,<br>    &quot;Score&quot; INTEGER,<br>    &quot;Text&quot; TEXT,<br>    &quot;CreationDate&quot; TEXT,<br>    &quot;UserId&quot; INTEGER<br>    )<br>    </td>\n",
       "    </tr>\n",
       "    <tr>\n",
       "        <td>Task 1</td>\n",
       "        <td>Create Table posts</td>\n",
       "        <td><br>CREATE TABLE &quot;posts&quot; (<br>        &quot;Id&quot; INTEGER NOT NULL PRIMARY KEY,<br>        &quot;PostTypeId&quot; INTEGER,<br>        &quot;AcceptedAnswerId&quot; INTEGER,<br>        &quot;ParentId&quot; INTEGER,<br>        &quot;CreationDate&quot; TEXT,<br>        &quot;Score&quot; INTEGER,<br>        &quot;ViewCount&quot; INTEGER,<br>        &quot;Body&quot; TEXT,<br>        &quot;OwnerUserId&quot; INTEGER,<br>        &quot;OwnerDisplayName&quot; TEXT,<br>        &quot;LastEditorUserId&quot; INTEGER,<br>        &quot;LastEditorDisplayName&quot; TEXT,<br>        &quot;LastEditDate&quot; TEXT,<br>        &quot;LastActivityDate&quot; TEXT,<br>        &quot;Title&quot; TEXT,<br>        &quot;Tags&quot; TEXT,<br>        &quot;AnswerCount&quot; INTEGER,<br>        &quot;CommentCount&quot; INTEGER,<br>        &quot;FavoriteCount&quot; INTEGER,<br>        &quot;ClosedDate&quot; TEXT,<br>        &quot;CommunityOwnedDate&quot; TEXT,<br>        FOREIGN KEY(OwnerUserId) REFERENCES users(Id)<br>        )<br>    </td>\n",
       "    </tr>\n",
       "    <tr>\n",
       "        <td>Task 1</td>\n",
       "        <td>Create table users</td>\n",
       "        <td><br>CREATE TABLE &quot;users&quot; (<br>        &quot;Id&quot; INTEGER NOT NULL PRIMARY KEY,<br>        &quot;Reputation&quot; INTEGER,<br>        &quot;CreationDate&quot; TEXT,<br>        &quot;DisplayName&quot; TEXT,<br>         &quot;LastAccessDate&quot; TEXT,<br>        &quot;WebsiteUrl&quot; TEXT,<br>        &quot;Location&quot; TEXT,<br>        &quot;AboutMe&quot; TEXT,<br>        &quot;Views&quot; INTEGER,<br>        &quot;UpVotes&quot; INTEGER,<br>        &quot;DownVotes&quot; INTEGER,<br>        &quot;ProfileImageUrl&quot; TEXT,<br>        &quot;AccountId&quot; INTEGER<br>        )<br>    </td>\n",
       "    </tr>\n",
       "    <tr>\n",
       "        <td>Task 1</td>\n",
       "        <td>Count the number of rows in the comments table</td>\n",
       "        <td>SELECT COUNT(*) FROM &quot;comments&quot; </td>\n",
       "    </tr>\n",
       "    <tr>\n",
       "        <td>Task 1</td>\n",
       "        <td>Count the number of rows in the comments table</td>\n",
       "        <td>SELECT COUNT(*) FROM &quot;users&quot; </td>\n",
       "    </tr>\n",
       "    <tr>\n",
       "        <td>Task 1</td>\n",
       "        <td>Count the number of rows in the comments table</td>\n",
       "        <td>SELECT COUNT(*) FROM &quot;posts&quot; </td>\n",
       "    </tr>\n",
       "</table>"
      ],
      "text/plain": [
       "[('Single Table Queries', 'Which 5 users have viewed the most times and what is the sum of those views per user?', '\\nSELECT Id, SUM(Views) AS TotalViews\\n    FROM Users\\n        GROUP BY Id\\n            ORDER BY TotalViews DESC\\n                LIMIT 5\\n                '),\n",
       " ('Single Table Queries', 'Which 5 users have viewed the most times and what is the sum of those views per user?', '\\nSELECT Id, SUM(Views) AS TotalViews\\n    FROM Users\\n        GROUP BY Id\\n            ORDER BY TotalViews DESC\\n                LIMIT 5\\n                '),\n",
       " ('Task 1', 'Create table comments', '\\n    CREATE TABLE \"comments\" (\\n    \"Id\" INTEGER,\\n    \"PostId\" INTEGER,\\n    \"Score\" INTEGER,\\n    \"Text\" TEXT,\\n    \"CreationDate\" TEXT,\\n    \"UserId\" INTEGER\\n    )\\n    '),\n",
       " ('Task 1', 'Create Table posts', '\\nCREATE TABLE \"posts\" (\\n        \"Id\" INTEGER NOT NULL PRIMARY KEY,\\n        \"PostTypeId\" INTEGER,\\n        \"AcceptedAnswerId\" INTEGER,\\n        \"Pa ... (461 characters truncated) ... unt\" INTEGER,\\n        \"ClosedDate\" TEXT,\\n        \"CommunityOwnedDate\" TEXT,\\n        FOREIGN KEY(OwnerUserId) REFERENCES users(Id)\\n        )\\n    '),\n",
       " ('Task 1', 'Create table users', '\\nCREATE TABLE \"users\" (\\n        \"Id\" INTEGER NOT NULL PRIMARY KEY,\\n        \"Reputation\" INTEGER,\\n        \"CreationDate\" TEXT,\\n        \"DisplayNa ... (135 characters truncated) ... ws\" INTEGER,\\n        \"UpVotes\" INTEGER,\\n        \"DownVotes\" INTEGER,\\n        \"ProfileImageUrl\" TEXT,\\n        \"AccountId\" INTEGER\\n        )\\n    '),\n",
       " ('Task 1', 'Count the number of rows in the comments table', 'SELECT COUNT(*) FROM \"comments\" '),\n",
       " ('Task 1', 'Count the number of rows in the comments table', 'SELECT COUNT(*) FROM \"users\" '),\n",
       " ('Task 1', 'Count the number of rows in the comments table', 'SELECT COUNT(*) FROM \"posts\" ')]"
      ]
     },
     "execution_count": 107,
     "metadata": {},
     "output_type": "execute_result"
    }
   ],
   "source": [
    "%sql SELECT * FROM queries"
   ]
  },
  {
   "cell_type": "markdown",
   "metadata": {},
   "source": [
    "## Drop Duplicates\n",
    "\n",
    "You likely have some duplicates. Lets drop them. "
   ]
  },
  {
   "cell_type": "code",
   "execution_count": 108,
   "metadata": {},
   "outputs": [],
   "source": [
    "# Read the queries table into pandas\n",
    "sql = 'SELECT * FROM queries'\n",
    "queries = pd.read_sql(sql, con)\n",
    "\n",
    "# Drop duplicates\n",
    "queries.drop_duplicates(inplace = True) # drop duplicates"
   ]
  },
  {
   "cell_type": "markdown",
   "metadata": {},
   "source": [
    "## Case Issues"
   ]
  },
  {
   "cell_type": "markdown",
   "metadata": {},
   "source": [
    "Remember, SQL is case insensitive. Pandas IS case sensitive. Lets deal with this now by making all of the text uppercase. "
   ]
  },
  {
   "cell_type": "code",
   "execution_count": 109,
   "metadata": {},
   "outputs": [
    {
     "data": {
      "text/html": [
       "<div>\n",
       "<style scoped>\n",
       "    .dataframe tbody tr th:only-of-type {\n",
       "        vertical-align: middle;\n",
       "    }\n",
       "\n",
       "    .dataframe tbody tr th {\n",
       "        vertical-align: top;\n",
       "    }\n",
       "\n",
       "    .dataframe thead th {\n",
       "        text-align: right;\n",
       "    }\n",
       "</style>\n",
       "<table border=\"1\" class=\"dataframe\">\n",
       "  <thead>\n",
       "    <tr style=\"text-align: right;\">\n",
       "      <th></th>\n",
       "      <th>task</th>\n",
       "      <th>action</th>\n",
       "      <th>query</th>\n",
       "    </tr>\n",
       "  </thead>\n",
       "  <tbody>\n",
       "    <tr>\n",
       "      <th>0</th>\n",
       "      <td>SINGLE TABLE QUERIES</td>\n",
       "      <td>WHICH 5 USERS HAVE VIEWED THE MOST TIMES AND W...</td>\n",
       "      <td>\\nSELECT ID, SUM(VIEWS) AS TOTALVIEWS\\n    FRO...</td>\n",
       "    </tr>\n",
       "    <tr>\n",
       "      <th>2</th>\n",
       "      <td>TASK 1</td>\n",
       "      <td>CREATE TABLE COMMENTS</td>\n",
       "      <td>\\n    CREATE TABLE \"COMMENTS\" (\\n    \"ID\" INTE...</td>\n",
       "    </tr>\n",
       "    <tr>\n",
       "      <th>3</th>\n",
       "      <td>TASK 1</td>\n",
       "      <td>CREATE TABLE POSTS</td>\n",
       "      <td>\\nCREATE TABLE \"POSTS\" (\\n        \"ID\" INTEGER...</td>\n",
       "    </tr>\n",
       "    <tr>\n",
       "      <th>4</th>\n",
       "      <td>TASK 1</td>\n",
       "      <td>CREATE TABLE USERS</td>\n",
       "      <td>\\nCREATE TABLE \"USERS\" (\\n        \"ID\" INTEGER...</td>\n",
       "    </tr>\n",
       "    <tr>\n",
       "      <th>5</th>\n",
       "      <td>TASK 1</td>\n",
       "      <td>COUNT THE NUMBER OF ROWS IN THE COMMENTS TABLE</td>\n",
       "      <td>SELECT COUNT(*) FROM \"COMMENTS\"</td>\n",
       "    </tr>\n",
       "    <tr>\n",
       "      <th>6</th>\n",
       "      <td>TASK 1</td>\n",
       "      <td>COUNT THE NUMBER OF ROWS IN THE COMMENTS TABLE</td>\n",
       "      <td>SELECT COUNT(*) FROM \"USERS\"</td>\n",
       "    </tr>\n",
       "    <tr>\n",
       "      <th>7</th>\n",
       "      <td>TASK 1</td>\n",
       "      <td>COUNT THE NUMBER OF ROWS IN THE COMMENTS TABLE</td>\n",
       "      <td>SELECT COUNT(*) FROM \"POSTS\"</td>\n",
       "    </tr>\n",
       "  </tbody>\n",
       "</table>\n",
       "</div>"
      ],
      "text/plain": [
       "                   task                                             action  \\\n",
       "0  SINGLE TABLE QUERIES  WHICH 5 USERS HAVE VIEWED THE MOST TIMES AND W...   \n",
       "2                TASK 1                              CREATE TABLE COMMENTS   \n",
       "3                TASK 1                                 CREATE TABLE POSTS   \n",
       "4                TASK 1                                 CREATE TABLE USERS   \n",
       "5                TASK 1     COUNT THE NUMBER OF ROWS IN THE COMMENTS TABLE   \n",
       "6                TASK 1     COUNT THE NUMBER OF ROWS IN THE COMMENTS TABLE   \n",
       "7                TASK 1     COUNT THE NUMBER OF ROWS IN THE COMMENTS TABLE   \n",
       "\n",
       "                                               query  \n",
       "0  \\nSELECT ID, SUM(VIEWS) AS TOTALVIEWS\\n    FRO...  \n",
       "2  \\n    CREATE TABLE \"COMMENTS\" (\\n    \"ID\" INTE...  \n",
       "3  \\nCREATE TABLE \"POSTS\" (\\n        \"ID\" INTEGER...  \n",
       "4  \\nCREATE TABLE \"USERS\" (\\n        \"ID\" INTEGER...  \n",
       "5                   SELECT COUNT(*) FROM \"COMMENTS\"   \n",
       "6                      SELECT COUNT(*) FROM \"USERS\"   \n",
       "7                      SELECT COUNT(*) FROM \"POSTS\"   "
      ]
     },
     "execution_count": 109,
     "metadata": {},
     "output_type": "execute_result"
    }
   ],
   "source": [
    "for col in queries.columns:\n",
    "    queries[col] = queries[col].str.upper()\n",
    "    \n",
    "queries"
   ]
  },
  {
   "cell_type": "code",
   "execution_count": 110,
   "metadata": {},
   "outputs": [
    {
     "data": {
      "text/plain": [
       "7"
      ]
     },
     "execution_count": 110,
     "metadata": {},
     "output_type": "execute_result"
    }
   ],
   "source": [
    "# Write the now deduped uppercase dataframe back to sqlite and replace the table\n",
    "queries.to_sql('queries', con, if_exists='replace', index=False)"
   ]
  },
  {
   "cell_type": "markdown",
   "metadata": {},
   "source": [
    "## Use Case\n",
    "\n",
    "Now that we have this queries table, lets give you some ideas about how you would use it.\n",
    "\n",
    "Suppose you wanted to find all of the queries where you did a GROUP BY:"
   ]
  },
  {
   "cell_type": "code",
   "execution_count": 111,
   "metadata": {},
   "outputs": [
    {
     "name": "stdout",
     "output_type": "stream",
     "text": [
      " * sqlite:///chatdata.db\n",
      "Done.\n"
     ]
    },
    {
     "data": {
      "text/html": [
       "<table>\n",
       "    <tr>\n",
       "        <th>query</th>\n",
       "    </tr>\n",
       "    <tr>\n",
       "        <td><br>SELECT ID, SUM(VIEWS) AS TOTALVIEWS<br>    FROM USERS<br>        GROUP BY ID<br>            ORDER BY TOTALVIEWS DESC<br>                LIMIT 5<br>                </td>\n",
       "    </tr>\n",
       "</table>"
      ],
      "text/plain": [
       "[('\\nSELECT ID, SUM(VIEWS) AS TOTALVIEWS\\n    FROM USERS\\n        GROUP BY ID\\n            ORDER BY TOTALVIEWS DESC\\n                LIMIT 5\\n                ',)]"
      ]
     },
     "execution_count": 111,
     "metadata": {},
     "output_type": "execute_result"
    }
   ],
   "source": [
    "%%sql\n",
    "SELECT query\n",
    "    FROM queries\n",
    "        WHERE query LIKE '%GROUP BY%'"
   ]
  },
  {
   "cell_type": "markdown",
   "metadata": {},
   "source": [
    "## Now Your Turn\n",
    "\n",
    "Find the queries that have 'DISTINCT' in them. You can do it with the %sql command or with Pandas and sql.\n",
    "\n",
    "This last SQL query selects the 'query' column from the 'queries' table where the 'query' column contains the word 'DISTINCT'."
   ]
  },
  {
   "cell_type": "code",
   "execution_count": 87,
   "metadata": {},
   "outputs": [
    {
     "name": "stdout",
     "output_type": "stream",
     "text": [
      " * sqlite:///chatdata.db\n",
      "Done.\n"
     ]
    },
    {
     "data": {
      "text/html": [
       "<table>\n",
       "    <tr>\n",
       "        <th>query</th>\n",
       "    </tr>\n",
       "</table>"
      ],
      "text/plain": [
       "[]"
      ]
     },
     "execution_count": 87,
     "metadata": {},
     "output_type": "execute_result"
    }
   ],
   "source": [
    "%%sql\n",
    "SELECT query \n",
    "    FROM queries\n",
    "        WHERE query LIKE '%DISTINCT%'"
   ]
  },
  {
   "cell_type": "markdown",
   "metadata": {},
   "source": [
    "# Close SQLite\n",
    "\n",
    "It is good practise to close all relational databases as soon as you are finished updating them."
   ]
  },
  {
   "cell_type": "code",
   "execution_count": 88,
   "metadata": {},
   "outputs": [],
   "source": [
    "con.close()"
   ]
  },
  {
   "cell_type": "markdown",
   "metadata": {},
   "source": [
    "# All Done!\n",
    "\n",
    "Great job. You now have a good idea for how to use sql and pandas with sql. You can create your own databases from csv files and you can do extensive querying using sql. These are valuable skills that will take you a long ways in todays technological world."
   ]
  }
 ],
 "metadata": {
  "kernelspec": {
   "display_name": "Python 3 (ipykernel)",
   "language": "python",
   "name": "python3"
  },
  "language_info": {
   "codemirror_mode": {
    "name": "ipython",
    "version": 3
   },
   "file_extension": ".py",
   "mimetype": "text/x-python",
   "name": "python",
   "nbconvert_exporter": "python",
   "pygments_lexer": "ipython3",
   "version": "3.9.12"
  },
  "toc": {
   "base_numbering": 1,
   "nav_menu": {},
   "number_sections": true,
   "sideBar": true,
   "skip_h1_title": false,
   "title_cell": "Table of Contents",
   "title_sidebar": "Contents",
   "toc_cell": false,
   "toc_position": {
    "height": "calc(100% - 180px)",
    "left": "10px",
    "top": "150px",
    "width": "293.993px"
   },
   "toc_section_display": true,
   "toc_window_display": true
  }
 },
 "nbformat": 4,
 "nbformat_minor": 4
}
