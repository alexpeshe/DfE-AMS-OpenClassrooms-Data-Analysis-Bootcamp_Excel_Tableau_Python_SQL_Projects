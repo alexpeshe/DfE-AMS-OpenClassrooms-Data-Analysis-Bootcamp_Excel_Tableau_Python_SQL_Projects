{
 "cells": [
  {
   "cell_type": "markdown",
   "id": "38bcec7a-f9ab-48e8-9553-e9ded639a576",
   "metadata": {},
   "source": [
    "# Trees in Camden Data Quality Report\n"
   ]
  },
  {
   "cell_type": "markdown",
   "id": "0d120708",
   "metadata": {},
   "source": [
    "# Data Quality Report Contents"
   ]
  },
  {
   "cell_type": "markdown",
   "id": "ad32ccd6",
   "metadata": {},
   "source": [
    "Contents \n",
    "\n",
    "Task 2: Load Data and Perform Initial Exploration - \n",
    "Camden trees, the Environmental and Common names datasets, as well as displaying the first few rows, getting the number of rows, listing all columns, listing the data types for each column. The same operations have been performed on the environmental and commen names sets.\n",
    "\n",
    "Task 3: Further Inspecting of the Datasets - \n",
    "Creaiting list of values throuhg value.count for all string columns in the trees data set, then got the descriptive statistics for the set, and listing its data types. Then found out if floats are really floats or ints with nulls. Same operations have been performed on the environmental data set. Only unique values have been counted for the common names data set, due to no numeric values in it.\n",
    "\n",
    "Task 4: Identify Missing Values -\n",
    "This task consists mainly of performing mathematical operations to find missing values in all three data sets.\n",
    "\n",
    "Task 5:  Identify Outliers in the Trees Dimensions -\n",
    "Here, the main objective in this task is to find the crazy outliers for Height, Spread and Diametre for the trees, and then displaying the crazy outliers.\n",
    "\n",
    "Task 6: Identify Duplicates in the Trees Dataset - \n",
    "The main objective of this task was to find out, if there wre any duplicated rows based on the identifier column.\n",
    "\n",
    "Task7: Identify Geolocation Issues - \n",
    "The main objective in this task was to find the outside trees and tthen displayed them in the scatter plot and generated data frame.\n",
    "\n",
    "Task 8: Identify Unmatched Data - the main objective of this task is to identify unmatched data for all three data frames. \n"
   ]
  },
  {
   "cell_type": "markdown",
   "id": "88b2eb7f",
   "metadata": {},
   "source": [
    "# Task 1: Document the Data Sources"
   ]
  },
  {
   "cell_type": "markdown",
   "id": "17f78e49",
   "metadata": {},
   "source": [
    "The data source list document has been filled accordingly as per the requirements of the project"
   ]
  },
  {
   "cell_type": "markdown",
   "id": "71f2c016-f440-4601-8262-1d814315d1bb",
   "metadata": {},
   "source": [
    "## Imports\n",
    "Importing  the libraries we need to perform the analysis. These include Pandas, NumPy, SciPy.stats, MatPlotLib, and Seaborn. "
   ]
  },
  {
   "cell_type": "code",
   "execution_count": 2,
   "id": "26c7393c-3a3f-4224-8c88-10aa58310351",
   "metadata": {},
   "outputs": [],
   "source": [
    "import matplotlib.pyplot as mplt\n",
    "import numpy as np\n",
    "import pandas as pd\n",
    "import matplotlib as mpl\n",
    "import seaborn as sns\n",
    "from scipy.stats import zscore"
   ]
  },
  {
   "cell_type": "markdown",
   "id": "ddcf618b-a928-498c-b07e-991c7eb09bb7",
   "metadata": {
    "tags": [],
    "toc-hr-collapsed": true
   },
   "source": [
    "## Task 2: Load Data and Perform Initial Exploration\n",
    "Loaded the data from the supplied data files.  The files are in different **file formats(xlsx, csv, json, etc.)**, but Pandas has no problem processing them. They are read the data in using the appropriate function:\n",
    "\n",
    "- [pandas.read_excel](https://pandas.pydata.org/pandas-docs/stable/reference/api/pandas.read_excel.html)\n",
    "- [pandas.read_csv](https://pandas.pydata.org/docs/reference/api/pandas.read_csv.html)\n",
    "- [pandas.read_json](https://pandas.pydata.org/pandas-docs/version/0.23.4/generated/pandas.read_json.html)\n",
    "\n",
    "\n",
    "The first loading has been done, one (loading `\"camden_trees.xlsx\"`) for you.  Please load `\"camden_trees_environmental.csv\"` and `\"tree_common_names.json\"` and analyse them in the same way.\n"
   ]
  },
  {
   "cell_type": "markdown",
   "id": "be1b77e3-ef79-49da-a896-dafbc51a3e10",
   "metadata": {},
   "source": [
    "### 2.1 Trees\n",
    "The file `\"camden_trees.xlsx\"` is an Excel file, so the 'read_excel()' function is used in order to read and created the data frame. The name of this data frame is trees."
   ]
  },
  {
   "cell_type": "code",
   "execution_count": 3,
   "id": "dcc71d80-c6e5-41fa-bdd2-8a9c1c129cc7",
   "metadata": {},
   "outputs": [
    {
     "name": "stdout",
     "output_type": "stream",
     "text": [
      "      Identifier  Number Of Trees                         Site Name  \\\n",
      "0       00060053              1.0          Russell Nurseries Estate   \n",
      "1       00057855              1.0                 BRECKNOCK JMI (E)   \n",
      "2       00059953              1.0        Estate 51 Ravenshaw Street   \n",
      "3       00059915              1.0                 ROSARY RC JMI (E)   \n",
      "4       00010762              1.0                Holly Lodge Estate   \n",
      "...          ...              ...                               ...   \n",
      "23439   00057455              1.0  KILBURN GRANGE, MESSINA AVE (LS)   \n",
      "23440   00015494              1.0                  OSSULSTON STREET   \n",
      "23441   00001693              1.0                    BELMONT STREET   \n",
      "23442   00020342              1.0              Templar House Estate   \n",
      "23443   00013369              1.0                    LYNDHURST ROAD   \n",
      "\n",
      "      Contract Area          Scientific Name Inspection Date  \\\n",
      "0           Housing          Vacant Tree Pit             NaT   \n",
      "1         Education          Vacant Tree Pit      2019-07-17   \n",
      "2           Housing             Ficus carica             NaT   \n",
      "3         Education      Betula jacquemontii             NaT   \n",
      "4           Housing     Ilex x altaclarensis      2017-06-14   \n",
      "...             ...                      ...             ...   \n",
      "23439         Parks              Sorbus aria      2017-03-28   \n",
      "23440      Highways  Sorbus aria 'Majestica'      2019-10-28   \n",
      "23441      Highways     Platanus x hispanica      2017-07-31   \n",
      "23442       Housing           Tilia europaea      2018-11-05   \n",
      "23443      Highways           Tilia europaea      2018-06-08   \n",
      "\n",
      "      Inspection Due Date  Height In Metres  Spread In Metres  \\\n",
      "0                     NaN               NaN               NaN   \n",
      "1               2022/2023               NaN               NaN   \n",
      "2                     NaN               5.0               4.0   \n",
      "3                     NaN               4.0               1.0   \n",
      "4               2020/2021              14.0               6.0   \n",
      "...                   ...               ...               ...   \n",
      "23439           2019/2020               2.0               1.0   \n",
      "23440           2022/2023              12.0               6.0   \n",
      "23441           2020/2021              18.0              10.0   \n",
      "23442           2021/2022              20.0               8.0   \n",
      "23443           2021/2022              15.0               6.0   \n",
      "\n",
      "       Diameter In Centimetres At Breast Height  Ward Code  \\\n",
      "0                                           NaN  E05000135   \n",
      "1                                           NaN  E05000131   \n",
      "2                                          10.0        NaN   \n",
      "3                                           6.0  E05000135   \n",
      "4                                          26.0  E05000137   \n",
      "...                                         ...        ...   \n",
      "23439                                       6.0  E05000140   \n",
      "23440                                      48.0  E05000143   \n",
      "23441                                      57.0  E05000136   \n",
      "23442                                      40.0  E05000132   \n",
      "23443                                      77.0  E05000135   \n",
      "\n",
      "                        Ward Name   Easting  Northing  Longitude   Latitude  \\\n",
      "0                  Hampstead Town  527305.0  185240.0  -0.165240  51.551693   \n",
      "1                      Cantelowes  529923.0  184782.0  -0.127681  51.546984   \n",
      "2                             NaN       0.0       0.0        NaN        NaN   \n",
      "3                  Hampstead Town  527249.0  185261.0  -0.166051  51.551901   \n",
      "4                        Highgate  528414.0  186770.0  -0.148704  51.565198   \n",
      "...                           ...       ...       ...        ...        ...   \n",
      "23439                     Kilburn  525130.0  184418.0  -0.196884  51.544796   \n",
      "23440  St Pancras and Somers Town  529758.0  183095.0  -0.130667  51.531863   \n",
      "23441                  Haverstock  528302.0  184457.0  -0.151163  51.544432   \n",
      "23442               Fortune Green  524615.0  184714.0  -0.204206  51.547573   \n",
      "23443              Hampstead Town  526738.0  185304.0  -0.173397  51.552397   \n",
      "\n",
      "                     Location  \n",
      "0       (51.551693, -0.16524)  \n",
      "1      (51.546984, -0.127681)  \n",
      "2                         NaN  \n",
      "3      (51.551901, -0.166051)  \n",
      "4      (51.565198, -0.148704)  \n",
      "...                       ...  \n",
      "23439  (51.544796, -0.196884)  \n",
      "23440  (51.531863, -0.130667)  \n",
      "23441  (51.544432, -0.151163)  \n",
      "23442  (51.547573, -0.204206)  \n",
      "23443  (51.552397, -0.173397)  \n",
      "\n",
      "[23444 rows x 17 columns]\n"
     ]
    }
   ],
   "source": [
    "# Creating a Pandas dataframe called trees that contains the contents of the Excel file through pd.read function\n",
    "trees = pd.read_excel(\"camden_trees.xlsx\")\n",
    "print(trees)"
   ]
  },
  {
   "cell_type": "markdown",
   "id": "13689979-f709-4e37-87bc-e005a9dfd0ea",
   "metadata": {},
   "source": [
    "Here the first few rows are inspected using 'head()'.  By default, 'head()' displays the first 5 rows."
   ]
  },
  {
   "cell_type": "code",
   "execution_count": 4,
   "id": "34c737a4-0666-450f-8db3-b14fd2c2fec5",
   "metadata": {},
   "outputs": [
    {
     "data": {
      "text/html": [
       "<div>\n",
       "<style scoped>\n",
       "    .dataframe tbody tr th:only-of-type {\n",
       "        vertical-align: middle;\n",
       "    }\n",
       "\n",
       "    .dataframe tbody tr th {\n",
       "        vertical-align: top;\n",
       "    }\n",
       "\n",
       "    .dataframe thead th {\n",
       "        text-align: right;\n",
       "    }\n",
       "</style>\n",
       "<table border=\"1\" class=\"dataframe\">\n",
       "  <thead>\n",
       "    <tr style=\"text-align: right;\">\n",
       "      <th></th>\n",
       "      <th>Identifier</th>\n",
       "      <th>Number Of Trees</th>\n",
       "      <th>Site Name</th>\n",
       "      <th>Contract Area</th>\n",
       "      <th>Scientific Name</th>\n",
       "      <th>Inspection Date</th>\n",
       "      <th>Inspection Due Date</th>\n",
       "      <th>Height In Metres</th>\n",
       "      <th>Spread In Metres</th>\n",
       "      <th>Diameter In Centimetres At Breast Height</th>\n",
       "      <th>Ward Code</th>\n",
       "      <th>Ward Name</th>\n",
       "      <th>Easting</th>\n",
       "      <th>Northing</th>\n",
       "      <th>Longitude</th>\n",
       "      <th>Latitude</th>\n",
       "      <th>Location</th>\n",
       "    </tr>\n",
       "  </thead>\n",
       "  <tbody>\n",
       "    <tr>\n",
       "      <th>0</th>\n",
       "      <td>00060053</td>\n",
       "      <td>1.0</td>\n",
       "      <td>Russell Nurseries Estate</td>\n",
       "      <td>Housing</td>\n",
       "      <td>Vacant Tree Pit</td>\n",
       "      <td>NaT</td>\n",
       "      <td>NaN</td>\n",
       "      <td>NaN</td>\n",
       "      <td>NaN</td>\n",
       "      <td>NaN</td>\n",
       "      <td>E05000135</td>\n",
       "      <td>Hampstead Town</td>\n",
       "      <td>527305.0</td>\n",
       "      <td>185240.0</td>\n",
       "      <td>-0.165240</td>\n",
       "      <td>51.551693</td>\n",
       "      <td>(51.551693, -0.16524)</td>\n",
       "    </tr>\n",
       "    <tr>\n",
       "      <th>1</th>\n",
       "      <td>00057855</td>\n",
       "      <td>1.0</td>\n",
       "      <td>BRECKNOCK JMI (E)</td>\n",
       "      <td>Education</td>\n",
       "      <td>Vacant Tree Pit</td>\n",
       "      <td>2019-07-17</td>\n",
       "      <td>2022/2023</td>\n",
       "      <td>NaN</td>\n",
       "      <td>NaN</td>\n",
       "      <td>NaN</td>\n",
       "      <td>E05000131</td>\n",
       "      <td>Cantelowes</td>\n",
       "      <td>529923.0</td>\n",
       "      <td>184782.0</td>\n",
       "      <td>-0.127681</td>\n",
       "      <td>51.546984</td>\n",
       "      <td>(51.546984, -0.127681)</td>\n",
       "    </tr>\n",
       "    <tr>\n",
       "      <th>2</th>\n",
       "      <td>00059953</td>\n",
       "      <td>1.0</td>\n",
       "      <td>Estate 51 Ravenshaw Street</td>\n",
       "      <td>Housing</td>\n",
       "      <td>Ficus carica</td>\n",
       "      <td>NaT</td>\n",
       "      <td>NaN</td>\n",
       "      <td>5.0</td>\n",
       "      <td>4.0</td>\n",
       "      <td>10.0</td>\n",
       "      <td>NaN</td>\n",
       "      <td>NaN</td>\n",
       "      <td>0.0</td>\n",
       "      <td>0.0</td>\n",
       "      <td>NaN</td>\n",
       "      <td>NaN</td>\n",
       "      <td>NaN</td>\n",
       "    </tr>\n",
       "    <tr>\n",
       "      <th>3</th>\n",
       "      <td>00059915</td>\n",
       "      <td>1.0</td>\n",
       "      <td>ROSARY RC JMI (E)</td>\n",
       "      <td>Education</td>\n",
       "      <td>Betula jacquemontii</td>\n",
       "      <td>NaT</td>\n",
       "      <td>NaN</td>\n",
       "      <td>4.0</td>\n",
       "      <td>1.0</td>\n",
       "      <td>6.0</td>\n",
       "      <td>E05000135</td>\n",
       "      <td>Hampstead Town</td>\n",
       "      <td>527249.0</td>\n",
       "      <td>185261.0</td>\n",
       "      <td>-0.166051</td>\n",
       "      <td>51.551901</td>\n",
       "      <td>(51.551901, -0.166051)</td>\n",
       "    </tr>\n",
       "    <tr>\n",
       "      <th>4</th>\n",
       "      <td>00010762</td>\n",
       "      <td>1.0</td>\n",
       "      <td>Holly Lodge Estate</td>\n",
       "      <td>Housing</td>\n",
       "      <td>Ilex x altaclarensis</td>\n",
       "      <td>2017-06-14</td>\n",
       "      <td>2020/2021</td>\n",
       "      <td>14.0</td>\n",
       "      <td>6.0</td>\n",
       "      <td>26.0</td>\n",
       "      <td>E05000137</td>\n",
       "      <td>Highgate</td>\n",
       "      <td>528414.0</td>\n",
       "      <td>186770.0</td>\n",
       "      <td>-0.148704</td>\n",
       "      <td>51.565198</td>\n",
       "      <td>(51.565198, -0.148704)</td>\n",
       "    </tr>\n",
       "  </tbody>\n",
       "</table>\n",
       "</div>"
      ],
      "text/plain": [
       "  Identifier  Number Of Trees                   Site Name Contract Area  \\\n",
       "0   00060053              1.0    Russell Nurseries Estate       Housing   \n",
       "1   00057855              1.0           BRECKNOCK JMI (E)     Education   \n",
       "2   00059953              1.0  Estate 51 Ravenshaw Street       Housing   \n",
       "3   00059915              1.0           ROSARY RC JMI (E)     Education   \n",
       "4   00010762              1.0          Holly Lodge Estate       Housing   \n",
       "\n",
       "        Scientific Name Inspection Date Inspection Due Date  Height In Metres  \\\n",
       "0       Vacant Tree Pit             NaT                 NaN               NaN   \n",
       "1       Vacant Tree Pit      2019-07-17           2022/2023               NaN   \n",
       "2          Ficus carica             NaT                 NaN               5.0   \n",
       "3   Betula jacquemontii             NaT                 NaN               4.0   \n",
       "4  Ilex x altaclarensis      2017-06-14           2020/2021              14.0   \n",
       "\n",
       "   Spread In Metres  Diameter In Centimetres At Breast Height  Ward Code  \\\n",
       "0               NaN                                       NaN  E05000135   \n",
       "1               NaN                                       NaN  E05000131   \n",
       "2               4.0                                      10.0        NaN   \n",
       "3               1.0                                       6.0  E05000135   \n",
       "4               6.0                                      26.0  E05000137   \n",
       "\n",
       "        Ward Name   Easting  Northing  Longitude   Latitude  \\\n",
       "0  Hampstead Town  527305.0  185240.0  -0.165240  51.551693   \n",
       "1      Cantelowes  529923.0  184782.0  -0.127681  51.546984   \n",
       "2             NaN       0.0       0.0        NaN        NaN   \n",
       "3  Hampstead Town  527249.0  185261.0  -0.166051  51.551901   \n",
       "4        Highgate  528414.0  186770.0  -0.148704  51.565198   \n",
       "\n",
       "                 Location  \n",
       "0   (51.551693, -0.16524)  \n",
       "1  (51.546984, -0.127681)  \n",
       "2                     NaN  \n",
       "3  (51.551901, -0.166051)  \n",
       "4  (51.565198, -0.148704)  "
      ]
     },
     "execution_count": 4,
     "metadata": {},
     "output_type": "execute_result"
    }
   ],
   "source": [
    "# Displaying the first few rows using .head() function, for more insights on the data frame.\n",
    "trees.head()"
   ]
  },
  {
   "cell_type": "markdown",
   "id": "2dc1c27b-7658-41be-92f5-6d1ee07f49c0",
   "metadata": {},
   "source": [
    "It's good to get an idea of the size of the dataset we are dealing with.  So, the 'shape' method does this for us."
   ]
  },
  {
   "cell_type": "code",
   "execution_count": 5,
   "id": "9e7f1cf1-4e79-4cdd-a6b8-0a41c16cb153",
   "metadata": {},
   "outputs": [
    {
     "data": {
      "text/plain": [
       "(23444, 17)"
      ]
     },
     "execution_count": 5,
     "metadata": {},
     "output_type": "execute_result"
    }
   ],
   "source": [
    "# Getting the number of rows and columns using pandas .shape method to get how many rows and columns are there in the data set\n",
    "trees.shape"
   ]
  },
  {
   "cell_type": "markdown",
   "id": "d499f569-4200-48e9-b0a5-b84fc72a228a",
   "metadata": {},
   "source": [
    "The columns method can be used to display the complete list of column names."
   ]
  },
  {
   "cell_type": "code",
   "execution_count": 6,
   "id": "be4badda-f1c9-481c-a274-8251330cbc5a",
   "metadata": {},
   "outputs": [
    {
     "data": {
      "text/plain": [
       "Index(['Identifier', 'Number Of Trees', 'Site Name', 'Contract Area',\n",
       "       'Scientific Name', 'Inspection Date', 'Inspection Due Date',\n",
       "       'Height In Metres', 'Spread In Metres',\n",
       "       'Diameter In Centimetres At Breast Height', 'Ward Code', 'Ward Name',\n",
       "       'Easting', 'Northing', 'Longitude', 'Latitude', 'Location'],\n",
       "      dtype='object')"
      ]
     },
     "execution_count": 6,
     "metadata": {},
     "output_type": "execute_result"
    }
   ],
   "source": [
    "# Listing all the columns in the dataframe using .column method for completeness\n",
    "trees.columns"
   ]
  },
  {
   "cell_type": "code",
   "execution_count": 7,
   "id": "f5b603ef-9ce1-4667-a672-5a86fe9daf1a",
   "metadata": {},
   "outputs": [
    {
     "data": {
      "text/plain": [
       "Identifier                                          object\n",
       "Number Of Trees                                    float64\n",
       "Site Name                                           object\n",
       "Contract Area                                       object\n",
       "Scientific Name                                     object\n",
       "Inspection Date                             datetime64[ns]\n",
       "Inspection Due Date                                 object\n",
       "Height In Metres                                   float64\n",
       "Spread In Metres                                   float64\n",
       "Diameter In Centimetres At Breast Height           float64\n",
       "Ward Code                                           object\n",
       "Ward Name                                           object\n",
       "Easting                                            float64\n",
       "Northing                                           float64\n",
       "Longitude                                          float64\n",
       "Latitude                                           float64\n",
       "Location                                            object\n",
       "dtype: object"
      ]
     },
     "execution_count": 7,
     "metadata": {},
     "output_type": "execute_result"
    }
   ],
   "source": [
    "# Listing the data types of each column through the .dtypes method  for more clarity\n",
    "trees.dtypes"
   ]
  },
  {
   "cell_type": "markdown",
   "id": "dca6363c",
   "metadata": {},
   "source": [
    "Notice outliers, list columns in the trees dataframe for completeness.\n",
    "\n",
    "Notice the null values which will be dealt with subsequently."
   ]
  },
  {
   "cell_type": "markdown",
   "id": "722d9b40-5f9c-4362-9b46-b052b2449898",
   "metadata": {},
   "source": [
    "### 2.2 Environmental\n",
    "The file `\"camden_trees_environmental.csv\"` is a csv file.  Using the appropriate function to load it into a Pandas Data Frame, and perform the necissary operation, as done in the previous two data sets."
   ]
  },
  {
   "cell_type": "markdown",
   "id": "1e8fe2cd",
   "metadata": {},
   "source": [
    "### Creating a Pandas dataframe called trees_e that contains the contents of the csv file\n",
    "# TODO\n"
   ]
  },
  {
   "cell_type": "code",
   "execution_count": 8,
   "id": "3bd15747",
   "metadata": {},
   "outputs": [
    {
     "name": "stdout",
     "output_type": "stream",
     "text": [
      "      Identifier     Maturity Physiological Condition Tree Set To Be Removed  \\\n",
      "0       00055125     Juvenile                    Good                     No   \n",
      "1       00059429  Middle aged                    Fair                     No   \n",
      "2       00018254       Mature                    Fair                     No   \n",
      "3       00027155       Mature                    Fair                     No   \n",
      "4       00041326     Juvenile                    Good                     No   \n",
      "...          ...          ...                     ...                    ...   \n",
      "23410   00007869       Mature                    Fair                     No   \n",
      "23411   00002691       Mature                    Good                     No   \n",
      "23412   00005801       Mature                    Fair                     No   \n",
      "23413   00007948  Middle aged                    Fair                     No   \n",
      "23414   00001786       Mature                    Fair                     No   \n",
      "\n",
      "      Removal Reason  Capital Asset Value For Amenity Trees  \\\n",
      "0                NaN                                 115.07   \n",
      "1                NaN                                7518.08   \n",
      "2                NaN                               20419.63   \n",
      "3                NaN                               21447.74   \n",
      "4                NaN                                 524.30   \n",
      "...              ...                                    ...   \n",
      "23410            NaN                               13126.91   \n",
      "23411            NaN                               11185.06   \n",
      "23412            NaN                                7269.71   \n",
      "23413            NaN                                2854.52   \n",
      "23414            NaN                               18131.49   \n",
      "\n",
      "       Carbon Storage In Kilograms  \\\n",
      "0                              1.6   \n",
      "1                              NaN   \n",
      "2                            426.4   \n",
      "3                            448.3   \n",
      "4                              9.9   \n",
      "...                            ...   \n",
      "23410                        368.4   \n",
      "23411                        197.6   \n",
      "23412                        359.4   \n",
      "23413                         90.4   \n",
      "23414                        481.0   \n",
      "\n",
      "       Gross Carbon Sequestration Per Year In Kilograms  \\\n",
      "0                                                   0.5   \n",
      "1                                                   NaN   \n",
      "2                                                   8.8   \n",
      "3                                                   9.6   \n",
      "4                                                   1.4   \n",
      "...                                                 ...   \n",
      "23410                                               9.4   \n",
      "23411                                               7.8   \n",
      "23412                                              10.6   \n",
      "23413                                               4.7   \n",
      "23414                                              10.0   \n",
      "\n",
      "       Pollution Removal Per Year In Grams  \n",
      "0                                      5.7  \n",
      "1                                      NaN  \n",
      "2                                    215.2  \n",
      "3                                    379.1  \n",
      "4                                     12.8  \n",
      "...                                    ...  \n",
      "23410                                331.2  \n",
      "23411                                170.7  \n",
      "23412                                 27.1  \n",
      "23413                                 60.8  \n",
      "23414                                249.1  \n",
      "\n",
      "[23415 rows x 9 columns]\n"
     ]
    }
   ],
   "source": [
    "trees_e = pd.read_csv(\"camden_trees_environmental.csv\")\n",
    "print(trees_e)"
   ]
  },
  {
   "cell_type": "code",
   "execution_count": 9,
   "id": "4d6e254d-a3df-4004-b262-004923fdbf9a",
   "metadata": {
    "scrolled": true
   },
   "outputs": [
    {
     "data": {
      "text/html": [
       "<div>\n",
       "<style scoped>\n",
       "    .dataframe tbody tr th:only-of-type {\n",
       "        vertical-align: middle;\n",
       "    }\n",
       "\n",
       "    .dataframe tbody tr th {\n",
       "        vertical-align: top;\n",
       "    }\n",
       "\n",
       "    .dataframe thead th {\n",
       "        text-align: right;\n",
       "    }\n",
       "</style>\n",
       "<table border=\"1\" class=\"dataframe\">\n",
       "  <thead>\n",
       "    <tr style=\"text-align: right;\">\n",
       "      <th></th>\n",
       "      <th>Identifier</th>\n",
       "      <th>Maturity</th>\n",
       "      <th>Physiological Condition</th>\n",
       "      <th>Tree Set To Be Removed</th>\n",
       "      <th>Removal Reason</th>\n",
       "      <th>Capital Asset Value For Amenity Trees</th>\n",
       "      <th>Carbon Storage In Kilograms</th>\n",
       "      <th>Gross Carbon Sequestration Per Year In Kilograms</th>\n",
       "      <th>Pollution Removal Per Year In Grams</th>\n",
       "    </tr>\n",
       "  </thead>\n",
       "  <tbody>\n",
       "    <tr>\n",
       "      <th>0</th>\n",
       "      <td>00055125</td>\n",
       "      <td>Juvenile</td>\n",
       "      <td>Good</td>\n",
       "      <td>No</td>\n",
       "      <td>NaN</td>\n",
       "      <td>115.07</td>\n",
       "      <td>1.6</td>\n",
       "      <td>0.5</td>\n",
       "      <td>5.7</td>\n",
       "    </tr>\n",
       "    <tr>\n",
       "      <th>1</th>\n",
       "      <td>00059429</td>\n",
       "      <td>Middle aged</td>\n",
       "      <td>Fair</td>\n",
       "      <td>No</td>\n",
       "      <td>NaN</td>\n",
       "      <td>7518.08</td>\n",
       "      <td>NaN</td>\n",
       "      <td>NaN</td>\n",
       "      <td>NaN</td>\n",
       "    </tr>\n",
       "    <tr>\n",
       "      <th>2</th>\n",
       "      <td>00018254</td>\n",
       "      <td>Mature</td>\n",
       "      <td>Fair</td>\n",
       "      <td>No</td>\n",
       "      <td>NaN</td>\n",
       "      <td>20419.63</td>\n",
       "      <td>426.4</td>\n",
       "      <td>8.8</td>\n",
       "      <td>215.2</td>\n",
       "    </tr>\n",
       "    <tr>\n",
       "      <th>3</th>\n",
       "      <td>00027155</td>\n",
       "      <td>Mature</td>\n",
       "      <td>Fair</td>\n",
       "      <td>No</td>\n",
       "      <td>NaN</td>\n",
       "      <td>21447.74</td>\n",
       "      <td>448.3</td>\n",
       "      <td>9.6</td>\n",
       "      <td>379.1</td>\n",
       "    </tr>\n",
       "    <tr>\n",
       "      <th>4</th>\n",
       "      <td>00041326</td>\n",
       "      <td>Juvenile</td>\n",
       "      <td>Good</td>\n",
       "      <td>No</td>\n",
       "      <td>NaN</td>\n",
       "      <td>524.30</td>\n",
       "      <td>9.9</td>\n",
       "      <td>1.4</td>\n",
       "      <td>12.8</td>\n",
       "    </tr>\n",
       "  </tbody>\n",
       "</table>\n",
       "</div>"
      ],
      "text/plain": [
       "  Identifier     Maturity Physiological Condition Tree Set To Be Removed  \\\n",
       "0   00055125     Juvenile                    Good                     No   \n",
       "1   00059429  Middle aged                    Fair                     No   \n",
       "2   00018254       Mature                    Fair                     No   \n",
       "3   00027155       Mature                    Fair                     No   \n",
       "4   00041326     Juvenile                    Good                     No   \n",
       "\n",
       "  Removal Reason  Capital Asset Value For Amenity Trees  \\\n",
       "0            NaN                                 115.07   \n",
       "1            NaN                                7518.08   \n",
       "2            NaN                               20419.63   \n",
       "3            NaN                               21447.74   \n",
       "4            NaN                                 524.30   \n",
       "\n",
       "   Carbon Storage In Kilograms  \\\n",
       "0                          1.6   \n",
       "1                          NaN   \n",
       "2                        426.4   \n",
       "3                        448.3   \n",
       "4                          9.9   \n",
       "\n",
       "   Gross Carbon Sequestration Per Year In Kilograms  \\\n",
       "0                                               0.5   \n",
       "1                                               NaN   \n",
       "2                                               8.8   \n",
       "3                                               9.6   \n",
       "4                                               1.4   \n",
       "\n",
       "   Pollution Removal Per Year In Grams  \n",
       "0                                  5.7  \n",
       "1                                  NaN  \n",
       "2                                215.2  \n",
       "3                                379.1  \n",
       "4                                 12.8  "
      ]
     },
     "execution_count": 9,
     "metadata": {},
     "output_type": "execute_result"
    }
   ],
   "source": [
    "# Displaying the first few rows like I did with the trees data set to get idea about the data set.\n",
    "trees_e.head()"
   ]
  },
  {
   "cell_type": "code",
   "execution_count": 10,
   "id": "66c23391-628f-4612-936b-7f55c561fd1b",
   "metadata": {},
   "outputs": [
    {
     "data": {
      "text/plain": [
       "(23415, 9)"
      ]
     },
     "execution_count": 10,
     "metadata": {},
     "output_type": "execute_result"
    }
   ],
   "source": [
    "# Getting the number of rows and columns like I did with the trees data set.\n",
    "trees_e.shape"
   ]
  },
  {
   "cell_type": "code",
   "execution_count": 11,
   "id": "2ccce95e-0aec-4b3b-a961-5356606c2d60",
   "metadata": {},
   "outputs": [
    {
     "data": {
      "text/plain": [
       "Index(['Identifier', 'Maturity', 'Physiological Condition',\n",
       "       'Tree Set To Be Removed', 'Removal Reason',\n",
       "       'Capital Asset Value For Amenity Trees', 'Carbon Storage In Kilograms',\n",
       "       'Gross Carbon Sequestration Per Year In Kilograms',\n",
       "       'Pollution Removal Per Year In Grams'],\n",
       "      dtype='object')"
      ]
     },
     "execution_count": 11,
     "metadata": {},
     "output_type": "execute_result"
    }
   ],
   "source": [
    "# Getting a list of all the columns in the dataframe like I did with the trees data set for more clarity.\n",
    "trees_e.columns"
   ]
  },
  {
   "cell_type": "code",
   "execution_count": 12,
   "id": "b32a0236-40fc-44d8-a0b1-d2afb3baba19",
   "metadata": {},
   "outputs": [
    {
     "data": {
      "text/plain": [
       "Identifier                                           object\n",
       "Maturity                                             object\n",
       "Physiological Condition                              object\n",
       "Tree Set To Be Removed                               object\n",
       "Removal Reason                                       object\n",
       "Capital Asset Value For Amenity Trees               float64\n",
       "Carbon Storage In Kilograms                         float64\n",
       "Gross Carbon Sequestration Per Year In Kilograms    float64\n",
       "Pollution Removal Per Year In Grams                 float64\n",
       "dtype: object"
      ]
     },
     "execution_count": 12,
     "metadata": {},
     "output_type": "execute_result"
    }
   ],
   "source": [
    "# Getting the list the data types of each column like I did with the trees data set to see data types.\n",
    "trees_e.dtypes"
   ]
  },
  {
   "cell_type": "markdown",
   "id": "35e2a8fe-944e-4ef0-b944-0a536f699455",
   "metadata": {},
   "source": [
    "<hr/>"
   ]
  },
  {
   "cell_type": "markdown",
   "id": "faa2e5f5-67d8-4382-bad0-549486826c3a",
   "metadata": {},
   "source": [
    "### 2.3 Common and Scientific Names\n",
    "The file `\"tree_common_names.json\"` is a json file.  Using the appropriate function to load it into a Pandas Data Frame, and perform the necissary operation, as done in the previous two data sets."
   ]
  },
  {
   "cell_type": "code",
   "execution_count": 13,
   "id": "9d3eef7b-123a-4e3d-8d19-5808becb2d35",
   "metadata": {},
   "outputs": [
    {
     "name": "stdout",
     "output_type": "stream",
     "text": [
      "                Scientific Name          Common Name\n",
      "0        Carpinus betulus Lucas  Hornbeam - European\n",
      "1              Prunus 'Pandora'  Cherry - Ornamental\n",
      "2    Tilia unidentified species                 Lime\n",
      "3     Rosa unidentified species                 None\n",
      "4                 Cedrus libani     Cedar of Lebanon\n",
      "..                          ...                  ...\n",
      "584               Taxus baccata                  Yew\n",
      "585               Thuja plicata    Western red cedar\n",
      "586          Tsuga heterophylla      Western Hemlock\n",
      "587   Cupressocyparis leylandii      Leylandii green\n",
      "588   Cupressocyparis leylandii    Castlewellan gold\n",
      "\n",
      "[589 rows x 2 columns]\n"
     ]
    }
   ],
   "source": [
    "# Creating a Pandas dataframe called trees that contains the contents of the json file like I did with the trees data set\n",
    "common_names = pd.read_json(\"tree_common_names.json\")\n",
    "print(common_names)"
   ]
  },
  {
   "cell_type": "code",
   "execution_count": 14,
   "id": "5d05c25c-b462-481b-b8ca-485f4b5a6cec",
   "metadata": {},
   "outputs": [
    {
     "data": {
      "text/html": [
       "<div>\n",
       "<style scoped>\n",
       "    .dataframe tbody tr th:only-of-type {\n",
       "        vertical-align: middle;\n",
       "    }\n",
       "\n",
       "    .dataframe tbody tr th {\n",
       "        vertical-align: top;\n",
       "    }\n",
       "\n",
       "    .dataframe thead th {\n",
       "        text-align: right;\n",
       "    }\n",
       "</style>\n",
       "<table border=\"1\" class=\"dataframe\">\n",
       "  <thead>\n",
       "    <tr style=\"text-align: right;\">\n",
       "      <th></th>\n",
       "      <th>Scientific Name</th>\n",
       "      <th>Common Name</th>\n",
       "    </tr>\n",
       "  </thead>\n",
       "  <tbody>\n",
       "    <tr>\n",
       "      <th>0</th>\n",
       "      <td>Carpinus betulus Lucas</td>\n",
       "      <td>Hornbeam - European</td>\n",
       "    </tr>\n",
       "    <tr>\n",
       "      <th>1</th>\n",
       "      <td>Prunus 'Pandora'</td>\n",
       "      <td>Cherry - Ornamental</td>\n",
       "    </tr>\n",
       "    <tr>\n",
       "      <th>2</th>\n",
       "      <td>Tilia unidentified species</td>\n",
       "      <td>Lime</td>\n",
       "    </tr>\n",
       "    <tr>\n",
       "      <th>3</th>\n",
       "      <td>Rosa unidentified species</td>\n",
       "      <td>None</td>\n",
       "    </tr>\n",
       "    <tr>\n",
       "      <th>4</th>\n",
       "      <td>Cedrus libani</td>\n",
       "      <td>Cedar of Lebanon</td>\n",
       "    </tr>\n",
       "  </tbody>\n",
       "</table>\n",
       "</div>"
      ],
      "text/plain": [
       "              Scientific Name          Common Name\n",
       "0      Carpinus betulus Lucas  Hornbeam - European\n",
       "1            Prunus 'Pandora'  Cherry - Ornamental\n",
       "2  Tilia unidentified species                 Lime\n",
       "3   Rosa unidentified species                 None\n",
       "4               Cedrus libani     Cedar of Lebanon"
      ]
     },
     "execution_count": 14,
     "metadata": {},
     "output_type": "execute_result"
    }
   ],
   "source": [
    "# Displaying the first few rows like I did with the trees data set to understand the data set\n",
    "common_names.head()"
   ]
  },
  {
   "cell_type": "code",
   "execution_count": 15,
   "id": "d6b7cc1e-1ec9-4a5e-a526-23143c0702f7",
   "metadata": {},
   "outputs": [
    {
     "data": {
      "text/plain": [
       "(589, 2)"
      ]
     },
     "execution_count": 15,
     "metadata": {},
     "output_type": "execute_result"
    }
   ],
   "source": [
    "# Getting the number of rows and columns like I did with the trees data set for clarity.\n",
    "common_names.shape"
   ]
  },
  {
   "cell_type": "code",
   "execution_count": 16,
   "id": "f349e0ba-c2d0-469b-9f16-530394e85446",
   "metadata": {},
   "outputs": [
    {
     "data": {
      "text/plain": [
       "Index(['Scientific Name', 'Common Name'], dtype='object')"
      ]
     },
     "execution_count": 16,
     "metadata": {},
     "output_type": "execute_result"
    }
   ],
   "source": [
    "# Getting the list of all the columns in the dataframe like I did with the trees data set, for more clarity.\n",
    "common_names.columns"
   ]
  },
  {
   "cell_type": "code",
   "execution_count": 17,
   "id": "aa722c8d-db42-4d95-85cc-eb3d87bcdc5a",
   "metadata": {},
   "outputs": [
    {
     "data": {
      "text/plain": [
       "Scientific Name    object\n",
       "Common Name        object\n",
       "dtype: object"
      ]
     },
     "execution_count": 17,
     "metadata": {},
     "output_type": "execute_result"
    }
   ],
   "source": [
    "# Getting the data types of each column like I did with the trees data set for more clarity.\n",
    "common_names.dtypes"
   ]
  },
  {
   "cell_type": "markdown",
   "id": "17473375-5a50-4709-9d87-8ba11c738dc9",
   "metadata": {},
   "source": [
    "<hr/>"
   ]
  },
  {
   "cell_type": "markdown",
   "id": "5034de69-86fd-4332-9fbd-9ce160540ded",
   "metadata": {},
   "source": [
    "### 2.4 Review\n",
    "Upon completion of this task, we should have a foundational knowledge of the information and structure of the various data files. If not, review the previous outputs for assistance. "
   ]
  },
  {
   "cell_type": "markdown",
   "id": "0ba2d5d3-ad1e-4961-a2c6-c6ecd1bcc9e0",
   "metadata": {
    "tags": []
   },
   "source": [
    "## Task 3: Further Inspect the Datasets\n",
    "\n",
    "After the initial examination, you should have a general understanding of the data. We will now delve deeper and analyze the data column by column.\n",
    "\n",
    "For columns containing string data (object in Pandas), we have qualitative data. It is useful to determine the number of distinct values in the column, the values themselves and the frequency of each value. This will help us understand if the qualitative variable is binary, nominal or ordinal.\n",
    "\n",
    "For columns containing numeric data (int or float), we have quantitative data. Typically, integer type variables are considered discrete and float type variables are considered continuous. It is useful to know some summary descriptive statistics for these columns."
   ]
  },
  {
   "cell_type": "markdown",
   "id": "9899c07e-0430-49db-875a-6d5a629d6887",
   "metadata": {},
   "source": [
    "### 3.1 Further Inspect the Trees Dataset\n",
    "Let's examine the trees dataset further.\n"
   ]
  },
  {
   "cell_type": "markdown",
   "id": "e220daf9-b12b-4d67-9253-6f61b1952e2f",
   "metadata": {},
   "source": [
    "#### 3.1.a Counts of Values for String Types Columns\n",
    "\n",
    "Examining each column that contains string (object) data and count the number of occurrences of each value in the column. After counting, use markdown comments to classify the data as binary, nominal or ordinal."
   ]
  },
  {
   "cell_type": "markdown",
   "id": "3dd0dd30-406d-4635-888b-4157fa5e3f37",
   "metadata": {},
   "source": [
    "**Site Name**"
   ]
  },
  {
   "cell_type": "code",
   "execution_count": 18,
   "id": "3a4a0915-8d0e-45a2-a919-6b9fd49160da",
   "metadata": {},
   "outputs": [
    {
     "data": {
      "text/plain": [
       "WATERLOW PARK (LS)                         920\n",
       "Alexandra & Ainsworth Estate               289\n",
       "Belsize nature reserve, Russell Nursery    278\n",
       "Holly Lodge Estate                         272\n",
       "LINCOLN'S INN FIELDS, GARDENS (LS)         193\n",
       "                                          ... \n",
       "GOLDINGTON CRESCENT                          1\n",
       "ALLCROFT ROAD                                1\n",
       "WOBURN WALK, LAND BEHIND 4-18                1\n",
       "KILBURN PRIORY                               1\n",
       "GOODGE PLACE                                 1\n",
       "Name: Site Name, Length: 1135, dtype: int64"
      ]
     },
     "execution_count": 18,
     "metadata": {},
     "output_type": "execute_result"
    }
   ],
   "source": [
    "# Creating a list of values in Site Name column and their counts through the value_counts function\n",
    "trees[\"Site Name\"].value_counts()"
   ]
  },
  {
   "cell_type": "markdown",
   "id": "9117ae6f-8ecb-429f-9e1e-84931d1291c2",
   "metadata": {},
   "source": [
    "Site Name is **qualitative nominal**."
   ]
  },
  {
   "cell_type": "markdown",
   "id": "62f1b4ef-e76a-4464-af20-70a31385091f",
   "metadata": {},
   "source": [
    "Proceeded to repeat the process on the remaining string columns by using the value_counts() method and then classify them as binary, ordered or unordered using markdown comments. As you analyze each column, take the time to examine the values and counts and consider how the data in the column can support the council's initiatives. Rather than treating this as a routine task, the goal is to gain a deep understanding of the data."
   ]
  },
  {
   "cell_type": "code",
   "execution_count": 19,
   "id": "366a0f1c",
   "metadata": {},
   "outputs": [],
   "source": [
    "# and the same has been done with the rest of the columns"
   ]
  },
  {
   "cell_type": "code",
   "execution_count": 20,
   "id": "30f79dcc-0c78-407e-9479-131db91b2400",
   "metadata": {},
   "outputs": [
    {
     "data": {
      "text/plain": [
       "Highways              10062\n",
       "Housing                7500\n",
       "Parks                  4330\n",
       "Education              1288\n",
       "Corporate Landlord      264\n",
       "Name: Contract Area, dtype: int64"
      ]
     },
     "execution_count": 20,
     "metadata": {},
     "output_type": "execute_result"
    }
   ],
   "source": [
    "trees[\"Contract Area\"].value_counts()"
   ]
  },
  {
   "cell_type": "markdown",
   "id": "174511d0",
   "metadata": {},
   "source": [
    "\"Contract Area\" is qualitative nominal"
   ]
  },
  {
   "cell_type": "code",
   "execution_count": 21,
   "id": "90a2c62b-fb2c-492d-a529-06cc6066802d",
   "metadata": {
    "scrolled": true
   },
   "outputs": [
    {
     "data": {
      "text/plain": [
       "Platanus x hispanica                                 3340\n",
       "Tilia europaea                                       1468\n",
       "Acer pseudoplatanus                                   941\n",
       "Betula pendula                                        765\n",
       "Fraxinus excelsior                                    754\n",
       "                                                     ... \n",
       "Vacant Tree Pit (planned: Populus tremula)              1\n",
       "Liriodendron fastigiata                                 1\n",
       "Sequoia sempervirens                                    1\n",
       "Sorbus x hybrida                                        1\n",
       "Vacant Tree Pit (planned: Acer rubrum 'Amstrong')       1\n",
       "Name: Scientific Name, Length: 543, dtype: int64"
      ]
     },
     "execution_count": 21,
     "metadata": {},
     "output_type": "execute_result"
    }
   ],
   "source": [
    "trees[\"Scientific Name\"].value_counts()"
   ]
  },
  {
   "cell_type": "markdown",
   "id": "4e0796b6",
   "metadata": {},
   "source": [
    "\"Scientific Name\" is qualitative nominal"
   ]
  },
  {
   "cell_type": "code",
   "execution_count": 22,
   "id": "1f38b812-f955-481d-8964-55ce58be0290",
   "metadata": {
    "scrolled": false
   },
   "outputs": [
    {
     "data": {
      "text/plain": [
       "Highgate                          2799\n",
       "St Pancras and Somers Town        1832\n",
       "Gospel Oak                        1541\n",
       "Kilburn                           1540\n",
       "Kentish Town                      1463\n",
       "Haverstock                        1424\n",
       "Hampstead Town                    1340\n",
       "Holborn and Covent Garden         1293\n",
       "Fortune Green                     1284\n",
       "Cantelowes                        1231\n",
       "Frognal and Fitzjohns             1229\n",
       "Bloomsbury                        1008\n",
       "Regent's Park                      989\n",
       "Swiss Cottage                      978\n",
       "Camden Town with Primrose Hill     899\n",
       "West Hampstead                     853\n",
       "King's Cross                       824\n",
       "Belsize                            691\n",
       "Name: Ward Name, dtype: int64"
      ]
     },
     "execution_count": 22,
     "metadata": {},
     "output_type": "execute_result"
    }
   ],
   "source": [
    "trees[\"Ward Name\"].value_counts()"
   ]
  },
  {
   "cell_type": "markdown",
   "id": "657ae873",
   "metadata": {},
   "source": [
    "\"Ward Name\" is qualitative nominal"
   ]
  },
  {
   "cell_type": "code",
   "execution_count": 23,
   "id": "ad728fb3",
   "metadata": {
    "scrolled": true
   },
   "outputs": [
    {
     "data": {
      "text/plain": [
       "E05000137    2799\n",
       "E05000143    1832\n",
       "E05000134    1541\n",
       "E05000140    1540\n",
       "E05000139    1463\n",
       "E05000136    1424\n",
       "E05000135    1340\n",
       "E05000138    1293\n",
       "E05000132    1284\n",
       "E05000131    1231\n",
       "E05000133    1229\n",
       "E05000129    1008\n",
       "E05000142     989\n",
       "E05000144     978\n",
       "E05000130     899\n",
       "E05000145     853\n",
       "E05000141     824\n",
       "E05000128     691\n",
       "Name: Ward Code, dtype: int64"
      ]
     },
     "execution_count": 23,
     "metadata": {},
     "output_type": "execute_result"
    }
   ],
   "source": [
    "trees[\"Ward Code\"].value_counts()"
   ]
  },
  {
   "cell_type": "markdown",
   "id": "767ea81b",
   "metadata": {},
   "source": [
    "\"Ward Code\" is qualitative nominal"
   ]
  },
  {
   "cell_type": "code",
   "execution_count": 24,
   "id": "4faac769",
   "metadata": {},
   "outputs": [
    {
     "data": {
      "text/plain": [
       "2022/2023    7921\n",
       "2021/2022    7353\n",
       "2020/2021    6577\n",
       "2019/2020    1157\n",
       "2018/2019      16\n",
       "2017/2018       5\n",
       "2016/2017       4\n",
       "2001/2002       4\n",
       "2003/2004       2\n",
       "2006/2007       1\n",
       "2012/2013       1\n",
       "2013/2014       1\n",
       "2011/2012       1\n",
       "Name: Inspection Due Date, dtype: int64"
      ]
     },
     "execution_count": 24,
     "metadata": {},
     "output_type": "execute_result"
    }
   ],
   "source": [
    "trees[\"Inspection Due Date\"].value_counts()"
   ]
  },
  {
   "cell_type": "markdown",
   "id": "7c4f499e",
   "metadata": {},
   "source": [
    "\"Inspection Due Date\" is also qualitative ordinal"
   ]
  },
  {
   "cell_type": "code",
   "execution_count": 25,
   "id": "03036321",
   "metadata": {},
   "outputs": [
    {
     "data": {
      "text/plain": [
       "(51.556205, -0.173776)    3\n",
       "(51.553475, -0.152668)    3\n",
       "(51.548133, -0.144922)    2\n",
       "(51.544482, -0.144465)    2\n",
       "(51.55468, -0.164744)     2\n",
       "                         ..\n",
       "(51.525312, -0.128846)    1\n",
       "(51.540297, -0.181512)    1\n",
       "(51.556013, -0.211326)    1\n",
       "(51.55969, -0.182457)     1\n",
       "(51.552397, -0.173397)    1\n",
       "Name: Location, Length: 23262, dtype: int64"
      ]
     },
     "execution_count": 25,
     "metadata": {},
     "output_type": "execute_result"
    }
   ],
   "source": [
    "trees[\"Location\"].value_counts()"
   ]
  },
  {
   "cell_type": "markdown",
   "id": "594a35c1",
   "metadata": {},
   "source": [
    "Therefore, \"Location\" is qualitative ordinal"
   ]
  },
  {
   "cell_type": "markdown",
   "id": "098f1891-aa39-4304-9845-13cf7041d27f",
   "metadata": {},
   "source": [
    "<hr/>"
   ]
  },
  {
   "cell_type": "markdown",
   "id": "65820ccc-8566-4b63-b141-7dffa8e9d067",
   "metadata": {},
   "source": [
    "#### 3.1.b Descriptive Stats for Numeric Type Columns\n",
    "\n",
    "Applied the describe() function to obtain the descriptive statistics for the numeric columns. For each column, use the data type as a guide to classify it as discrete or continuous. However, verify whether any float columns are truly floats or just integers with null values by using the pandas.Series.unique() function.\n"
   ]
  },
  {
   "cell_type": "code",
   "execution_count": 26,
   "id": "0f449063-a7c5-4526-a057-fd20bd17ba6f",
   "metadata": {},
   "outputs": [
    {
     "data": {
      "text/html": [
       "<div>\n",
       "<style scoped>\n",
       "    .dataframe tbody tr th:only-of-type {\n",
       "        vertical-align: middle;\n",
       "    }\n",
       "\n",
       "    .dataframe tbody tr th {\n",
       "        vertical-align: top;\n",
       "    }\n",
       "\n",
       "    .dataframe thead th {\n",
       "        text-align: right;\n",
       "    }\n",
       "</style>\n",
       "<table border=\"1\" class=\"dataframe\">\n",
       "  <thead>\n",
       "    <tr style=\"text-align: right;\">\n",
       "      <th></th>\n",
       "      <th>Number Of Trees</th>\n",
       "      <th>Height In Metres</th>\n",
       "      <th>Spread In Metres</th>\n",
       "      <th>Diameter In Centimetres At Breast Height</th>\n",
       "      <th>Easting</th>\n",
       "      <th>Northing</th>\n",
       "      <th>Longitude</th>\n",
       "      <th>Latitude</th>\n",
       "    </tr>\n",
       "  </thead>\n",
       "  <tbody>\n",
       "    <tr>\n",
       "      <th>count</th>\n",
       "      <td>23422.000000</td>\n",
       "      <td>23006.000000</td>\n",
       "      <td>23006.000000</td>\n",
       "      <td>23005.000000</td>\n",
       "      <td>23444.000000</td>\n",
       "      <td>23444.000000</td>\n",
       "      <td>23388.000000</td>\n",
       "      <td>23388.000000</td>\n",
       "    </tr>\n",
       "    <tr>\n",
       "      <th>mean</th>\n",
       "      <td>1.100034</td>\n",
       "      <td>10.307029</td>\n",
       "      <td>5.997612</td>\n",
       "      <td>32.595262</td>\n",
       "      <td>526762.518171</td>\n",
       "      <td>184085.188662</td>\n",
       "      <td>-0.155145</td>\n",
       "      <td>51.545115</td>\n",
       "    </tr>\n",
       "    <tr>\n",
       "      <th>std</th>\n",
       "      <td>1.288041</td>\n",
       "      <td>6.325293</td>\n",
       "      <td>4.132379</td>\n",
       "      <td>26.149994</td>\n",
       "      <td>25835.857212</td>\n",
       "      <td>9121.059755</td>\n",
       "      <td>0.025058</td>\n",
       "      <td>0.013067</td>\n",
       "    </tr>\n",
       "    <tr>\n",
       "      <th>min</th>\n",
       "      <td>0.000000</td>\n",
       "      <td>0.000000</td>\n",
       "      <td>0.000000</td>\n",
       "      <td>0.000000</td>\n",
       "      <td>0.000000</td>\n",
       "      <td>0.000000</td>\n",
       "      <td>-0.261719</td>\n",
       "      <td>51.512858</td>\n",
       "    </tr>\n",
       "    <tr>\n",
       "      <th>25%</th>\n",
       "      <td>1.000000</td>\n",
       "      <td>5.000000</td>\n",
       "      <td>3.000000</td>\n",
       "      <td>12.000000</td>\n",
       "      <td>526583.750000</td>\n",
       "      <td>183665.000000</td>\n",
       "      <td>-0.175734</td>\n",
       "      <td>51.537472</td>\n",
       "    </tr>\n",
       "    <tr>\n",
       "      <th>50%</th>\n",
       "      <td>1.000000</td>\n",
       "      <td>9.000000</td>\n",
       "      <td>5.000000</td>\n",
       "      <td>27.000000</td>\n",
       "      <td>528456.500000</td>\n",
       "      <td>184690.000000</td>\n",
       "      <td>-0.148478</td>\n",
       "      <td>51.546669</td>\n",
       "    </tr>\n",
       "    <tr>\n",
       "      <th>75%</th>\n",
       "      <td>1.000000</td>\n",
       "      <td>15.000000</td>\n",
       "      <td>8.000000</td>\n",
       "      <td>46.000000</td>\n",
       "      <td>529369.000000</td>\n",
       "      <td>185481.000000</td>\n",
       "      <td>-0.135978</td>\n",
       "      <td>51.554032</td>\n",
       "    </tr>\n",
       "    <tr>\n",
       "      <th>max</th>\n",
       "      <td>67.000000</td>\n",
       "      <td>127.000000</td>\n",
       "      <td>88.000000</td>\n",
       "      <td>228.000000</td>\n",
       "      <td>531514.000000</td>\n",
       "      <td>196188.000000</td>\n",
       "      <td>-0.105858</td>\n",
       "      <td>51.650843</td>\n",
       "    </tr>\n",
       "  </tbody>\n",
       "</table>\n",
       "</div>"
      ],
      "text/plain": [
       "       Number Of Trees  Height In Metres  Spread In Metres  \\\n",
       "count     23422.000000      23006.000000      23006.000000   \n",
       "mean          1.100034         10.307029          5.997612   \n",
       "std           1.288041          6.325293          4.132379   \n",
       "min           0.000000          0.000000          0.000000   \n",
       "25%           1.000000          5.000000          3.000000   \n",
       "50%           1.000000          9.000000          5.000000   \n",
       "75%           1.000000         15.000000          8.000000   \n",
       "max          67.000000        127.000000         88.000000   \n",
       "\n",
       "       Diameter In Centimetres At Breast Height        Easting       Northing  \\\n",
       "count                              23005.000000   23444.000000   23444.000000   \n",
       "mean                                  32.595262  526762.518171  184085.188662   \n",
       "std                                   26.149994   25835.857212    9121.059755   \n",
       "min                                    0.000000       0.000000       0.000000   \n",
       "25%                                   12.000000  526583.750000  183665.000000   \n",
       "50%                                   27.000000  528456.500000  184690.000000   \n",
       "75%                                   46.000000  529369.000000  185481.000000   \n",
       "max                                  228.000000  531514.000000  196188.000000   \n",
       "\n",
       "          Longitude      Latitude  \n",
       "count  23388.000000  23388.000000  \n",
       "mean      -0.155145     51.545115  \n",
       "std        0.025058      0.013067  \n",
       "min       -0.261719     51.512858  \n",
       "25%       -0.175734     51.537472  \n",
       "50%       -0.148478     51.546669  \n",
       "75%       -0.135978     51.554032  \n",
       "max       -0.105858     51.650843  "
      ]
     },
     "execution_count": 26,
     "metadata": {},
     "output_type": "execute_result"
    }
   ],
   "source": [
    "# Getting the descriptive statistics for the numeric columns through the describe function for more clarity.\n",
    "\n",
    "trees.describe()"
   ]
  },
  {
   "cell_type": "code",
   "execution_count": 27,
   "id": "9b793f70-5799-4eb0-aa11-4cb38f86baba",
   "metadata": {},
   "outputs": [
    {
     "data": {
      "text/plain": [
       "Identifier                                          object\n",
       "Number Of Trees                                    float64\n",
       "Site Name                                           object\n",
       "Contract Area                                       object\n",
       "Scientific Name                                     object\n",
       "Inspection Date                             datetime64[ns]\n",
       "Inspection Due Date                                 object\n",
       "Height In Metres                                   float64\n",
       "Spread In Metres                                   float64\n",
       "Diameter In Centimetres At Breast Height           float64\n",
       "Ward Code                                           object\n",
       "Ward Name                                           object\n",
       "Easting                                            float64\n",
       "Northing                                           float64\n",
       "Longitude                                          float64\n",
       "Latitude                                           float64\n",
       "Location                                            object\n",
       "dtype: object"
      ]
     },
     "execution_count": 27,
     "metadata": {},
     "output_type": "execute_result"
    }
   ],
   "source": [
    "# Checking the data types using the .dtypes method for clarity.\n",
    "trees.dtypes"
   ]
  },
  {
   "cell_type": "markdown",
   "id": "f8139d4e-5890-4d4d-bf64-850c9f783710",
   "metadata": {},
   "source": [
    "Find out if floats are really floats or ints with nulls."
   ]
  },
  {
   "cell_type": "code",
   "execution_count": 28,
   "id": "821a9f24",
   "metadata": {},
   "outputs": [],
   "source": [
    "# Here in cells [29] through [31] it has been found out that there are no integers and only floating values\n",
    "# Through the use of the .select_dtypes(include=[float/int]) function\n",
    "# and counting the values in the columns in the end "
   ]
  },
  {
   "cell_type": "code",
   "execution_count": 30,
   "id": "a463c666-709d-4821-b0d0-815ce6810bd9",
   "metadata": {},
   "outputs": [
    {
     "name": "stdout",
     "output_type": "stream",
     "text": [
      "Empty DataFrame\n",
      "Columns: []\n",
      "Index: [0, 1, 2, 3, 4, 5, 6, 7, 8, 9, 10, 11, 12, 13, 14, 15, 16, 17, 18, 19, 20, 21, 22, 23, 24, 25, 26, 27, 28, 29, 30, 31, 32, 33, 34, 35, 36, 37, 38, 39, 40, 41, 42, 43, 44, 45, 46, 47, 48, 49, 50, 51, 52, 53, 54, 55, 56, 57, 58, 59, 60, 61, 62, 63, 64, 65, 66, 67, 68, 69, 70, 71, 72, 73, 74, 75, 76, 77, 78, 79, 80, 81, 82, 83, 84, 85, 86, 87, 88, 89, 90, 91, 92, 93, 94, 95, 96, 97, 98, 99, ...]\n",
      "\n",
      "[23444 rows x 0 columns]\n"
     ]
    }
   ],
   "source": [
    "result = trees.select_dtypes(include=[int])\n",
    "print(result)"
   ]
  },
  {
   "cell_type": "code",
   "execution_count": 31,
   "id": "81ec49ca-b8dc-4c4f-ae1f-2fd3368330e8",
   "metadata": {
    "scrolled": true
   },
   "outputs": [
    {
     "data": {
      "text/plain": [
       "Identifier                                  23444\n",
       "Number Of Trees                             23422\n",
       "Site Name                                   23444\n",
       "Contract Area                               23444\n",
       "Scientific Name                             23444\n",
       "Inspection Date                             23043\n",
       "Inspection Due Date                         23043\n",
       "Height In Metres                            23006\n",
       "Spread In Metres                            23006\n",
       "Diameter In Centimetres At Breast Height    23005\n",
       "Ward Code                                   23218\n",
       "Ward Name                                   23218\n",
       "Easting                                     23444\n",
       "Northing                                    23444\n",
       "Longitude                                   23388\n",
       "Latitude                                    23388\n",
       "Location                                    23388\n",
       "dtype: int64"
      ]
     },
     "execution_count": 31,
     "metadata": {},
     "output_type": "execute_result"
    }
   ],
   "source": [
    "trees.count()"
   ]
  },
  {
   "cell_type": "markdown",
   "id": "0a5ddb2f",
   "metadata": {},
   "source": [
    "# Classifying the columns as discrete or continuous.\n",
    "\n",
    "The main objective of this task is to find out whether the values are descreet or continuos. This will be chacked through the application of the combination of the 'unique()' function dtypes and method for all numeric columns in the data set. it will go in the following way first the dtypes method will be applied and after that the next cell would consists of the 'unique()' function being applied for each numeric column in the data set."
   ]
  },
  {
   "cell_type": "code",
   "execution_count": 32,
   "id": "0fa6f56a",
   "metadata": {},
   "outputs": [
    {
     "data": {
      "text/html": [
       "<div>\n",
       "<style scoped>\n",
       "    .dataframe tbody tr th:only-of-type {\n",
       "        vertical-align: middle;\n",
       "    }\n",
       "\n",
       "    .dataframe tbody tr th {\n",
       "        vertical-align: top;\n",
       "    }\n",
       "\n",
       "    .dataframe thead th {\n",
       "        text-align: right;\n",
       "    }\n",
       "</style>\n",
       "<table border=\"1\" class=\"dataframe\">\n",
       "  <thead>\n",
       "    <tr style=\"text-align: right;\">\n",
       "      <th></th>\n",
       "      <th>Number Of Trees</th>\n",
       "      <th>Height In Metres</th>\n",
       "      <th>Spread In Metres</th>\n",
       "      <th>Diameter In Centimetres At Breast Height</th>\n",
       "      <th>Easting</th>\n",
       "      <th>Northing</th>\n",
       "      <th>Longitude</th>\n",
       "      <th>Latitude</th>\n",
       "    </tr>\n",
       "  </thead>\n",
       "  <tbody>\n",
       "    <tr>\n",
       "      <th>count</th>\n",
       "      <td>23422.0</td>\n",
       "      <td>23006.0</td>\n",
       "      <td>23006.0</td>\n",
       "      <td>23005.0</td>\n",
       "      <td>23444.0</td>\n",
       "      <td>23444.0</td>\n",
       "      <td>23388.0</td>\n",
       "      <td>23388.0</td>\n",
       "    </tr>\n",
       "    <tr>\n",
       "      <th>mean</th>\n",
       "      <td>1.1</td>\n",
       "      <td>10.3</td>\n",
       "      <td>6.0</td>\n",
       "      <td>32.6</td>\n",
       "      <td>526762.5</td>\n",
       "      <td>184085.2</td>\n",
       "      <td>-0.2</td>\n",
       "      <td>51.5</td>\n",
       "    </tr>\n",
       "    <tr>\n",
       "      <th>std</th>\n",
       "      <td>1.3</td>\n",
       "      <td>6.3</td>\n",
       "      <td>4.1</td>\n",
       "      <td>26.1</td>\n",
       "      <td>25835.9</td>\n",
       "      <td>9121.1</td>\n",
       "      <td>0.0</td>\n",
       "      <td>0.0</td>\n",
       "    </tr>\n",
       "    <tr>\n",
       "      <th>min</th>\n",
       "      <td>0.0</td>\n",
       "      <td>0.0</td>\n",
       "      <td>0.0</td>\n",
       "      <td>0.0</td>\n",
       "      <td>0.0</td>\n",
       "      <td>0.0</td>\n",
       "      <td>-0.3</td>\n",
       "      <td>51.5</td>\n",
       "    </tr>\n",
       "    <tr>\n",
       "      <th>25%</th>\n",
       "      <td>1.0</td>\n",
       "      <td>5.0</td>\n",
       "      <td>3.0</td>\n",
       "      <td>12.0</td>\n",
       "      <td>526583.8</td>\n",
       "      <td>183665.0</td>\n",
       "      <td>-0.2</td>\n",
       "      <td>51.5</td>\n",
       "    </tr>\n",
       "    <tr>\n",
       "      <th>50%</th>\n",
       "      <td>1.0</td>\n",
       "      <td>9.0</td>\n",
       "      <td>5.0</td>\n",
       "      <td>27.0</td>\n",
       "      <td>528456.5</td>\n",
       "      <td>184690.0</td>\n",
       "      <td>-0.1</td>\n",
       "      <td>51.5</td>\n",
       "    </tr>\n",
       "    <tr>\n",
       "      <th>75%</th>\n",
       "      <td>1.0</td>\n",
       "      <td>15.0</td>\n",
       "      <td>8.0</td>\n",
       "      <td>46.0</td>\n",
       "      <td>529369.0</td>\n",
       "      <td>185481.0</td>\n",
       "      <td>-0.1</td>\n",
       "      <td>51.6</td>\n",
       "    </tr>\n",
       "    <tr>\n",
       "      <th>max</th>\n",
       "      <td>67.0</td>\n",
       "      <td>127.0</td>\n",
       "      <td>88.0</td>\n",
       "      <td>228.0</td>\n",
       "      <td>531514.0</td>\n",
       "      <td>196188.0</td>\n",
       "      <td>-0.1</td>\n",
       "      <td>51.7</td>\n",
       "    </tr>\n",
       "  </tbody>\n",
       "</table>\n",
       "</div>"
      ],
      "text/plain": [
       "       Number Of Trees  Height In Metres  Spread In Metres  \\\n",
       "count          23422.0           23006.0           23006.0   \n",
       "mean               1.1              10.3               6.0   \n",
       "std                1.3               6.3               4.1   \n",
       "min                0.0               0.0               0.0   \n",
       "25%                1.0               5.0               3.0   \n",
       "50%                1.0               9.0               5.0   \n",
       "75%                1.0              15.0               8.0   \n",
       "max               67.0             127.0              88.0   \n",
       "\n",
       "       Diameter In Centimetres At Breast Height   Easting  Northing  \\\n",
       "count                                   23005.0   23444.0   23444.0   \n",
       "mean                                       32.6  526762.5  184085.2   \n",
       "std                                        26.1   25835.9    9121.1   \n",
       "min                                         0.0       0.0       0.0   \n",
       "25%                                        12.0  526583.8  183665.0   \n",
       "50%                                        27.0  528456.5  184690.0   \n",
       "75%                                        46.0  529369.0  185481.0   \n",
       "max                                       228.0  531514.0  196188.0   \n",
       "\n",
       "       Longitude  Latitude  \n",
       "count    23388.0   23388.0  \n",
       "mean        -0.2      51.5  \n",
       "std          0.0       0.0  \n",
       "min         -0.3      51.5  \n",
       "25%         -0.2      51.5  \n",
       "50%         -0.1      51.5  \n",
       "75%         -0.1      51.6  \n",
       "max         -0.1      51.7  "
      ]
     },
     "execution_count": 32,
     "metadata": {},
     "output_type": "execute_result"
    }
   ],
   "source": [
    "# Geting the descriptive stats for the numeric columns, as well as 'round()'-ing them to 1 point after the decimal.\n",
    "trees.describe().round(1)"
   ]
  },
  {
   "cell_type": "code",
   "execution_count": 33,
   "id": "396b9b33",
   "metadata": {},
   "outputs": [
    {
     "data": {
      "text/plain": [
       "Identifier                                          object\n",
       "Number Of Trees                                    float64\n",
       "Site Name                                           object\n",
       "Contract Area                                       object\n",
       "Scientific Name                                     object\n",
       "Inspection Date                             datetime64[ns]\n",
       "Inspection Due Date                                 object\n",
       "Height In Metres                                   float64\n",
       "Spread In Metres                                   float64\n",
       "Diameter In Centimetres At Breast Height           float64\n",
       "Ward Code                                           object\n",
       "Ward Name                                           object\n",
       "Easting                                            float64\n",
       "Northing                                           float64\n",
       "Longitude                                          float64\n",
       "Latitude                                           float64\n",
       "Location                                            object\n",
       "dtype: object"
      ]
     },
     "execution_count": 33,
     "metadata": {},
     "output_type": "execute_result"
    }
   ],
   "source": [
    "# Checking all data types for trees data frame for more clarity.\n",
    "trees.dtypes"
   ]
  },
  {
   "cell_type": "code",
   "execution_count": 34,
   "id": "c7ec76b3",
   "metadata": {},
   "outputs": [
    {
     "data": {
      "text/plain": [
       "dtype('float64')"
      ]
     },
     "execution_count": 34,
     "metadata": {},
     "output_type": "execute_result"
    }
   ],
   "source": [
    "# Checking the datatype of the Number of trees column\n",
    "trees['Number Of Trees'].dtypes"
   ]
  },
  {
   "cell_type": "code",
   "execution_count": 35,
   "id": "42cee6a8",
   "metadata": {},
   "outputs": [
    {
     "data": {
      "text/plain": [
       "array([ 1.,  2.,  3.,  0., nan,  5.,  6.,  7., 18.,  8., 65.,  4., 10.,\n",
       "        9., 11., 50., 12., 15., 52., 40., 33., 13., 20., 67., 21., 32.,\n",
       "       24., 26., 16., 25., 51.])"
      ]
     },
     "execution_count": 35,
     "metadata": {},
     "output_type": "execute_result"
    }
   ],
   "source": [
    "# Checking if there are float values in columns, we can see that these are integer values in this column.\n",
    "trees['Number Of Trees'].unique()"
   ]
  },
  {
   "cell_type": "markdown",
   "id": "ca7c0fff",
   "metadata": {},
   "source": [
    "The values in 'Number Of Trees' are integers"
   ]
  },
  {
   "cell_type": "markdown",
   "id": "3171a92a",
   "metadata": {},
   "source": [
    "The same operations will be performed on the rest of the numeric columns, and there will be no code unless specifying what the values in the column are. "
   ]
  },
  {
   "cell_type": "code",
   "execution_count": 36,
   "id": "80bf3536",
   "metadata": {},
   "outputs": [
    {
     "data": {
      "text/plain": [
       "dtype('float64')"
      ]
     },
     "execution_count": 36,
     "metadata": {},
     "output_type": "execute_result"
    }
   ],
   "source": [
    "trees['Height In Metres'].dtypes"
   ]
  },
  {
   "cell_type": "code",
   "execution_count": 37,
   "id": "b4e711ae",
   "metadata": {},
   "outputs": [
    {
     "data": {
      "text/plain": [
       "array([  nan,   5. ,   4. ,  14. ,   9. ,   0. ,   2. ,   2.5,   8. ,\n",
       "        13. ,  17. ,  10. ,   3. ,  19. ,   7. ,   6. ,   1.8,  15. ,\n",
       "        12. ,   1.5,  16. ,  20. ,  21. ,  24. ,  25. ,   2.7,  18. ,\n",
       "        11. ,  26. ,  22. ,   0.5,  16.1,  27. ,  28. ,   2.3,  22.3,\n",
       "        38. ,  15.5,  29. ,  23. ,  34. ,   3.5,   2.6,   1. ,   5.5,\n",
       "        22.5,   2.2,  36. ,  31. ,  96. ,  13.6, 127. ,  14.7,   4.5,\n",
       "        30. ,  35. ,  32. ,   9.4,  11.8,  33. ,  40. ,   2.1,   6.5,\n",
       "        41. ,  23.1,  37. ,  39. ,  12.5,   7.5,  13.7,  31.6,  23.8,\n",
       "         0.2,  12.3,  15.7,   6.8,   9.3,   3.8,  24.9,  17.4,   2.8,\n",
       "         3.2,  13.9,  12.4,  10.2,  10.8,  24.5,  30.4,   9.8,  11.4,\n",
       "        23.4,   3.7,  11.6,   7.7,   8.3,   3.6,  17.5,  19.5])"
      ]
     },
     "execution_count": 37,
     "metadata": {},
     "output_type": "execute_result"
    }
   ],
   "source": [
    "trees['Height In Metres'].unique()"
   ]
  },
  {
   "cell_type": "markdown",
   "id": "1b9f20a5",
   "metadata": {},
   "source": [
    "In this column the values are floats."
   ]
  },
  {
   "cell_type": "code",
   "execution_count": 38,
   "id": "fcb94d78",
   "metadata": {},
   "outputs": [
    {
     "data": {
      "text/plain": [
       "dtype('float64')"
      ]
     },
     "execution_count": 38,
     "metadata": {},
     "output_type": "execute_result"
    }
   ],
   "source": [
    "trees['Spread In Metres'].dtypes"
   ]
  },
  {
   "cell_type": "code",
   "execution_count": 39,
   "id": "063bcba4",
   "metadata": {},
   "outputs": [
    {
     "data": {
      "text/plain": [
       "array([  nan,  4.  ,  1.  ,  6.  ,  7.  ,  0.  ,  1.5 ,  5.  ,  9.  ,\n",
       "       10.  ,  3.  ,  2.  , 13.  ,  2.5 , 12.  , 15.  , 14.  ,  8.  ,\n",
       "       11.  ,  0.6 ,  1.8 , 17.  , 20.  , 18.  , 16.  , 22.  , 19.  ,\n",
       "        5.5 , 26.  ,  1.4 , 23.  , 21.  , 28.  ,  1.2 ,  0.5 ,  3.5 ,\n",
       "       24.  ,  1.3 ,  1.6 , 30.  ,  1.7 , 27.  ,  4.2 , 11.02,  0.7 ,\n",
       "        6.5 ,  4.5 , 31.  , 25.  ,  0.8 ,  0.3 ,  2.2 ,  2.8 ,  1.65,\n",
       "       29.  , 88.  ])"
      ]
     },
     "execution_count": 39,
     "metadata": {},
     "output_type": "execute_result"
    }
   ],
   "source": [
    "trees['Spread In Metres'].unique()"
   ]
  },
  {
   "cell_type": "code",
   "execution_count": 40,
   "id": "6f71ab0f",
   "metadata": {},
   "outputs": [
    {
     "ename": "SyntaxError",
     "evalue": "invalid syntax (40360473.py, line 1)",
     "output_type": "error",
     "traceback": [
      "\u001b[0;36m  Input \u001b[0;32mIn [40]\u001b[0;36m\u001b[0m\n\u001b[0;31m    In this column the values are also floats.\u001b[0m\n\u001b[0m       ^\u001b[0m\n\u001b[0;31mSyntaxError\u001b[0m\u001b[0;31m:\u001b[0m invalid syntax\n"
     ]
    }
   ],
   "source": [
    "In this column the values are also floats."
   ]
  },
  {
   "cell_type": "code",
   "execution_count": 41,
   "id": "1a1754b6",
   "metadata": {},
   "outputs": [
    {
     "data": {
      "text/plain": [
       "dtype('float64')"
      ]
     },
     "execution_count": 41,
     "metadata": {},
     "output_type": "execute_result"
    }
   ],
   "source": [
    "trees['Diameter In Centimetres At Breast Height'].dtypes"
   ]
  },
  {
   "cell_type": "code",
   "execution_count": 42,
   "id": "4e1f295f",
   "metadata": {},
   "outputs": [
    {
     "data": {
      "text/plain": [
       "array([  nan,  10. ,   6. ,  26. ,  29. ,   5. ,   0. ,   4. ,  12. ,\n",
       "        59. ,  52. ,  23. ,  50. ,  63. ,  15. ,   3. ,  49. ,  42. ,\n",
       "        14. ,  19. ,   9. ,  70. ,  32. ,  28. ,  34. ,  20. ,  17. ,\n",
       "        27. ,  37. ,   8. ,  45. ,  18. , 119. ,   7. ,  38. ,  55. ,\n",
       "        41. ,  75. ,  31. ,  25. ,  11. ,  30. ,  43. ,  68. ,  92. ,\n",
       "        16. ,  35. ,  58. ,  72. ,  64. ,  13. ,  61. ,  69. ,  33. ,\n",
       "        47. ,  67. , 109. , 106. ,  24. ,  51. ,  40. ,  22. ,  60. ,\n",
       "        39. ,  46. ,  57. ,  21. ,  54. , 117. ,  44. ,  82. , 114. ,\n",
       "        65. ,  84. , 118. ,   1. ,  89. ,  53. ,  36. ,  93. ,  88. ,\n",
       "        86. , 163. ,  66. ,  81. ,  74. , 100. ,  48. ,  73. ,  95. ,\n",
       "       129. ,  62. ,  85. ,  56. ,   3.5, 161. ,  71. , 105. , 102. ,\n",
       "        80. ,  87. , 101. ,  76. , 113. , 108. , 160. , 132. ,  90. ,\n",
       "       145. , 130. ,  79. , 228. , 110. ,  83. ,  78. , 122. , 170. ,\n",
       "       115. ,   2. ,  77. , 107. ,  96. , 126. ,  91. , 104. , 158. ,\n",
       "        99. ,  94. ,  16.5, 127. , 151. , 103. , 112. ,  98. ,  97. ,\n",
       "       136. , 125. , 111. , 124. , 139. , 156. , 120. , 148. , 144. ,\n",
       "       140. , 121. , 143. ,  17.5, 154. , 159. , 142. , 197. , 123. ,\n",
       "       149. , 155. , 191. , 131. , 147. , 162. , 116. , 152. , 153. ,\n",
       "       165. , 137. , 200. , 177. , 133. , 128. , 134. ,  11.5, 135. ,\n",
       "       150. , 187. , 210. , 166. , 138. ,  10.5, 206. , 141. , 209. ,\n",
       "       184. , 173. , 192. ,   7.5, 194. , 157. , 146. , 185. ])"
      ]
     },
     "execution_count": 42,
     "metadata": {},
     "output_type": "execute_result"
    }
   ],
   "source": [
    "trees['Diameter In Centimetres At Breast Height'].unique()"
   ]
  },
  {
   "cell_type": "code",
   "execution_count": 43,
   "id": "733ab513",
   "metadata": {},
   "outputs": [
    {
     "ename": "SyntaxError",
     "evalue": "invalid syntax (2184419643.py, line 1)",
     "output_type": "error",
     "traceback": [
      "\u001b[0;36m  Input \u001b[0;32mIn [43]\u001b[0;36m\u001b[0m\n\u001b[0;31m    In this column the values are floats, but there are also null values\u001b[0m\n\u001b[0m       ^\u001b[0m\n\u001b[0;31mSyntaxError\u001b[0m\u001b[0;31m:\u001b[0m invalid syntax\n"
     ]
    }
   ],
   "source": [
    "In this column the values are floats, but there are also null values "
   ]
  },
  {
   "cell_type": "code",
   "execution_count": 44,
   "id": "0f8c7b89",
   "metadata": {},
   "outputs": [
    {
     "data": {
      "text/plain": [
       "dtype('float64')"
      ]
     },
     "execution_count": 44,
     "metadata": {},
     "output_type": "execute_result"
    }
   ],
   "source": [
    "trees['Easting'].dtypes"
   ]
  },
  {
   "cell_type": "code",
   "execution_count": 45,
   "id": "153ef295",
   "metadata": {},
   "outputs": [
    {
     "data": {
      "text/plain": [
       "array([527305., 529923.,      0., ..., 527733., 524398., 525944.])"
      ]
     },
     "execution_count": 45,
     "metadata": {},
     "output_type": "execute_result"
    }
   ],
   "source": [
    "trees['Easting'].unique()"
   ]
  },
  {
   "cell_type": "markdown",
   "id": "7fecdc83",
   "metadata": {},
   "source": [
    "This column is made of integers that consist of a period at the end of the number"
   ]
  },
  {
   "cell_type": "code",
   "execution_count": 46,
   "id": "9e186122",
   "metadata": {},
   "outputs": [
    {
     "data": {
      "text/plain": [
       "dtype('float64')"
      ]
     },
     "execution_count": 46,
     "metadata": {},
     "output_type": "execute_result"
    }
   ],
   "source": [
    "trees['Northing'].dtypes"
   ]
  },
  {
   "cell_type": "code",
   "execution_count": 47,
   "id": "fe579396",
   "metadata": {},
   "outputs": [
    {
     "data": {
      "text/plain": [
       "array([185240., 184782.,      0., ..., 185755., 187062., 187313.])"
      ]
     },
     "execution_count": 47,
     "metadata": {},
     "output_type": "execute_result"
    }
   ],
   "source": [
    "trees['Northing'].unique()"
   ]
  },
  {
   "cell_type": "markdown",
   "id": "cb83a009",
   "metadata": {},
   "source": [
    "This column is made of integers that consist of a period at the end of the number"
   ]
  },
  {
   "cell_type": "code",
   "execution_count": 48,
   "id": "0fd4d7e2",
   "metadata": {},
   "outputs": [
    {
     "data": {
      "text/plain": [
       "dtype('float64')"
      ]
     },
     "execution_count": 48,
     "metadata": {},
     "output_type": "execute_result"
    }
   ],
   "source": [
    "trees['Longitude'].dtypes"
   ]
  },
  {
   "cell_type": "code",
   "execution_count": 49,
   "id": "038c0a82",
   "metadata": {},
   "outputs": [
    {
     "data": {
      "text/plain": [
       "array([-0.16524 , -0.127681,       nan, ..., -0.196884, -0.204206,\n",
       "       -0.173397])"
      ]
     },
     "execution_count": 49,
     "metadata": {},
     "output_type": "execute_result"
    }
   ],
   "source": [
    "trees['Longitude'].unique()"
   ]
  },
  {
   "cell_type": "markdown",
   "id": "9dfaeb75",
   "metadata": {},
   "source": [
    "This column consits of float number number values and also has null values in it"
   ]
  },
  {
   "cell_type": "code",
   "execution_count": 50,
   "id": "f3c75672",
   "metadata": {},
   "outputs": [
    {
     "data": {
      "text/plain": [
       "dtype('float64')"
      ]
     },
     "execution_count": 50,
     "metadata": {},
     "output_type": "execute_result"
    }
   ],
   "source": [
    "trees['Latitude'].dtypes"
   ]
  },
  {
   "cell_type": "code",
   "execution_count": 51,
   "id": "0c83e9d0",
   "metadata": {},
   "outputs": [
    {
     "data": {
      "text/plain": [
       "array([51.551693, 51.546984,       nan, ..., 51.54329 , 51.545726,\n",
       "       51.531863])"
      ]
     },
     "execution_count": 51,
     "metadata": {},
     "output_type": "execute_result"
    }
   ],
   "source": [
    "trees['Latitude'].unique()"
   ]
  },
  {
   "cell_type": "markdown",
   "id": "82800ca3",
   "metadata": {},
   "source": [
    "This column consits of float number number values and also has null values in it"
   ]
  },
  {
   "cell_type": "markdown",
   "id": "27c930e8-f1f0-45d1-851a-ac41f43fbdcd",
   "metadata": {},
   "source": [
    "\n",
    "<hr/>"
   ]
  },
  {
   "cell_type": "markdown",
   "id": "5a7931f5-fac2-4181-84d6-b4999e983057",
   "metadata": {},
   "source": [
    "# All operations performed lead to concluding the following:\n",
    "\n",
    "# The Number Of Trees is a discrete variable, represented by integers, but it may be showing as a float data type due to the presence of null values. \n",
    "\n",
    "# Height In Metres, Spread In Metres, Diameter In Centimetres At Breast Height, Longitude and Latitude are all continous float values. \n",
    "\n",
    "# Lastly, the Easting and Northing are discrete and continous ar the same time variables, that are represented by coordinates"
   ]
  },
  {
   "cell_type": "markdown",
   "id": "4ee2e405-e35f-49d7-bcd6-00c12d31fa8d",
   "metadata": {},
   "source": [
    "<hr/>"
   ]
  },
  {
   "cell_type": "markdown",
   "id": "90c6e10d-2f2e-4003-b983-f60870b6fc1a",
   "metadata": {},
   "source": [
    "### 3.2 Further Inspect the Environmental Dataset\n",
    "Now repeat the above for the environmental dataset.\n",
    "\n",
    "#### 3.2.a Counts of Values for String Type Columns \n",
    "For each string column in the environmental dataset show the counts of the unique values."
   ]
  },
  {
   "cell_type": "code",
   "execution_count": 52,
   "id": "f1c9ed36",
   "metadata": {},
   "outputs": [],
   "source": [
    "# Here the unique values are counted for the trees_e data set, through the .value_counts().unique method chain."
   ]
  },
  {
   "cell_type": "code",
   "execution_count": 53,
   "id": "044f2b73-aa4b-4a10-8546-e3149d39d817",
   "metadata": {},
   "outputs": [
    {
     "data": {
      "text/plain": [
       "<bound method Series.unique of Good              12910\n",
       "Fair               9183\n",
       "Poor                357\n",
       "Not applicable      249\n",
       "Dead                236\n",
       "Excellent             8\n",
       "Name: Physiological Condition, dtype: int64>"
      ]
     },
     "execution_count": 53,
     "metadata": {},
     "output_type": "execute_result"
    }
   ],
   "source": [
    "trees_e[\"Physiological Condition\"].value_counts().unique"
   ]
  },
  {
   "cell_type": "markdown",
   "id": "0f843dc9",
   "metadata": {},
   "source": [
    "This column is qualitative ordinal"
   ]
  },
  {
   "cell_type": "code",
   "execution_count": 54,
   "id": "44ba9648-4ddb-4d61-b176-264bce03818c",
   "metadata": {},
   "outputs": [
    {
     "data": {
      "text/plain": [
       "<bound method Series.unique of Mature            10225\n",
       "Middle aged        7779\n",
       "Juvenile           4393\n",
       "Not Applicable      377\n",
       "Over Mature         191\n",
       "Veteran              41\n",
       "Name: Maturity, dtype: int64>"
      ]
     },
     "execution_count": 54,
     "metadata": {},
     "output_type": "execute_result"
    }
   ],
   "source": [
    "trees_e[\"Maturity\"].value_counts().unique"
   ]
  },
  {
   "cell_type": "markdown",
   "id": "0612a0d5",
   "metadata": {},
   "source": [
    "Maturity is qualitative nominal "
   ]
  },
  {
   "cell_type": "code",
   "execution_count": 55,
   "id": "089c3831-ae1e-47f9-a907-45260efe3d56",
   "metadata": {
    "scrolled": true
   },
   "outputs": [
    {
     "data": {
      "text/plain": [
       "<bound method Series.unique of No     23331\n",
       "Yes       84\n",
       "Name: Tree Set To Be Removed, dtype: int64>"
      ]
     },
     "execution_count": 55,
     "metadata": {},
     "output_type": "execute_result"
    }
   ],
   "source": [
    "trees_e[\"Tree Set To Be Removed\"].value_counts().unique"
   ]
  },
  {
   "cell_type": "markdown",
   "id": "a998c205",
   "metadata": {},
   "source": [
    "This column is binary"
   ]
  },
  {
   "cell_type": "code",
   "execution_count": 56,
   "id": "eb9ecfc7-a941-4980-8c2e-aec88871c8c0",
   "metadata": {
    "scrolled": false
   },
   "outputs": [
    {
     "data": {
      "text/plain": [
       "<bound method Series.unique of Dead, dying                    30\n",
       "Basal decay                    17\n",
       "Trunk decay                    10\n",
       "Tree defect                     5\n",
       "Crown die-back                  5\n",
       "Dog damage                      3\n",
       "Unsuitable location             3\n",
       "Newly planted tree failure      2\n",
       "Coppiced stump                  1\n",
       "Touching building/structure     1\n",
       "Crown decay                     1\n",
       "Split trunk                     1\n",
       "Broken/split branch             1\n",
       "Climber                         1\n",
       "No defects - work required      1\n",
       "Suppressed                      1\n",
       "ATRD                            1\n",
       "Name: Removal Reason, dtype: int64>"
      ]
     },
     "execution_count": 56,
     "metadata": {},
     "output_type": "execute_result"
    }
   ],
   "source": [
    "trees_e[\"Removal Reason\"].value_counts().unique"
   ]
  },
  {
   "cell_type": "markdown",
   "id": "364d3010",
   "metadata": {},
   "source": [
    "This column is qualitative nominal"
   ]
  },
  {
   "cell_type": "markdown",
   "id": "fa84e8d1-57aa-483b-bb38-e54a07e6aff8",
   "metadata": {},
   "source": [
    "<hr/>"
   ]
  },
  {
   "cell_type": "markdown",
   "id": "9171bc90",
   "metadata": {},
   "source": []
  },
  {
   "cell_type": "markdown",
   "id": "5c9ae370-ab1f-43f3-ba17-5dd062a2cbf1",
   "metadata": {},
   "source": [
    "#### 3.2.b Descriptive Stats for Numeric Type Columns\n",
    "For each numeric column in the environmental dataset show the descriptive stats"
   ]
  },
  {
   "cell_type": "code",
   "execution_count": 57,
   "id": "4380cd76-3b4c-4488-8b5d-b8429c747228",
   "metadata": {
    "scrolled": true
   },
   "outputs": [
    {
     "data": {
      "text/html": [
       "<div>\n",
       "<style scoped>\n",
       "    .dataframe tbody tr th:only-of-type {\n",
       "        vertical-align: middle;\n",
       "    }\n",
       "\n",
       "    .dataframe tbody tr th {\n",
       "        vertical-align: top;\n",
       "    }\n",
       "\n",
       "    .dataframe thead th {\n",
       "        text-align: right;\n",
       "    }\n",
       "</style>\n",
       "<table border=\"1\" class=\"dataframe\">\n",
       "  <thead>\n",
       "    <tr style=\"text-align: right;\">\n",
       "      <th></th>\n",
       "      <th>Capital Asset Value For Amenity Trees</th>\n",
       "      <th>Carbon Storage In Kilograms</th>\n",
       "      <th>Gross Carbon Sequestration Per Year In Kilograms</th>\n",
       "      <th>Pollution Removal Per Year In Grams</th>\n",
       "    </tr>\n",
       "  </thead>\n",
       "  <tbody>\n",
       "    <tr>\n",
       "      <th>count</th>\n",
       "      <td>22982.000000</td>\n",
       "      <td>20555.000000</td>\n",
       "      <td>20555.000000</td>\n",
       "      <td>20555.000000</td>\n",
       "    </tr>\n",
       "    <tr>\n",
       "      <th>mean</th>\n",
       "      <td>14056.393047</td>\n",
       "      <td>467.465454</td>\n",
       "      <td>8.675057</td>\n",
       "      <td>217.740316</td>\n",
       "    </tr>\n",
       "    <tr>\n",
       "      <th>std</th>\n",
       "      <td>24803.806595</td>\n",
       "      <td>844.926555</td>\n",
       "      <td>8.681446</td>\n",
       "      <td>306.751920</td>\n",
       "    </tr>\n",
       "    <tr>\n",
       "      <th>min</th>\n",
       "      <td>0.000000</td>\n",
       "      <td>0.500000</td>\n",
       "      <td>0.000000</td>\n",
       "      <td>0.300000</td>\n",
       "    </tr>\n",
       "    <tr>\n",
       "      <th>25%</th>\n",
       "      <td>1035.650000</td>\n",
       "      <td>24.800000</td>\n",
       "      <td>2.200000</td>\n",
       "      <td>29.300000</td>\n",
       "    </tr>\n",
       "    <tr>\n",
       "      <th>50%</th>\n",
       "      <td>5443.660000</td>\n",
       "      <td>163.900000</td>\n",
       "      <td>6.100000</td>\n",
       "      <td>108.100000</td>\n",
       "    </tr>\n",
       "    <tr>\n",
       "      <th>75%</th>\n",
       "      <td>16781.420000</td>\n",
       "      <td>497.300000</td>\n",
       "      <td>11.700000</td>\n",
       "      <td>297.600000</td>\n",
       "    </tr>\n",
       "    <tr>\n",
       "      <th>max</th>\n",
       "      <td>504725.720000</td>\n",
       "      <td>6000.000000</td>\n",
       "      <td>53.800000</td>\n",
       "      <td>8223.700000</td>\n",
       "    </tr>\n",
       "  </tbody>\n",
       "</table>\n",
       "</div>"
      ],
      "text/plain": [
       "       Capital Asset Value For Amenity Trees  Carbon Storage In Kilograms  \\\n",
       "count                           22982.000000                 20555.000000   \n",
       "mean                            14056.393047                   467.465454   \n",
       "std                             24803.806595                   844.926555   \n",
       "min                                 0.000000                     0.500000   \n",
       "25%                              1035.650000                    24.800000   \n",
       "50%                              5443.660000                   163.900000   \n",
       "75%                             16781.420000                   497.300000   \n",
       "max                            504725.720000                  6000.000000   \n",
       "\n",
       "       Gross Carbon Sequestration Per Year In Kilograms  \\\n",
       "count                                      20555.000000   \n",
       "mean                                           8.675057   \n",
       "std                                            8.681446   \n",
       "min                                            0.000000   \n",
       "25%                                            2.200000   \n",
       "50%                                            6.100000   \n",
       "75%                                           11.700000   \n",
       "max                                           53.800000   \n",
       "\n",
       "       Pollution Removal Per Year In Grams  \n",
       "count                         20555.000000  \n",
       "mean                            217.740316  \n",
       "std                             306.751920  \n",
       "min                               0.300000  \n",
       "25%                              29.300000  \n",
       "50%                             108.100000  \n",
       "75%                             297.600000  \n",
       "max                            8223.700000  "
      ]
     },
     "execution_count": 57,
     "metadata": {},
     "output_type": "execute_result"
    }
   ],
   "source": [
    "# Gathering the the descriptive stats for all numeric columns through the .describe() function\n",
    "trees_e.describe()"
   ]
  },
  {
   "cell_type": "code",
   "execution_count": 58,
   "id": "d0f77821-130d-4f5d-b92e-0ce89e6b3bcd",
   "metadata": {},
   "outputs": [
    {
     "data": {
      "text/plain": [
       "Identifier                                           object\n",
       "Maturity                                             object\n",
       "Physiological Condition                              object\n",
       "Tree Set To Be Removed                               object\n",
       "Removal Reason                                       object\n",
       "Capital Asset Value For Amenity Trees               float64\n",
       "Carbon Storage In Kilograms                         float64\n",
       "Gross Carbon Sequestration Per Year In Kilograms    float64\n",
       "Pollution Removal Per Year In Grams                 float64\n",
       "dtype: object"
      ]
     },
     "execution_count": 58,
     "metadata": {},
     "output_type": "execute_result"
    }
   ],
   "source": [
    "# Grabbing the data types through the use of the .dtypes method\n",
    "trees_e.dtypes"
   ]
  },
  {
   "cell_type": "markdown",
   "id": "eb227586-d79a-46b9-a665-854b330a4c72",
   "metadata": {},
   "source": [
    "Find out if floats are really floats or ints with nulls."
   ]
  },
  {
   "cell_type": "code",
   "execution_count": 59,
   "id": "a0d10b61",
   "metadata": {},
   "outputs": [],
   "source": [
    "# Using the same method as before, for floats and ints with nulls as I did previously with the trees data set."
   ]
  },
  {
   "cell_type": "code",
   "execution_count": 60,
   "id": "20d9ddc5-3be9-4836-bc1a-5974d9b6b6b8",
   "metadata": {
    "scrolled": true
   },
   "outputs": [
    {
     "name": "stdout",
     "output_type": "stream",
     "text": [
      "       Capital Asset Value For Amenity Trees  Carbon Storage In Kilograms  \\\n",
      "0                                     115.07                          1.6   \n",
      "1                                    7518.08                          NaN   \n",
      "2                                   20419.63                        426.4   \n",
      "3                                   21447.74                        448.3   \n",
      "4                                     524.30                          9.9   \n",
      "...                                      ...                          ...   \n",
      "23410                               13126.91                        368.4   \n",
      "23411                               11185.06                        197.6   \n",
      "23412                                7269.71                        359.4   \n",
      "23413                                2854.52                         90.4   \n",
      "23414                               18131.49                        481.0   \n",
      "\n",
      "       Gross Carbon Sequestration Per Year In Kilograms  \\\n",
      "0                                                   0.5   \n",
      "1                                                   NaN   \n",
      "2                                                   8.8   \n",
      "3                                                   9.6   \n",
      "4                                                   1.4   \n",
      "...                                                 ...   \n",
      "23410                                               9.4   \n",
      "23411                                               7.8   \n",
      "23412                                              10.6   \n",
      "23413                                               4.7   \n",
      "23414                                              10.0   \n",
      "\n",
      "       Pollution Removal Per Year In Grams  \n",
      "0                                      5.7  \n",
      "1                                      NaN  \n",
      "2                                    215.2  \n",
      "3                                    379.1  \n",
      "4                                     12.8  \n",
      "...                                    ...  \n",
      "23410                                331.2  \n",
      "23411                                170.7  \n",
      "23412                                 27.1  \n",
      "23413                                 60.8  \n",
      "23414                                249.1  \n",
      "\n",
      "[23415 rows x 4 columns]\n"
     ]
    }
   ],
   "source": [
    "result = trees_e.select_dtypes(include=[float])\n",
    "print(result)"
   ]
  },
  {
   "cell_type": "code",
   "execution_count": 61,
   "id": "0ac2cda7-cc1c-4a51-935e-033958ee9072",
   "metadata": {},
   "outputs": [
    {
     "name": "stdout",
     "output_type": "stream",
     "text": [
      "Empty DataFrame\n",
      "Columns: []\n",
      "Index: [0, 1, 2, 3, 4, 5, 6, 7, 8, 9, 10, 11, 12, 13, 14, 15, 16, 17, 18, 19, 20, 21, 22, 23, 24, 25, 26, 27, 28, 29, 30, 31, 32, 33, 34, 35, 36, 37, 38, 39, 40, 41, 42, 43, 44, 45, 46, 47, 48, 49, 50, 51, 52, 53, 54, 55, 56, 57, 58, 59, 60, 61, 62, 63, 64, 65, 66, 67, 68, 69, 70, 71, 72, 73, 74, 75, 76, 77, 78, 79, 80, 81, 82, 83, 84, 85, 86, 87, 88, 89, 90, 91, 92, 93, 94, 95, 96, 97, 98, 99, ...]\n",
      "\n",
      "[23415 rows x 0 columns]\n"
     ]
    }
   ],
   "source": [
    "result = trees_e.select_dtypes(include=[int])\n",
    "print(result)"
   ]
  },
  {
   "cell_type": "code",
   "execution_count": 62,
   "id": "5503930d-debf-40d0-b845-e00adc7ac40b",
   "metadata": {},
   "outputs": [
    {
     "data": {
      "text/plain": [
       "Identifier                                          23415\n",
       "Maturity                                            23006\n",
       "Physiological Condition                             22943\n",
       "Tree Set To Be Removed                              23415\n",
       "Removal Reason                                         84\n",
       "Capital Asset Value For Amenity Trees               22982\n",
       "Carbon Storage In Kilograms                         20555\n",
       "Gross Carbon Sequestration Per Year In Kilograms    20555\n",
       "Pollution Removal Per Year In Grams                 20555\n",
       "dtype: int64"
      ]
     },
     "execution_count": 62,
     "metadata": {},
     "output_type": "execute_result"
    }
   ],
   "source": [
    "trees_e.count()"
   ]
  },
  {
   "cell_type": "code",
   "execution_count": null,
   "id": "2a1ad19d-b9d9-4752-a876-c39121829f22",
   "metadata": {},
   "outputs": [],
   "source": []
  },
  {
   "cell_type": "markdown",
   "id": "6d550cf1-defa-4c65-9fcf-7d334a0c8899",
   "metadata": {},
   "source": [
    "<hr/>"
   ]
  },
  {
   "cell_type": "markdown",
   "id": "8bda5350-317b-43c1-91b1-71aeedf06ed3",
   "metadata": {},
   "source": [
    "# Classifying the columns as discrete or continuous.\n",
    "\n",
    "The main objective of this task is to find out whether the values are descreet or continuos. This will be chacked through the application of the combination of the 'unique()' function dtypes method for all numeric columns in the data set."
   ]
  },
  {
   "cell_type": "code",
   "execution_count": 63,
   "id": "ae4b17fa",
   "metadata": {
    "scrolled": true
   },
   "outputs": [
    {
     "data": {
      "text/html": [
       "<div>\n",
       "<style scoped>\n",
       "    .dataframe tbody tr th:only-of-type {\n",
       "        vertical-align: middle;\n",
       "    }\n",
       "\n",
       "    .dataframe tbody tr th {\n",
       "        vertical-align: top;\n",
       "    }\n",
       "\n",
       "    .dataframe thead th {\n",
       "        text-align: right;\n",
       "    }\n",
       "</style>\n",
       "<table border=\"1\" class=\"dataframe\">\n",
       "  <thead>\n",
       "    <tr style=\"text-align: right;\">\n",
       "      <th></th>\n",
       "      <th>Capital Asset Value For Amenity Trees</th>\n",
       "      <th>Carbon Storage In Kilograms</th>\n",
       "      <th>Gross Carbon Sequestration Per Year In Kilograms</th>\n",
       "      <th>Pollution Removal Per Year In Grams</th>\n",
       "    </tr>\n",
       "  </thead>\n",
       "  <tbody>\n",
       "    <tr>\n",
       "      <th>count</th>\n",
       "      <td>22982.0</td>\n",
       "      <td>20555.0</td>\n",
       "      <td>20555.0</td>\n",
       "      <td>20555.0</td>\n",
       "    </tr>\n",
       "    <tr>\n",
       "      <th>mean</th>\n",
       "      <td>14056.4</td>\n",
       "      <td>467.5</td>\n",
       "      <td>8.7</td>\n",
       "      <td>217.7</td>\n",
       "    </tr>\n",
       "    <tr>\n",
       "      <th>std</th>\n",
       "      <td>24803.8</td>\n",
       "      <td>844.9</td>\n",
       "      <td>8.7</td>\n",
       "      <td>306.8</td>\n",
       "    </tr>\n",
       "    <tr>\n",
       "      <th>min</th>\n",
       "      <td>0.0</td>\n",
       "      <td>0.5</td>\n",
       "      <td>0.0</td>\n",
       "      <td>0.3</td>\n",
       "    </tr>\n",
       "    <tr>\n",
       "      <th>25%</th>\n",
       "      <td>1035.6</td>\n",
       "      <td>24.8</td>\n",
       "      <td>2.2</td>\n",
       "      <td>29.3</td>\n",
       "    </tr>\n",
       "    <tr>\n",
       "      <th>50%</th>\n",
       "      <td>5443.7</td>\n",
       "      <td>163.9</td>\n",
       "      <td>6.1</td>\n",
       "      <td>108.1</td>\n",
       "    </tr>\n",
       "    <tr>\n",
       "      <th>75%</th>\n",
       "      <td>16781.4</td>\n",
       "      <td>497.3</td>\n",
       "      <td>11.7</td>\n",
       "      <td>297.6</td>\n",
       "    </tr>\n",
       "    <tr>\n",
       "      <th>max</th>\n",
       "      <td>504725.7</td>\n",
       "      <td>6000.0</td>\n",
       "      <td>53.8</td>\n",
       "      <td>8223.7</td>\n",
       "    </tr>\n",
       "  </tbody>\n",
       "</table>\n",
       "</div>"
      ],
      "text/plain": [
       "       Capital Asset Value For Amenity Trees  Carbon Storage In Kilograms  \\\n",
       "count                                22982.0                      20555.0   \n",
       "mean                                 14056.4                        467.5   \n",
       "std                                  24803.8                        844.9   \n",
       "min                                      0.0                          0.5   \n",
       "25%                                   1035.6                         24.8   \n",
       "50%                                   5443.7                        163.9   \n",
       "75%                                  16781.4                        497.3   \n",
       "max                                 504725.7                       6000.0   \n",
       "\n",
       "       Gross Carbon Sequestration Per Year In Kilograms  \\\n",
       "count                                           20555.0   \n",
       "mean                                                8.7   \n",
       "std                                                 8.7   \n",
       "min                                                 0.0   \n",
       "25%                                                 2.2   \n",
       "50%                                                 6.1   \n",
       "75%                                                11.7   \n",
       "max                                                53.8   \n",
       "\n",
       "       Pollution Removal Per Year In Grams  \n",
       "count                              20555.0  \n",
       "mean                                 217.7  \n",
       "std                                  306.8  \n",
       "min                                    0.3  \n",
       "25%                                   29.3  \n",
       "50%                                  108.1  \n",
       "75%                                  297.6  \n",
       "max                                 8223.7  "
      ]
     },
     "execution_count": 63,
     "metadata": {},
     "output_type": "execute_result"
    }
   ],
   "source": [
    "# Geting the descriptive stats for the numeric columns, as well as 'round()'-ing them to 1 point after the decimal.\n",
    "trees_e.describe().round(1)"
   ]
  },
  {
   "cell_type": "code",
   "execution_count": 64,
   "id": "a0122840",
   "metadata": {},
   "outputs": [
    {
     "data": {
      "text/plain": [
       "Identifier                                           object\n",
       "Maturity                                             object\n",
       "Physiological Condition                              object\n",
       "Tree Set To Be Removed                               object\n",
       "Removal Reason                                       object\n",
       "Capital Asset Value For Amenity Trees               float64\n",
       "Carbon Storage In Kilograms                         float64\n",
       "Gross Carbon Sequestration Per Year In Kilograms    float64\n",
       "Pollution Removal Per Year In Grams                 float64\n",
       "dtype: object"
      ]
     },
     "execution_count": 64,
     "metadata": {},
     "output_type": "execute_result"
    }
   ],
   "source": [
    "# Checking the data types of all columns for more clarity, as result, there are four numeric columns in this data set\n",
    "trees_e.dtypes"
   ]
  },
  {
   "cell_type": "code",
   "execution_count": 65,
   "id": "f52bffe5",
   "metadata": {},
   "outputs": [
    {
     "data": {
      "text/plain": [
       "dtype('float64')"
      ]
     },
     "execution_count": 65,
     "metadata": {},
     "output_type": "execute_result"
    }
   ],
   "source": [
    "trees_e['Capital Asset Value For Amenity Trees'].dtypes"
   ]
  },
  {
   "cell_type": "code",
   "execution_count": 66,
   "id": "5c2ce770",
   "metadata": {},
   "outputs": [
    {
     "data": {
      "text/plain": [
       "array([1.1507000e+02, 7.5180800e+03, 2.0419630e+04, ..., 3.3664130e+04,\n",
       "       3.6269450e+04, 1.4801215e+05])"
      ]
     },
     "execution_count": 66,
     "metadata": {},
     "output_type": "execute_result"
    }
   ],
   "source": [
    "trees_e['Capital Asset Value For Amenity Trees'].unique()"
   ]
  },
  {
   "cell_type": "markdown",
   "id": "56429cea",
   "metadata": {},
   "source": [
    "Capital Asset Value For Amenity Trees column values are floats"
   ]
  },
  {
   "cell_type": "markdown",
   "id": "f1480e2c",
   "metadata": {},
   "source": [
    "The same operations will be performed on the rest of the numeric columns, and there will be no code unless specifying what the values in the column are. "
   ]
  },
  {
   "cell_type": "code",
   "execution_count": 67,
   "id": "808e4f6f",
   "metadata": {},
   "outputs": [
    {
     "data": {
      "text/plain": [
       "dtype('float64')"
      ]
     },
     "execution_count": 67,
     "metadata": {},
     "output_type": "execute_result"
    }
   ],
   "source": [
    "trees_e['Carbon Storage In Kilograms'].dtypes"
   ]
  },
  {
   "cell_type": "code",
   "execution_count": 68,
   "id": "97df2e8a",
   "metadata": {},
   "outputs": [
    {
     "data": {
      "text/plain": [
       "array([1.6000e+00,        nan, 4.2640e+02, ..., 4.7233e+03, 3.7305e+03,\n",
       "       4.8100e+02])"
      ]
     },
     "execution_count": 68,
     "metadata": {},
     "output_type": "execute_result"
    }
   ],
   "source": [
    "trees_e['Carbon Storage In Kilograms'].unique()"
   ]
  },
  {
   "cell_type": "markdown",
   "id": "c364f82d",
   "metadata": {},
   "source": [
    "Carbon Storage In Kilograms column consists of floats and it has some null values as well "
   ]
  },
  {
   "cell_type": "code",
   "execution_count": 69,
   "id": "1d932371",
   "metadata": {},
   "outputs": [
    {
     "data": {
      "text/plain": [
       "dtype('float64')"
      ]
     },
     "execution_count": 69,
     "metadata": {},
     "output_type": "execute_result"
    }
   ],
   "source": [
    "trees_e['Gross Carbon Sequestration Per Year In Kilograms'].dtypes"
   ]
  },
  {
   "cell_type": "code",
   "execution_count": 70,
   "id": "fc61e6ec",
   "metadata": {},
   "outputs": [
    {
     "data": {
      "text/plain": [
       "array([ 0.5,  nan,  8.8,  9.6,  1.4, 10.1,  0.8,  7.9, 24.2,  2.4,  0.9,\n",
       "        3. , 14.6,  8.1,  4.1,  1.8, 18.8, 24.4, 13.4,  4.3,  6.5,  1.3,\n",
       "        0.6,  2.5, 13.1,  2.1,  3.9, 15.9,  1. ,  6.6,  0.4,  3.4,  2.9,\n",
       "       28.7,  0.7,  1.5, 12.5, 25.4, 11.2,  9. , 23.9,  4.4, 11.5, 11. ,\n",
       "        8.4, 10.9, 10.7,  6.9,  7. ,  3.8,  3.2,  6.1,  8.6, 30.2,  3.7,\n",
       "       15. , 30.4,  7.6, 20.1, 10.2,  8.3, 39.9,  0.3,  4.9, 14.3, 13.5,\n",
       "       16.7,  8.9,  1.6,  4.2,  3.6,  4. ,  6.7,  0.1, 19.7, 24.6,  6.4,\n",
       "        5.4,  5.9, 12.2,  7.3, 13. ,  7.1, 36.9,  9.3, 18.2, 10. ,  4.7,\n",
       "        5. , 29.8, 17.8, 18.5, 17.6,  7.2,  4.8,  5.6,  5.3, 10.5, 12.9,\n",
       "        9.4,  7.8,  1.1, 19.2, 37.3,  2.7, 12.8, 17. , 15.5, 27.6, 34.2,\n",
       "        5.7,  5.8, 17.3, 20.4,  9.9, 15.6,  7.4, 11.8,  9.2,  2.6, 21.7,\n",
       "       11.3, 10.8, 29.4, 23.1, 26.5,  1.2, 10.6, 33.6, 23.6, 11.7, 17.4,\n",
       "       15.1, 16.6,  2.3, 13.3, 16.3, 18.3, 10.4, 19. ,  1.7,  3.3, 14.1,\n",
       "        5.5, 12.6, 14.5,  3.5,  8.7, 36.6, 17.7,  5.1, 21.1, 20.2,  7.7,\n",
       "       15.2,  7.5, 30.5, 13.8,  4.6, 39.2, 37.8, 13.2, 51. , 11.6,  6.8,\n",
       "       21. ,  5.2,  8. ,  4.5, 15.3, 13.7, 18. ,  6.3,  2. ,  2.8,  9.1,\n",
       "        6. , 12.4, 11.4, 18.6,  1.9, 23.5, 18.9, 26.2, 12.1, 41.7,  2.2,\n",
       "       14.7, 14.4,  9.7, 23. , 22.1, 15.7, 12. , 14.8, 19.9, 29.7, 11.1,\n",
       "       19.6, 12.7, 31.9, 33.2, 19.1,  6.2, 28.4, 27. , 17.5, 16.4, 27.7,\n",
       "       38.4, 43.9, 35.4,  8.2, 37.1, 29.5, 22.2, 17.1, 26.3, 21.2, 20.5,\n",
       "       11.9, 31.3, 14.2,  8.5, 26.8,  0.2, 16.8, 35.6, 20.8, 22.3, 19.4,\n",
       "       20. , 14. , 36.1, 20.9, 15.8, 14.9,  9.5, 28.3, 16.9,  3.1, 37.6,\n",
       "       34.7, 17.9, 35.3,  9.8, 16.5, 21.4, 19.3, 28.5, 29. , 33.5, 40.7,\n",
       "       28.6, 13.6, 27.1, 26.7, 13.9, 21.3, 23.8, 35.1, 40.5, 32.9, 18.1,\n",
       "       37. , 20.6, 35.2, 12.3, 41.8, 22.7, 21.5, 35.7, 32.4, 16.1, 31.1,\n",
       "       25.3, 26. , 23.4, 30.1, 42.1, 36.5, 10.3, 44.3, 16. , 23.2, 28.8,\n",
       "       21.9, 32. , 30.3, 15.4, 24.3, 26.9, 25.8, 28.2, 22.8, 42.3, 33.9,\n",
       "       25.6, 38.6, 18.4, 31.2, 32.7, 28. , 30.6, 42. , 27.3, 33.8, 21.6,\n",
       "       33.3, 35.9, 24. , 40.6, 42.7, 31.5, 22.5, 20.7, 33.1, 35.5, 27.5,\n",
       "       24.8, 26.4, 22.6, 18.7, 32.6, 36.4, 16.2, 38.5, 22.4, 22.9, 29.2,\n",
       "       25.9, 19.5, 24.5, 20.3, 27.9, 29.6, 25. , 27.4, 30.7, 25.1, 34.6,\n",
       "       38. , 34.4, 36.7, 34.1, 32.5, 27.8, 32.8, 43.1, 17.2, 37.5, 39.3,\n",
       "       29.1, 30.8, 34.8, 29.9, 38.3, 23.3, 21.8, 41.3, 38.7, 36.3, 30. ,\n",
       "       41.5, 37.2, 24.9, 19.8, 28.9, 42.2, 39.5, 31.8, 37.4, 24.1,  0. ,\n",
       "       37.7, 32.3, 36.8, 27.2, 24.7, 36.2, 39.7, 42.9, 49.5, 31.6, 38.9,\n",
       "       40.9, 44.2, 32.1, 42.5, 25.7, 35.8, 38.2, 40.8, 35. , 34. , 31.7,\n",
       "       40.1, 26.1, 25.2, 39. , 41.1, 33.4, 32.2, 43.3, 33.7, 26.6, 39.1,\n",
       "       41.4, 43.2, 31. , 41.9, 41. , 42.4, 43. , 40.3, 40.2, 29.3, 31.4,\n",
       "       22. , 42.8, 43.7, 23.7, 34.5, 41.6, 39.6, 39.8, 37.9, 43.8, 42.6,\n",
       "       41.2, 43.6, 36. , 39.4, 43.5, 25.5, 38.1, 34.9, 28.1, 43.4, 53.8,\n",
       "       30.9, 40.4, 34.3, 45.5, 52.7, 40. , 38.8, 44.9, 33. ])"
      ]
     },
     "execution_count": 70,
     "metadata": {},
     "output_type": "execute_result"
    }
   ],
   "source": [
    "trees_e['Gross Carbon Sequestration Per Year In Kilograms'].unique()"
   ]
  },
  {
   "cell_type": "markdown",
   "id": "ea754590",
   "metadata": {},
   "source": [
    "Gross Carbon Sequestration Per Year In Kilograms column consists of floats and it has some null values as well"
   ]
  },
  {
   "cell_type": "code",
   "execution_count": 71,
   "id": "763890df",
   "metadata": {},
   "outputs": [
    {
     "data": {
      "text/plain": [
       "dtype('float64')"
      ]
     },
     "execution_count": 71,
     "metadata": {},
     "output_type": "execute_result"
    }
   ],
   "source": [
    "trees_e['Pollution Removal Per Year In Grams'].dtypes"
   ]
  },
  {
   "cell_type": "code",
   "execution_count": 72,
   "id": "801346ea",
   "metadata": {},
   "outputs": [
    {
     "data": {
      "text/plain": [
       "array([  5.7,   nan, 215.2, ...,   8. , 399.9,  60.1])"
      ]
     },
     "execution_count": 72,
     "metadata": {},
     "output_type": "execute_result"
    }
   ],
   "source": [
    "trees_e['Pollution Removal Per Year In Grams'].unique()"
   ]
  },
  {
   "cell_type": "markdown",
   "id": "931c69c8",
   "metadata": {},
   "source": [
    "Pollution Removal Per Year In Grams column consists of floats and it has null values as well"
   ]
  },
  {
   "cell_type": "markdown",
   "id": "e90ac26a-3015-491c-9c5d-a0d1b47c1f94",
   "metadata": {},
   "source": [
    "# All operations performed lead to concluding that Capital Asset Value For Amenity Trees, Carbon Storage In Kilograms, Gross Carbon Sequestration Per Year In Kilograms, and Pollution Removal Per Year In Grams are all continous float value. "
   ]
  },
  {
   "cell_type": "markdown",
   "id": "5edacbd1-2ef6-4719-acc7-2d8f630d4195",
   "metadata": {},
   "source": [
    "### 3.3 Further Inspect the Common Names Dataset\n",
    "Now repeat the above for the common names dataset.\n",
    "\n",
    "#### 3.3.a (Names) Counts of Values for String Type Columns \n",
    "For each string column in the common names dataset show the counts of the unique values."
   ]
  },
  {
   "cell_type": "code",
   "execution_count": 73,
   "id": "274287c7",
   "metadata": {},
   "outputs": [],
   "source": [
    "#Lastly, the unique values for the common_names data set columns have been counted."
   ]
  },
  {
   "cell_type": "code",
   "execution_count": 74,
   "id": "0c83c5e3-e84a-4e29-a05c-2c10b7d5dfb0",
   "metadata": {},
   "outputs": [
    {
     "data": {
      "text/plain": [
       "<bound method Series.unique of Cupressocyparis leylandii                             2\n",
       "Larix decidua                                         2\n",
       "Salix fragilis                                        2\n",
       "Alnus cordata                                         2\n",
       "Populus nigra                                         2\n",
       "                                                     ..\n",
       "Pyrus salicifolia 'Pendula'                           1\n",
       "Chamaecyparis lawsoniana 'unid                        1\n",
       "Platanus x hispanica Tremonia                         1\n",
       "Vacant Tree Pit (planned: Gymnocladus dioicus)        1\n",
       "Vacant Tree Pit (planned: Liquidambar styraciflua)    1\n",
       "Name: Scientific Name, Length: 560, dtype: int64>"
      ]
     },
     "execution_count": 74,
     "metadata": {},
     "output_type": "execute_result"
    }
   ],
   "source": [
    "common_names[\"Scientific Name\"].value_counts().unique"
   ]
  },
  {
   "cell_type": "markdown",
   "id": "03f2978c",
   "metadata": {},
   "source": [
    "This column is qualitativenominal"
   ]
  },
  {
   "cell_type": "code",
   "execution_count": 75,
   "id": "ca5c98b7-a9c5-4ece-bb76-ed03a804525e",
   "metadata": {
    "scrolled": true
   },
   "outputs": [
    {
     "data": {
      "text/plain": [
       "<bound method Series.unique of Cherry                         12\n",
       "Rowan                          10\n",
       "Magnolia                       10\n",
       "Vacant Tree Pit (planned: )    10\n",
       "Apple - Crab                    9\n",
       "                               ..\n",
       "Pittosporum                     1\n",
       "Birch - Purple                  1\n",
       "Maple - Column Norway           1\n",
       "Maple - Crimson King Norway     1\n",
       "Castlewellan gold               1\n",
       "Name: Common Name, Length: 431, dtype: int64>"
      ]
     },
     "execution_count": 75,
     "metadata": {},
     "output_type": "execute_result"
    }
   ],
   "source": [
    "common_names[\"Common Name\"].value_counts().unique"
   ]
  },
  {
   "cell_type": "markdown",
   "id": "0be34544",
   "metadata": {},
   "source": [
    "This column is qualitativenaomnal"
   ]
  },
  {
   "cell_type": "code",
   "execution_count": 77,
   "id": "6e144307-026e-45ee-b0d2-025b7b5f3d9c",
   "metadata": {},
   "outputs": [
    {
     "data": {
      "text/plain": [
       "Scientific Name    object\n",
       "Common Name        object\n",
       "dtype: object"
      ]
     },
     "execution_count": 77,
     "metadata": {},
     "output_type": "execute_result"
    }
   ],
   "source": [
    "common_names.dtypes"
   ]
  },
  {
   "cell_type": "code",
   "execution_count": 78,
   "id": "ff3758f5-ac62-45b0-a326-baa98b0a5625",
   "metadata": {},
   "outputs": [],
   "source": [
    "# The cell above shows the dtypes for completeness "
   ]
  },
  {
   "cell_type": "markdown",
   "id": "2778e230-5042-42eb-b51a-022a1c9710cc",
   "metadata": {},
   "source": [
    "<hr/>\n"
   ]
  },
  {
   "cell_type": "markdown",
   "id": "8b9a614c-0c3f-41f1-9b30-7259bcb3a2d3",
   "metadata": {},
   "source": [
    "#### 3.3.b (Names) Descriptive Stats for Numeric Type Columns\n",
    "There are no numeric columns."
   ]
  },
  {
   "cell_type": "markdown",
   "id": "8641574f-7ee8-4cac-98d9-4c33a54891af",
   "metadata": {
    "tags": []
   },
   "source": [
    "## Task 4: Identify Missing Values"
   ]
  },
  {
   "cell_type": "markdown",
   "id": "5ee7f2e0-20bf-4249-9f5d-57ab6cc0fa30",
   "metadata": {},
   "source": [
    "### 4.1 Missing Values for the Trees Dataset\n",
    "I've shown you how to do this for the trees dataset."
   ]
  },
  {
   "cell_type": "code",
   "execution_count": 79,
   "id": "c8077870",
   "metadata": {},
   "outputs": [],
   "source": [
    "# Here the following has been done:"
   ]
  },
  {
   "cell_type": "code",
   "execution_count": 80,
   "id": "0bd1e712-9211-44f8-a22c-fb1df46c1961",
   "metadata": {},
   "outputs": [
    {
     "data": {
      "text/plain": [
       "Identifier                                  0.000000\n",
       "Number Of Trees                             0.093841\n",
       "Site Name                                   0.000000\n",
       "Contract Area                               0.000000\n",
       "Scientific Name                             0.000000\n",
       "Inspection Date                             1.710459\n",
       "Inspection Due Date                         1.710459\n",
       "Height In Metres                            1.868282\n",
       "Spread In Metres                            1.868282\n",
       "Diameter In Centimetres At Breast Height    1.872547\n",
       "Ward Code                                   0.963999\n",
       "Ward Name                                   0.963999\n",
       "Easting                                     0.000000\n",
       "Northing                                    0.000000\n",
       "Longitude                                   0.238867\n",
       "Latitude                                    0.238867\n",
       "Location                                    0.238867\n",
       "dtype: float64"
      ]
     },
     "execution_count": 80,
     "metadata": {},
     "output_type": "execute_result"
    }
   ],
   "source": [
    "# Finding the percentage of null values through Pandas isnull() and mean() methods.\n",
    "trees.isnull().mean()*100"
   ]
  },
  {
   "cell_type": "code",
   "execution_count": 81,
   "id": "afbf5093-5716-440a-8f89-eeb6a5d66662",
   "metadata": {},
   "outputs": [
    {
     "data": {
      "text/plain": [
       "Identifier                                    0\n",
       "Number Of Trees                              22\n",
       "Site Name                                     0\n",
       "Contract Area                                 0\n",
       "Scientific Name                               0\n",
       "Inspection Date                             401\n",
       "Inspection Due Date                         401\n",
       "Height In Metres                            438\n",
       "Spread In Metres                            438\n",
       "Diameter In Centimetres At Breast Height    439\n",
       "Ward Code                                   226\n",
       "Ward Name                                   226\n",
       "Easting                                       0\n",
       "Northing                                      0\n",
       "Longitude                                    56\n",
       "Latitude                                     56\n",
       "Location                                     56\n",
       "dtype: int64"
      ]
     },
     "execution_count": 81,
     "metadata": {},
     "output_type": "execute_result"
    }
   ],
   "source": [
    "# Finding the number of null values through the utilisation of isnull() and sum() functions.\n",
    "trees.isnull().sum()"
   ]
  },
  {
   "cell_type": "code",
   "execution_count": 82,
   "id": "cde99d54-297d-41d8-954d-94ba2e08a2c5",
   "metadata": {},
   "outputs": [
    {
     "data": {
      "text/plain": [
       "Identifier                                  0.000000\n",
       "Number Of Trees                             0.396690\n",
       "Site Name                                   0.000000\n",
       "Contract Area                               0.000000\n",
       "Scientific Name                             0.000000\n",
       "Inspection Date                             0.000000\n",
       "Inspection Due Date                         0.000000\n",
       "Height In Metres                            0.733663\n",
       "Spread In Metres                            1.181539\n",
       "Diameter In Centimetres At Breast Height    1.164477\n",
       "Ward Code                                   0.000000\n",
       "Ward Name                                   0.000000\n",
       "Easting                                     0.238867\n",
       "Northing                                    0.238867\n",
       "Longitude                                   0.000000\n",
       "Latitude                                    0.000000\n",
       "Location                                    0.000000\n",
       "dtype: float64"
      ]
     },
     "execution_count": 82,
     "metadata": {},
     "output_type": "execute_result"
    }
   ],
   "source": [
    "# Finding the percentage of zero values and if their in through the use of isin() and mean() functions.\n",
    "trees.isin([0]).mean()*100"
   ]
  },
  {
   "cell_type": "code",
   "execution_count": 83,
   "id": "d0947b5d-8978-46d8-8d57-252d29c25ca8",
   "metadata": {},
   "outputs": [
    {
     "data": {
      "text/plain": [
       "Identifier                                    0\n",
       "Number Of Trees                              93\n",
       "Site Name                                     0\n",
       "Contract Area                                 0\n",
       "Scientific Name                               0\n",
       "Inspection Date                               0\n",
       "Inspection Due Date                           0\n",
       "Height In Metres                            172\n",
       "Spread In Metres                            277\n",
       "Diameter In Centimetres At Breast Height    273\n",
       "Ward Code                                     0\n",
       "Ward Name                                     0\n",
       "Easting                                      56\n",
       "Northing                                     56\n",
       "Longitude                                     0\n",
       "Latitude                                      0\n",
       "Location                                      0\n",
       "dtype: int64"
      ]
     },
     "execution_count": 83,
     "metadata": {},
     "output_type": "execute_result"
    }
   ],
   "source": [
    "# Using the isin and sum() functions to find the number of zero values in the trees data set\n",
    "trees.isin([0]).sum()"
   ]
  },
  {
   "cell_type": "code",
   "execution_count": 84,
   "id": "de03ea2b-8ea2-48ff-b620-d9fd16290c7b",
   "metadata": {},
   "outputs": [
    {
     "data": {
      "text/plain": [
       "Identifier                                  0.000000\n",
       "Number Of Trees                             0.004905\n",
       "Site Name                                   0.000000\n",
       "Contract Area                               0.000000\n",
       "Scientific Name                             0.000000\n",
       "Inspection Date                             0.017105\n",
       "Inspection Due Date                         0.017105\n",
       "Height In Metres                            0.026019\n",
       "Spread In Metres                            0.030498\n",
       "Diameter In Centimetres At Breast Height    0.030370\n",
       "Ward Code                                   0.009640\n",
       "Ward Name                                   0.009640\n",
       "Easting                                     0.002389\n",
       "Northing                                    0.002389\n",
       "Longitude                                   0.002389\n",
       "Latitude                                    0.002389\n",
       "Location                                    0.002389\n",
       "dtype: float64"
      ]
     },
     "execution_count": 84,
     "metadata": {},
     "output_type": "execute_result"
    }
   ],
   "source": [
    "# Finding the percentage of null and zero values through the use of the isnull, sum, isin functions \n",
    "# and the shape method, and also using the arithmetic operators.\n",
    "(trees.isnull().sum() + trees.isin([0]).sum())/trees.shape[0]"
   ]
  },
  {
   "cell_type": "code",
   "execution_count": 85,
   "id": "f43e38e0-00c6-4ebd-9899-8f91557becb7",
   "metadata": {
    "scrolled": true
   },
   "outputs": [
    {
     "data": {
      "text/plain": [
       "Identifier                                    0\n",
       "Number Of Trees                             115\n",
       "Site Name                                     0\n",
       "Contract Area                                 0\n",
       "Scientific Name                               0\n",
       "Inspection Date                             401\n",
       "Inspection Due Date                         401\n",
       "Height In Metres                            610\n",
       "Spread In Metres                            715\n",
       "Diameter In Centimetres At Breast Height    712\n",
       "Ward Code                                   226\n",
       "Ward Name                                   226\n",
       "Easting                                      56\n",
       "Northing                                     56\n",
       "Longitude                                    56\n",
       "Latitude                                     56\n",
       "Location                                     56\n",
       "dtype: int64"
      ]
     },
     "execution_count": 85,
     "metadata": {},
     "output_type": "execute_result"
    }
   ],
   "source": [
    "# Finding the number of null and zero values utilizing the isnull, sum and isin functions \n",
    "# and also using the Pyhton arithmentic operators\n",
    "(trees.isnull().sum() + trees.isin([0]).sum())"
   ]
  },
  {
   "cell_type": "code",
   "execution_count": 86,
   "id": "8fa710a1",
   "metadata": {},
   "outputs": [
    {
     "data": {
      "text/plain": [
       "Identifier                                  0.000000\n",
       "Number Of Trees                             0.093841\n",
       "Site Name                                   0.000000\n",
       "Contract Area                               0.000000\n",
       "Scientific Name                             0.000000\n",
       "Inspection Date                             1.710459\n",
       "Inspection Due Date                         1.710459\n",
       "Height In Metres                            1.868282\n",
       "Spread In Metres                            1.868282\n",
       "Diameter In Centimetres At Breast Height    1.872547\n",
       "Ward Code                                   0.963999\n",
       "Ward Name                                   0.963999\n",
       "Easting                                     0.000000\n",
       "Northing                                    0.000000\n",
       "Longitude                                   0.238867\n",
       "Latitude                                    0.238867\n",
       "Location                                    0.238867\n",
       "dtype: float64"
      ]
     },
     "execution_count": 86,
     "metadata": {},
     "output_type": "execute_result"
    }
   ],
   "source": [
    "#  Checking for percentage of missing values in each column \n",
    "pct_miss_values = trees.isnull().sum() * 100 / len(trees)\n",
    "pct_miss_values"
   ]
  },
  {
   "cell_type": "markdown",
   "id": "e1ca9cd2",
   "metadata": {},
   "source": [
    "# 4.1 Missing Values for the Trees Dataset\n",
    "I've shown you how to do this for the trees dataset."
   ]
  },
  {
   "cell_type": "code",
   "execution_count": 87,
   "id": "9cfadb2e",
   "metadata": {},
   "outputs": [],
   "source": [
    "# Here same things applies as for the trees data set, all formulas and operations are performed again"
   ]
  },
  {
   "cell_type": "code",
   "execution_count": 88,
   "id": "45971fda-0b80-4652-bc63-ed8baeaad087",
   "metadata": {},
   "outputs": [
    {
     "data": {
      "text/plain": [
       "Identifier                                           0.000000\n",
       "Maturity                                             1.746744\n",
       "Physiological Condition                              2.015802\n",
       "Tree Set To Be Removed                               0.000000\n",
       "Removal Reason                                      99.641256\n",
       "Capital Asset Value For Amenity Trees                1.849242\n",
       "Carbon Storage In Kilograms                         12.214392\n",
       "Gross Carbon Sequestration Per Year In Kilograms    12.214392\n",
       "Pollution Removal Per Year In Grams                 12.214392\n",
       "dtype: float64"
      ]
     },
     "execution_count": 88,
     "metadata": {},
     "output_type": "execute_result"
    }
   ],
   "source": [
    "# FInding the percentage of null values\n",
    "trees_e.isnull().mean()*100"
   ]
  },
  {
   "cell_type": "code",
   "execution_count": 89,
   "id": "35471141-aca6-453d-afc8-babde8975f14",
   "metadata": {},
   "outputs": [
    {
     "data": {
      "text/plain": [
       "Identifier                                              0\n",
       "Maturity                                              409\n",
       "Physiological Condition                               472\n",
       "Tree Set To Be Removed                                  0\n",
       "Removal Reason                                      23331\n",
       "Capital Asset Value For Amenity Trees                 433\n",
       "Carbon Storage In Kilograms                          2860\n",
       "Gross Carbon Sequestration Per Year In Kilograms     2860\n",
       "Pollution Removal Per Year In Grams                  2860\n",
       "dtype: int64"
      ]
     },
     "execution_count": 89,
     "metadata": {},
     "output_type": "execute_result"
    }
   ],
   "source": [
    "# Finding the number of null values\n",
    "trees_e.isnull().sum()"
   ]
  },
  {
   "cell_type": "code",
   "execution_count": 90,
   "id": "333f86d0-8443-48b5-ba17-6bb91cfd1190",
   "metadata": {},
   "outputs": [
    {
     "data": {
      "text/plain": [
       "Identifier                                          0.000000\n",
       "Maturity                                            0.000000\n",
       "Physiological Condition                             0.000000\n",
       "Tree Set To Be Removed                              0.000000\n",
       "Removal Reason                                      0.000000\n",
       "Capital Asset Value For Amenity Trees               1.183002\n",
       "Carbon Storage In Kilograms                         0.000000\n",
       "Gross Carbon Sequestration Per Year In Kilograms    0.025625\n",
       "Pollution Removal Per Year In Grams                 0.000000\n",
       "dtype: float64"
      ]
     },
     "execution_count": 90,
     "metadata": {},
     "output_type": "execute_result"
    }
   ],
   "source": [
    "# Finding the percentage of zero values\n",
    "trees_e.isin([0]).mean()*100"
   ]
  },
  {
   "cell_type": "code",
   "execution_count": 91,
   "id": "809d3c20-113f-4665-b18d-cbdaa07b613c",
   "metadata": {},
   "outputs": [
    {
     "data": {
      "text/plain": [
       "Identifier                                            0\n",
       "Maturity                                              0\n",
       "Physiological Condition                               0\n",
       "Tree Set To Be Removed                                0\n",
       "Removal Reason                                        0\n",
       "Capital Asset Value For Amenity Trees               277\n",
       "Carbon Storage In Kilograms                           0\n",
       "Gross Carbon Sequestration Per Year In Kilograms      6\n",
       "Pollution Removal Per Year In Grams                   0\n",
       "dtype: int64"
      ]
     },
     "execution_count": 91,
     "metadata": {},
     "output_type": "execute_result"
    }
   ],
   "source": [
    "# Finding the number of zero values\n",
    "trees_e.isin([0]).sum()"
   ]
  },
  {
   "cell_type": "code",
   "execution_count": 92,
   "id": "bbada47a-e7aa-43be-bfca-624feda60cb7",
   "metadata": {},
   "outputs": [
    {
     "data": {
      "text/plain": [
       "Identifier                                          0.000000\n",
       "Maturity                                            0.017467\n",
       "Physiological Condition                             0.020158\n",
       "Tree Set To Be Removed                              0.000000\n",
       "Removal Reason                                      0.996413\n",
       "Capital Asset Value For Amenity Trees               0.030322\n",
       "Carbon Storage In Kilograms                         0.122144\n",
       "Gross Carbon Sequestration Per Year In Kilograms    0.122400\n",
       "Pollution Removal Per Year In Grams                 0.122144\n",
       "dtype: float64"
      ]
     },
     "execution_count": 92,
     "metadata": {},
     "output_type": "execute_result"
    }
   ],
   "source": [
    "# FInding the percentage of null and zero values\n",
    "(trees_e.isnull().sum() + trees_e.isin([0]).sum())/trees_e.shape[0]"
   ]
  },
  {
   "cell_type": "code",
   "execution_count": 93,
   "id": "27dcd851-d4a3-4014-9167-9330c033738d",
   "metadata": {
    "scrolled": false
   },
   "outputs": [
    {
     "data": {
      "text/plain": [
       "Identifier                                              0\n",
       "Maturity                                              409\n",
       "Physiological Condition                               472\n",
       "Tree Set To Be Removed                                  0\n",
       "Removal Reason                                      23331\n",
       "Capital Asset Value For Amenity Trees                 710\n",
       "Carbon Storage In Kilograms                          2860\n",
       "Gross Carbon Sequestration Per Year In Kilograms     2866\n",
       "Pollution Removal Per Year In Grams                  2860\n",
       "dtype: int64"
      ]
     },
     "execution_count": 93,
     "metadata": {},
     "output_type": "execute_result"
    }
   ],
   "source": [
    "# Fiding the number of null and zero values\n",
    "(trees_e.isnull().sum() + trees_e.isin([0]).sum())"
   ]
  },
  {
   "cell_type": "code",
   "execution_count": 94,
   "id": "bce12ec3",
   "metadata": {},
   "outputs": [
    {
     "data": {
      "text/plain": [
       "Identifier                                           0.000000\n",
       "Maturity                                             1.746744\n",
       "Physiological Condition                              2.015802\n",
       "Tree Set To Be Removed                               0.000000\n",
       "Removal Reason                                      99.641256\n",
       "Capital Asset Value For Amenity Trees                1.849242\n",
       "Carbon Storage In Kilograms                         12.214392\n",
       "Gross Carbon Sequestration Per Year In Kilograms    12.214392\n",
       "Pollution Removal Per Year In Grams                 12.214392\n",
       "dtype: float64"
      ]
     },
     "execution_count": 94,
     "metadata": {},
     "output_type": "execute_result"
    }
   ],
   "source": [
    "#  Checking for percentage of missing values in each column \n",
    "pct_miss_values_2 = trees_e.isnull().sum() * 100 / len(trees_e)\n",
    "pct_miss_values_2"
   ]
  },
  {
   "cell_type": "markdown",
   "id": "cc5e09d4-fc27-454c-8462-f918e46a241e",
   "metadata": {},
   "source": [
    "<hr/>"
   ]
  },
  {
   "cell_type": "markdown",
   "id": "86bc5c0f-498e-47f1-b993-5ae66b325fc1",
   "metadata": {},
   "source": [
    "### 4.3 Missing Values for the Common Names Dataset\n",
    "Now repeat the missing values check for the common names dataset."
   ]
  },
  {
   "cell_type": "code",
   "execution_count": 95,
   "id": "4c226d26",
   "metadata": {},
   "outputs": [],
   "source": [
    "# Checking for missing values in the common_names data set"
   ]
  },
  {
   "cell_type": "code",
   "execution_count": 96,
   "id": "84581b31-98a4-4b20-a7b3-af1685cf0131",
   "metadata": {},
   "outputs": [
    {
     "data": {
      "text/plain": [
       "Scientific Name     0\n",
       "Common Name        24\n",
       "dtype: int64"
      ]
     },
     "execution_count": 96,
     "metadata": {},
     "output_type": "execute_result"
    }
   ],
   "source": [
    "# Checking for missing values theough the use of the isna and sum functions.\n",
    "common_names.isna().sum()"
   ]
  },
  {
   "cell_type": "code",
   "execution_count": 97,
   "id": "b881b1d4-661d-46f6-943a-a5037f98facb",
   "metadata": {
    "scrolled": true
   },
   "outputs": [
    {
     "data": {
      "text/html": [
       "<div>\n",
       "<style scoped>\n",
       "    .dataframe tbody tr th:only-of-type {\n",
       "        vertical-align: middle;\n",
       "    }\n",
       "\n",
       "    .dataframe tbody tr th {\n",
       "        vertical-align: top;\n",
       "    }\n",
       "\n",
       "    .dataframe thead th {\n",
       "        text-align: right;\n",
       "    }\n",
       "</style>\n",
       "<table border=\"1\" class=\"dataframe\">\n",
       "  <thead>\n",
       "    <tr style=\"text-align: right;\">\n",
       "      <th></th>\n",
       "      <th>Scientific Name</th>\n",
       "      <th>Common Name</th>\n",
       "    </tr>\n",
       "  </thead>\n",
       "  <tbody>\n",
       "    <tr>\n",
       "      <th>0</th>\n",
       "      <td>False</td>\n",
       "      <td>False</td>\n",
       "    </tr>\n",
       "    <tr>\n",
       "      <th>1</th>\n",
       "      <td>False</td>\n",
       "      <td>False</td>\n",
       "    </tr>\n",
       "    <tr>\n",
       "      <th>2</th>\n",
       "      <td>False</td>\n",
       "      <td>False</td>\n",
       "    </tr>\n",
       "    <tr>\n",
       "      <th>3</th>\n",
       "      <td>False</td>\n",
       "      <td>True</td>\n",
       "    </tr>\n",
       "    <tr>\n",
       "      <th>4</th>\n",
       "      <td>False</td>\n",
       "      <td>False</td>\n",
       "    </tr>\n",
       "    <tr>\n",
       "      <th>...</th>\n",
       "      <td>...</td>\n",
       "      <td>...</td>\n",
       "    </tr>\n",
       "    <tr>\n",
       "      <th>584</th>\n",
       "      <td>False</td>\n",
       "      <td>False</td>\n",
       "    </tr>\n",
       "    <tr>\n",
       "      <th>585</th>\n",
       "      <td>False</td>\n",
       "      <td>False</td>\n",
       "    </tr>\n",
       "    <tr>\n",
       "      <th>586</th>\n",
       "      <td>False</td>\n",
       "      <td>False</td>\n",
       "    </tr>\n",
       "    <tr>\n",
       "      <th>587</th>\n",
       "      <td>False</td>\n",
       "      <td>False</td>\n",
       "    </tr>\n",
       "    <tr>\n",
       "      <th>588</th>\n",
       "      <td>False</td>\n",
       "      <td>False</td>\n",
       "    </tr>\n",
       "  </tbody>\n",
       "</table>\n",
       "<p>589 rows × 2 columns</p>\n",
       "</div>"
      ],
      "text/plain": [
       "     Scientific Name  Common Name\n",
       "0              False        False\n",
       "1              False        False\n",
       "2              False        False\n",
       "3              False         True\n",
       "4              False        False\n",
       "..               ...          ...\n",
       "584            False        False\n",
       "585            False        False\n",
       "586            False        False\n",
       "587            False        False\n",
       "588            False        False\n",
       "\n",
       "[589 rows x 2 columns]"
      ]
     },
     "execution_count": 97,
     "metadata": {},
     "output_type": "execute_result"
    }
   ],
   "source": [
    "# Using isnull function to check for if values are null or not\n",
    "common_names.isnull()"
   ]
  },
  {
   "cell_type": "code",
   "execution_count": 98,
   "id": "ff5a40fc",
   "metadata": {},
   "outputs": [
    {
     "data": {
      "text/plain": [
       "Scientific Name    0.000000\n",
       "Common Name        4.074703\n",
       "dtype: float64"
      ]
     },
     "execution_count": 98,
     "metadata": {},
     "output_type": "execute_result"
    }
   ],
   "source": [
    "#  Checking for percentage of missing values in each column \n",
    "pct_miss_values_3 = common_names.isnull().sum() * 100 / len(common_names)\n",
    "pct_miss_values_3"
   ]
  },
  {
   "cell_type": "markdown",
   "id": "fe30f689-88b0-4526-abae-1e19a320acf9",
   "metadata": {},
   "source": [
    "<hr/>\n",
    "\n",
    "### 4.4 Observations\n",
    "\n",
    "\n"
   ]
  },
  {
   "cell_type": "markdown",
   "id": "ec7ce6ee-8fd6-446a-a63a-08babd1e0390",
   "metadata": {},
   "source": [
    "# After performing the data manipulation operations, we can see that there are small percentage of missing values in a number of columns in the trees dataset - \n",
    "\n",
    "Identifier                                  0.000000\n",
    "Number Of Trees                             0.093841\n",
    "Site Name                                   0.000000\n",
    "Contract Area                               0.000000\n",
    "Scientific Name                             0.000000\n",
    "Inspection Date                             1.710459\n",
    "Inspection Due Date                         1.710459\n",
    "Height In Metres                            1.868282\n",
    "Spread In Metres                            1.868282\n",
    "Diameter In Centimetres At Breast Height    1.872547\n",
    "Ward Code                                   0.963999\n",
    "Ward Name                                   0.963999\n",
    "Easting                                     0.000000\n",
    "Northing                                    0.000000\n",
    "Longitude                                   0.238867\n",
    "Latitude                                    0.238867\n",
    "Location                                    0.238867.\n",
    "\n",
    "# For the environmental set (trees_e) are - \n",
    "\n",
    "Identifier                                           0.000000\n",
    "Maturity                                             1.746744\n",
    "Physiological Condition                              2.015802\n",
    "Tree Set To Be Removed                               0.000000\n",
    "Removal Reason                                      99.641256\n",
    "Capital Asset Value For Amenity Trees                1.849242\n",
    "Carbon Storage In Kilograms                         12.214392\n",
    "Gross Carbon Sequestration Per Year In Kilograms    12.214392\n",
    "Pollution Removal Per Year In Grams                 12.214392.\n",
    "\n",
    "# Lastly, for the common names - \n",
    "\n",
    "Scientific Name    0.000000\n",
    "Common Name        4.074703\n",
    "\n",
    "The missing values can have an impact on the ability of the data to deliver on the council's initiatives. For example, if the council wants to know the number of trees in each contract area, missing values in the \"Number Of Trees\" column will make it difficult to get an accurate count. Similarly, if the council wants to know when the last inspection of a tree was done, missing values in the \"Inspection Date\" column will make it difficult to get an accurate information.\n",
    "It's necessary to take into account the missing values and zero values in the dataset before using the data for any analysis. They might need to be handled by imputing or dropping the missing/zero values."
   ]
  },
  {
   "cell_type": "markdown",
   "id": "a4094437-06e3-4376-9c94-14e30a910c36",
   "metadata": {},
   "source": [
    "\n",
    "<hr/>"
   ]
  },
  {
   "cell_type": "markdown",
   "id": "33d42c68-e660-4892-b2de-0552a062c7ff",
   "metadata": {
    "tags": []
   },
   "source": [
    "## Task 5: Identify Outliers in the Trees Dimensions"
   ]
  },
  {
   "cell_type": "markdown",
   "id": "52de8466-d0ed-4c29-af9a-bf7c79b80c09",
   "metadata": {},
   "source": [
    "### 5.1 Outliers for Height"
   ]
  },
  {
   "cell_type": "code",
   "execution_count": 99,
   "id": "07f3d6d6",
   "metadata": {
    "scrolled": true
   },
   "outputs": [
    {
     "data": {
      "text/html": [
       "<div>\n",
       "<style scoped>\n",
       "    .dataframe tbody tr th:only-of-type {\n",
       "        vertical-align: middle;\n",
       "    }\n",
       "\n",
       "    .dataframe tbody tr th {\n",
       "        vertical-align: top;\n",
       "    }\n",
       "\n",
       "    .dataframe thead th {\n",
       "        text-align: right;\n",
       "    }\n",
       "</style>\n",
       "<table border=\"1\" class=\"dataframe\">\n",
       "  <thead>\n",
       "    <tr style=\"text-align: right;\">\n",
       "      <th></th>\n",
       "      <th>Number Of Trees</th>\n",
       "      <th>Height In Metres</th>\n",
       "      <th>Spread In Metres</th>\n",
       "      <th>Diameter In Centimetres At Breast Height</th>\n",
       "      <th>Easting</th>\n",
       "      <th>Northing</th>\n",
       "      <th>Longitude</th>\n",
       "      <th>Latitude</th>\n",
       "    </tr>\n",
       "  </thead>\n",
       "  <tbody>\n",
       "    <tr>\n",
       "      <th>count</th>\n",
       "      <td>23422.000000</td>\n",
       "      <td>23006.000000</td>\n",
       "      <td>23006.000000</td>\n",
       "      <td>23005.000000</td>\n",
       "      <td>23444.000000</td>\n",
       "      <td>23444.000000</td>\n",
       "      <td>23388.000000</td>\n",
       "      <td>23388.000000</td>\n",
       "    </tr>\n",
       "    <tr>\n",
       "      <th>mean</th>\n",
       "      <td>1.100034</td>\n",
       "      <td>10.307029</td>\n",
       "      <td>5.997612</td>\n",
       "      <td>32.595262</td>\n",
       "      <td>526762.518171</td>\n",
       "      <td>184085.188662</td>\n",
       "      <td>-0.155145</td>\n",
       "      <td>51.545115</td>\n",
       "    </tr>\n",
       "    <tr>\n",
       "      <th>std</th>\n",
       "      <td>1.288041</td>\n",
       "      <td>6.325293</td>\n",
       "      <td>4.132379</td>\n",
       "      <td>26.149994</td>\n",
       "      <td>25835.857212</td>\n",
       "      <td>9121.059755</td>\n",
       "      <td>0.025058</td>\n",
       "      <td>0.013067</td>\n",
       "    </tr>\n",
       "    <tr>\n",
       "      <th>min</th>\n",
       "      <td>0.000000</td>\n",
       "      <td>0.000000</td>\n",
       "      <td>0.000000</td>\n",
       "      <td>0.000000</td>\n",
       "      <td>0.000000</td>\n",
       "      <td>0.000000</td>\n",
       "      <td>-0.261719</td>\n",
       "      <td>51.512858</td>\n",
       "    </tr>\n",
       "    <tr>\n",
       "      <th>25%</th>\n",
       "      <td>1.000000</td>\n",
       "      <td>5.000000</td>\n",
       "      <td>3.000000</td>\n",
       "      <td>12.000000</td>\n",
       "      <td>526583.750000</td>\n",
       "      <td>183665.000000</td>\n",
       "      <td>-0.175734</td>\n",
       "      <td>51.537472</td>\n",
       "    </tr>\n",
       "    <tr>\n",
       "      <th>50%</th>\n",
       "      <td>1.000000</td>\n",
       "      <td>9.000000</td>\n",
       "      <td>5.000000</td>\n",
       "      <td>27.000000</td>\n",
       "      <td>528456.500000</td>\n",
       "      <td>184690.000000</td>\n",
       "      <td>-0.148478</td>\n",
       "      <td>51.546669</td>\n",
       "    </tr>\n",
       "    <tr>\n",
       "      <th>75%</th>\n",
       "      <td>1.000000</td>\n",
       "      <td>15.000000</td>\n",
       "      <td>8.000000</td>\n",
       "      <td>46.000000</td>\n",
       "      <td>529369.000000</td>\n",
       "      <td>185481.000000</td>\n",
       "      <td>-0.135978</td>\n",
       "      <td>51.554032</td>\n",
       "    </tr>\n",
       "    <tr>\n",
       "      <th>max</th>\n",
       "      <td>67.000000</td>\n",
       "      <td>127.000000</td>\n",
       "      <td>88.000000</td>\n",
       "      <td>228.000000</td>\n",
       "      <td>531514.000000</td>\n",
       "      <td>196188.000000</td>\n",
       "      <td>-0.105858</td>\n",
       "      <td>51.650843</td>\n",
       "    </tr>\n",
       "  </tbody>\n",
       "</table>\n",
       "</div>"
      ],
      "text/plain": [
       "       Number Of Trees  Height In Metres  Spread In Metres  \\\n",
       "count     23422.000000      23006.000000      23006.000000   \n",
       "mean          1.100034         10.307029          5.997612   \n",
       "std           1.288041          6.325293          4.132379   \n",
       "min           0.000000          0.000000          0.000000   \n",
       "25%           1.000000          5.000000          3.000000   \n",
       "50%           1.000000          9.000000          5.000000   \n",
       "75%           1.000000         15.000000          8.000000   \n",
       "max          67.000000        127.000000         88.000000   \n",
       "\n",
       "       Diameter In Centimetres At Breast Height        Easting       Northing  \\\n",
       "count                              23005.000000   23444.000000   23444.000000   \n",
       "mean                                  32.595262  526762.518171  184085.188662   \n",
       "std                                   26.149994   25835.857212    9121.059755   \n",
       "min                                    0.000000       0.000000       0.000000   \n",
       "25%                                   12.000000  526583.750000  183665.000000   \n",
       "50%                                   27.000000  528456.500000  184690.000000   \n",
       "75%                                   46.000000  529369.000000  185481.000000   \n",
       "max                                  228.000000  531514.000000  196188.000000   \n",
       "\n",
       "          Longitude      Latitude  \n",
       "count  23388.000000  23388.000000  \n",
       "mean      -0.155145     51.545115  \n",
       "std        0.025058      0.013067  \n",
       "min       -0.261719     51.512858  \n",
       "25%       -0.175734     51.537472  \n",
       "50%       -0.148478     51.546669  \n",
       "75%       -0.135978     51.554032  \n",
       "max       -0.105858     51.650843  "
      ]
     },
     "execution_count": 99,
     "metadata": {},
     "output_type": "execute_result"
    }
   ],
   "source": [
    "# Used the describe function to get back descriptive statistics values for the trees data frame\n",
    "trees.describe()"
   ]
  },
  {
   "cell_type": "code",
   "execution_count": 100,
   "id": "ecaa87b9-9558-4fd6-8383-3a8046d26a5c",
   "metadata": {
    "scrolled": false
   },
   "outputs": [
    {
     "data": {
      "text/plain": [
       "<AxesSubplot:>"
      ]
     },
     "execution_count": 100,
     "metadata": {},
     "output_type": "execute_result"
    },
    {
     "data": {
      "image/png": "[encoded data removed]",
      "text/plain": [
       "<Figure size 432x288 with 1 Axes>"
      ]
     },
     "metadata": {
      "needs_background": "light"
     },
     "output_type": "display_data"
    }
   ],
   "source": [
    "# Used a boxplot to find the outliers for the Height In Metres. \n",
    "# Where the crazy outliers can be seen below 100 and above 120.\n",
    "trees.boxplot(column=['Height In Metres']) "
   ]
  },
  {
   "cell_type": "markdown",
   "id": "12393460",
   "metadata": {},
   "source": [
    "# All code below consists of the interquartile range (IQR) method for finding the outliers"
   ]
  },
  {
   "cell_type": "code",
   "execution_count": 101,
   "id": "5b3915e8",
   "metadata": {},
   "outputs": [],
   "source": [
    "# Firstly calculating the the quartiles (Q1 and Q3)\n",
    "Q1 = trees['Height In Metres'].quantile(0.25)\n",
    "Q3 = trees['Height In Metres'].quantile(0.75)"
   ]
  },
  {
   "cell_type": "code",
   "execution_count": 102,
   "id": "7aea61bb",
   "metadata": {},
   "outputs": [
    {
     "name": "stdout",
     "output_type": "stream",
     "text": [
      "5.0 15.0\n"
     ]
    }
   ],
   "source": [
    "print(Q1, Q3)"
   ]
  },
  {
   "cell_type": "code",
   "execution_count": 103,
   "id": "c05e5b57",
   "metadata": {},
   "outputs": [
    {
     "data": {
      "text/plain": [
       "10.0"
      ]
     },
     "execution_count": 103,
     "metadata": {},
     "output_type": "execute_result"
    }
   ],
   "source": [
    "# Caculated the IQR following the statistical emthod\n",
    "IQR = Q3 - Q1\n",
    "IQR"
   ]
  },
  {
   "cell_type": "code",
   "execution_count": 104,
   "id": "ccd6f46d",
   "metadata": {},
   "outputs": [
    {
     "data": {
      "text/plain": [
       "(-10.0, 0.0)"
      ]
     },
     "execution_count": 104,
     "metadata": {},
     "output_type": "execute_result"
    }
   ],
   "source": [
    "# Calculating the upper and lower limit named l_limit, u_limit\n",
    "l_limit = Q1 - 1.5*IQR\n",
    "u_limit = Q3 - 1.5*IQR\n",
    "\n",
    "l_limit, u_limit"
   ]
  },
  {
   "cell_type": "code",
   "execution_count": 105,
   "id": "8b3df56b",
   "metadata": {},
   "outputs": [],
   "source": [
    "# Then used the outliers formula to find the outliers for the column and and then printed it "
   ]
  },
  {
   "cell_type": "code",
   "execution_count": 106,
   "id": "5679b10a",
   "metadata": {},
   "outputs": [],
   "source": [
    "outliers = trees[(trees['Height In Metres'] < Q1 - 1.5 * IQR) | (trees['Height In Metres'] > Q3 + 1.5 * IQR)]"
   ]
  },
  {
   "cell_type": "code",
   "execution_count": 107,
   "id": "90dbb755",
   "metadata": {},
   "outputs": [
    {
     "data": {
      "text/html": [
       "<div>\n",
       "<style scoped>\n",
       "    .dataframe tbody tr th:only-of-type {\n",
       "        vertical-align: middle;\n",
       "    }\n",
       "\n",
       "    .dataframe tbody tr th {\n",
       "        vertical-align: top;\n",
       "    }\n",
       "\n",
       "    .dataframe thead th {\n",
       "        text-align: right;\n",
       "    }\n",
       "</style>\n",
       "<table border=\"1\" class=\"dataframe\">\n",
       "  <thead>\n",
       "    <tr style=\"text-align: right;\">\n",
       "      <th></th>\n",
       "      <th>Height In Metres</th>\n",
       "    </tr>\n",
       "  </thead>\n",
       "  <tbody>\n",
       "    <tr>\n",
       "      <th>547</th>\n",
       "      <td>38.0</td>\n",
       "    </tr>\n",
       "    <tr>\n",
       "      <th>830</th>\n",
       "      <td>34.0</td>\n",
       "    </tr>\n",
       "    <tr>\n",
       "      <th>920</th>\n",
       "      <td>38.0</td>\n",
       "    </tr>\n",
       "    <tr>\n",
       "      <th>1193</th>\n",
       "      <td>36.0</td>\n",
       "    </tr>\n",
       "    <tr>\n",
       "      <th>1213</th>\n",
       "      <td>31.0</td>\n",
       "    </tr>\n",
       "    <tr>\n",
       "      <th>...</th>\n",
       "      <td>...</td>\n",
       "    </tr>\n",
       "    <tr>\n",
       "      <th>22686</th>\n",
       "      <td>32.0</td>\n",
       "    </tr>\n",
       "    <tr>\n",
       "      <th>22701</th>\n",
       "      <td>33.0</td>\n",
       "    </tr>\n",
       "    <tr>\n",
       "      <th>22901</th>\n",
       "      <td>33.0</td>\n",
       "    </tr>\n",
       "    <tr>\n",
       "      <th>23007</th>\n",
       "      <td>35.0</td>\n",
       "    </tr>\n",
       "    <tr>\n",
       "      <th>23147</th>\n",
       "      <td>31.0</td>\n",
       "    </tr>\n",
       "  </tbody>\n",
       "</table>\n",
       "<p>91 rows × 1 columns</p>\n",
       "</div>"
      ],
      "text/plain": [
       "       Height In Metres\n",
       "547                38.0\n",
       "830                34.0\n",
       "920                38.0\n",
       "1193               36.0\n",
       "1213               31.0\n",
       "...                 ...\n",
       "22686              32.0\n",
       "22701              33.0\n",
       "22901              33.0\n",
       "23007              35.0\n",
       "23147              31.0\n",
       "\n",
       "[91 rows x 1 columns]"
      ]
     },
     "execution_count": 107,
     "metadata": {},
     "output_type": "execute_result"
    }
   ],
   "source": [
    "outlier_column = outliers[['Height In Metres']]\n",
    "outlier_column"
   ]
  },
  {
   "cell_type": "code",
   "execution_count": 108,
   "id": "12e32f2e",
   "metadata": {},
   "outputs": [],
   "source": [
    "# Then used IPython display to display the crazy outliers"
   ]
  },
  {
   "cell_type": "code",
   "execution_count": 109,
   "id": "22243bb6",
   "metadata": {},
   "outputs": [],
   "source": [
    "from IPython.display import display"
   ]
  },
  {
   "cell_type": "code",
   "execution_count": 110,
   "id": "edaeb6fa",
   "metadata": {},
   "outputs": [],
   "source": [
    "# I Identify the crazy outliers in the data set\n",
    "crazy_outliers = trees['Height In Metres'][(np.abs(zscore(trees['Height In Metres'])) > 3) & (trees['Height In Metres'] < Q1 - 3 * IQR) | (trees['Height In Metres'] > Q3 + 3 * IQR)]"
   ]
  },
  {
   "cell_type": "code",
   "execution_count": 111,
   "id": "7a614957-0a50-41f2-bebd-ca48e3660674",
   "metadata": {
    "scrolled": true
   },
   "outputs": [
    {
     "data": {
      "text/plain": [
       "1356     96.0\n",
       "1863    127.0\n",
       "Name: Height In Metres, dtype: float64"
      ]
     },
     "metadata": {},
     "output_type": "display_data"
    }
   ],
   "source": [
    "# Displaying the crazy outliers\n",
    "display(crazy_outliers)"
   ]
  },
  {
   "cell_type": "markdown",
   "id": "5c7553ca",
   "metadata": {},
   "source": [
    "# The same solution has been repeated for the Spread In Metres and Diameter In Centimetres At Breast Height columns"
   ]
  },
  {
   "cell_type": "markdown",
   "id": "c3e7ff2b-b69c-4095-a20d-bd6d2df1e68a",
   "metadata": {},
   "source": [
    "<hr/>"
   ]
  },
  {
   "cell_type": "markdown",
   "id": "f4d3025c-4a29-42e3-8821-8df2d8daa5e0",
   "metadata": {},
   "source": [
    "### 5.2 Outliers for Spread\n",
    "\n",
    "Now this part will repeat the analysis for spread."
   ]
  },
  {
   "cell_type": "code",
   "execution_count": 112,
   "id": "ce6760cf-78d0-465d-b4a3-f199596983fa",
   "metadata": {
    "scrolled": false
   },
   "outputs": [
    {
     "data": {
      "text/plain": [
       "<AxesSubplot:>"
      ]
     },
     "execution_count": 112,
     "metadata": {},
     "output_type": "execute_result"
    },
    {
     "data": {
      "image/png": "[encoded data removed]",
      "text/plain": [
       "<Figure size 432x288 with 1 Axes>"
      ]
     },
     "metadata": {
      "needs_background": "light"
     },
     "output_type": "display_data"
    }
   ],
   "source": [
    "# Using a boxplot to find the outliers\n",
    "\n",
    "trees.boxplot(column=['Spread In Metres'])"
   ]
  },
  {
   "cell_type": "code",
   "execution_count": 113,
   "id": "a7d57afe",
   "metadata": {},
   "outputs": [],
   "source": [
    "#Calculating the quartiles for this box plot (Q1 and Q3)\n",
    "Q1 = trees['Spread In Metres'].quantile(0.25)\n",
    "Q3 = trees['Spread In Metres'].quantile(0.75)"
   ]
  },
  {
   "cell_type": "code",
   "execution_count": 114,
   "id": "d869135c",
   "metadata": {},
   "outputs": [
    {
     "name": "stdout",
     "output_type": "stream",
     "text": [
      "3.0 8.0\n"
     ]
    }
   ],
   "source": [
    "print(Q1, Q3)"
   ]
  },
  {
   "cell_type": "code",
   "execution_count": 115,
   "id": "b6faf85b",
   "metadata": {},
   "outputs": [
    {
     "data": {
      "text/plain": [
       "5.0"
      ]
     },
     "execution_count": 115,
     "metadata": {},
     "output_type": "execute_result"
    }
   ],
   "source": [
    "# Using the formula to find the IQR.\n",
    "IQR = Q3 - Q1\n",
    "IQR"
   ]
  },
  {
   "cell_type": "code",
   "execution_count": 116,
   "id": "85789dde",
   "metadata": {},
   "outputs": [
    {
     "data": {
      "text/plain": [
       "(-4.5, 0.5)"
      ]
     },
     "execution_count": 116,
     "metadata": {},
     "output_type": "execute_result"
    }
   ],
   "source": [
    "#Finding the upper and lower limit for this bo plot\n",
    "l_limit = Q1 - 1.5*IQR\n",
    "u_limit = Q3 - 1.5*IQR\n",
    "\n",
    "l_limit, u_limit"
   ]
  },
  {
   "cell_type": "markdown",
   "id": "e45632aa",
   "metadata": {},
   "source": [
    "Then this solution came to me because there was only crazy outlier and as result the mask method was used to filter and find any values above 80. "
   ]
  },
  {
   "cell_type": "code",
   "execution_count": 117,
   "id": "3e082f20",
   "metadata": {},
   "outputs": [
    {
     "data": {
      "text/html": [
       "<div>\n",
       "<style scoped>\n",
       "    .dataframe tbody tr th:only-of-type {\n",
       "        vertical-align: middle;\n",
       "    }\n",
       "\n",
       "    .dataframe tbody tr th {\n",
       "        vertical-align: top;\n",
       "    }\n",
       "\n",
       "    .dataframe thead th {\n",
       "        text-align: right;\n",
       "    }\n",
       "</style>\n",
       "<table border=\"1\" class=\"dataframe\">\n",
       "  <thead>\n",
       "    <tr style=\"text-align: right;\">\n",
       "      <th></th>\n",
       "      <th>Identifier</th>\n",
       "      <th>Number Of Trees</th>\n",
       "      <th>Site Name</th>\n",
       "      <th>Contract Area</th>\n",
       "      <th>Scientific Name</th>\n",
       "      <th>Inspection Date</th>\n",
       "      <th>Inspection Due Date</th>\n",
       "      <th>Height In Metres</th>\n",
       "      <th>Spread In Metres</th>\n",
       "      <th>Diameter In Centimetres At Breast Height</th>\n",
       "      <th>Ward Code</th>\n",
       "      <th>Ward Name</th>\n",
       "      <th>Easting</th>\n",
       "      <th>Northing</th>\n",
       "      <th>Longitude</th>\n",
       "      <th>Latitude</th>\n",
       "      <th>Location</th>\n",
       "    </tr>\n",
       "  </thead>\n",
       "  <tbody>\n",
       "    <tr>\n",
       "      <th>18567</th>\n",
       "      <td>00045515</td>\n",
       "      <td>1.0</td>\n",
       "      <td>Broadfield Estate 1</td>\n",
       "      <td>Housing</td>\n",
       "      <td>Quercus robur</td>\n",
       "      <td>2018-04-26</td>\n",
       "      <td>2021/2022</td>\n",
       "      <td>8.0</td>\n",
       "      <td>88.0</td>\n",
       "      <td>17.0</td>\n",
       "      <td>E05000144</td>\n",
       "      <td>Swiss Cottage</td>\n",
       "      <td>525993.0</td>\n",
       "      <td>184693.0</td>\n",
       "      <td>-0.184348</td>\n",
       "      <td>51.547074</td>\n",
       "      <td>(51.547074, -0.184348)</td>\n",
       "    </tr>\n",
       "  </tbody>\n",
       "</table>\n",
       "</div>"
      ],
      "text/plain": [
       "      Identifier  Number Of Trees            Site Name Contract Area  \\\n",
       "18567   00045515              1.0  Broadfield Estate 1       Housing   \n",
       "\n",
       "      Scientific Name Inspection Date Inspection Due Date  Height In Metres  \\\n",
       "18567   Quercus robur      2018-04-26           2021/2022               8.0   \n",
       "\n",
       "       Spread In Metres  Diameter In Centimetres At Breast Height  Ward Code  \\\n",
       "18567              88.0                                      17.0  E05000144   \n",
       "\n",
       "           Ward Name   Easting  Northing  Longitude   Latitude  \\\n",
       "18567  Swiss Cottage  525993.0  184693.0  -0.184348  51.547074   \n",
       "\n",
       "                     Location  \n",
       "18567  (51.547074, -0.184348)  "
      ]
     },
     "execution_count": 117,
     "metadata": {},
     "output_type": "execute_result"
    }
   ],
   "source": [
    "mask = trees['Spread In Metres']>80\n",
    "trees[mask]"
   ]
  },
  {
   "cell_type": "markdown",
   "id": "70810045-0b5e-4dfe-bba1-fe6b0c2ea8d0",
   "metadata": {},
   "source": [
    "<hr/>"
   ]
  },
  {
   "cell_type": "markdown",
   "id": "cc0982a2-f528-49ee-ae07-6d611cb4c564",
   "metadata": {},
   "source": [
    "### 5.3 Outliers for Diameter\n",
    "Now repeat the analysis for diameter."
   ]
  },
  {
   "cell_type": "code",
   "execution_count": 118,
   "id": "5af04b28",
   "metadata": {},
   "outputs": [
    {
     "data": {
      "text/plain": [
       "<AxesSubplot:>"
      ]
     },
     "execution_count": 118,
     "metadata": {},
     "output_type": "execute_result"
    },
    {
     "data": {
      "image/png": "[encoded data removed]",
      "text/plain": [
       "<Figure size 432x288 with 1 Axes>"
      ]
     },
     "metadata": {
      "needs_background": "light"
     },
     "output_type": "display_data"
    }
   ],
   "source": [
    "# Creating  boxplot to find the outliers\n",
    "trees.boxplot(column=['Diameter In Centimetres At Breast Height']) "
   ]
  },
  {
   "cell_type": "code",
   "execution_count": 119,
   "id": "585ba44f",
   "metadata": {},
   "outputs": [
    {
     "data": {
      "text/plain": [
       "(12.0, 46.0)"
      ]
     },
     "execution_count": 119,
     "metadata": {},
     "output_type": "execute_result"
    }
   ],
   "source": [
    "# Finding the quartiles for this box plot\n",
    "\n",
    "Q1 = trees['Diameter In Centimetres At Breast Height'].quantile(0.25)\n",
    "Q3 = trees['Diameter In Centimetres At Breast Height'].quantile(0.75)\n",
    "Q1, Q3"
   ]
  },
  {
   "cell_type": "code",
   "execution_count": 120,
   "id": "36882918",
   "metadata": {},
   "outputs": [
    {
     "data": {
      "text/plain": [
       "34.0"
      ]
     },
     "execution_count": 120,
     "metadata": {},
     "output_type": "execute_result"
    }
   ],
   "source": [
    "# Finding the IQR\n",
    "IQR = Q3 - Q1\n",
    "IQR"
   ]
  },
  {
   "cell_type": "code",
   "execution_count": 121,
   "id": "a16ea467",
   "metadata": {},
   "outputs": [
    {
     "data": {
      "text/plain": [
       "(-39.0, -5.0)"
      ]
     },
     "execution_count": 121,
     "metadata": {},
     "output_type": "execute_result"
    }
   ],
   "source": [
    "# Finding the upper and lower limits\n",
    "l_limit = Q1 - 1.5*IQR\n",
    "u_limit = Q3 - 1.5*IQR\n",
    "\n",
    "l_limit, u_limit"
   ]
  },
  {
   "cell_type": "markdown",
   "id": "a964ac80",
   "metadata": {},
   "source": [
    "From here on, the same method for finding the crazy outlier was used as in the Height box plot; however, no crazy outliers were found. "
   ]
  },
  {
   "cell_type": "code",
   "execution_count": 122,
   "id": "967efc6b",
   "metadata": {},
   "outputs": [],
   "source": [
    "outliers = trees[(trees['Diameter In Centimetres At Breast Height'] < Q1 - 1.5 * IQR) | (trees['Diameter In Centimetres At Breast Height'] > Q3 + 1.5 * IQR)]"
   ]
  },
  {
   "cell_type": "code",
   "execution_count": 123,
   "id": "933b6548",
   "metadata": {},
   "outputs": [
    {
     "data": {
      "text/html": [
       "<div>\n",
       "<style scoped>\n",
       "    .dataframe tbody tr th:only-of-type {\n",
       "        vertical-align: middle;\n",
       "    }\n",
       "\n",
       "    .dataframe tbody tr th {\n",
       "        vertical-align: top;\n",
       "    }\n",
       "\n",
       "    .dataframe thead th {\n",
       "        text-align: right;\n",
       "    }\n",
       "</style>\n",
       "<table border=\"1\" class=\"dataframe\">\n",
       "  <thead>\n",
       "    <tr style=\"text-align: right;\">\n",
       "      <th></th>\n",
       "      <th>Diameter In Centimetres At Breast Height</th>\n",
       "    </tr>\n",
       "  </thead>\n",
       "  <tbody>\n",
       "    <tr>\n",
       "      <th>74</th>\n",
       "      <td>119.0</td>\n",
       "    </tr>\n",
       "    <tr>\n",
       "      <th>155</th>\n",
       "      <td>109.0</td>\n",
       "    </tr>\n",
       "    <tr>\n",
       "      <th>169</th>\n",
       "      <td>106.0</td>\n",
       "    </tr>\n",
       "    <tr>\n",
       "      <th>227</th>\n",
       "      <td>117.0</td>\n",
       "    </tr>\n",
       "    <tr>\n",
       "      <th>245</th>\n",
       "      <td>114.0</td>\n",
       "    </tr>\n",
       "    <tr>\n",
       "      <th>...</th>\n",
       "      <td>...</td>\n",
       "    </tr>\n",
       "    <tr>\n",
       "      <th>23130</th>\n",
       "      <td>101.0</td>\n",
       "    </tr>\n",
       "    <tr>\n",
       "      <th>23147</th>\n",
       "      <td>170.0</td>\n",
       "    </tr>\n",
       "    <tr>\n",
       "      <th>23183</th>\n",
       "      <td>110.0</td>\n",
       "    </tr>\n",
       "    <tr>\n",
       "      <th>23373</th>\n",
       "      <td>99.0</td>\n",
       "    </tr>\n",
       "    <tr>\n",
       "      <th>23383</th>\n",
       "      <td>99.0</td>\n",
       "    </tr>\n",
       "  </tbody>\n",
       "</table>\n",
       "<p>572 rows × 1 columns</p>\n",
       "</div>"
      ],
      "text/plain": [
       "       Diameter In Centimetres At Breast Height\n",
       "74                                        119.0\n",
       "155                                       109.0\n",
       "169                                       106.0\n",
       "227                                       117.0\n",
       "245                                       114.0\n",
       "...                                         ...\n",
       "23130                                     101.0\n",
       "23147                                     170.0\n",
       "23183                                     110.0\n",
       "23373                                      99.0\n",
       "23383                                      99.0\n",
       "\n",
       "[572 rows x 1 columns]"
      ]
     },
     "execution_count": 123,
     "metadata": {},
     "output_type": "execute_result"
    }
   ],
   "source": [
    "outlier_column = outliers[['Diameter In Centimetres At Breast Height']]\n",
    "outlier_column"
   ]
  },
  {
   "cell_type": "code",
   "execution_count": 124,
   "id": "a23f94be",
   "metadata": {},
   "outputs": [],
   "source": [
    "from IPython.display import display"
   ]
  },
  {
   "cell_type": "code",
   "execution_count": 125,
   "id": "588f60ae",
   "metadata": {},
   "outputs": [],
   "source": [
    "# I Identify the crazy outliers in the data set\n",
    "crazy_outliers = trees['Diameter In Centimetres At Breast Height'][(np.abs(zscore(trees['Diameter In Centimetres At Breast Height'])) > 3) & (trees['Diameter In Centimetres At Breast Height'] < Q1 - 3 * IQR) | (trees['Diameter In Centimetres At Breast Height'] > Q3 + 3 * IQR)]"
   ]
  },
  {
   "cell_type": "code",
   "execution_count": 126,
   "id": "6299642f-bf98-43da-a7bc-2880c88c002e",
   "metadata": {},
   "outputs": [
    {
     "data": {
      "text/plain": [
       "347      163.0\n",
       "547      161.0\n",
       "817      160.0\n",
       "1157     228.0\n",
       "1213     170.0\n",
       "         ...  \n",
       "22248    157.0\n",
       "22477    165.0\n",
       "22684    153.0\n",
       "22781    185.0\n",
       "23147    170.0\n",
       "Name: Diameter In Centimetres At Breast Height, Length: 62, dtype: float64"
      ]
     },
     "metadata": {},
     "output_type": "display_data"
    }
   ],
   "source": [
    "# Selecting the outlier rows (if any)\n",
    "# Displaying the crazy outliers\n",
    "display(crazy_outliers)"
   ]
  },
  {
   "cell_type": "markdown",
   "id": "19fb2357-f25f-4840-b4a7-5a016256ff28",
   "metadata": {},
   "source": [
    "### 5.4 Observations"
   ]
  },
  {
   "cell_type": "markdown",
   "id": "12f67262-3fe4-4238-8e6f-e04382b8594d",
   "metadata": {},
   "source": [
    "# The main objective in this task is to find the crazy outliers for Height, Spread and Diametre for the trees, through the use of the interquartile range (IQR) method. Then displaying the crazy outliers there were two outliers found in the Height in Metres column (96 , 127), one in the Spread in Metres column (88), and 0 in the Diameter In Centimetres At Breast Height column."
   ]
  },
  {
   "cell_type": "markdown",
   "id": "bd36393a-8904-4be8-affe-1a99e5d4e69f",
   "metadata": {},
   "source": [
    "<hr/>"
   ]
  },
  {
   "cell_type": "markdown",
   "id": "a433b035-abc4-4ce2-b86e-484e698bd941",
   "metadata": {},
   "source": [
    "## Task 6: Identify Duplicates in the Trees Dataset\n",
    "\n",
    "Sometimes data has duplicate entries.  This is another sign of data quality issues!\n",
    "\n",
    "### 6.1 Find Duplicate Rows\n",
    "\n",
    "In our dataset the `Identifier` column should be unique.  Find out if it is!  We've already used a function that can count how many times each value in a column exists.  Use is to see if we have duplicates in the trees' Dataframe.\n"
   ]
  },
  {
   "cell_type": "markdown",
   "id": "9d0eb987",
   "metadata": {},
   "source": [
    "Here  the duplicated values for the Identifier column have been found and counted them.\n",
    "After that the sum of the duplicates has been found and then removed them with the .loc idea from this video https://openclassrooms.com/en/courses/1730411-use-python-libraries-for-data-science/5789155-apply-relational-algebra-operations-on-dataframes"
   ]
  },
  {
   "cell_type": "code",
   "execution_count": 127,
   "id": "5eea9f21",
   "metadata": {},
   "outputs": [
    {
     "data": {
      "text/plain": [
       "0        False\n",
       "1        False\n",
       "2        False\n",
       "3        False\n",
       "4        False\n",
       "         ...  \n",
       "23439    False\n",
       "23440    False\n",
       "23441    False\n",
       "23442    False\n",
       "23443    False\n",
       "Length: 23444, dtype: bool"
      ]
     },
     "execution_count": 127,
     "metadata": {},
     "output_type": "execute_result"
    }
   ],
   "source": [
    "trees.duplicated(\"Identifier\")"
   ]
  },
  {
   "cell_type": "code",
   "execution_count": 128,
   "id": "a4a4b6f1",
   "metadata": {},
   "outputs": [
    {
     "data": {
      "text/plain": [
       "False    23438\n",
       "True         6\n",
       "dtype: int64"
      ]
     },
     "execution_count": 128,
     "metadata": {},
     "output_type": "execute_result"
    }
   ],
   "source": [
    "trees.duplicated(\"Identifier\").value_counts()"
   ]
  },
  {
   "cell_type": "code",
   "execution_count": 129,
   "id": "bea2d20e",
   "metadata": {},
   "outputs": [
    {
     "data": {
      "text/plain": [
       "6"
      ]
     },
     "execution_count": 129,
     "metadata": {},
     "output_type": "execute_result"
    }
   ],
   "source": [
    "# I find out if we have any duplicates\n",
    "\n",
    "trees.duplicated(\"Identifier\").sum()"
   ]
  },
  {
   "cell_type": "code",
   "execution_count": 130,
   "id": "d84bc1f9",
   "metadata": {},
   "outputs": [
    {
     "data": {
      "text/plain": [
       "0        False\n",
       "1        False\n",
       "2        False\n",
       "3        False\n",
       "4        False\n",
       "         ...  \n",
       "23439    False\n",
       "23440    False\n",
       "23441    False\n",
       "23442    False\n",
       "23443    False\n",
       "Length: 23444, dtype: bool"
      ]
     },
     "execution_count": 130,
     "metadata": {},
     "output_type": "execute_result"
    }
   ],
   "source": [
    "trees.duplicated(keep=False)"
   ]
  },
  {
   "cell_type": "markdown",
   "id": "787be537-4f13-466e-9a65-108d93563fc8",
   "metadata": {},
   "source": [
    "Now see if you can select the rows from trees DataFrame that are duplicates.  You will need to use the output from the cell above and use it to filter the trees dataframe."
   ]
  },
  {
   "cell_type": "code",
   "execution_count": 131,
   "id": "3d2fbdbf-c839-4e84-ad7c-add0f4fa31ef",
   "metadata": {
    "scrolled": true
   },
   "outputs": [
    {
     "name": "stdout",
     "output_type": "stream",
     "text": [
      "Empty DataFrame\n",
      "Columns: [Identifier, Number Of Trees, Site Name, Contract Area, Scientific Name, Inspection Date, Inspection Due Date, Height In Metres, Spread In Metres, Diameter In Centimetres At Breast Height, Ward Code, Ward Name, Easting, Northing, Longitude, Latitude, Location]\n",
      "Index: []\n"
     ]
    }
   ],
   "source": [
    "# Selecting the rows that are duplicated for completeness.\n",
    "duplicate_rows = trees[trees.duplicated(subset='Identifier',keep=False) >1 ]\n",
    "print(duplicate_rows)\n",
    "\n",
    "# The .loc idea came from this video https://openclassrooms.com/en/courses/1730411-use-python-libraries-for-data-science/5789155-apply-relational-algebra-operations-on-dataframes"
   ]
  },
  {
   "cell_type": "code",
   "execution_count": 132,
   "id": "c698116d",
   "metadata": {
    "scrolled": true
   },
   "outputs": [
    {
     "data": {
      "text/html": [
       "<div>\n",
       "<style scoped>\n",
       "    .dataframe tbody tr th:only-of-type {\n",
       "        vertical-align: middle;\n",
       "    }\n",
       "\n",
       "    .dataframe tbody tr th {\n",
       "        vertical-align: top;\n",
       "    }\n",
       "\n",
       "    .dataframe thead th {\n",
       "        text-align: right;\n",
       "    }\n",
       "</style>\n",
       "<table border=\"1\" class=\"dataframe\">\n",
       "  <thead>\n",
       "    <tr style=\"text-align: right;\">\n",
       "      <th></th>\n",
       "      <th>Identifier</th>\n",
       "      <th>Number Of Trees</th>\n",
       "      <th>Site Name</th>\n",
       "      <th>Contract Area</th>\n",
       "      <th>Scientific Name</th>\n",
       "      <th>Inspection Date</th>\n",
       "      <th>Inspection Due Date</th>\n",
       "      <th>Height In Metres</th>\n",
       "      <th>Spread In Metres</th>\n",
       "      <th>Diameter In Centimetres At Breast Height</th>\n",
       "      <th>Ward Code</th>\n",
       "      <th>Ward Name</th>\n",
       "      <th>Easting</th>\n",
       "      <th>Northing</th>\n",
       "      <th>Longitude</th>\n",
       "      <th>Latitude</th>\n",
       "      <th>Location</th>\n",
       "    </tr>\n",
       "  </thead>\n",
       "  <tbody>\n",
       "    <tr>\n",
       "      <th>4388</th>\n",
       "      <td>00032549</td>\n",
       "      <td>1.0</td>\n",
       "      <td>NARCISSUS ROAD</td>\n",
       "      <td>Highways</td>\n",
       "      <td>Betula albosinensis Fasc.</td>\n",
       "      <td>2018-09-19</td>\n",
       "      <td>2021/2022</td>\n",
       "      <td>9.0</td>\n",
       "      <td>6.0</td>\n",
       "      <td>19.0</td>\n",
       "      <td>E05000145</td>\n",
       "      <td>West Hampstead</td>\n",
       "      <td>525185.0</td>\n",
       "      <td>185127.0</td>\n",
       "      <td>-0.195840</td>\n",
       "      <td>51.551159</td>\n",
       "      <td>(51.551159, -0.19584)</td>\n",
       "    </tr>\n",
       "    <tr>\n",
       "      <th>5491</th>\n",
       "      <td>00000999</td>\n",
       "      <td>1.0</td>\n",
       "      <td>ALMA STREET</td>\n",
       "      <td>Highways</td>\n",
       "      <td>Sorbus hupehensis</td>\n",
       "      <td>2017-07-25</td>\n",
       "      <td>2020/2021</td>\n",
       "      <td>5.0</td>\n",
       "      <td>4.0</td>\n",
       "      <td>18.0</td>\n",
       "      <td>E05000139</td>\n",
       "      <td>Kentish Town</td>\n",
       "      <td>528834.0</td>\n",
       "      <td>184856.0</td>\n",
       "      <td>-0.143337</td>\n",
       "      <td>51.547904</td>\n",
       "      <td>(51.547904, -0.143337)</td>\n",
       "    </tr>\n",
       "    <tr>\n",
       "      <th>6111</th>\n",
       "      <td>00032549</td>\n",
       "      <td>1.0</td>\n",
       "      <td>NARCISSUS ROAD</td>\n",
       "      <td>Highways</td>\n",
       "      <td>Betula albosinensis Fasc.</td>\n",
       "      <td>2018-09-19</td>\n",
       "      <td>2021/2022</td>\n",
       "      <td>9.0</td>\n",
       "      <td>6.0</td>\n",
       "      <td>19.0</td>\n",
       "      <td>E05000145</td>\n",
       "      <td>West Hampstead</td>\n",
       "      <td>525185.0</td>\n",
       "      <td>185127.0</td>\n",
       "      <td>-0.195840</td>\n",
       "      <td>51.551159</td>\n",
       "      <td>(51.551159, -0.19584)</td>\n",
       "    </tr>\n",
       "    <tr>\n",
       "      <th>7027</th>\n",
       "      <td>00022744</td>\n",
       "      <td>1.0</td>\n",
       "      <td>YORK WAY</td>\n",
       "      <td>Highways</td>\n",
       "      <td>Ailanthus altissima</td>\n",
       "      <td>2019-10-30</td>\n",
       "      <td>2022/2023</td>\n",
       "      <td>7.5</td>\n",
       "      <td>3.0</td>\n",
       "      <td>18.0</td>\n",
       "      <td>E05000131</td>\n",
       "      <td>Cantelowes</td>\n",
       "      <td>529983.0</td>\n",
       "      <td>184724.0</td>\n",
       "      <td>-0.126837</td>\n",
       "      <td>51.546447</td>\n",
       "      <td>(51.546447, -0.126837)</td>\n",
       "    </tr>\n",
       "    <tr>\n",
       "      <th>9186</th>\n",
       "      <td>00022744</td>\n",
       "      <td>1.0</td>\n",
       "      <td>YORK WAY</td>\n",
       "      <td>Highways</td>\n",
       "      <td>Ailanthus altissima</td>\n",
       "      <td>2019-10-30</td>\n",
       "      <td>2022/2023</td>\n",
       "      <td>7.5</td>\n",
       "      <td>3.0</td>\n",
       "      <td>18.0</td>\n",
       "      <td>E05000131</td>\n",
       "      <td>Cantelowes</td>\n",
       "      <td>529983.0</td>\n",
       "      <td>184724.0</td>\n",
       "      <td>-0.126837</td>\n",
       "      <td>51.546447</td>\n",
       "      <td>(51.546447, -0.126837)</td>\n",
       "    </tr>\n",
       "    <tr>\n",
       "      <th>9482</th>\n",
       "      <td>00022674</td>\n",
       "      <td>1.0</td>\n",
       "      <td>WOODSOME ROAD</td>\n",
       "      <td>Highways</td>\n",
       "      <td>Sorbus</td>\n",
       "      <td>2017-10-07</td>\n",
       "      <td>2020/2021</td>\n",
       "      <td>7.0</td>\n",
       "      <td>6.0</td>\n",
       "      <td>28.0</td>\n",
       "      <td>E05000137</td>\n",
       "      <td>Highgate</td>\n",
       "      <td>528515.0</td>\n",
       "      <td>186109.0</td>\n",
       "      <td>-0.147481</td>\n",
       "      <td>51.559237</td>\n",
       "      <td>(51.559237, -0.147481)</td>\n",
       "    </tr>\n",
       "    <tr>\n",
       "      <th>13098</th>\n",
       "      <td>00000999</td>\n",
       "      <td>1.0</td>\n",
       "      <td>ALMA STREET</td>\n",
       "      <td>Highways</td>\n",
       "      <td>Sorbus hupehensis</td>\n",
       "      <td>2017-07-25</td>\n",
       "      <td>2020/2021</td>\n",
       "      <td>5.0</td>\n",
       "      <td>4.0</td>\n",
       "      <td>18.0</td>\n",
       "      <td>E05000139</td>\n",
       "      <td>Kentish Town</td>\n",
       "      <td>528834.0</td>\n",
       "      <td>184856.0</td>\n",
       "      <td>-0.143337</td>\n",
       "      <td>51.547904</td>\n",
       "      <td>(51.547904, -0.143337)</td>\n",
       "    </tr>\n",
       "    <tr>\n",
       "      <th>13628</th>\n",
       "      <td>00022674</td>\n",
       "      <td>1.0</td>\n",
       "      <td>WOODSOME ROAD</td>\n",
       "      <td>Highways</td>\n",
       "      <td>Sorbus</td>\n",
       "      <td>2017-10-07</td>\n",
       "      <td>2020/2021</td>\n",
       "      <td>7.0</td>\n",
       "      <td>6.0</td>\n",
       "      <td>28.0</td>\n",
       "      <td>E05000137</td>\n",
       "      <td>Highgate</td>\n",
       "      <td>528515.0</td>\n",
       "      <td>186109.0</td>\n",
       "      <td>-0.147481</td>\n",
       "      <td>51.559237</td>\n",
       "      <td>(51.559237, -0.147481)</td>\n",
       "    </tr>\n",
       "  </tbody>\n",
       "</table>\n",
       "</div>"
      ],
      "text/plain": [
       "      Identifier  Number Of Trees       Site Name Contract Area  \\\n",
       "4388    00032549              1.0  NARCISSUS ROAD      Highways   \n",
       "5491    00000999              1.0     ALMA STREET      Highways   \n",
       "6111    00032549              1.0  NARCISSUS ROAD      Highways   \n",
       "7027    00022744              1.0        YORK WAY      Highways   \n",
       "9186    00022744              1.0        YORK WAY      Highways   \n",
       "9482    00022674              1.0   WOODSOME ROAD      Highways   \n",
       "13098   00000999              1.0     ALMA STREET      Highways   \n",
       "13628   00022674              1.0   WOODSOME ROAD      Highways   \n",
       "\n",
       "                 Scientific Name Inspection Date Inspection Due Date  \\\n",
       "4388   Betula albosinensis Fasc.      2018-09-19           2021/2022   \n",
       "5491           Sorbus hupehensis      2017-07-25           2020/2021   \n",
       "6111   Betula albosinensis Fasc.      2018-09-19           2021/2022   \n",
       "7027         Ailanthus altissima      2019-10-30           2022/2023   \n",
       "9186         Ailanthus altissima      2019-10-30           2022/2023   \n",
       "9482                      Sorbus      2017-10-07           2020/2021   \n",
       "13098          Sorbus hupehensis      2017-07-25           2020/2021   \n",
       "13628                     Sorbus      2017-10-07           2020/2021   \n",
       "\n",
       "       Height In Metres  Spread In Metres  \\\n",
       "4388                9.0               6.0   \n",
       "5491                5.0               4.0   \n",
       "6111                9.0               6.0   \n",
       "7027                7.5               3.0   \n",
       "9186                7.5               3.0   \n",
       "9482                7.0               6.0   \n",
       "13098               5.0               4.0   \n",
       "13628               7.0               6.0   \n",
       "\n",
       "       Diameter In Centimetres At Breast Height  Ward Code       Ward Name  \\\n",
       "4388                                       19.0  E05000145  West Hampstead   \n",
       "5491                                       18.0  E05000139    Kentish Town   \n",
       "6111                                       19.0  E05000145  West Hampstead   \n",
       "7027                                       18.0  E05000131      Cantelowes   \n",
       "9186                                       18.0  E05000131      Cantelowes   \n",
       "9482                                       28.0  E05000137        Highgate   \n",
       "13098                                      18.0  E05000139    Kentish Town   \n",
       "13628                                      28.0  E05000137        Highgate   \n",
       "\n",
       "        Easting  Northing  Longitude   Latitude                Location  \n",
       "4388   525185.0  185127.0  -0.195840  51.551159   (51.551159, -0.19584)  \n",
       "5491   528834.0  184856.0  -0.143337  51.547904  (51.547904, -0.143337)  \n",
       "6111   525185.0  185127.0  -0.195840  51.551159   (51.551159, -0.19584)  \n",
       "7027   529983.0  184724.0  -0.126837  51.546447  (51.546447, -0.126837)  \n",
       "9186   529983.0  184724.0  -0.126837  51.546447  (51.546447, -0.126837)  \n",
       "9482   528515.0  186109.0  -0.147481  51.559237  (51.559237, -0.147481)  \n",
       "13098  528834.0  184856.0  -0.143337  51.547904  (51.547904, -0.143337)  \n",
       "13628  528515.0  186109.0  -0.147481  51.559237  (51.559237, -0.147481)  "
      ]
     },
     "execution_count": 132,
     "metadata": {},
     "output_type": "execute_result"
    }
   ],
   "source": [
    "trees.loc[trees.duplicated(keep=False)]"
   ]
  },
  {
   "cell_type": "markdown",
   "id": "0803aa0c",
   "metadata": {},
   "source": [
    "Unfortunately the method above wasn't enough to find all duplicate values. So, the boolean mask from the previous step was used in order to find all duplicate values."
   ]
  },
  {
   "cell_type": "code",
   "execution_count": 133,
   "id": "111aaee7",
   "metadata": {},
   "outputs": [],
   "source": [
    "duplicate_rows = trees[trees.duplicated(subset='Identifier', keep=False)].reset_index(drop=True)\n"
   ]
  },
  {
   "cell_type": "code",
   "execution_count": 134,
   "id": "cd24ef2f",
   "metadata": {
    "scrolled": true
   },
   "outputs": [
    {
     "data": {
      "text/html": [
       "<div>\n",
       "<style scoped>\n",
       "    .dataframe tbody tr th:only-of-type {\n",
       "        vertical-align: middle;\n",
       "    }\n",
       "\n",
       "    .dataframe tbody tr th {\n",
       "        vertical-align: top;\n",
       "    }\n",
       "\n",
       "    .dataframe thead th {\n",
       "        text-align: right;\n",
       "    }\n",
       "</style>\n",
       "<table border=\"1\" class=\"dataframe\">\n",
       "  <thead>\n",
       "    <tr style=\"text-align: right;\">\n",
       "      <th></th>\n",
       "      <th>Identifier</th>\n",
       "      <th>Number Of Trees</th>\n",
       "      <th>Site Name</th>\n",
       "      <th>Contract Area</th>\n",
       "      <th>Scientific Name</th>\n",
       "      <th>Inspection Date</th>\n",
       "      <th>Inspection Due Date</th>\n",
       "      <th>Height In Metres</th>\n",
       "      <th>Spread In Metres</th>\n",
       "      <th>Diameter In Centimetres At Breast Height</th>\n",
       "      <th>Ward Code</th>\n",
       "      <th>Ward Name</th>\n",
       "      <th>Easting</th>\n",
       "      <th>Northing</th>\n",
       "      <th>Longitude</th>\n",
       "      <th>Latitude</th>\n",
       "      <th>Location</th>\n",
       "    </tr>\n",
       "  </thead>\n",
       "  <tbody>\n",
       "    <tr>\n",
       "      <th>0</th>\n",
       "      <td>00060088</td>\n",
       "      <td>1.0</td>\n",
       "      <td>FREDERICK STREET</td>\n",
       "      <td>Highways</td>\n",
       "      <td>Vacant Tree Pit (planned: Access)</td>\n",
       "      <td>2019-11-09</td>\n",
       "      <td>2022/2023</td>\n",
       "      <td>NaN</td>\n",
       "      <td>NaN</td>\n",
       "      <td>NaN</td>\n",
       "      <td>E05000141</td>\n",
       "      <td>King's Cross</td>\n",
       "      <td>530770.0</td>\n",
       "      <td>182696.0</td>\n",
       "      <td>-0.116241</td>\n",
       "      <td>51.528046</td>\n",
       "      <td>(51.528046, -0.116241)</td>\n",
       "    </tr>\n",
       "    <tr>\n",
       "      <th>1</th>\n",
       "      <td>00032549</td>\n",
       "      <td>1.0</td>\n",
       "      <td>NARCISSUS ROAD</td>\n",
       "      <td>Highways</td>\n",
       "      <td>Betula albosinensis Fasc.</td>\n",
       "      <td>2018-09-19</td>\n",
       "      <td>2021/2022</td>\n",
       "      <td>9.0</td>\n",
       "      <td>6.0</td>\n",
       "      <td>19.0</td>\n",
       "      <td>E05000145</td>\n",
       "      <td>West Hampstead</td>\n",
       "      <td>525185.0</td>\n",
       "      <td>185127.0</td>\n",
       "      <td>-0.195840</td>\n",
       "      <td>51.551159</td>\n",
       "      <td>(51.551159, -0.19584)</td>\n",
       "    </tr>\n",
       "    <tr>\n",
       "      <th>2</th>\n",
       "      <td>00000999</td>\n",
       "      <td>1.0</td>\n",
       "      <td>ALMA STREET</td>\n",
       "      <td>Highways</td>\n",
       "      <td>Sorbus hupehensis</td>\n",
       "      <td>2017-07-25</td>\n",
       "      <td>2020/2021</td>\n",
       "      <td>5.0</td>\n",
       "      <td>4.0</td>\n",
       "      <td>18.0</td>\n",
       "      <td>E05000139</td>\n",
       "      <td>Kentish Town</td>\n",
       "      <td>528834.0</td>\n",
       "      <td>184856.0</td>\n",
       "      <td>-0.143337</td>\n",
       "      <td>51.547904</td>\n",
       "      <td>(51.547904, -0.143337)</td>\n",
       "    </tr>\n",
       "    <tr>\n",
       "      <th>3</th>\n",
       "      <td>00032549</td>\n",
       "      <td>1.0</td>\n",
       "      <td>NARCISSUS ROAD</td>\n",
       "      <td>Highways</td>\n",
       "      <td>Betula albosinensis Fasc.</td>\n",
       "      <td>2018-09-19</td>\n",
       "      <td>2021/2022</td>\n",
       "      <td>9.0</td>\n",
       "      <td>6.0</td>\n",
       "      <td>19.0</td>\n",
       "      <td>E05000145</td>\n",
       "      <td>West Hampstead</td>\n",
       "      <td>525185.0</td>\n",
       "      <td>185127.0</td>\n",
       "      <td>-0.195840</td>\n",
       "      <td>51.551159</td>\n",
       "      <td>(51.551159, -0.19584)</td>\n",
       "    </tr>\n",
       "    <tr>\n",
       "      <th>4</th>\n",
       "      <td>00022744</td>\n",
       "      <td>1.0</td>\n",
       "      <td>YORK WAY</td>\n",
       "      <td>Highways</td>\n",
       "      <td>Ailanthus altissima</td>\n",
       "      <td>2019-10-30</td>\n",
       "      <td>2022/2023</td>\n",
       "      <td>7.5</td>\n",
       "      <td>3.0</td>\n",
       "      <td>18.0</td>\n",
       "      <td>E05000131</td>\n",
       "      <td>Cantelowes</td>\n",
       "      <td>529983.0</td>\n",
       "      <td>184724.0</td>\n",
       "      <td>-0.126837</td>\n",
       "      <td>51.546447</td>\n",
       "      <td>(51.546447, -0.126837)</td>\n",
       "    </tr>\n",
       "    <tr>\n",
       "      <th>5</th>\n",
       "      <td>00022744</td>\n",
       "      <td>1.0</td>\n",
       "      <td>YORK WAY</td>\n",
       "      <td>Highways</td>\n",
       "      <td>Ailanthus altissima</td>\n",
       "      <td>2019-10-30</td>\n",
       "      <td>2022/2023</td>\n",
       "      <td>7.5</td>\n",
       "      <td>3.0</td>\n",
       "      <td>18.0</td>\n",
       "      <td>E05000131</td>\n",
       "      <td>Cantelowes</td>\n",
       "      <td>529983.0</td>\n",
       "      <td>184724.0</td>\n",
       "      <td>-0.126837</td>\n",
       "      <td>51.546447</td>\n",
       "      <td>(51.546447, -0.126837)</td>\n",
       "    </tr>\n",
       "    <tr>\n",
       "      <th>6</th>\n",
       "      <td>00022674</td>\n",
       "      <td>1.0</td>\n",
       "      <td>WOODSOME ROAD</td>\n",
       "      <td>Highways</td>\n",
       "      <td>Sorbus</td>\n",
       "      <td>2017-10-07</td>\n",
       "      <td>2020/2021</td>\n",
       "      <td>7.0</td>\n",
       "      <td>6.0</td>\n",
       "      <td>28.0</td>\n",
       "      <td>E05000137</td>\n",
       "      <td>Highgate</td>\n",
       "      <td>528515.0</td>\n",
       "      <td>186109.0</td>\n",
       "      <td>-0.147481</td>\n",
       "      <td>51.559237</td>\n",
       "      <td>(51.559237, -0.147481)</td>\n",
       "    </tr>\n",
       "    <tr>\n",
       "      <th>7</th>\n",
       "      <td>00060088</td>\n",
       "      <td>1.0</td>\n",
       "      <td>FREDERICK STREET</td>\n",
       "      <td>Highways</td>\n",
       "      <td>Vacant Tree Pit (planned: Acer campestre eco s...</td>\n",
       "      <td>2019-11-09</td>\n",
       "      <td>2022/2023</td>\n",
       "      <td>NaN</td>\n",
       "      <td>NaN</td>\n",
       "      <td>NaN</td>\n",
       "      <td>E05000141</td>\n",
       "      <td>King's Cross</td>\n",
       "      <td>530770.0</td>\n",
       "      <td>182696.0</td>\n",
       "      <td>-0.116241</td>\n",
       "      <td>51.528046</td>\n",
       "      <td>(51.528046, -0.116241)</td>\n",
       "    </tr>\n",
       "    <tr>\n",
       "      <th>8</th>\n",
       "      <td>00000999</td>\n",
       "      <td>1.0</td>\n",
       "      <td>ALMA STREET</td>\n",
       "      <td>Highways</td>\n",
       "      <td>Sorbus hupehensis</td>\n",
       "      <td>2017-07-25</td>\n",
       "      <td>2020/2021</td>\n",
       "      <td>5.0</td>\n",
       "      <td>4.0</td>\n",
       "      <td>18.0</td>\n",
       "      <td>E05000139</td>\n",
       "      <td>Kentish Town</td>\n",
       "      <td>528834.0</td>\n",
       "      <td>184856.0</td>\n",
       "      <td>-0.143337</td>\n",
       "      <td>51.547904</td>\n",
       "      <td>(51.547904, -0.143337)</td>\n",
       "    </tr>\n",
       "    <tr>\n",
       "      <th>9</th>\n",
       "      <td>00022674</td>\n",
       "      <td>1.0</td>\n",
       "      <td>WOODSOME ROAD</td>\n",
       "      <td>Highways</td>\n",
       "      <td>Sorbus</td>\n",
       "      <td>2017-10-07</td>\n",
       "      <td>2020/2021</td>\n",
       "      <td>7.0</td>\n",
       "      <td>6.0</td>\n",
       "      <td>28.0</td>\n",
       "      <td>E05000137</td>\n",
       "      <td>Highgate</td>\n",
       "      <td>528515.0</td>\n",
       "      <td>186109.0</td>\n",
       "      <td>-0.147481</td>\n",
       "      <td>51.559237</td>\n",
       "      <td>(51.559237, -0.147481)</td>\n",
       "    </tr>\n",
       "    <tr>\n",
       "      <th>10</th>\n",
       "      <td>00060087</td>\n",
       "      <td>1.0</td>\n",
       "      <td>ARGYLE SQUARE</td>\n",
       "      <td>Highways</td>\n",
       "      <td>Vacant Tree Pit (planned: Access)</td>\n",
       "      <td>2019-11-09</td>\n",
       "      <td>2022/2023</td>\n",
       "      <td>NaN</td>\n",
       "      <td>NaN</td>\n",
       "      <td>NaN</td>\n",
       "      <td>E05000141</td>\n",
       "      <td>King's Cross</td>\n",
       "      <td>530342.0</td>\n",
       "      <td>182839.0</td>\n",
       "      <td>-0.122352</td>\n",
       "      <td>51.529428</td>\n",
       "      <td>(51.529428, -0.122352)</td>\n",
       "    </tr>\n",
       "    <tr>\n",
       "      <th>11</th>\n",
       "      <td>00060087</td>\n",
       "      <td>1.0</td>\n",
       "      <td>ARGYLE SQUARE</td>\n",
       "      <td>Highways</td>\n",
       "      <td>Vacant Tree Pit (planned: Acer campestre eco s...</td>\n",
       "      <td>2019-11-09</td>\n",
       "      <td>2022/2023</td>\n",
       "      <td>NaN</td>\n",
       "      <td>NaN</td>\n",
       "      <td>NaN</td>\n",
       "      <td>E05000141</td>\n",
       "      <td>King's Cross</td>\n",
       "      <td>530342.0</td>\n",
       "      <td>182839.0</td>\n",
       "      <td>-0.122352</td>\n",
       "      <td>51.529428</td>\n",
       "      <td>(51.529428, -0.122352)</td>\n",
       "    </tr>\n",
       "  </tbody>\n",
       "</table>\n",
       "</div>"
      ],
      "text/plain": [
       "   Identifier  Number Of Trees         Site Name Contract Area  \\\n",
       "0    00060088              1.0  FREDERICK STREET      Highways   \n",
       "1    00032549              1.0    NARCISSUS ROAD      Highways   \n",
       "2    00000999              1.0       ALMA STREET      Highways   \n",
       "3    00032549              1.0    NARCISSUS ROAD      Highways   \n",
       "4    00022744              1.0          YORK WAY      Highways   \n",
       "5    00022744              1.0          YORK WAY      Highways   \n",
       "6    00022674              1.0     WOODSOME ROAD      Highways   \n",
       "7    00060088              1.0  FREDERICK STREET      Highways   \n",
       "8    00000999              1.0       ALMA STREET      Highways   \n",
       "9    00022674              1.0     WOODSOME ROAD      Highways   \n",
       "10   00060087              1.0     ARGYLE SQUARE      Highways   \n",
       "11   00060087              1.0     ARGYLE SQUARE      Highways   \n",
       "\n",
       "                                      Scientific Name Inspection Date  \\\n",
       "0                   Vacant Tree Pit (planned: Access)      2019-11-09   \n",
       "1                           Betula albosinensis Fasc.      2018-09-19   \n",
       "2                                   Sorbus hupehensis      2017-07-25   \n",
       "3                           Betula albosinensis Fasc.      2018-09-19   \n",
       "4                                 Ailanthus altissima      2019-10-30   \n",
       "5                                 Ailanthus altissima      2019-10-30   \n",
       "6                                              Sorbus      2017-10-07   \n",
       "7   Vacant Tree Pit (planned: Acer campestre eco s...      2019-11-09   \n",
       "8                                   Sorbus hupehensis      2017-07-25   \n",
       "9                                              Sorbus      2017-10-07   \n",
       "10                  Vacant Tree Pit (planned: Access)      2019-11-09   \n",
       "11  Vacant Tree Pit (planned: Acer campestre eco s...      2019-11-09   \n",
       "\n",
       "   Inspection Due Date  Height In Metres  Spread In Metres  \\\n",
       "0            2022/2023               NaN               NaN   \n",
       "1            2021/2022               9.0               6.0   \n",
       "2            2020/2021               5.0               4.0   \n",
       "3            2021/2022               9.0               6.0   \n",
       "4            2022/2023               7.5               3.0   \n",
       "5            2022/2023               7.5               3.0   \n",
       "6            2020/2021               7.0               6.0   \n",
       "7            2022/2023               NaN               NaN   \n",
       "8            2020/2021               5.0               4.0   \n",
       "9            2020/2021               7.0               6.0   \n",
       "10           2022/2023               NaN               NaN   \n",
       "11           2022/2023               NaN               NaN   \n",
       "\n",
       "    Diameter In Centimetres At Breast Height  Ward Code       Ward Name  \\\n",
       "0                                        NaN  E05000141    King's Cross   \n",
       "1                                       19.0  E05000145  West Hampstead   \n",
       "2                                       18.0  E05000139    Kentish Town   \n",
       "3                                       19.0  E05000145  West Hampstead   \n",
       "4                                       18.0  E05000131      Cantelowes   \n",
       "5                                       18.0  E05000131      Cantelowes   \n",
       "6                                       28.0  E05000137        Highgate   \n",
       "7                                        NaN  E05000141    King's Cross   \n",
       "8                                       18.0  E05000139    Kentish Town   \n",
       "9                                       28.0  E05000137        Highgate   \n",
       "10                                       NaN  E05000141    King's Cross   \n",
       "11                                       NaN  E05000141    King's Cross   \n",
       "\n",
       "     Easting  Northing  Longitude   Latitude                Location  \n",
       "0   530770.0  182696.0  -0.116241  51.528046  (51.528046, -0.116241)  \n",
       "1   525185.0  185127.0  -0.195840  51.551159   (51.551159, -0.19584)  \n",
       "2   528834.0  184856.0  -0.143337  51.547904  (51.547904, -0.143337)  \n",
       "3   525185.0  185127.0  -0.195840  51.551159   (51.551159, -0.19584)  \n",
       "4   529983.0  184724.0  -0.126837  51.546447  (51.546447, -0.126837)  \n",
       "5   529983.0  184724.0  -0.126837  51.546447  (51.546447, -0.126837)  \n",
       "6   528515.0  186109.0  -0.147481  51.559237  (51.559237, -0.147481)  \n",
       "7   530770.0  182696.0  -0.116241  51.528046  (51.528046, -0.116241)  \n",
       "8   528834.0  184856.0  -0.143337  51.547904  (51.547904, -0.143337)  \n",
       "9   528515.0  186109.0  -0.147481  51.559237  (51.559237, -0.147481)  \n",
       "10  530342.0  182839.0  -0.122352  51.529428  (51.529428, -0.122352)  \n",
       "11  530342.0  182839.0  -0.122352  51.529428  (51.529428, -0.122352)  "
      ]
     },
     "execution_count": 134,
     "metadata": {},
     "output_type": "execute_result"
    }
   ],
   "source": [
    "duplicate_rows"
   ]
  },
  {
   "cell_type": "markdown",
   "id": "49c78711",
   "metadata": {},
   "source": [
    "### 6.4 Observations"
   ]
  },
  {
   "cell_type": "markdown",
   "id": "15e16820",
   "metadata": {},
   "source": [
    "# The main thing to observe here is that there are twelve duplicates (from 0 to 11) or six values in total in this task."
   ]
  },
  {
   "cell_type": "markdown",
   "id": "d0f41ea4-112c-4ea9-96a5-ca76e4b972b3",
   "metadata": {},
   "source": [
    "<hr/>"
   ]
  },
  {
   "cell_type": "markdown",
   "id": "59990f3e-6f73-46ee-8644-2dc503baa93a",
   "metadata": {},
   "source": [
    "## Task 7: Identify Geolocation Issues\n",
    "\n",
    "The geographic coordinates (Easting and Northing) can be used to plot the trees on a map.  We can use this approach to see if there are any unusual tree locations!\n"
   ]
  },
  {
   "cell_type": "markdown",
   "id": "0bdaf281-68a3-43d4-abb6-f3c42a088f7f",
   "metadata": {},
   "source": [
    "### 7.1 Remove Trees with Missing Geo-coordinates\n",
    "\n",
    "Checking if there are any rows with null or 0 geo-coordinates.  If there are, remove them as we can't plot these."
   ]
  },
  {
   "cell_type": "code",
   "execution_count": 135,
   "id": "913c1d69-b105-44aa-be2f-73b537313c6e",
   "metadata": {},
   "outputs": [],
   "source": [
    "# Made a copy of the trees\n",
    "geotrees = trees.copy()"
   ]
  },
  {
   "cell_type": "code",
   "execution_count": 136,
   "id": "7f99f1db",
   "metadata": {
    "scrolled": true
   },
   "outputs": [
    {
     "data": {
      "text/html": [
       "<div>\n",
       "<style scoped>\n",
       "    .dataframe tbody tr th:only-of-type {\n",
       "        vertical-align: middle;\n",
       "    }\n",
       "\n",
       "    .dataframe tbody tr th {\n",
       "        vertical-align: top;\n",
       "    }\n",
       "\n",
       "    .dataframe thead th {\n",
       "        text-align: right;\n",
       "    }\n",
       "</style>\n",
       "<table border=\"1\" class=\"dataframe\">\n",
       "  <thead>\n",
       "    <tr style=\"text-align: right;\">\n",
       "      <th></th>\n",
       "      <th>Identifier</th>\n",
       "      <th>Number Of Trees</th>\n",
       "      <th>Site Name</th>\n",
       "      <th>Contract Area</th>\n",
       "      <th>Scientific Name</th>\n",
       "      <th>Inspection Date</th>\n",
       "      <th>Inspection Due Date</th>\n",
       "      <th>Height In Metres</th>\n",
       "      <th>Spread In Metres</th>\n",
       "      <th>Diameter In Centimetres At Breast Height</th>\n",
       "      <th>Ward Code</th>\n",
       "      <th>Ward Name</th>\n",
       "      <th>Easting</th>\n",
       "      <th>Northing</th>\n",
       "      <th>Longitude</th>\n",
       "      <th>Latitude</th>\n",
       "      <th>Location</th>\n",
       "    </tr>\n",
       "  </thead>\n",
       "  <tbody>\n",
       "    <tr>\n",
       "      <th>0</th>\n",
       "      <td>00060053</td>\n",
       "      <td>1.0</td>\n",
       "      <td>Russell Nurseries Estate</td>\n",
       "      <td>Housing</td>\n",
       "      <td>Vacant Tree Pit</td>\n",
       "      <td>NaT</td>\n",
       "      <td>NaN</td>\n",
       "      <td>NaN</td>\n",
       "      <td>NaN</td>\n",
       "      <td>NaN</td>\n",
       "      <td>E05000135</td>\n",
       "      <td>Hampstead Town</td>\n",
       "      <td>527305.0</td>\n",
       "      <td>185240.0</td>\n",
       "      <td>-0.165240</td>\n",
       "      <td>51.551693</td>\n",
       "      <td>(51.551693, -0.16524)</td>\n",
       "    </tr>\n",
       "    <tr>\n",
       "      <th>1</th>\n",
       "      <td>00057855</td>\n",
       "      <td>1.0</td>\n",
       "      <td>BRECKNOCK JMI (E)</td>\n",
       "      <td>Education</td>\n",
       "      <td>Vacant Tree Pit</td>\n",
       "      <td>2019-07-17</td>\n",
       "      <td>2022/2023</td>\n",
       "      <td>NaN</td>\n",
       "      <td>NaN</td>\n",
       "      <td>NaN</td>\n",
       "      <td>E05000131</td>\n",
       "      <td>Cantelowes</td>\n",
       "      <td>529923.0</td>\n",
       "      <td>184782.0</td>\n",
       "      <td>-0.127681</td>\n",
       "      <td>51.546984</td>\n",
       "      <td>(51.546984, -0.127681)</td>\n",
       "    </tr>\n",
       "    <tr>\n",
       "      <th>2</th>\n",
       "      <td>00059953</td>\n",
       "      <td>1.0</td>\n",
       "      <td>Estate 51 Ravenshaw Street</td>\n",
       "      <td>Housing</td>\n",
       "      <td>Ficus carica</td>\n",
       "      <td>NaT</td>\n",
       "      <td>NaN</td>\n",
       "      <td>5.0</td>\n",
       "      <td>4.0</td>\n",
       "      <td>10.0</td>\n",
       "      <td>NaN</td>\n",
       "      <td>NaN</td>\n",
       "      <td>0.0</td>\n",
       "      <td>0.0</td>\n",
       "      <td>NaN</td>\n",
       "      <td>NaN</td>\n",
       "      <td>NaN</td>\n",
       "    </tr>\n",
       "    <tr>\n",
       "      <th>3</th>\n",
       "      <td>00059915</td>\n",
       "      <td>1.0</td>\n",
       "      <td>ROSARY RC JMI (E)</td>\n",
       "      <td>Education</td>\n",
       "      <td>Betula jacquemontii</td>\n",
       "      <td>NaT</td>\n",
       "      <td>NaN</td>\n",
       "      <td>4.0</td>\n",
       "      <td>1.0</td>\n",
       "      <td>6.0</td>\n",
       "      <td>E05000135</td>\n",
       "      <td>Hampstead Town</td>\n",
       "      <td>527249.0</td>\n",
       "      <td>185261.0</td>\n",
       "      <td>-0.166051</td>\n",
       "      <td>51.551901</td>\n",
       "      <td>(51.551901, -0.166051)</td>\n",
       "    </tr>\n",
       "    <tr>\n",
       "      <th>4</th>\n",
       "      <td>00010762</td>\n",
       "      <td>1.0</td>\n",
       "      <td>Holly Lodge Estate</td>\n",
       "      <td>Housing</td>\n",
       "      <td>Ilex x altaclarensis</td>\n",
       "      <td>2017-06-14</td>\n",
       "      <td>2020/2021</td>\n",
       "      <td>14.0</td>\n",
       "      <td>6.0</td>\n",
       "      <td>26.0</td>\n",
       "      <td>E05000137</td>\n",
       "      <td>Highgate</td>\n",
       "      <td>528414.0</td>\n",
       "      <td>186770.0</td>\n",
       "      <td>-0.148704</td>\n",
       "      <td>51.565198</td>\n",
       "      <td>(51.565198, -0.148704)</td>\n",
       "    </tr>\n",
       "    <tr>\n",
       "      <th>...</th>\n",
       "      <td>...</td>\n",
       "      <td>...</td>\n",
       "      <td>...</td>\n",
       "      <td>...</td>\n",
       "      <td>...</td>\n",
       "      <td>...</td>\n",
       "      <td>...</td>\n",
       "      <td>...</td>\n",
       "      <td>...</td>\n",
       "      <td>...</td>\n",
       "      <td>...</td>\n",
       "      <td>...</td>\n",
       "      <td>...</td>\n",
       "      <td>...</td>\n",
       "      <td>...</td>\n",
       "      <td>...</td>\n",
       "      <td>...</td>\n",
       "    </tr>\n",
       "    <tr>\n",
       "      <th>23439</th>\n",
       "      <td>00057455</td>\n",
       "      <td>1.0</td>\n",
       "      <td>KILBURN GRANGE, MESSINA AVE (LS)</td>\n",
       "      <td>Parks</td>\n",
       "      <td>Sorbus aria</td>\n",
       "      <td>2017-03-28</td>\n",
       "      <td>2019/2020</td>\n",
       "      <td>2.0</td>\n",
       "      <td>1.0</td>\n",
       "      <td>6.0</td>\n",
       "      <td>E05000140</td>\n",
       "      <td>Kilburn</td>\n",
       "      <td>525130.0</td>\n",
       "      <td>184418.0</td>\n",
       "      <td>-0.196884</td>\n",
       "      <td>51.544796</td>\n",
       "      <td>(51.544796, -0.196884)</td>\n",
       "    </tr>\n",
       "    <tr>\n",
       "      <th>23440</th>\n",
       "      <td>00015494</td>\n",
       "      <td>1.0</td>\n",
       "      <td>OSSULSTON STREET</td>\n",
       "      <td>Highways</td>\n",
       "      <td>Sorbus aria 'Majestica'</td>\n",
       "      <td>2019-10-28</td>\n",
       "      <td>2022/2023</td>\n",
       "      <td>12.0</td>\n",
       "      <td>6.0</td>\n",
       "      <td>48.0</td>\n",
       "      <td>E05000143</td>\n",
       "      <td>St Pancras and Somers Town</td>\n",
       "      <td>529758.0</td>\n",
       "      <td>183095.0</td>\n",
       "      <td>-0.130667</td>\n",
       "      <td>51.531863</td>\n",
       "      <td>(51.531863, -0.130667)</td>\n",
       "    </tr>\n",
       "    <tr>\n",
       "      <th>23441</th>\n",
       "      <td>00001693</td>\n",
       "      <td>1.0</td>\n",
       "      <td>BELMONT STREET</td>\n",
       "      <td>Highways</td>\n",
       "      <td>Platanus x hispanica</td>\n",
       "      <td>2017-07-31</td>\n",
       "      <td>2020/2021</td>\n",
       "      <td>18.0</td>\n",
       "      <td>10.0</td>\n",
       "      <td>57.0</td>\n",
       "      <td>E05000136</td>\n",
       "      <td>Haverstock</td>\n",
       "      <td>528302.0</td>\n",
       "      <td>184457.0</td>\n",
       "      <td>-0.151163</td>\n",
       "      <td>51.544432</td>\n",
       "      <td>(51.544432, -0.151163)</td>\n",
       "    </tr>\n",
       "    <tr>\n",
       "      <th>23442</th>\n",
       "      <td>00020342</td>\n",
       "      <td>1.0</td>\n",
       "      <td>Templar House Estate</td>\n",
       "      <td>Housing</td>\n",
       "      <td>Tilia europaea</td>\n",
       "      <td>2018-11-05</td>\n",
       "      <td>2021/2022</td>\n",
       "      <td>20.0</td>\n",
       "      <td>8.0</td>\n",
       "      <td>40.0</td>\n",
       "      <td>E05000132</td>\n",
       "      <td>Fortune Green</td>\n",
       "      <td>524615.0</td>\n",
       "      <td>184714.0</td>\n",
       "      <td>-0.204206</td>\n",
       "      <td>51.547573</td>\n",
       "      <td>(51.547573, -0.204206)</td>\n",
       "    </tr>\n",
       "    <tr>\n",
       "      <th>23443</th>\n",
       "      <td>00013369</td>\n",
       "      <td>1.0</td>\n",
       "      <td>LYNDHURST ROAD</td>\n",
       "      <td>Highways</td>\n",
       "      <td>Tilia europaea</td>\n",
       "      <td>2018-06-08</td>\n",
       "      <td>2021/2022</td>\n",
       "      <td>15.0</td>\n",
       "      <td>6.0</td>\n",
       "      <td>77.0</td>\n",
       "      <td>E05000135</td>\n",
       "      <td>Hampstead Town</td>\n",
       "      <td>526738.0</td>\n",
       "      <td>185304.0</td>\n",
       "      <td>-0.173397</td>\n",
       "      <td>51.552397</td>\n",
       "      <td>(51.552397, -0.173397)</td>\n",
       "    </tr>\n",
       "  </tbody>\n",
       "</table>\n",
       "<p>23444 rows × 17 columns</p>\n",
       "</div>"
      ],
      "text/plain": [
       "      Identifier  Number Of Trees                         Site Name  \\\n",
       "0       00060053              1.0          Russell Nurseries Estate   \n",
       "1       00057855              1.0                 BRECKNOCK JMI (E)   \n",
       "2       00059953              1.0        Estate 51 Ravenshaw Street   \n",
       "3       00059915              1.0                 ROSARY RC JMI (E)   \n",
       "4       00010762              1.0                Holly Lodge Estate   \n",
       "...          ...              ...                               ...   \n",
       "23439   00057455              1.0  KILBURN GRANGE, MESSINA AVE (LS)   \n",
       "23440   00015494              1.0                  OSSULSTON STREET   \n",
       "23441   00001693              1.0                    BELMONT STREET   \n",
       "23442   00020342              1.0              Templar House Estate   \n",
       "23443   00013369              1.0                    LYNDHURST ROAD   \n",
       "\n",
       "      Contract Area          Scientific Name Inspection Date  \\\n",
       "0           Housing          Vacant Tree Pit             NaT   \n",
       "1         Education          Vacant Tree Pit      2019-07-17   \n",
       "2           Housing             Ficus carica             NaT   \n",
       "3         Education      Betula jacquemontii             NaT   \n",
       "4           Housing     Ilex x altaclarensis      2017-06-14   \n",
       "...             ...                      ...             ...   \n",
       "23439         Parks              Sorbus aria      2017-03-28   \n",
       "23440      Highways  Sorbus aria 'Majestica'      2019-10-28   \n",
       "23441      Highways     Platanus x hispanica      2017-07-31   \n",
       "23442       Housing           Tilia europaea      2018-11-05   \n",
       "23443      Highways           Tilia europaea      2018-06-08   \n",
       "\n",
       "      Inspection Due Date  Height In Metres  Spread In Metres  \\\n",
       "0                     NaN               NaN               NaN   \n",
       "1               2022/2023               NaN               NaN   \n",
       "2                     NaN               5.0               4.0   \n",
       "3                     NaN               4.0               1.0   \n",
       "4               2020/2021              14.0               6.0   \n",
       "...                   ...               ...               ...   \n",
       "23439           2019/2020               2.0               1.0   \n",
       "23440           2022/2023              12.0               6.0   \n",
       "23441           2020/2021              18.0              10.0   \n",
       "23442           2021/2022              20.0               8.0   \n",
       "23443           2021/2022              15.0               6.0   \n",
       "\n",
       "       Diameter In Centimetres At Breast Height  Ward Code  \\\n",
       "0                                           NaN  E05000135   \n",
       "1                                           NaN  E05000131   \n",
       "2                                          10.0        NaN   \n",
       "3                                           6.0  E05000135   \n",
       "4                                          26.0  E05000137   \n",
       "...                                         ...        ...   \n",
       "23439                                       6.0  E05000140   \n",
       "23440                                      48.0  E05000143   \n",
       "23441                                      57.0  E05000136   \n",
       "23442                                      40.0  E05000132   \n",
       "23443                                      77.0  E05000135   \n",
       "\n",
       "                        Ward Name   Easting  Northing  Longitude   Latitude  \\\n",
       "0                  Hampstead Town  527305.0  185240.0  -0.165240  51.551693   \n",
       "1                      Cantelowes  529923.0  184782.0  -0.127681  51.546984   \n",
       "2                             NaN       0.0       0.0        NaN        NaN   \n",
       "3                  Hampstead Town  527249.0  185261.0  -0.166051  51.551901   \n",
       "4                        Highgate  528414.0  186770.0  -0.148704  51.565198   \n",
       "...                           ...       ...       ...        ...        ...   \n",
       "23439                     Kilburn  525130.0  184418.0  -0.196884  51.544796   \n",
       "23440  St Pancras and Somers Town  529758.0  183095.0  -0.130667  51.531863   \n",
       "23441                  Haverstock  528302.0  184457.0  -0.151163  51.544432   \n",
       "23442               Fortune Green  524615.0  184714.0  -0.204206  51.547573   \n",
       "23443              Hampstead Town  526738.0  185304.0  -0.173397  51.552397   \n",
       "\n",
       "                     Location  \n",
       "0       (51.551693, -0.16524)  \n",
       "1      (51.546984, -0.127681)  \n",
       "2                         NaN  \n",
       "3      (51.551901, -0.166051)  \n",
       "4      (51.565198, -0.148704)  \n",
       "...                       ...  \n",
       "23439  (51.544796, -0.196884)  \n",
       "23440  (51.531863, -0.130667)  \n",
       "23441  (51.544432, -0.151163)  \n",
       "23442  (51.547573, -0.204206)  \n",
       "23443  (51.552397, -0.173397)  \n",
       "\n",
       "[23444 rows x 17 columns]"
      ]
     },
     "execution_count": 136,
     "metadata": {},
     "output_type": "execute_result"
    }
   ],
   "source": [
    "# Displaying the trees first few rows\n",
    "geotrees"
   ]
  },
  {
   "cell_type": "code",
   "execution_count": 137,
   "id": "5f7d9e94",
   "metadata": {
    "scrolled": true
   },
   "outputs": [
    {
     "data": {
      "text/plain": [
       "(23444, 17)"
      ]
     },
     "execution_count": 137,
     "metadata": {},
     "output_type": "execute_result"
    }
   ],
   "source": [
    "\n",
    "# Using the shape method to get more information about the data set\n",
    "geotrees.shape"
   ]
  },
  {
   "cell_type": "code",
   "execution_count": 138,
   "id": "ccce2863",
   "metadata": {
    "scrolled": true
   },
   "outputs": [
    {
     "name": "stdout",
     "output_type": "stream",
     "text": [
      "      Identifier  Number Of Trees                         Site Name  \\\n",
      "0       00060053              1.0          Russell Nurseries Estate   \n",
      "1       00057855              1.0                 BRECKNOCK JMI (E)   \n",
      "2       00059953              1.0        Estate 51 Ravenshaw Street   \n",
      "3       00059915              1.0                 ROSARY RC JMI (E)   \n",
      "4       00010762              1.0                Holly Lodge Estate   \n",
      "...          ...              ...                               ...   \n",
      "23439   00057455              1.0  KILBURN GRANGE, MESSINA AVE (LS)   \n",
      "23440   00015494              1.0                  OSSULSTON STREET   \n",
      "23441   00001693              1.0                    BELMONT STREET   \n",
      "23442   00020342              1.0              Templar House Estate   \n",
      "23443   00013369              1.0                    LYNDHURST ROAD   \n",
      "\n",
      "      Contract Area          Scientific Name Inspection Date  \\\n",
      "0           Housing          Vacant Tree Pit             NaT   \n",
      "1         Education          Vacant Tree Pit      2019-07-17   \n",
      "2           Housing             Ficus carica             NaT   \n",
      "3         Education      Betula jacquemontii             NaT   \n",
      "4           Housing     Ilex x altaclarensis      2017-06-14   \n",
      "...             ...                      ...             ...   \n",
      "23439         Parks              Sorbus aria      2017-03-28   \n",
      "23440      Highways  Sorbus aria 'Majestica'      2019-10-28   \n",
      "23441      Highways     Platanus x hispanica      2017-07-31   \n",
      "23442       Housing           Tilia europaea      2018-11-05   \n",
      "23443      Highways           Tilia europaea      2018-06-08   \n",
      "\n",
      "      Inspection Due Date  Height In Metres  Spread In Metres  \\\n",
      "0                     NaN               NaN               NaN   \n",
      "1               2022/2023               NaN               NaN   \n",
      "2                     NaN               5.0               4.0   \n",
      "3                     NaN               4.0               1.0   \n",
      "4               2020/2021              14.0               6.0   \n",
      "...                   ...               ...               ...   \n",
      "23439           2019/2020               2.0               1.0   \n",
      "23440           2022/2023              12.0               6.0   \n",
      "23441           2020/2021              18.0              10.0   \n",
      "23442           2021/2022              20.0               8.0   \n",
      "23443           2021/2022              15.0               6.0   \n",
      "\n",
      "       Diameter In Centimetres At Breast Height  Ward Code  \\\n",
      "0                                           NaN  E05000135   \n",
      "1                                           NaN  E05000131   \n",
      "2                                          10.0        NaN   \n",
      "3                                           6.0  E05000135   \n",
      "4                                          26.0  E05000137   \n",
      "...                                         ...        ...   \n",
      "23439                                       6.0  E05000140   \n",
      "23440                                      48.0  E05000143   \n",
      "23441                                      57.0  E05000136   \n",
      "23442                                      40.0  E05000132   \n",
      "23443                                      77.0  E05000135   \n",
      "\n",
      "                        Ward Name   Easting  Northing  Longitude   Latitude  \\\n",
      "0                  Hampstead Town  527305.0  185240.0  -0.165240  51.551693   \n",
      "1                      Cantelowes  529923.0  184782.0  -0.127681  51.546984   \n",
      "2                             NaN       0.0       0.0        NaN        NaN   \n",
      "3                  Hampstead Town  527249.0  185261.0  -0.166051  51.551901   \n",
      "4                        Highgate  528414.0  186770.0  -0.148704  51.565198   \n",
      "...                           ...       ...       ...        ...        ...   \n",
      "23439                     Kilburn  525130.0  184418.0  -0.196884  51.544796   \n",
      "23440  St Pancras and Somers Town  529758.0  183095.0  -0.130667  51.531863   \n",
      "23441                  Haverstock  528302.0  184457.0  -0.151163  51.544432   \n",
      "23442               Fortune Green  524615.0  184714.0  -0.204206  51.547573   \n",
      "23443              Hampstead Town  526738.0  185304.0  -0.173397  51.552397   \n",
      "\n",
      "                     Location  \n",
      "0       (51.551693, -0.16524)  \n",
      "1      (51.546984, -0.127681)  \n",
      "2                         NaN  \n",
      "3      (51.551901, -0.166051)  \n",
      "4      (51.565198, -0.148704)  \n",
      "...                       ...  \n",
      "23439  (51.544796, -0.196884)  \n",
      "23440  (51.531863, -0.130667)  \n",
      "23441  (51.544432, -0.151163)  \n",
      "23442  (51.547573, -0.204206)  \n",
      "23443  (51.552397, -0.173397)  \n",
      "\n",
      "[23444 rows x 17 columns]\n"
     ]
    }
   ],
   "source": [
    "# Removed null Eastings through the .notna() method and created a new value called filtered_trees, and printed it for completeness.\n",
    "\n",
    "filtered_trees = trees[trees['Easting'].notna()]\n",
    "# Displaying the filtered data\n",
    "print(filtered_trees)"
   ]
  },
  {
   "cell_type": "code",
   "execution_count": 139,
   "id": "6f236df7",
   "metadata": {
    "scrolled": true
   },
   "outputs": [
    {
     "name": "stdout",
     "output_type": "stream",
     "text": [
      "      Identifier  Number Of Trees                         Site Name  \\\n",
      "0       00060053              1.0          Russell Nurseries Estate   \n",
      "1       00057855              1.0                 BRECKNOCK JMI (E)   \n",
      "3       00059915              1.0                 ROSARY RC JMI (E)   \n",
      "4       00010762              1.0                Holly Lodge Estate   \n",
      "5       00007523              1.0                Westcroft Estate 1   \n",
      "...          ...              ...                               ...   \n",
      "23439   00057455              1.0  KILBURN GRANGE, MESSINA AVE (LS)   \n",
      "23440   00015494              1.0                  OSSULSTON STREET   \n",
      "23441   00001693              1.0                    BELMONT STREET   \n",
      "23442   00020342              1.0              Templar House Estate   \n",
      "23443   00013369              1.0                    LYNDHURST ROAD   \n",
      "\n",
      "      Contract Area          Scientific Name Inspection Date  \\\n",
      "0           Housing          Vacant Tree Pit             NaT   \n",
      "1         Education          Vacant Tree Pit      2019-07-17   \n",
      "3         Education      Betula jacquemontii             NaT   \n",
      "4           Housing     Ilex x altaclarensis      2017-06-14   \n",
      "5           Housing           Betula pendula      2018-08-06   \n",
      "...             ...                      ...             ...   \n",
      "23439         Parks              Sorbus aria      2017-03-28   \n",
      "23440      Highways  Sorbus aria 'Majestica'      2019-10-28   \n",
      "23441      Highways     Platanus x hispanica      2017-07-31   \n",
      "23442       Housing           Tilia europaea      2018-11-05   \n",
      "23443      Highways           Tilia europaea      2018-06-08   \n",
      "\n",
      "      Inspection Due Date  Height In Metres  Spread In Metres  \\\n",
      "0                     NaN               NaN               NaN   \n",
      "1               2022/2023               NaN               NaN   \n",
      "3                     NaN               4.0               1.0   \n",
      "4               2020/2021              14.0               6.0   \n",
      "5               2021/2022               9.0               7.0   \n",
      "...                   ...               ...               ...   \n",
      "23439           2019/2020               2.0               1.0   \n",
      "23440           2022/2023              12.0               6.0   \n",
      "23441           2020/2021              18.0              10.0   \n",
      "23442           2021/2022              20.0               8.0   \n",
      "23443           2021/2022              15.0               6.0   \n",
      "\n",
      "       Diameter In Centimetres At Breast Height  Ward Code  \\\n",
      "0                                           NaN  E05000135   \n",
      "1                                           NaN  E05000131   \n",
      "3                                           6.0  E05000135   \n",
      "4                                          26.0  E05000137   \n",
      "5                                          29.0        NaN   \n",
      "...                                         ...        ...   \n",
      "23439                                       6.0  E05000140   \n",
      "23440                                      48.0  E05000143   \n",
      "23441                                      57.0  E05000136   \n",
      "23442                                      40.0  E05000132   \n",
      "23443                                      77.0  E05000135   \n",
      "\n",
      "                        Ward Name   Easting  Northing  Longitude   Latitude  \\\n",
      "0                  Hampstead Town  527305.0  185240.0  -0.165240  51.551693   \n",
      "1                      Cantelowes  529923.0  184782.0  -0.127681  51.546984   \n",
      "3                  Hampstead Town  527249.0  185261.0  -0.166051  51.551901   \n",
      "4                        Highgate  528414.0  186770.0  -0.148704  51.565198   \n",
      "5                             NaN  524253.0  185982.0  -0.208975  51.559049   \n",
      "...                           ...       ...       ...        ...        ...   \n",
      "23439                     Kilburn  525130.0  184418.0  -0.196884  51.544796   \n",
      "23440  St Pancras and Somers Town  529758.0  183095.0  -0.130667  51.531863   \n",
      "23441                  Haverstock  528302.0  184457.0  -0.151163  51.544432   \n",
      "23442               Fortune Green  524615.0  184714.0  -0.204206  51.547573   \n",
      "23443              Hampstead Town  526738.0  185304.0  -0.173397  51.552397   \n",
      "\n",
      "                     Location  \n",
      "0       (51.551693, -0.16524)  \n",
      "1      (51.546984, -0.127681)  \n",
      "3      (51.551901, -0.166051)  \n",
      "4      (51.565198, -0.148704)  \n",
      "5      (51.559049, -0.208975)  \n",
      "...                       ...  \n",
      "23439  (51.544796, -0.196884)  \n",
      "23440  (51.531863, -0.130667)  \n",
      "23441  (51.544432, -0.151163)  \n",
      "23442  (51.547573, -0.204206)  \n",
      "23443  (51.552397, -0.173397)  \n",
      "\n",
      "[23388 rows x 17 columns]\n"
     ]
    }
   ],
   "source": [
    "# Removed 0 Eastings through the use of !=0 not equal operator  \n",
    "filtered_trees = trees[trees['Easting'] != 0]\n",
    "# Displaying the filtered data\n",
    "print(filtered_trees)"
   ]
  },
  {
   "cell_type": "code",
   "execution_count": 140,
   "id": "1f36aa36",
   "metadata": {},
   "outputs": [],
   "source": [
    "# The same was repeated the prcess for the Northings "
   ]
  },
  {
   "cell_type": "code",
   "execution_count": 141,
   "id": "cd97d30f",
   "metadata": {
    "scrolled": true
   },
   "outputs": [
    {
     "name": "stdout",
     "output_type": "stream",
     "text": [
      "      Identifier  Number Of Trees                         Site Name  \\\n",
      "0       00060053              1.0          Russell Nurseries Estate   \n",
      "1       00057855              1.0                 BRECKNOCK JMI (E)   \n",
      "2       00059953              1.0        Estate 51 Ravenshaw Street   \n",
      "3       00059915              1.0                 ROSARY RC JMI (E)   \n",
      "4       00010762              1.0                Holly Lodge Estate   \n",
      "...          ...              ...                               ...   \n",
      "23439   00057455              1.0  KILBURN GRANGE, MESSINA AVE (LS)   \n",
      "23440   00015494              1.0                  OSSULSTON STREET   \n",
      "23441   00001693              1.0                    BELMONT STREET   \n",
      "23442   00020342              1.0              Templar House Estate   \n",
      "23443   00013369              1.0                    LYNDHURST ROAD   \n",
      "\n",
      "      Contract Area          Scientific Name Inspection Date  \\\n",
      "0           Housing          Vacant Tree Pit             NaT   \n",
      "1         Education          Vacant Tree Pit      2019-07-17   \n",
      "2           Housing             Ficus carica             NaT   \n",
      "3         Education      Betula jacquemontii             NaT   \n",
      "4           Housing     Ilex x altaclarensis      2017-06-14   \n",
      "...             ...                      ...             ...   \n",
      "23439         Parks              Sorbus aria      2017-03-28   \n",
      "23440      Highways  Sorbus aria 'Majestica'      2019-10-28   \n",
      "23441      Highways     Platanus x hispanica      2017-07-31   \n",
      "23442       Housing           Tilia europaea      2018-11-05   \n",
      "23443      Highways           Tilia europaea      2018-06-08   \n",
      "\n",
      "      Inspection Due Date  Height In Metres  Spread In Metres  \\\n",
      "0                     NaN               NaN               NaN   \n",
      "1               2022/2023               NaN               NaN   \n",
      "2                     NaN               5.0               4.0   \n",
      "3                     NaN               4.0               1.0   \n",
      "4               2020/2021              14.0               6.0   \n",
      "...                   ...               ...               ...   \n",
      "23439           2019/2020               2.0               1.0   \n",
      "23440           2022/2023              12.0               6.0   \n",
      "23441           2020/2021              18.0              10.0   \n",
      "23442           2021/2022              20.0               8.0   \n",
      "23443           2021/2022              15.0               6.0   \n",
      "\n",
      "       Diameter In Centimetres At Breast Height  Ward Code  \\\n",
      "0                                           NaN  E05000135   \n",
      "1                                           NaN  E05000131   \n",
      "2                                          10.0        NaN   \n",
      "3                                           6.0  E05000135   \n",
      "4                                          26.0  E05000137   \n",
      "...                                         ...        ...   \n",
      "23439                                       6.0  E05000140   \n",
      "23440                                      48.0  E05000143   \n",
      "23441                                      57.0  E05000136   \n",
      "23442                                      40.0  E05000132   \n",
      "23443                                      77.0  E05000135   \n",
      "\n",
      "                        Ward Name   Easting  Northing  Longitude   Latitude  \\\n",
      "0                  Hampstead Town  527305.0  185240.0  -0.165240  51.551693   \n",
      "1                      Cantelowes  529923.0  184782.0  -0.127681  51.546984   \n",
      "2                             NaN       0.0       0.0        NaN        NaN   \n",
      "3                  Hampstead Town  527249.0  185261.0  -0.166051  51.551901   \n",
      "4                        Highgate  528414.0  186770.0  -0.148704  51.565198   \n",
      "...                           ...       ...       ...        ...        ...   \n",
      "23439                     Kilburn  525130.0  184418.0  -0.196884  51.544796   \n",
      "23440  St Pancras and Somers Town  529758.0  183095.0  -0.130667  51.531863   \n",
      "23441                  Haverstock  528302.0  184457.0  -0.151163  51.544432   \n",
      "23442               Fortune Green  524615.0  184714.0  -0.204206  51.547573   \n",
      "23443              Hampstead Town  526738.0  185304.0  -0.173397  51.552397   \n",
      "\n",
      "                     Location  \n",
      "0       (51.551693, -0.16524)  \n",
      "1      (51.546984, -0.127681)  \n",
      "2                         NaN  \n",
      "3      (51.551901, -0.166051)  \n",
      "4      (51.565198, -0.148704)  \n",
      "...                       ...  \n",
      "23439  (51.544796, -0.196884)  \n",
      "23440  (51.531863, -0.130667)  \n",
      "23441  (51.544432, -0.151163)  \n",
      "23442  (51.547573, -0.204206)  \n",
      "23443  (51.552397, -0.173397)  \n",
      "\n",
      "[23444 rows x 17 columns]\n"
     ]
    }
   ],
   "source": [
    "# Removed null Northings\n",
    "filtered_trees = trees[trees['Northing'].notna()]\n",
    "# Displaying the filtered data\n",
    "print(filtered_trees)"
   ]
  },
  {
   "cell_type": "code",
   "execution_count": 142,
   "id": "fcb13cfe",
   "metadata": {},
   "outputs": [
    {
     "name": "stdout",
     "output_type": "stream",
     "text": [
      "      Identifier  Number Of Trees                         Site Name  \\\n",
      "0       00060053              1.0          Russell Nurseries Estate   \n",
      "1       00057855              1.0                 BRECKNOCK JMI (E)   \n",
      "3       00059915              1.0                 ROSARY RC JMI (E)   \n",
      "4       00010762              1.0                Holly Lodge Estate   \n",
      "5       00007523              1.0                Westcroft Estate 1   \n",
      "...          ...              ...                               ...   \n",
      "23439   00057455              1.0  KILBURN GRANGE, MESSINA AVE (LS)   \n",
      "23440   00015494              1.0                  OSSULSTON STREET   \n",
      "23441   00001693              1.0                    BELMONT STREET   \n",
      "23442   00020342              1.0              Templar House Estate   \n",
      "23443   00013369              1.0                    LYNDHURST ROAD   \n",
      "\n",
      "      Contract Area          Scientific Name Inspection Date  \\\n",
      "0           Housing          Vacant Tree Pit             NaT   \n",
      "1         Education          Vacant Tree Pit      2019-07-17   \n",
      "3         Education      Betula jacquemontii             NaT   \n",
      "4           Housing     Ilex x altaclarensis      2017-06-14   \n",
      "5           Housing           Betula pendula      2018-08-06   \n",
      "...             ...                      ...             ...   \n",
      "23439         Parks              Sorbus aria      2017-03-28   \n",
      "23440      Highways  Sorbus aria 'Majestica'      2019-10-28   \n",
      "23441      Highways     Platanus x hispanica      2017-07-31   \n",
      "23442       Housing           Tilia europaea      2018-11-05   \n",
      "23443      Highways           Tilia europaea      2018-06-08   \n",
      "\n",
      "      Inspection Due Date  Height In Metres  Spread In Metres  \\\n",
      "0                     NaN               NaN               NaN   \n",
      "1               2022/2023               NaN               NaN   \n",
      "3                     NaN               4.0               1.0   \n",
      "4               2020/2021              14.0               6.0   \n",
      "5               2021/2022               9.0               7.0   \n",
      "...                   ...               ...               ...   \n",
      "23439           2019/2020               2.0               1.0   \n",
      "23440           2022/2023              12.0               6.0   \n",
      "23441           2020/2021              18.0              10.0   \n",
      "23442           2021/2022              20.0               8.0   \n",
      "23443           2021/2022              15.0               6.0   \n",
      "\n",
      "       Diameter In Centimetres At Breast Height  Ward Code  \\\n",
      "0                                           NaN  E05000135   \n",
      "1                                           NaN  E05000131   \n",
      "3                                           6.0  E05000135   \n",
      "4                                          26.0  E05000137   \n",
      "5                                          29.0        NaN   \n",
      "...                                         ...        ...   \n",
      "23439                                       6.0  E05000140   \n",
      "23440                                      48.0  E05000143   \n",
      "23441                                      57.0  E05000136   \n",
      "23442                                      40.0  E05000132   \n",
      "23443                                      77.0  E05000135   \n",
      "\n",
      "                        Ward Name   Easting  Northing  Longitude   Latitude  \\\n",
      "0                  Hampstead Town  527305.0  185240.0  -0.165240  51.551693   \n",
      "1                      Cantelowes  529923.0  184782.0  -0.127681  51.546984   \n",
      "3                  Hampstead Town  527249.0  185261.0  -0.166051  51.551901   \n",
      "4                        Highgate  528414.0  186770.0  -0.148704  51.565198   \n",
      "5                             NaN  524253.0  185982.0  -0.208975  51.559049   \n",
      "...                           ...       ...       ...        ...        ...   \n",
      "23439                     Kilburn  525130.0  184418.0  -0.196884  51.544796   \n",
      "23440  St Pancras and Somers Town  529758.0  183095.0  -0.130667  51.531863   \n",
      "23441                  Haverstock  528302.0  184457.0  -0.151163  51.544432   \n",
      "23442               Fortune Green  524615.0  184714.0  -0.204206  51.547573   \n",
      "23443              Hampstead Town  526738.0  185304.0  -0.173397  51.552397   \n",
      "\n",
      "                     Location  \n",
      "0       (51.551693, -0.16524)  \n",
      "1      (51.546984, -0.127681)  \n",
      "3      (51.551901, -0.166051)  \n",
      "4      (51.565198, -0.148704)  \n",
      "5      (51.559049, -0.208975)  \n",
      "...                       ...  \n",
      "23439  (51.544796, -0.196884)  \n",
      "23440  (51.531863, -0.130667)  \n",
      "23441  (51.544432, -0.151163)  \n",
      "23442  (51.547573, -0.204206)  \n",
      "23443  (51.552397, -0.173397)  \n",
      "\n",
      "[23388 rows x 17 columns]\n"
     ]
    }
   ],
   "source": [
    "# Removing 0 Northings.  \n",
    "filtered_trees = trees[trees['Northing'] != 0]\n",
    "# Displaying the filtered data\n",
    "print(filtered_trees)"
   ]
  },
  {
   "cell_type": "code",
   "execution_count": 143,
   "id": "48fbee59",
   "metadata": {},
   "outputs": [
    {
     "name": "stdout",
     "output_type": "stream",
     "text": [
      "23388\n"
     ]
    }
   ],
   "source": [
    "# Confirming how many rows I have through the shape method\n",
    "\n",
    "print(filtered_trees.shape[0])"
   ]
  },
  {
   "cell_type": "code",
   "execution_count": null,
   "id": "a3f89b73",
   "metadata": {},
   "outputs": [],
   "source": []
  },
  {
   "cell_type": "markdown",
   "id": "a63dbcfc-e781-4812-9a10-1cf5be028dae",
   "metadata": {},
   "source": [
    "<hr/>"
   ]
  },
  {
   "cell_type": "markdown",
   "id": "d1e84a3c-7eed-408a-a724-3944d89e0755",
   "metadata": {},
   "source": [
    "### 7.2 Plot Map of Trees\n",
    "\n",
    "Now make the plot.  Do a scatter plot of Northing vs Easting. You should obtain an outline of the map of Camden. Compare that outline with a real map of Camden (use good old google maps!). You’ll be able to spot the trees that should not be in that dataset from there!"
   ]
  },
  {
   "cell_type": "code",
   "execution_count": 144,
   "id": "b3f1e935",
   "metadata": {},
   "outputs": [],
   "source": [
    "# Imported matplotlib.pyplot\n",
    "import matplotlib.pyplot as plt"
   ]
  },
  {
   "cell_type": "code",
   "execution_count": 145,
   "id": "3e03f0b4",
   "metadata": {},
   "outputs": [
    {
     "data": {
      "image/png": "[encoded data removed]",
      "text/plain": [
       "<Figure size 432x288 with 1 Axes>"
      ]
     },
     "metadata": {
      "needs_background": "light"
     },
     "output_type": "display_data"
    }
   ],
   "source": [
    "# Then plotted the trees on a map and created the scatter plot\n",
    "plt.scatter(filtered_trees['Easting'], filtered_trees['Northing'])\n",
    "\n",
    "# Added axis labels\n",
    "plt.xlabel('Easting')\n",
    "plt.ylabel('Northing')\n",
    "\n",
    "# Showed the plot\n",
    "plt.show()"
   ]
  },
  {
   "cell_type": "markdown",
   "id": "6914e59e-aaeb-4b9b-8a84-b4007e2ad747",
   "metadata": {},
   "source": [
    "### 7.3 Find Trees Outside Camden\n",
    "From the scatter plot, you should be able to determine how to select the rows from the trees data set containing the offending trees (using the Easting and Northing values)\n",
    "\n",
    "Select the rows containing trees outside of Camden.  Use the filter technique again.  "
   ]
  },
  {
   "cell_type": "code",
   "execution_count": 146,
   "id": "4b992a8f-d5be-4adb-a383-4f8e5505b2ed",
   "metadata": {},
   "outputs": [],
   "source": [
    "# Selecting the outlier rows through the use of a boolean mask indicating which rows contain trees outside of Camden\n",
    "mask = (trees['Northing'] > 194000)"
   ]
  },
  {
   "cell_type": "code",
   "execution_count": 147,
   "id": "0270dae9-9bcf-4b63-95cf-13b7c5184424",
   "metadata": {
    "scrolled": true
   },
   "outputs": [
    {
     "name": "stdout",
     "output_type": "stream",
     "text": [
      "0        False\n",
      "1        False\n",
      "2        False\n",
      "3        False\n",
      "4        False\n",
      "         ...  \n",
      "23439    False\n",
      "23440    False\n",
      "23441    False\n",
      "23442    False\n",
      "23443    False\n",
      "Name: Northing, Length: 23444, dtype: bool\n"
     ]
    }
   ],
   "source": [
    "# Confirmed how many rows we have and used the mask to select the rows containing trees outside of Camden\n",
    "print(mask)"
   ]
  },
  {
   "cell_type": "code",
   "execution_count": 148,
   "id": "ba385895",
   "metadata": {
    "scrolled": true
   },
   "outputs": [
    {
     "name": "stdout",
     "output_type": "stream",
     "text": [
      "      Identifier  Number Of Trees                  Site Name Contract Area  \\\n",
      "78      00044991              1.0          Bells Hill Estate       Housing   \n",
      "298     00045000              1.0  Estate 167 Furzehill Road       Housing   \n",
      "660     00044992              1.0          Bells Hill Estate       Housing   \n",
      "1526    00044995              1.0          Bells Hill Estate       Housing   \n",
      "5392    00044990              1.0          Bells Hill Estate       Housing   \n",
      "18069   00044993              1.0          Bells Hill Estate       Housing   \n",
      "18078   00044601              1.0          Bells Hill Estate       Housing   \n",
      "19532   00044988              1.0          Bells Hill Estate       Housing   \n",
      "\n",
      "              Scientific Name Inspection Date Inspection Due Date  \\\n",
      "78         Fraxinus excelsior      2017-04-28           2020/2021   \n",
      "298          Pinus sylvestris      2017-04-28           2020/2021   \n",
      "660        Crataegus monogyna      2017-04-28           2020/2021   \n",
      "1526       Fraxinus excelsior      2017-04-28           2020/2021   \n",
      "5392   Aesculus hippocastanum      2017-04-28           2020/2021   \n",
      "18069           Tilia cordata      2017-04-28           2020/2021   \n",
      "18078           Tilia cordata      2017-04-28           2020/2021   \n",
      "19532           Tilia cordata      2017-04-28           2020/2021   \n",
      "\n",
      "       Height In Metres  Spread In Metres  \\\n",
      "78                 20.0              10.0   \n",
      "298                10.0               3.0   \n",
      "660                 4.0               4.0   \n",
      "1526               18.0              12.0   \n",
      "5392               22.0              12.0   \n",
      "18069              23.0              14.0   \n",
      "18078              21.0              12.0   \n",
      "19532              21.0              12.0   \n",
      "\n",
      "       Diameter In Centimetres At Breast Height Ward Code Ward Name   Easting  \\\n",
      "78                                         49.0       NaN       NaN  523883.0   \n",
      "298                                        41.0       NaN       NaN  520367.0   \n",
      "660                                         7.0       NaN       NaN  523875.0   \n",
      "1526                                       54.0       NaN       NaN  523936.0   \n",
      "5392                                       67.0       NaN       NaN  523889.0   \n",
      "18069                                      89.0       NaN       NaN  523867.0   \n",
      "18078                                      56.0       NaN       NaN  523905.0   \n",
      "19532                                      65.0       NaN       NaN  523909.0   \n",
      "\n",
      "       Northing  Longitude   Latitude                Location  \n",
      "78     196179.0  -0.210713  51.650765  (51.650765, -0.210713)  \n",
      "298    195595.0  -0.261719  51.646283  (51.646283, -0.261719)  \n",
      "660    196170.0  -0.210830  51.650690    (51.65069, -0.21083)  \n",
      "1526   196127.0  -0.209969  51.650287  (51.650287, -0.209969)  \n",
      "5392   196188.0  -0.210618  51.650843  (51.650843, -0.210618)  \n",
      "18069  196159.0  -0.210957  51.650590   (51.65059, -0.210957)  \n",
      "18078  196174.0  -0.210394  51.650719  (51.650719, -0.210394)  \n",
      "19532  196169.0  -0.210340  51.650676   (51.650676, -0.21034)  \n"
     ]
    }
   ],
   "source": [
    "# Created new value and selected the outside trees.\n",
    "\n",
    "outside_trees = trees[mask]\n",
    "print(outside_trees)"
   ]
  },
  {
   "cell_type": "markdown",
   "id": "ee3f0cff-17bb-4f75-a92c-876c56e230c5",
   "metadata": {},
   "source": [
    "### 7.4 Observations"
   ]
  },
  {
   "cell_type": "markdown",
   "id": "3f5a1605-de7e-4cb7-8190-c643122c104e",
   "metadata": {},
   "source": [
    "# Main thing to notice here is that as a result of the scatter plot all outside trees appear to be with values greater than 194000. There are 8 in total. Therefore in task 7.3 they were assigned a variable in order to print them in  a data frame."
   ]
  },
  {
   "cell_type": "markdown",
   "id": "0680cf79-2a3a-4e9c-8332-609680b69040",
   "metadata": {},
   "source": [
    "<hr/>"
   ]
  },
  {
   "cell_type": "markdown",
   "id": "2c6f941f-e14a-4a51-aa29-66010910009a",
   "metadata": {
    "tags": []
   },
   "source": [
    "## Task 8: Identify Unmatched Data"
   ]
  },
  {
   "cell_type": "markdown",
   "id": "1f5064f7-e956-4420-b80c-f14c2d2d3427",
   "metadata": {},
   "source": [
    "### 8.1 Find Trees that Don't have Matching Environmental Data"
   ]
  },
  {
   "cell_type": "code",
   "execution_count": 149,
   "id": "ec5e5506-1c6f-4f33-92d1-420ea57b6da5",
   "metadata": {},
   "outputs": [
    {
     "data": {
      "text/html": [
       "<div>\n",
       "<style scoped>\n",
       "    .dataframe tbody tr th:only-of-type {\n",
       "        vertical-align: middle;\n",
       "    }\n",
       "\n",
       "    .dataframe tbody tr th {\n",
       "        vertical-align: top;\n",
       "    }\n",
       "\n",
       "    .dataframe thead th {\n",
       "        text-align: right;\n",
       "    }\n",
       "</style>\n",
       "<table border=\"1\" class=\"dataframe\">\n",
       "  <thead>\n",
       "    <tr style=\"text-align: right;\">\n",
       "      <th></th>\n",
       "      <th>Identifier</th>\n",
       "      <th>Number Of Trees</th>\n",
       "      <th>Site Name</th>\n",
       "      <th>Contract Area</th>\n",
       "      <th>Scientific Name</th>\n",
       "      <th>Inspection Date</th>\n",
       "      <th>Inspection Due Date</th>\n",
       "      <th>Height In Metres</th>\n",
       "      <th>Spread In Metres</th>\n",
       "      <th>Diameter In Centimetres At Breast Height</th>\n",
       "      <th>Ward Code</th>\n",
       "      <th>Ward Name</th>\n",
       "      <th>Easting</th>\n",
       "      <th>Northing</th>\n",
       "      <th>Longitude</th>\n",
       "      <th>Latitude</th>\n",
       "      <th>Location</th>\n",
       "    </tr>\n",
       "  </thead>\n",
       "  <tbody>\n",
       "    <tr>\n",
       "      <th>66</th>\n",
       "      <td>00059712</td>\n",
       "      <td>1.0</td>\n",
       "      <td>Maiden Lane Estate</td>\n",
       "      <td>Housing</td>\n",
       "      <td>Acer saccharinum</td>\n",
       "      <td>2019-05-28</td>\n",
       "      <td>2022/2023</td>\n",
       "      <td>12.0</td>\n",
       "      <td>5.0</td>\n",
       "      <td>20.0</td>\n",
       "      <td>E05000131</td>\n",
       "      <td>Cantelowes</td>\n",
       "      <td>529795.0</td>\n",
       "      <td>184142.0</td>\n",
       "      <td>-0.129750</td>\n",
       "      <td>51.541266</td>\n",
       "      <td>(51.541266, -0.12975)</td>\n",
       "    </tr>\n",
       "    <tr>\n",
       "      <th>125</th>\n",
       "      <td>00048578</td>\n",
       "      <td>1.0</td>\n",
       "      <td>BUCK STREET</td>\n",
       "      <td>Highways</td>\n",
       "      <td>Sorbus aucuparia</td>\n",
       "      <td>2017-07-19</td>\n",
       "      <td>2020/2021</td>\n",
       "      <td>6.0</td>\n",
       "      <td>2.0</td>\n",
       "      <td>10.0</td>\n",
       "      <td>E05000130</td>\n",
       "      <td>Camden Town with Primrose Hill</td>\n",
       "      <td>528900.0</td>\n",
       "      <td>184020.0</td>\n",
       "      <td>-0.142698</td>\n",
       "      <td>51.540371</td>\n",
       "      <td>(51.540371, -0.142698)</td>\n",
       "    </tr>\n",
       "    <tr>\n",
       "      <th>1148</th>\n",
       "      <td>00006577</td>\n",
       "      <td>1.0</td>\n",
       "      <td>FAWLEY ROAD</td>\n",
       "      <td>Highways</td>\n",
       "      <td>Tilia euchlora</td>\n",
       "      <td>2018-09-28</td>\n",
       "      <td>2021/2022</td>\n",
       "      <td>15.0</td>\n",
       "      <td>6.0</td>\n",
       "      <td>38.0</td>\n",
       "      <td>E05000145</td>\n",
       "      <td>West Hampstead</td>\n",
       "      <td>525572.0</td>\n",
       "      <td>185015.0</td>\n",
       "      <td>-0.190313</td>\n",
       "      <td>51.550062</td>\n",
       "      <td>(51.550062, -0.190313)</td>\n",
       "    </tr>\n",
       "    <tr>\n",
       "      <th>1998</th>\n",
       "      <td>00007366</td>\n",
       "      <td>1.0</td>\n",
       "      <td>FORTUNE GREEN RD, OPEN SPACE (LS)</td>\n",
       "      <td>Parks</td>\n",
       "      <td>Ilex aquifolium</td>\n",
       "      <td>2017-03-21</td>\n",
       "      <td>2019/2020</td>\n",
       "      <td>9.0</td>\n",
       "      <td>6.0</td>\n",
       "      <td>44.0</td>\n",
       "      <td>E05000132</td>\n",
       "      <td>Fortune Green</td>\n",
       "      <td>525074.0</td>\n",
       "      <td>185541.0</td>\n",
       "      <td>-0.197304</td>\n",
       "      <td>51.554901</td>\n",
       "      <td>(51.554901, -0.197304)</td>\n",
       "    </tr>\n",
       "    <tr>\n",
       "      <th>2246</th>\n",
       "      <td>00014633</td>\n",
       "      <td>1.0</td>\n",
       "      <td>Mortimer Estate</td>\n",
       "      <td>Housing</td>\n",
       "      <td>Tilia europaea</td>\n",
       "      <td>2019-01-29</td>\n",
       "      <td>2021/2022</td>\n",
       "      <td>16.0</td>\n",
       "      <td>12.0</td>\n",
       "      <td>47.0</td>\n",
       "      <td>E05000140</td>\n",
       "      <td>Kilburn</td>\n",
       "      <td>525763.0</td>\n",
       "      <td>183613.0</td>\n",
       "      <td>-0.188060</td>\n",
       "      <td>51.537424</td>\n",
       "      <td>(51.537424, -0.18806)</td>\n",
       "    </tr>\n",
       "    <tr>\n",
       "      <th>5478</th>\n",
       "      <td>00060382</td>\n",
       "      <td>1.0</td>\n",
       "      <td>SHAFTESBURY AVENUE</td>\n",
       "      <td>Highways</td>\n",
       "      <td>Vacant Tree Pit</td>\n",
       "      <td>NaT</td>\n",
       "      <td>NaN</td>\n",
       "      <td>NaN</td>\n",
       "      <td>NaN</td>\n",
       "      <td>NaN</td>\n",
       "      <td>E05000138</td>\n",
       "      <td>Holborn and Covent Garden</td>\n",
       "      <td>530073.0</td>\n",
       "      <td>181247.0</td>\n",
       "      <td>-0.126813</td>\n",
       "      <td>51.515186</td>\n",
       "      <td>(51.515186, -0.126813)</td>\n",
       "    </tr>\n",
       "    <tr>\n",
       "      <th>10637</th>\n",
       "      <td>00002874</td>\n",
       "      <td>1.0</td>\n",
       "      <td>BURGHLEY ROAD</td>\n",
       "      <td>Highways</td>\n",
       "      <td>Platanus x hispanica</td>\n",
       "      <td>2017-08-14</td>\n",
       "      <td>2020/2021</td>\n",
       "      <td>20.0</td>\n",
       "      <td>8.0</td>\n",
       "      <td>52.0</td>\n",
       "      <td>E05000139</td>\n",
       "      <td>Kentish Town</td>\n",
       "      <td>529119.0</td>\n",
       "      <td>185889.0</td>\n",
       "      <td>-0.138863</td>\n",
       "      <td>51.557120</td>\n",
       "      <td>(51.55712, -0.138863)</td>\n",
       "    </tr>\n",
       "    <tr>\n",
       "      <th>10977</th>\n",
       "      <td>00055227</td>\n",
       "      <td>1.0</td>\n",
       "      <td>BURGHLEY ROAD</td>\n",
       "      <td>Highways</td>\n",
       "      <td>Amelanchier lamarckii</td>\n",
       "      <td>2017-08-14</td>\n",
       "      <td>2020/2021</td>\n",
       "      <td>3.0</td>\n",
       "      <td>2.0</td>\n",
       "      <td>5.0</td>\n",
       "      <td>E05000139</td>\n",
       "      <td>Kentish Town</td>\n",
       "      <td>528920.0</td>\n",
       "      <td>185694.0</td>\n",
       "      <td>-0.141802</td>\n",
       "      <td>51.555408</td>\n",
       "      <td>(51.555408, -0.141802)</td>\n",
       "    </tr>\n",
       "    <tr>\n",
       "      <th>11795</th>\n",
       "      <td>00016702</td>\n",
       "      <td>1.0</td>\n",
       "      <td>RED LION SQUARE, GARDENS (LS)</td>\n",
       "      <td>Parks</td>\n",
       "      <td>Platanus x hispanica</td>\n",
       "      <td>2018-06-04</td>\n",
       "      <td>2021/2022</td>\n",
       "      <td>30.0</td>\n",
       "      <td>23.0</td>\n",
       "      <td>165.0</td>\n",
       "      <td>E05000138</td>\n",
       "      <td>Holborn and Covent Garden</td>\n",
       "      <td>530572.0</td>\n",
       "      <td>181701.0</td>\n",
       "      <td>-0.119460</td>\n",
       "      <td>51.519146</td>\n",
       "      <td>(51.519146, -0.11946)</td>\n",
       "    </tr>\n",
       "    <tr>\n",
       "      <th>11856</th>\n",
       "      <td>00054744</td>\n",
       "      <td>1.0</td>\n",
       "      <td>Carrol &amp; Sanderson Close Estate</td>\n",
       "      <td>Housing</td>\n",
       "      <td>Prunus unidentified species</td>\n",
       "      <td>2017-01-06</td>\n",
       "      <td>2020/2021</td>\n",
       "      <td>3.0</td>\n",
       "      <td>3.0</td>\n",
       "      <td>13.0</td>\n",
       "      <td>E05000137</td>\n",
       "      <td>Highgate</td>\n",
       "      <td>528661.0</td>\n",
       "      <td>185556.0</td>\n",
       "      <td>-0.145585</td>\n",
       "      <td>51.554226</td>\n",
       "      <td>(51.554226, -0.145585)</td>\n",
       "    </tr>\n",
       "    <tr>\n",
       "      <th>12056</th>\n",
       "      <td>00003694</td>\n",
       "      <td>1.0</td>\n",
       "      <td>Estate 1-161 Burnham (cons)</td>\n",
       "      <td>Housing</td>\n",
       "      <td>Acer platanoides</td>\n",
       "      <td>2018-04-17</td>\n",
       "      <td>2021/2022</td>\n",
       "      <td>3.0</td>\n",
       "      <td>1.0</td>\n",
       "      <td>6.0</td>\n",
       "      <td>E05000128</td>\n",
       "      <td>Belsize</td>\n",
       "      <td>527015.0</td>\n",
       "      <td>184315.0</td>\n",
       "      <td>-0.169763</td>\n",
       "      <td>51.543451</td>\n",
       "      <td>(51.543451, -0.169763)</td>\n",
       "    </tr>\n",
       "    <tr>\n",
       "      <th>12936</th>\n",
       "      <td>00054558</td>\n",
       "      <td>1.0</td>\n",
       "      <td>ST. MARY'S KILBURN C OF E JMI (E)</td>\n",
       "      <td>Education</td>\n",
       "      <td>Amelanchier lamarckii</td>\n",
       "      <td>2019-10-07</td>\n",
       "      <td>2022/2023</td>\n",
       "      <td>4.0</td>\n",
       "      <td>2.0</td>\n",
       "      <td>8.0</td>\n",
       "      <td>E05000140</td>\n",
       "      <td>Kilburn</td>\n",
       "      <td>525443.0</td>\n",
       "      <td>183919.0</td>\n",
       "      <td>-0.192552</td>\n",
       "      <td>51.540245</td>\n",
       "      <td>(51.540245, -0.192552)</td>\n",
       "    </tr>\n",
       "    <tr>\n",
       "      <th>13248</th>\n",
       "      <td>00059317</td>\n",
       "      <td>1.0</td>\n",
       "      <td>ADELAIDE ROAD NATURE AREA</td>\n",
       "      <td>Parks</td>\n",
       "      <td>Stump Only</td>\n",
       "      <td>2019-01-31</td>\n",
       "      <td>2021/2022</td>\n",
       "      <td>0.0</td>\n",
       "      <td>5.0</td>\n",
       "      <td>50.0</td>\n",
       "      <td>E05000128</td>\n",
       "      <td>Belsize</td>\n",
       "      <td>527577.0</td>\n",
       "      <td>184297.0</td>\n",
       "      <td>-0.161664</td>\n",
       "      <td>51.543163</td>\n",
       "      <td>(51.543163, -0.161664)</td>\n",
       "    </tr>\n",
       "    <tr>\n",
       "      <th>16815</th>\n",
       "      <td>00055884</td>\n",
       "      <td>1.0</td>\n",
       "      <td>HONEYBOURNE ROAD</td>\n",
       "      <td>Highways</td>\n",
       "      <td>Acer pseudoplatanus 'Brilliant</td>\n",
       "      <td>2018-05-10</td>\n",
       "      <td>2021/2022</td>\n",
       "      <td>2.0</td>\n",
       "      <td>1.0</td>\n",
       "      <td>4.0</td>\n",
       "      <td>E05000145</td>\n",
       "      <td>West Hampstead</td>\n",
       "      <td>525593.0</td>\n",
       "      <td>185050.0</td>\n",
       "      <td>-0.189987</td>\n",
       "      <td>51.550377</td>\n",
       "      <td>(51.550377, -0.189987)</td>\n",
       "    </tr>\n",
       "    <tr>\n",
       "      <th>18690</th>\n",
       "      <td>00059963</td>\n",
       "      <td>1.0</td>\n",
       "      <td>Ampthill Square Estate</td>\n",
       "      <td>Housing</td>\n",
       "      <td>Vacant Tree Pit (planned: Parrotia persica van...</td>\n",
       "      <td>2019-01-08</td>\n",
       "      <td>2022/2023</td>\n",
       "      <td>NaN</td>\n",
       "      <td>NaN</td>\n",
       "      <td>NaN</td>\n",
       "      <td>E05000143</td>\n",
       "      <td>St Pancras and Somers Town</td>\n",
       "      <td>529216.0</td>\n",
       "      <td>183103.0</td>\n",
       "      <td>-0.138479</td>\n",
       "      <td>51.532058</td>\n",
       "      <td>(51.532058, -0.138479)</td>\n",
       "    </tr>\n",
       "    <tr>\n",
       "      <th>18958</th>\n",
       "      <td>00059246</td>\n",
       "      <td>1.0</td>\n",
       "      <td>Belsize nature reserve, Russell Nursery</td>\n",
       "      <td>Parks</td>\n",
       "      <td>Ulmus procera</td>\n",
       "      <td>2019-01-29</td>\n",
       "      <td>2021/2022</td>\n",
       "      <td>5.0</td>\n",
       "      <td>4.0</td>\n",
       "      <td>11.0</td>\n",
       "      <td>E05000134</td>\n",
       "      <td>Gospel Oak</td>\n",
       "      <td>527523.0</td>\n",
       "      <td>185233.0</td>\n",
       "      <td>-0.162101</td>\n",
       "      <td>51.551587</td>\n",
       "      <td>(51.551587, -0.162101)</td>\n",
       "    </tr>\n",
       "    <tr>\n",
       "      <th>19606</th>\n",
       "      <td>00005127</td>\n",
       "      <td>1.0</td>\n",
       "      <td>CUMBERLAND MARKET, OPEN SPACE (LS)</td>\n",
       "      <td>Parks</td>\n",
       "      <td>Platanus x hispanica</td>\n",
       "      <td>2018-03-13</td>\n",
       "      <td>2020/2021</td>\n",
       "      <td>10.0</td>\n",
       "      <td>8.0</td>\n",
       "      <td>38.0</td>\n",
       "      <td>E05000142</td>\n",
       "      <td>Regent's Park</td>\n",
       "      <td>528913.0</td>\n",
       "      <td>182814.0</td>\n",
       "      <td>-0.142959</td>\n",
       "      <td>51.529527</td>\n",
       "      <td>(51.529527, -0.142959)</td>\n",
       "    </tr>\n",
       "    <tr>\n",
       "      <th>20169</th>\n",
       "      <td>00017912</td>\n",
       "      <td>1.0</td>\n",
       "      <td>SHERRIFF ROAD</td>\n",
       "      <td>Highways</td>\n",
       "      <td>Tilia platyphyllos</td>\n",
       "      <td>2018-10-09</td>\n",
       "      <td>2021/2022</td>\n",
       "      <td>9.0</td>\n",
       "      <td>5.0</td>\n",
       "      <td>42.0</td>\n",
       "      <td>E05000145</td>\n",
       "      <td>West Hampstead</td>\n",
       "      <td>525265.0</td>\n",
       "      <td>184543.0</td>\n",
       "      <td>-0.194897</td>\n",
       "      <td>51.545886</td>\n",
       "      <td>(51.545886, -0.194897)</td>\n",
       "    </tr>\n",
       "    <tr>\n",
       "      <th>20226</th>\n",
       "      <td>00047080</td>\n",
       "      <td>1.0</td>\n",
       "      <td>Ampthill Square Estate</td>\n",
       "      <td>Housing</td>\n",
       "      <td>Malus unidentified species</td>\n",
       "      <td>2019-01-08</td>\n",
       "      <td>2022/2023</td>\n",
       "      <td>5.0</td>\n",
       "      <td>3.0</td>\n",
       "      <td>16.0</td>\n",
       "      <td>E05000143</td>\n",
       "      <td>St Pancras and Somers Town</td>\n",
       "      <td>529279.0</td>\n",
       "      <td>183106.0</td>\n",
       "      <td>-0.137573</td>\n",
       "      <td>51.532073</td>\n",
       "      <td>(51.532073, -0.137573)</td>\n",
       "    </tr>\n",
       "    <tr>\n",
       "      <th>21287</th>\n",
       "      <td>00029059</td>\n",
       "      <td>1.0</td>\n",
       "      <td>Estate 1-20 Marrick House (cons)</td>\n",
       "      <td>Housing</td>\n",
       "      <td>Sambucus nigra</td>\n",
       "      <td>2018-06-19</td>\n",
       "      <td>2021/2022</td>\n",
       "      <td>6.0</td>\n",
       "      <td>6.0</td>\n",
       "      <td>39.0</td>\n",
       "      <td>E05000140</td>\n",
       "      <td>Kilburn</td>\n",
       "      <td>525832.0</td>\n",
       "      <td>183583.0</td>\n",
       "      <td>-0.187075</td>\n",
       "      <td>51.537139</td>\n",
       "      <td>(51.537139, -0.187075)</td>\n",
       "    </tr>\n",
       "    <tr>\n",
       "      <th>22470</th>\n",
       "      <td>00012126</td>\n",
       "      <td>1.0</td>\n",
       "      <td>KINGS COLLEGE ROAD</td>\n",
       "      <td>Highways</td>\n",
       "      <td>Fraxinus excelsior</td>\n",
       "      <td>2018-07-13</td>\n",
       "      <td>2021/2022</td>\n",
       "      <td>18.0</td>\n",
       "      <td>12.0</td>\n",
       "      <td>48.0</td>\n",
       "      <td>E05000128</td>\n",
       "      <td>Belsize</td>\n",
       "      <td>526999.0</td>\n",
       "      <td>184416.0</td>\n",
       "      <td>-0.169957</td>\n",
       "      <td>51.544363</td>\n",
       "      <td>(51.544363, -0.169957)</td>\n",
       "    </tr>\n",
       "    <tr>\n",
       "      <th>23301</th>\n",
       "      <td>00010784</td>\n",
       "      <td>1.0</td>\n",
       "      <td>Holly Lodge Estate</td>\n",
       "      <td>Housing</td>\n",
       "      <td>Ilex aquifolium</td>\n",
       "      <td>2017-06-14</td>\n",
       "      <td>2020/2021</td>\n",
       "      <td>7.0</td>\n",
       "      <td>5.0</td>\n",
       "      <td>20.0</td>\n",
       "      <td>E05000137</td>\n",
       "      <td>Highgate</td>\n",
       "      <td>528472.0</td>\n",
       "      <td>186812.0</td>\n",
       "      <td>-0.147845</td>\n",
       "      <td>51.565562</td>\n",
       "      <td>(51.565562, -0.147845)</td>\n",
       "    </tr>\n",
       "    <tr>\n",
       "      <th>23315</th>\n",
       "      <td>00056485</td>\n",
       "      <td>1.0</td>\n",
       "      <td>WATERLOW PARK (LS)</td>\n",
       "      <td>Parks</td>\n",
       "      <td>Fraxinus excelsior</td>\n",
       "      <td>2019-05-24</td>\n",
       "      <td>2022/2023</td>\n",
       "      <td>12.0</td>\n",
       "      <td>5.0</td>\n",
       "      <td>16.0</td>\n",
       "      <td>E05000137</td>\n",
       "      <td>Highgate</td>\n",
       "      <td>528730.0</td>\n",
       "      <td>187264.0</td>\n",
       "      <td>-0.143955</td>\n",
       "      <td>51.569567</td>\n",
       "      <td>(51.569567, -0.143955)</td>\n",
       "    </tr>\n",
       "  </tbody>\n",
       "</table>\n",
       "</div>"
      ],
      "text/plain": [
       "      Identifier  Number Of Trees                                Site Name  \\\n",
       "66      00059712              1.0                       Maiden Lane Estate   \n",
       "125     00048578              1.0                              BUCK STREET   \n",
       "1148    00006577              1.0                              FAWLEY ROAD   \n",
       "1998    00007366              1.0        FORTUNE GREEN RD, OPEN SPACE (LS)   \n",
       "2246    00014633              1.0                          Mortimer Estate   \n",
       "5478    00060382              1.0                       SHAFTESBURY AVENUE   \n",
       "10637   00002874              1.0                            BURGHLEY ROAD   \n",
       "10977   00055227              1.0                            BURGHLEY ROAD   \n",
       "11795   00016702              1.0            RED LION SQUARE, GARDENS (LS)   \n",
       "11856   00054744              1.0          Carrol & Sanderson Close Estate   \n",
       "12056   00003694              1.0              Estate 1-161 Burnham (cons)   \n",
       "12936   00054558              1.0        ST. MARY'S KILBURN C OF E JMI (E)   \n",
       "13248   00059317              1.0                ADELAIDE ROAD NATURE AREA   \n",
       "16815   00055884              1.0                         HONEYBOURNE ROAD   \n",
       "18690   00059963              1.0                   Ampthill Square Estate   \n",
       "18958   00059246              1.0  Belsize nature reserve, Russell Nursery   \n",
       "19606   00005127              1.0       CUMBERLAND MARKET, OPEN SPACE (LS)   \n",
       "20169   00017912              1.0                            SHERRIFF ROAD   \n",
       "20226   00047080              1.0                   Ampthill Square Estate   \n",
       "21287   00029059              1.0         Estate 1-20 Marrick House (cons)   \n",
       "22470   00012126              1.0                       KINGS COLLEGE ROAD   \n",
       "23301   00010784              1.0                       Holly Lodge Estate   \n",
       "23315   00056485              1.0                       WATERLOW PARK (LS)   \n",
       "\n",
       "      Contract Area                                    Scientific Name  \\\n",
       "66          Housing                                   Acer saccharinum   \n",
       "125        Highways                                   Sorbus aucuparia   \n",
       "1148       Highways                                     Tilia euchlora   \n",
       "1998          Parks                                    Ilex aquifolium   \n",
       "2246        Housing                                     Tilia europaea   \n",
       "5478       Highways                                    Vacant Tree Pit   \n",
       "10637      Highways                               Platanus x hispanica   \n",
       "10977      Highways                              Amelanchier lamarckii   \n",
       "11795         Parks                               Platanus x hispanica   \n",
       "11856       Housing                        Prunus unidentified species   \n",
       "12056       Housing                                   Acer platanoides   \n",
       "12936     Education                              Amelanchier lamarckii   \n",
       "13248         Parks                                         Stump Only   \n",
       "16815      Highways                     Acer pseudoplatanus 'Brilliant   \n",
       "18690       Housing  Vacant Tree Pit (planned: Parrotia persica van...   \n",
       "18958         Parks                                      Ulmus procera   \n",
       "19606         Parks                               Platanus x hispanica   \n",
       "20169      Highways                                 Tilia platyphyllos   \n",
       "20226       Housing                         Malus unidentified species   \n",
       "21287       Housing                                     Sambucus nigra   \n",
       "22470      Highways                                 Fraxinus excelsior   \n",
       "23301       Housing                                    Ilex aquifolium   \n",
       "23315         Parks                                 Fraxinus excelsior   \n",
       "\n",
       "      Inspection Date Inspection Due Date  Height In Metres  Spread In Metres  \\\n",
       "66         2019-05-28           2022/2023              12.0               5.0   \n",
       "125        2017-07-19           2020/2021               6.0               2.0   \n",
       "1148       2018-09-28           2021/2022              15.0               6.0   \n",
       "1998       2017-03-21           2019/2020               9.0               6.0   \n",
       "2246       2019-01-29           2021/2022              16.0              12.0   \n",
       "5478              NaT                 NaN               NaN               NaN   \n",
       "10637      2017-08-14           2020/2021              20.0               8.0   \n",
       "10977      2017-08-14           2020/2021               3.0               2.0   \n",
       "11795      2018-06-04           2021/2022              30.0              23.0   \n",
       "11856      2017-01-06           2020/2021               3.0               3.0   \n",
       "12056      2018-04-17           2021/2022               3.0               1.0   \n",
       "12936      2019-10-07           2022/2023               4.0               2.0   \n",
       "13248      2019-01-31           2021/2022               0.0               5.0   \n",
       "16815      2018-05-10           2021/2022               2.0               1.0   \n",
       "18690      2019-01-08           2022/2023               NaN               NaN   \n",
       "18958      2019-01-29           2021/2022               5.0               4.0   \n",
       "19606      2018-03-13           2020/2021              10.0               8.0   \n",
       "20169      2018-10-09           2021/2022               9.0               5.0   \n",
       "20226      2019-01-08           2022/2023               5.0               3.0   \n",
       "21287      2018-06-19           2021/2022               6.0               6.0   \n",
       "22470      2018-07-13           2021/2022              18.0              12.0   \n",
       "23301      2017-06-14           2020/2021               7.0               5.0   \n",
       "23315      2019-05-24           2022/2023              12.0               5.0   \n",
       "\n",
       "       Diameter In Centimetres At Breast Height  Ward Code  \\\n",
       "66                                         20.0  E05000131   \n",
       "125                                        10.0  E05000130   \n",
       "1148                                       38.0  E05000145   \n",
       "1998                                       44.0  E05000132   \n",
       "2246                                       47.0  E05000140   \n",
       "5478                                        NaN  E05000138   \n",
       "10637                                      52.0  E05000139   \n",
       "10977                                       5.0  E05000139   \n",
       "11795                                     165.0  E05000138   \n",
       "11856                                      13.0  E05000137   \n",
       "12056                                       6.0  E05000128   \n",
       "12936                                       8.0  E05000140   \n",
       "13248                                      50.0  E05000128   \n",
       "16815                                       4.0  E05000145   \n",
       "18690                                       NaN  E05000143   \n",
       "18958                                      11.0  E05000134   \n",
       "19606                                      38.0  E05000142   \n",
       "20169                                      42.0  E05000145   \n",
       "20226                                      16.0  E05000143   \n",
       "21287                                      39.0  E05000140   \n",
       "22470                                      48.0  E05000128   \n",
       "23301                                      20.0  E05000137   \n",
       "23315                                      16.0  E05000137   \n",
       "\n",
       "                            Ward Name   Easting  Northing  Longitude  \\\n",
       "66                         Cantelowes  529795.0  184142.0  -0.129750   \n",
       "125    Camden Town with Primrose Hill  528900.0  184020.0  -0.142698   \n",
       "1148                   West Hampstead  525572.0  185015.0  -0.190313   \n",
       "1998                    Fortune Green  525074.0  185541.0  -0.197304   \n",
       "2246                          Kilburn  525763.0  183613.0  -0.188060   \n",
       "5478        Holborn and Covent Garden  530073.0  181247.0  -0.126813   \n",
       "10637                    Kentish Town  529119.0  185889.0  -0.138863   \n",
       "10977                    Kentish Town  528920.0  185694.0  -0.141802   \n",
       "11795       Holborn and Covent Garden  530572.0  181701.0  -0.119460   \n",
       "11856                        Highgate  528661.0  185556.0  -0.145585   \n",
       "12056                         Belsize  527015.0  184315.0  -0.169763   \n",
       "12936                         Kilburn  525443.0  183919.0  -0.192552   \n",
       "13248                         Belsize  527577.0  184297.0  -0.161664   \n",
       "16815                  West Hampstead  525593.0  185050.0  -0.189987   \n",
       "18690      St Pancras and Somers Town  529216.0  183103.0  -0.138479   \n",
       "18958                      Gospel Oak  527523.0  185233.0  -0.162101   \n",
       "19606                   Regent's Park  528913.0  182814.0  -0.142959   \n",
       "20169                  West Hampstead  525265.0  184543.0  -0.194897   \n",
       "20226      St Pancras and Somers Town  529279.0  183106.0  -0.137573   \n",
       "21287                         Kilburn  525832.0  183583.0  -0.187075   \n",
       "22470                         Belsize  526999.0  184416.0  -0.169957   \n",
       "23301                        Highgate  528472.0  186812.0  -0.147845   \n",
       "23315                        Highgate  528730.0  187264.0  -0.143955   \n",
       "\n",
       "        Latitude                Location  \n",
       "66     51.541266   (51.541266, -0.12975)  \n",
       "125    51.540371  (51.540371, -0.142698)  \n",
       "1148   51.550062  (51.550062, -0.190313)  \n",
       "1998   51.554901  (51.554901, -0.197304)  \n",
       "2246   51.537424   (51.537424, -0.18806)  \n",
       "5478   51.515186  (51.515186, -0.126813)  \n",
       "10637  51.557120   (51.55712, -0.138863)  \n",
       "10977  51.555408  (51.555408, -0.141802)  \n",
       "11795  51.519146   (51.519146, -0.11946)  \n",
       "11856  51.554226  (51.554226, -0.145585)  \n",
       "12056  51.543451  (51.543451, -0.169763)  \n",
       "12936  51.540245  (51.540245, -0.192552)  \n",
       "13248  51.543163  (51.543163, -0.161664)  \n",
       "16815  51.550377  (51.550377, -0.189987)  \n",
       "18690  51.532058  (51.532058, -0.138479)  \n",
       "18958  51.551587  (51.551587, -0.162101)  \n",
       "19606  51.529527  (51.529527, -0.142959)  \n",
       "20169  51.545886  (51.545886, -0.194897)  \n",
       "20226  51.532073  (51.532073, -0.137573)  \n",
       "21287  51.537139  (51.537139, -0.187075)  \n",
       "22470  51.544363  (51.544363, -0.169957)  \n",
       "23301  51.565562  (51.565562, -0.147845)  \n",
       "23315  51.569567  (51.569567, -0.143955)  "
      ]
     },
     "execution_count": 149,
     "metadata": {},
     "output_type": "execute_result"
    }
   ],
   "source": [
    "# Finding the trees that don't have matching environmental data through the combination of the mask and isin methods\n",
    "\n",
    "mask = ~trees['Identifier'].isin(trees_e['Identifier'])\n",
    "unmatched_trees = trees[mask]\n",
    "unmatched_trees"
   ]
  },
  {
   "cell_type": "code",
   "execution_count": 150,
   "id": "36cabc0b-2d67-4a8d-8d85-6d3d3b40acfb",
   "metadata": {},
   "outputs": [
    {
     "name": "stdout",
     "output_type": "stream",
     "text": [
      "23\n"
     ]
    }
   ],
   "source": [
    "# confirming how many rows we have for clarity\n",
    "\n",
    "num_rows = unmatched_trees.shape[0]\n",
    "print(num_rows)"
   ]
  },
  {
   "cell_type": "markdown",
   "id": "163e0301-fae2-41cc-a7a7-11a31b9e0499",
   "metadata": {},
   "source": [
    "### 8.2 Find Environmental Data that Doesn't have Matching Tree Data"
   ]
  },
  {
   "cell_type": "code",
   "execution_count": 151,
   "id": "17727576-c7c3-487a-87d1-d27d326f661c",
   "metadata": {},
   "outputs": [
    {
     "data": {
      "text/html": [
       "<div>\n",
       "<style scoped>\n",
       "    .dataframe tbody tr th:only-of-type {\n",
       "        vertical-align: middle;\n",
       "    }\n",
       "\n",
       "    .dataframe tbody tr th {\n",
       "        vertical-align: top;\n",
       "    }\n",
       "\n",
       "    .dataframe thead th {\n",
       "        text-align: right;\n",
       "    }\n",
       "</style>\n",
       "<table border=\"1\" class=\"dataframe\">\n",
       "  <thead>\n",
       "    <tr style=\"text-align: right;\">\n",
       "      <th></th>\n",
       "      <th>Identifier</th>\n",
       "      <th>Maturity</th>\n",
       "      <th>Physiological Condition</th>\n",
       "      <th>Tree Set To Be Removed</th>\n",
       "      <th>Removal Reason</th>\n",
       "      <th>Capital Asset Value For Amenity Trees</th>\n",
       "      <th>Carbon Storage In Kilograms</th>\n",
       "      <th>Gross Carbon Sequestration Per Year In Kilograms</th>\n",
       "      <th>Pollution Removal Per Year In Grams</th>\n",
       "    </tr>\n",
       "  </thead>\n",
       "  <tbody>\n",
       "  </tbody>\n",
       "</table>\n",
       "</div>"
      ],
      "text/plain": [
       "Empty DataFrame\n",
       "Columns: [Identifier, Maturity, Physiological Condition, Tree Set To Be Removed, Removal Reason, Capital Asset Value For Amenity Trees, Carbon Storage In Kilograms, Gross Carbon Sequestration Per Year In Kilograms, Pollution Removal Per Year In Grams]\n",
       "Index: []"
      ]
     },
     "execution_count": 151,
     "metadata": {},
     "output_type": "execute_result"
    }
   ],
   "source": [
    "# Finding the environmental data that doesn't have matching tree data\n",
    "\n",
    "mask = ~trees_e['Identifier'].isin(trees['Identifier'])\n",
    "unmatched_environmental = trees_e[mask]\n",
    "unmatched_environmental"
   ]
  },
  {
   "cell_type": "code",
   "execution_count": 152,
   "id": "7c562a4f-6a70-4e53-8dc5-c2ebd3a1417f",
   "metadata": {},
   "outputs": [
    {
     "data": {
      "text/plain": [
       "0"
      ]
     },
     "execution_count": 152,
     "metadata": {},
     "output_type": "execute_result"
    }
   ],
   "source": [
    "# Confirming how many rows we have for clarity\n",
    "new_rows_2 = unmatched_environmental.shape[0]\n",
    "new_rows_2"
   ]
  },
  {
   "cell_type": "markdown",
   "id": "ce4445b4-53db-4d95-82b6-4af1088046bf",
   "metadata": {},
   "source": [
    "### 8.3 Find Trees that Don't have Matching Common Names Data"
   ]
  },
  {
   "cell_type": "code",
   "execution_count": 153,
   "id": "f66f9bfd-6bfc-4faf-946e-d5d8f6cbb4b6",
   "metadata": {},
   "outputs": [
    {
     "data": {
      "text/html": [
       "<div>\n",
       "<style scoped>\n",
       "    .dataframe tbody tr th:only-of-type {\n",
       "        vertical-align: middle;\n",
       "    }\n",
       "\n",
       "    .dataframe tbody tr th {\n",
       "        vertical-align: top;\n",
       "    }\n",
       "\n",
       "    .dataframe thead th {\n",
       "        text-align: right;\n",
       "    }\n",
       "</style>\n",
       "<table border=\"1\" class=\"dataframe\">\n",
       "  <thead>\n",
       "    <tr style=\"text-align: right;\">\n",
       "      <th></th>\n",
       "      <th>Identifier</th>\n",
       "      <th>Number Of Trees</th>\n",
       "      <th>Site Name</th>\n",
       "      <th>Contract Area</th>\n",
       "      <th>Scientific Name</th>\n",
       "      <th>Inspection Date</th>\n",
       "      <th>Inspection Due Date</th>\n",
       "      <th>Height In Metres</th>\n",
       "      <th>Spread In Metres</th>\n",
       "      <th>Diameter In Centimetres At Breast Height</th>\n",
       "      <th>Ward Code</th>\n",
       "      <th>Ward Name</th>\n",
       "      <th>Easting</th>\n",
       "      <th>Northing</th>\n",
       "      <th>Longitude</th>\n",
       "      <th>Latitude</th>\n",
       "      <th>Location</th>\n",
       "    </tr>\n",
       "  </thead>\n",
       "  <tbody>\n",
       "    <tr>\n",
       "      <th>151</th>\n",
       "      <td>00051832</td>\n",
       "      <td>1.0</td>\n",
       "      <td>ARGYLE WALK</td>\n",
       "      <td>Highways</td>\n",
       "      <td>Sorbus aucuparia 'Streetwise'</td>\n",
       "      <td>2019-02-10</td>\n",
       "      <td>2022/2023</td>\n",
       "      <td>7.0</td>\n",
       "      <td>3.0</td>\n",
       "      <td>12.0</td>\n",
       "      <td>E05000141</td>\n",
       "      <td>King's Cross</td>\n",
       "      <td>530227.0</td>\n",
       "      <td>182706.0</td>\n",
       "      <td>-0.124054</td>\n",
       "      <td>51.528257</td>\n",
       "      <td>(51.528257, -0.124054)</td>\n",
       "    </tr>\n",
       "    <tr>\n",
       "      <th>384</th>\n",
       "      <td>00053954</td>\n",
       "      <td>1.0</td>\n",
       "      <td>CHURCHILL ROAD</td>\n",
       "      <td>Highways</td>\n",
       "      <td>Sorbus aucuparia 'Streetwise'</td>\n",
       "      <td>2017-10-07</td>\n",
       "      <td>2020/2021</td>\n",
       "      <td>3.0</td>\n",
       "      <td>2.0</td>\n",
       "      <td>5.0</td>\n",
       "      <td>E05000139</td>\n",
       "      <td>Kentish Town</td>\n",
       "      <td>529007.0</td>\n",
       "      <td>185975.0</td>\n",
       "      <td>-0.140440</td>\n",
       "      <td>51.557913</td>\n",
       "      <td>(51.557913, -0.14044)</td>\n",
       "    </tr>\n",
       "    <tr>\n",
       "      <th>495</th>\n",
       "      <td>00047497</td>\n",
       "      <td>1.0</td>\n",
       "      <td>PATSHULL PLACE</td>\n",
       "      <td>Highways</td>\n",
       "      <td>Sorbus aucuparia 'Streetwise'</td>\n",
       "      <td>2017-06-22</td>\n",
       "      <td>2020/2021</td>\n",
       "      <td>5.0</td>\n",
       "      <td>3.0</td>\n",
       "      <td>11.0</td>\n",
       "      <td>E05000131</td>\n",
       "      <td>Cantelowes</td>\n",
       "      <td>529202.0</td>\n",
       "      <td>184717.0</td>\n",
       "      <td>-0.138094</td>\n",
       "      <td>51.546569</td>\n",
       "      <td>(51.546569, -0.138094)</td>\n",
       "    </tr>\n",
       "    <tr>\n",
       "      <th>611</th>\n",
       "      <td>00055434</td>\n",
       "      <td>1.0</td>\n",
       "      <td>SHARPLES HALL STREET</td>\n",
       "      <td>Highways</td>\n",
       "      <td>Sorbus aucuparia 'Streetwise'</td>\n",
       "      <td>2019-09-30</td>\n",
       "      <td>2022/2023</td>\n",
       "      <td>2.0</td>\n",
       "      <td>2.0</td>\n",
       "      <td>4.0</td>\n",
       "      <td>E05000130</td>\n",
       "      <td>Camden Town with Primrose Hill</td>\n",
       "      <td>527962.0</td>\n",
       "      <td>184050.0</td>\n",
       "      <td>-0.156202</td>\n",
       "      <td>51.540853</td>\n",
       "      <td>(51.540853, -0.156202)</td>\n",
       "    </tr>\n",
       "    <tr>\n",
       "      <th>653</th>\n",
       "      <td>00055289</td>\n",
       "      <td>1.0</td>\n",
       "      <td>QUEEN'S CRESCENT</td>\n",
       "      <td>Highways</td>\n",
       "      <td>Sorbus aucuparia 'Streetwise'</td>\n",
       "      <td>2017-07-08</td>\n",
       "      <td>2020/2021</td>\n",
       "      <td>4.0</td>\n",
       "      <td>1.0</td>\n",
       "      <td>7.0</td>\n",
       "      <td>E05000136</td>\n",
       "      <td>Haverstock</td>\n",
       "      <td>528072.0</td>\n",
       "      <td>184723.0</td>\n",
       "      <td>-0.154369</td>\n",
       "      <td>51.546881</td>\n",
       "      <td>(51.546881, -0.154369)</td>\n",
       "    </tr>\n",
       "    <tr>\n",
       "      <th>...</th>\n",
       "      <td>...</td>\n",
       "      <td>...</td>\n",
       "      <td>...</td>\n",
       "      <td>...</td>\n",
       "      <td>...</td>\n",
       "      <td>...</td>\n",
       "      <td>...</td>\n",
       "      <td>...</td>\n",
       "      <td>...</td>\n",
       "      <td>...</td>\n",
       "      <td>...</td>\n",
       "      <td>...</td>\n",
       "      <td>...</td>\n",
       "      <td>...</td>\n",
       "      <td>...</td>\n",
       "      <td>...</td>\n",
       "      <td>...</td>\n",
       "    </tr>\n",
       "    <tr>\n",
       "      <th>21826</th>\n",
       "      <td>00050835</td>\n",
       "      <td>1.0</td>\n",
       "      <td>INGESTRE RD</td>\n",
       "      <td>Highways</td>\n",
       "      <td>Sorbus aucuparia 'Streetwise'</td>\n",
       "      <td>2017-08-18</td>\n",
       "      <td>2020/2021</td>\n",
       "      <td>3.0</td>\n",
       "      <td>1.0</td>\n",
       "      <td>7.0</td>\n",
       "      <td>E05000139</td>\n",
       "      <td>Kentish Town</td>\n",
       "      <td>528962.0</td>\n",
       "      <td>185826.0</td>\n",
       "      <td>-0.141137</td>\n",
       "      <td>51.556589</td>\n",
       "      <td>(51.556589, -0.141137)</td>\n",
       "    </tr>\n",
       "    <tr>\n",
       "      <th>22948</th>\n",
       "      <td>00052341</td>\n",
       "      <td>1.0</td>\n",
       "      <td>NEW COMPTON STREET</td>\n",
       "      <td>Highways</td>\n",
       "      <td>Sorbus aucuparia 'Streetwise'</td>\n",
       "      <td>2019-07-08</td>\n",
       "      <td>2022/2023</td>\n",
       "      <td>4.0</td>\n",
       "      <td>3.0</td>\n",
       "      <td>6.0</td>\n",
       "      <td>E05000138</td>\n",
       "      <td>Holborn and Covent Garden</td>\n",
       "      <td>529976.0</td>\n",
       "      <td>181160.0</td>\n",
       "      <td>-0.128249</td>\n",
       "      <td>51.514422</td>\n",
       "      <td>(51.514422, -0.128249)</td>\n",
       "    </tr>\n",
       "    <tr>\n",
       "      <th>23266</th>\n",
       "      <td>00048846</td>\n",
       "      <td>1.0</td>\n",
       "      <td>ASMARA ROAD</td>\n",
       "      <td>Highways</td>\n",
       "      <td>Sorbus aucuparia 'Streetwise'</td>\n",
       "      <td>2018-08-28</td>\n",
       "      <td>2021/2022</td>\n",
       "      <td>5.0</td>\n",
       "      <td>3.0</td>\n",
       "      <td>8.0</td>\n",
       "      <td>E05000132</td>\n",
       "      <td>Fortune Green</td>\n",
       "      <td>524568.0</td>\n",
       "      <td>185347.0</td>\n",
       "      <td>-0.204661</td>\n",
       "      <td>51.553268</td>\n",
       "      <td>(51.553268, -0.204661)</td>\n",
       "    </tr>\n",
       "    <tr>\n",
       "      <th>23335</th>\n",
       "      <td>00048705</td>\n",
       "      <td>1.0</td>\n",
       "      <td>GOLDINGTON STREET</td>\n",
       "      <td>Highways</td>\n",
       "      <td>Sorbus aucuparia 'Streetwise'</td>\n",
       "      <td>2019-10-23</td>\n",
       "      <td>2022/2023</td>\n",
       "      <td>6.0</td>\n",
       "      <td>2.0</td>\n",
       "      <td>12.0</td>\n",
       "      <td>E05000143</td>\n",
       "      <td>St Pancras and Somers Town</td>\n",
       "      <td>529662.0</td>\n",
       "      <td>183417.0</td>\n",
       "      <td>-0.131941</td>\n",
       "      <td>51.534780</td>\n",
       "      <td>(51.53478, -0.131941)</td>\n",
       "    </tr>\n",
       "    <tr>\n",
       "      <th>23372</th>\n",
       "      <td>00031627</td>\n",
       "      <td>1.0</td>\n",
       "      <td>ST. GEORGE THE MARTYR C OF E JMI (E)</td>\n",
       "      <td>Education</td>\n",
       "      <td>Cotoneaster salicifolius</td>\n",
       "      <td>2018-07-23</td>\n",
       "      <td>2021/2022</td>\n",
       "      <td>5.0</td>\n",
       "      <td>5.0</td>\n",
       "      <td>8.0</td>\n",
       "      <td>E05000138</td>\n",
       "      <td>Holborn and Covent Garden</td>\n",
       "      <td>530742.0</td>\n",
       "      <td>182119.0</td>\n",
       "      <td>-0.116856</td>\n",
       "      <td>51.522865</td>\n",
       "      <td>(51.522865, -0.116856)</td>\n",
       "    </tr>\n",
       "  </tbody>\n",
       "</table>\n",
       "<p>76 rows × 17 columns</p>\n",
       "</div>"
      ],
      "text/plain": [
       "      Identifier  Number Of Trees                             Site Name  \\\n",
       "151     00051832              1.0                           ARGYLE WALK   \n",
       "384     00053954              1.0                        CHURCHILL ROAD   \n",
       "495     00047497              1.0                        PATSHULL PLACE   \n",
       "611     00055434              1.0                  SHARPLES HALL STREET   \n",
       "653     00055289              1.0                      QUEEN'S CRESCENT   \n",
       "...          ...              ...                                   ...   \n",
       "21826   00050835              1.0                           INGESTRE RD   \n",
       "22948   00052341              1.0                    NEW COMPTON STREET   \n",
       "23266   00048846              1.0                           ASMARA ROAD   \n",
       "23335   00048705              1.0                     GOLDINGTON STREET   \n",
       "23372   00031627              1.0  ST. GEORGE THE MARTYR C OF E JMI (E)   \n",
       "\n",
       "      Contract Area                Scientific Name Inspection Date  \\\n",
       "151        Highways  Sorbus aucuparia 'Streetwise'      2019-02-10   \n",
       "384        Highways  Sorbus aucuparia 'Streetwise'      2017-10-07   \n",
       "495        Highways  Sorbus aucuparia 'Streetwise'      2017-06-22   \n",
       "611        Highways  Sorbus aucuparia 'Streetwise'      2019-09-30   \n",
       "653        Highways  Sorbus aucuparia 'Streetwise'      2017-07-08   \n",
       "...             ...                            ...             ...   \n",
       "21826      Highways  Sorbus aucuparia 'Streetwise'      2017-08-18   \n",
       "22948      Highways  Sorbus aucuparia 'Streetwise'      2019-07-08   \n",
       "23266      Highways  Sorbus aucuparia 'Streetwise'      2018-08-28   \n",
       "23335      Highways  Sorbus aucuparia 'Streetwise'      2019-10-23   \n",
       "23372     Education       Cotoneaster salicifolius      2018-07-23   \n",
       "\n",
       "      Inspection Due Date  Height In Metres  Spread In Metres  \\\n",
       "151             2022/2023               7.0               3.0   \n",
       "384             2020/2021               3.0               2.0   \n",
       "495             2020/2021               5.0               3.0   \n",
       "611             2022/2023               2.0               2.0   \n",
       "653             2020/2021               4.0               1.0   \n",
       "...                   ...               ...               ...   \n",
       "21826           2020/2021               3.0               1.0   \n",
       "22948           2022/2023               4.0               3.0   \n",
       "23266           2021/2022               5.0               3.0   \n",
       "23335           2022/2023               6.0               2.0   \n",
       "23372           2021/2022               5.0               5.0   \n",
       "\n",
       "       Diameter In Centimetres At Breast Height  Ward Code  \\\n",
       "151                                        12.0  E05000141   \n",
       "384                                         5.0  E05000139   \n",
       "495                                        11.0  E05000131   \n",
       "611                                         4.0  E05000130   \n",
       "653                                         7.0  E05000136   \n",
       "...                                         ...        ...   \n",
       "21826                                       7.0  E05000139   \n",
       "22948                                       6.0  E05000138   \n",
       "23266                                       8.0  E05000132   \n",
       "23335                                      12.0  E05000143   \n",
       "23372                                       8.0  E05000138   \n",
       "\n",
       "                            Ward Name   Easting  Northing  Longitude  \\\n",
       "151                      King's Cross  530227.0  182706.0  -0.124054   \n",
       "384                      Kentish Town  529007.0  185975.0  -0.140440   \n",
       "495                        Cantelowes  529202.0  184717.0  -0.138094   \n",
       "611    Camden Town with Primrose Hill  527962.0  184050.0  -0.156202   \n",
       "653                        Haverstock  528072.0  184723.0  -0.154369   \n",
       "...                               ...       ...       ...        ...   \n",
       "21826                    Kentish Town  528962.0  185826.0  -0.141137   \n",
       "22948       Holborn and Covent Garden  529976.0  181160.0  -0.128249   \n",
       "23266                   Fortune Green  524568.0  185347.0  -0.204661   \n",
       "23335      St Pancras and Somers Town  529662.0  183417.0  -0.131941   \n",
       "23372       Holborn and Covent Garden  530742.0  182119.0  -0.116856   \n",
       "\n",
       "        Latitude                Location  \n",
       "151    51.528257  (51.528257, -0.124054)  \n",
       "384    51.557913   (51.557913, -0.14044)  \n",
       "495    51.546569  (51.546569, -0.138094)  \n",
       "611    51.540853  (51.540853, -0.156202)  \n",
       "653    51.546881  (51.546881, -0.154369)  \n",
       "...          ...                     ...  \n",
       "21826  51.556589  (51.556589, -0.141137)  \n",
       "22948  51.514422  (51.514422, -0.128249)  \n",
       "23266  51.553268  (51.553268, -0.204661)  \n",
       "23335  51.534780   (51.53478, -0.131941)  \n",
       "23372  51.522865  (51.522865, -0.116856)  \n",
       "\n",
       "[76 rows x 17 columns]"
      ]
     },
     "execution_count": 153,
     "metadata": {},
     "output_type": "execute_result"
    }
   ],
   "source": [
    "# Finding the trees with scientific names that don't have matching common names data\n",
    "mask = ~trees['Scientific Name'].isin(common_names['Scientific Name'])\n",
    "unmatched_trees_2 = trees[mask]\n",
    "unmatched_trees_2"
   ]
  },
  {
   "cell_type": "code",
   "execution_count": 154,
   "id": "183f5951-2c4e-486a-beb9-68abc8be8674",
   "metadata": {},
   "outputs": [
    {
     "name": "stdout",
     "output_type": "stream",
     "text": [
      "76\n"
     ]
    }
   ],
   "source": [
    "# Confirming how many rows we have for more clarity\n",
    "num_rows_3 = unmatched_trees_2.shape[0]\n",
    "print(num_rows_3)"
   ]
  },
  {
   "cell_type": "markdown",
   "id": "28a9ce1a-e0d6-42b2-b83a-bfb1c1a21f75",
   "metadata": {},
   "source": [
    "<hr/>\n",
    "\n",
    "### 8.4 Observations"
   ]
  },
  {
   "cell_type": "markdown",
   "id": "80b550e2-3d7e-44af-990a-cc59b070c269",
   "metadata": {},
   "source": [
    "# The findings in this task are 23 trees in the trees data set, 0 in the environmental and 76 in the common names set where they don't have matching environmental data and common names."
   ]
  },
  {
   "cell_type": "markdown",
   "id": "663f0130-1aee-4590-b6d3-ddc531035415",
   "metadata": {},
   "source": [
    "<hr/>"
   ]
  },
  {
   "cell_type": "markdown",
   "id": "ecb4c78f-147a-4cb7-b646-1de2d365c5e5",
   "metadata": {},
   "source": [
    "# END OF NOTEBOOK"
   ]
  }
 ],
 "metadata": {
  "kernelspec": {
   "display_name": "Python 3 (ipykernel)",
   "language": "python",
   "name": "python3"
  },
  "language_info": {
   "codemirror_mode": {
    "name": "ipython",
    "version": 3
   },
   "file_extension": ".py",
   "mimetype": "text/x-python",
   "name": "python",
   "nbconvert_exporter": "python",
   "pygments_lexer": "ipython3",
   "version": "3.9.12"
  }
 },
 "nbformat": 4,
 "nbformat_minor": 5
}
